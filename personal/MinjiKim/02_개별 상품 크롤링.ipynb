{
 "cells": [
  {
   "cell_type": "code",
   "execution_count": null,
   "id": "64f36b0e",
   "metadata": {},
   "outputs": [],
   "source": [
    "# Name, Category, img_src, Price, Rating, #ofReview, img_name, Link"
   ]
  },
  {
   "cell_type": "code",
   "execution_count": 1,
   "id": "24855101",
   "metadata": {},
   "outputs": [],
   "source": [
    "import os\n",
    "from bs4 import BeautifulSoup\n",
    "import re\n",
    "import html\n",
    "import requests\n",
    "import pandas as pd\n",
    "from time import sleep\n",
    "from urllib.request import urlretrieve, urlopen\n",
    "import random\n",
    "import json\n",
    "from io import BytesIO\n",
    "from PIL import Image\n",
    "from openpyxl import Workbook\n",
    "from openpyxl import load_workbook"
   ]
  },
  {
   "cell_type": "code",
   "execution_count": 11,
   "id": "be7bf985",
   "metadata": {},
   "outputs": [],
   "source": [
    "# 성공 : 373649, 381526, 381527, 381528, 381529 ['381523', '381532', '381535', '381538', '381539', '381540', '385001', '385002', '385003', '385004', '385076', '445726', '445727', '445728', '445729', 381523,445730', '445731', '445733', '445860',\n",
    "# 445861 ~\n",
    "somelist = ['445861','445863', '445864', '446151', '486319', '486328', '486332', '486342', '486542', '486545', '509024', '509026']"
   ]
  },
  {
   "cell_type": "code",
   "execution_count": 4,
   "id": "2709907d",
   "metadata": {},
   "outputs": [],
   "source": [
    "somelist = ['445861']"
   ]
  },
  {
   "cell_type": "code",
   "execution_count": 3,
   "id": "722d8a36",
   "metadata": {},
   "outputs": [
    {
     "data": {
      "text/plain": [
       "12"
      ]
     },
     "execution_count": 3,
     "metadata": {},
     "output_type": "execute_result"
    }
   ],
   "source": [
    "len(somelist)"
   ]
  },
  {
   "cell_type": "code",
   "execution_count": 98,
   "id": "781c09a5",
   "metadata": {},
   "outputs": [
    {
     "data": {
      "text/plain": [
       "'381523'"
      ]
     },
     "execution_count": 98,
     "metadata": {},
     "output_type": "execute_result"
    }
   ],
   "source": [
    "categoryid"
   ]
  },
  {
   "cell_type": "code",
   "execution_count": 5,
   "id": "4e49c95e",
   "metadata": {},
   "outputs": [
    {
     "name": "stdout",
     "output_type": "stream",
     "text": [
      "False\n",
      "445861 크롤링 시작\n",
      "445861 크롤링 끝\n"
     ]
    }
   ],
   "source": [
    "baseurl = 'https://www.coupang.com'\n",
    "\n",
    "if not os.path.exists('./crawling/'):\n",
    "    os.mkdir('./crawling/')\n",
    "\n",
    "for b in somelist:\n",
    "    #여기서 b는 '123456'같은 6자리 카테고리 숫자(but 문자열 취급)\n",
    "    categoryid = b\n",
    "\n",
    "    with open('merged/' + categoryid +'.json', 'r') as file:\n",
    "        loaded_list = json.load(file)\n",
    "\n",
    "    # 우선 카테고리에 대해, 해당 카테고리 숫자(ex 456788)로 파일 하나 생성\n",
    "    # 폴더가 존재하는지 확인\n",
    "    if not os.path.exists('./crawling/'+categoryid):\n",
    "        print(os.path.exists('./crawling/' + categoryid))\n",
    "\n",
    "    # 존재하지 않는다면 폴더 생성\n",
    "        os.mkdir('./crawling/' + categoryid)\n",
    "        \n",
    "        \n",
    "    print(f'{categoryid} 크롤링 시작')\n",
    "    item_list = []\n",
    "\n",
    "    for a in loaded_list:\n",
    "        url = baseurl + a['0']            \n",
    "            \n",
    "        resp = requests.get(url,\n",
    "                           headers = {'User-Agent': 'Mozilla/5.0 (Windows NT 10.0; Win64; x64) AppleWebKit/537.36 (KHTML, like Gecko) Chrome/120.0.0.0 Safari/537.36',\n",
    "                                          \"Accept-Language\": \"ko-KR,ko;q=0.8,en-US;q=0.5,en;q=0.3\" }\n",
    "                          )\n",
    "        soup = BeautifulSoup(resp.text, 'html.parser')\n",
    "        \n",
    "        sleep(random.uniform(0.5,1))\n",
    "            \n",
    "        try:\n",
    "            soup.find_all('span', class_='prod-not-find-known__buy__info__txt')[0].get_text() == '현재 판매 중인 상품이 아닙니다.'\n",
    "            continue\n",
    "\n",
    "        except:\n",
    "            pass\n",
    "        \n",
    "        try:\n",
    "            soup.find_all('a', {'class':'prod-not-find-unknown__p'})[0].get_text() == '\\n                상품을 찾을 수 없습니다. 주소가 잘못 입력 되었거나, 판매 종료 또는 중지 되어 해당 상품을 찾을 수 없습니다. 이용에 불편을 드려 대단히 죄송합니다.\\n            '\n",
    "            continue\n",
    "            \n",
    "        except:\n",
    "            pass\n",
    "        \n",
    "        try:\n",
    "            soup.find_all('div', {'class':'login__content in-app-login__content--adult'})[0].get_text() == '\\n            본 상품은 만 19세 미만의 청소년이 이용할 수 없습니다.\\n        '\n",
    "            continue\n",
    "            \n",
    "        except:\n",
    "            pass\n",
    "\n",
    "        item_fea = []\n",
    "        \n",
    "        \n",
    "        # Name\n",
    "        name = soup.find_all('h2', class_='prod-buy-header__title')[0].get_text()        \n",
    "        \n",
    "        # Price\n",
    "        try:\n",
    "            price =(re.findall('[\\d,]+', soup.find_all('span', class_='total-price')[0].get_text())[0])\n",
    "            \n",
    "        except IndexError as e:\n",
    "            continue\n",
    "        \n",
    "        # Rating\n",
    "        rating = float(re.findall(r'\"ratingAveragePercentage\":[\\d.]+', resp.text)[0].split(':')[1])/20\n",
    "        \n",
    "        # #ofReview\n",
    "        review_count = int(re.findall('[\\d]+', soup.find_all('span', {'class':'count'})[0].get_text())[0])\n",
    "        \n",
    "        # img_src\n",
    "        img_src = soup.find_all('img', class_='prod-image__detail')[0].get('src')\n",
    "        \n",
    "        # img_src 날짜 이후, -로 시작하고 jpg로 끝나는 영문 코드(img_name)\n",
    "        img_name = re.findall('[\\w]+', img_src)[-2]\n",
    "\n",
    "        # img_name으로 파일 생성\n",
    "        if not os.path.exists('./crawling/'+categoryid+ '/'+img_name): \n",
    "            os.mkdir('./crawling/'+categoryid+ '/'+img_name)\n",
    "\n",
    "        # img_src을 categoryid 파일 안의 img_name 파일 안에 저장\n",
    "        response = requests.get('http:' + img_src)\n",
    "        image = Image.open(BytesIO(response.content))\n",
    "        image = image.convert('RGB')\n",
    "\n",
    "        # 이미지 파일로 저장\n",
    "        image.save('./crawling/'+categoryid+'/'+img_name+'/'+ re.findall('[\\w-]+', img_src)[-2] +'.jpg')\n",
    "\n",
    "        # 그리고 위의 이미지 저장 과정을, 서브 이미지가 있다면 서브 이미지도 해야 함 \n",
    "        for x in soup.find_all('img', class_='lazy-load-img'):\n",
    "            x = x.get('data-src')\n",
    "            x = re.sub('coupangcdn.com/thumbnails/remote/48x48ex/', 'coupangcdn.com/thumbnails/remote/800x800ex/', x)    \n",
    "\n",
    "            response = requests.get('http:' + x)\n",
    "            image = Image.open(BytesIO(response.content))\n",
    "            image = image.convert('RGB')\n",
    "\n",
    "            # 주소 안의 48x48ex를 사이즈를 수정하면 확대해서 볼 수 있는 것 같은데 수정할까요\n",
    "            image.save('./crawling/'+categoryid+'/'+img_name+'/'+ re.findall('[\\w-]+', x)[-2] +'.jpg')\n",
    "            \n",
    "        item_fea.append([name, categoryid, img_src, price, rating, review_count, img_name, url])\n",
    "        item_list.append(item_fea)\n",
    "        lst = []\n",
    "        for i in item_list :\n",
    "            lst.append(i[0])\n",
    "        \n",
    "    # 해당 카테고리 숫자에 대해서 다 크롤링했으면, 엑셀로 저장\n",
    "    df = pd.DataFrame(lst, columns=['Name', 'Category', 'img_src', 'Price', 'Rating', '#ofReview', 'img_name', 'Link'])\n",
    "    df.to_excel('./crawling/' +categoryid +'.xlsx', index=False)\n",
    "    print(f'{categoryid} 크롤링 끝')"
   ]
  },
  {
   "cell_type": "code",
   "execution_count": 13,
   "id": "b35bd452",
   "metadata": {},
   "outputs": [
    {
     "data": {
      "text/plain": [
       "'https://www.coupang.com/vp/products/6676223662?itemId=15377674375&vendorItemId=82597738061&sourceType=CATEGORY&categoryId=445761'"
      ]
     },
     "execution_count": 13,
     "metadata": {},
     "output_type": "execute_result"
    }
   ],
   "source": [
    "url"
   ]
  },
  {
   "cell_type": "code",
   "execution_count": null,
   "id": "16cea4d0",
   "metadata": {},
   "outputs": [],
   "source": []
  }
 ],
 "metadata": {
  "kernelspec": {
   "display_name": "Python 3 (ipykernel)",
   "language": "python",
   "name": "python3"
  },
  "language_info": {
   "codemirror_mode": {
    "name": "ipython",
    "version": 3
   },
   "file_extension": ".py",
   "mimetype": "text/x-python",
   "name": "python",
   "nbconvert_exporter": "python",
   "pygments_lexer": "ipython3",
   "version": "3.11.4"
  }
 },
 "nbformat": 4,
 "nbformat_minor": 5
}
