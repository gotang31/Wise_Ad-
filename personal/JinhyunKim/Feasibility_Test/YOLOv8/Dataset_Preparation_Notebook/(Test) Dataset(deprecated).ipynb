{
 "cells": [
  {
   "cell_type": "code",
   "execution_count": 2,
   "id": "initial_id",
   "metadata": {
    "ExecuteTime": {
     "end_time": "2023-11-20T02:23:16.804687700Z",
     "start_time": "2023-11-20T02:23:04.790642800Z"
    },
    "collapsed": true,
    "jupyter": {
     "outputs_hidden": true
    }
   },
   "outputs": [
    {
     "name": "stdout",
     "output_type": "stream",
     "text": [
      "['activitynet-100', 'activitynet-200', 'bdd100k', 'caltech101', 'caltech256', 'cifar10', 'cifar100', 'cityscapes', 'coco-2014', 'coco-2017', 'fashion-mnist', 'fiw', 'hmdb51', 'imagenet-2012', 'imagenet-sample', 'kinetics-400', 'kinetics-600', 'kinetics-700', 'kinetics-700-2020', 'kitti', 'kitti-multiview', 'lfw', 'mnist', 'open-images-v6', 'open-images-v7', 'quickstart', 'quickstart-geo', 'quickstart-groups', 'quickstart-video', 'sama-coco', 'ucf101', 'voc-2007', 'voc-2012']\n"
     ]
    },
    {
     "ename": "NameError",
     "evalue": "name 'dataset' is not defined",
     "output_type": "error",
     "traceback": [
      "\u001b[1;31m---------------------------------------------------------------------------\u001b[0m",
      "\u001b[1;31mNameError\u001b[0m                                 Traceback (most recent call last)",
      "Cell \u001b[1;32mIn[2], line 6\u001b[0m\n\u001b[0;32m      2\u001b[0m \u001b[38;5;28;01mimport\u001b[39;00m \u001b[38;5;21;01mfiftyone\u001b[39;00m\u001b[38;5;21;01m.\u001b[39;00m\u001b[38;5;21;01mzoo\u001b[39;00m \u001b[38;5;28;01mas\u001b[39;00m \u001b[38;5;21;01mfoz\u001b[39;00m\n\u001b[0;32m      4\u001b[0m \u001b[38;5;28mprint\u001b[39m(foz\u001b[38;5;241m.\u001b[39mlist_zoo_datasets())\n\u001b[1;32m----> 6\u001b[0m session \u001b[38;5;241m=\u001b[39m fo\u001b[38;5;241m.\u001b[39mlaunch_app(\u001b[43mdataset\u001b[49m)\n",
      "\u001b[1;31mNameError\u001b[0m: name 'dataset' is not defined"
     ]
    }
   ],
   "source": [
    "import fiftyone as fo\n",
    "import fiftyone.zoo as foz\n",
    "\n",
    "print(foz.list_zoo_datasets())\n",
    "\n",
    "session = fo.launch_app(dataset)"
   ]
  },
  {
   "cell_type": "code",
   "execution_count": 3,
   "id": "c0a0c79b4a09b547",
   "metadata": {
    "ExecuteTime": {
     "end_time": "2023-11-20T02:27:40.735230700Z",
     "start_time": "2023-11-20T02:24:58.035086500Z"
    },
    "collapsed": false
   },
   "outputs": [
    {
     "name": "stdout",
     "output_type": "stream",
     "text": [
      "Downloading split 'train' to 'G://.shortcut-targets-by-id//1Q6UFNIvk5YAMJRHcegrvdH33ASTPTK1e//sw아카데미//Data//OpenImagesV7\\train' if necessary\n",
      "Necessary images already downloaded\n",
      "Existing download of split 'train' is sufficient\n",
      "Loading existing dataset 'open-images-v7-train'. To reload from disk, either delete the existing dataset or provide a custom `dataset_name` to use\n"
     ]
    },
    {
     "data": {
      "text/html": [
       "\n",
       "        <iframe\n",
       "            width=\"100%\"\n",
       "            height=\"800\"\n",
       "            src=\"http://localhost:5151/?notebook=True&subscription=ad4ac9dc-764a-4877-9bc0-147bc44f57ba\"\n",
       "            frameborder=\"0\"\n",
       "            allowfullscreen\n",
       "            \n",
       "        ></iframe>\n",
       "        "
      ],
      "text/plain": [
       "<IPython.lib.display.IFrame at 0x20a81527110>"
      ]
     },
     "metadata": {},
     "output_type": "display_data"
    },
    {
     "ename": "ValueError",
     "evalue": "Remote sessions cannot be run from a notebook",
     "output_type": "error",
     "traceback": [
      "\u001b[1;31m---------------------------------------------------------------------------\u001b[0m",
      "\u001b[1;31mValueError\u001b[0m                                Traceback (most recent call last)",
      "Cell \u001b[1;32mIn[3], line 25\u001b[0m\n\u001b[0;32m     16\u001b[0m dataset \u001b[38;5;241m=\u001b[39m foz\u001b[38;5;241m.\u001b[39mload_zoo_dataset(\n\u001b[0;32m     17\u001b[0m     \u001b[38;5;124m\"\u001b[39m\u001b[38;5;124mopen-images-v7\u001b[39m\u001b[38;5;124m\"\u001b[39m,\n\u001b[0;32m     18\u001b[0m     split\u001b[38;5;241m=\u001b[39m\u001b[38;5;124m\"\u001b[39m\u001b[38;5;124mtrain\u001b[39m\u001b[38;5;124m\"\u001b[39m,\n\u001b[1;32m   (...)\u001b[0m\n\u001b[0;32m     21\u001b[0m     dataset_dir\u001b[38;5;241m=\u001b[39mdataset_dir  \u001b[38;5;66;03m# 데이터셋 다운로드 경로 지정\u001b[39;00m\n\u001b[0;32m     22\u001b[0m )\n\u001b[0;32m     24\u001b[0m \u001b[38;5;66;03m# Visualize the in the App\u001b[39;00m\n\u001b[1;32m---> 25\u001b[0m session \u001b[38;5;241m=\u001b[39m \u001b[43mfo\u001b[49m\u001b[38;5;241;43m.\u001b[39;49m\u001b[43mlaunch_app\u001b[49m\u001b[43m(\u001b[49m\u001b[43mdataset\u001b[49m\u001b[43m,\u001b[49m\u001b[43m \u001b[49m\u001b[43mremote\u001b[49m\u001b[38;5;241;43m=\u001b[39;49m\u001b[38;5;28;43;01mTrue\u001b[39;49;00m\u001b[43m)\u001b[49m\n",
      "File \u001b[1;32m~\\PycharmProjects\\Wise_Ad-\\venv\\Lib\\site-packages\\fiftyone\\core\\session\\session.py:184\u001b[0m, in \u001b[0;36mlaunch_app\u001b[1;34m(dataset, view, spaces, color_scheme, plots, port, address, remote, desktop, height, auto, config)\u001b[0m\n\u001b[0;32m    145\u001b[0m \u001b[38;5;250m\u001b[39m\u001b[38;5;124;03m\"\"\"Launches the FiftyOne App.\u001b[39;00m\n\u001b[0;32m    146\u001b[0m \n\u001b[0;32m    147\u001b[0m \u001b[38;5;124;03mNote that only one App instance can be opened at a time. If this method is\u001b[39;00m\n\u001b[1;32m   (...)\u001b[0m\n\u001b[0;32m    181\u001b[0m \u001b[38;5;124;03m    a :class:`Session`\u001b[39;00m\n\u001b[0;32m    182\u001b[0m \u001b[38;5;124;03m\"\"\"\u001b[39;00m\n\u001b[0;32m    183\u001b[0m \u001b[38;5;28;01mglobal\u001b[39;00m _session  \u001b[38;5;66;03m# pylint: disable=global-statement\u001b[39;00m\n\u001b[1;32m--> 184\u001b[0m _session \u001b[38;5;241m=\u001b[39m \u001b[43mSession\u001b[49m\u001b[43m(\u001b[49m\n\u001b[0;32m    185\u001b[0m \u001b[43m    \u001b[49m\u001b[43mdataset\u001b[49m\u001b[38;5;241;43m=\u001b[39;49m\u001b[43mdataset\u001b[49m\u001b[43m,\u001b[49m\n\u001b[0;32m    186\u001b[0m \u001b[43m    \u001b[49m\u001b[43mview\u001b[49m\u001b[38;5;241;43m=\u001b[39;49m\u001b[43mview\u001b[49m\u001b[43m,\u001b[49m\n\u001b[0;32m    187\u001b[0m \u001b[43m    \u001b[49m\u001b[43mspaces\u001b[49m\u001b[38;5;241;43m=\u001b[39;49m\u001b[43mspaces\u001b[49m\u001b[43m,\u001b[49m\n\u001b[0;32m    188\u001b[0m \u001b[43m    \u001b[49m\u001b[43mcolor_scheme\u001b[49m\u001b[38;5;241;43m=\u001b[39;49m\u001b[43mcolor_scheme\u001b[49m\u001b[43m,\u001b[49m\n\u001b[0;32m    189\u001b[0m \u001b[43m    \u001b[49m\u001b[43mplots\u001b[49m\u001b[38;5;241;43m=\u001b[39;49m\u001b[43mplots\u001b[49m\u001b[43m,\u001b[49m\n\u001b[0;32m    190\u001b[0m \u001b[43m    \u001b[49m\u001b[43mport\u001b[49m\u001b[38;5;241;43m=\u001b[39;49m\u001b[43mport\u001b[49m\u001b[43m,\u001b[49m\n\u001b[0;32m    191\u001b[0m \u001b[43m    \u001b[49m\u001b[43maddress\u001b[49m\u001b[38;5;241;43m=\u001b[39;49m\u001b[43maddress\u001b[49m\u001b[43m,\u001b[49m\n\u001b[0;32m    192\u001b[0m \u001b[43m    \u001b[49m\u001b[43mremote\u001b[49m\u001b[38;5;241;43m=\u001b[39;49m\u001b[43mremote\u001b[49m\u001b[43m,\u001b[49m\n\u001b[0;32m    193\u001b[0m \u001b[43m    \u001b[49m\u001b[43mdesktop\u001b[49m\u001b[38;5;241;43m=\u001b[39;49m\u001b[43mdesktop\u001b[49m\u001b[43m,\u001b[49m\n\u001b[0;32m    194\u001b[0m \u001b[43m    \u001b[49m\u001b[43mheight\u001b[49m\u001b[38;5;241;43m=\u001b[39;49m\u001b[43mheight\u001b[49m\u001b[43m,\u001b[49m\n\u001b[0;32m    195\u001b[0m \u001b[43m    \u001b[49m\u001b[43mauto\u001b[49m\u001b[38;5;241;43m=\u001b[39;49m\u001b[43mauto\u001b[49m\u001b[43m,\u001b[49m\n\u001b[0;32m    196\u001b[0m \u001b[43m    \u001b[49m\u001b[43mconfig\u001b[49m\u001b[38;5;241;43m=\u001b[39;49m\u001b[43mconfig\u001b[49m\u001b[43m,\u001b[49m\n\u001b[0;32m    197\u001b[0m \u001b[43m\u001b[49m\u001b[43m)\u001b[49m\n\u001b[0;32m    199\u001b[0m \u001b[38;5;28;01mif\u001b[39;00m _session\u001b[38;5;241m.\u001b[39mremote:\n\u001b[0;32m    200\u001b[0m     logger\u001b[38;5;241m.\u001b[39minfo(_REMOTE_INSTRUCTIONS\u001b[38;5;241m.\u001b[39mstrip()\u001b[38;5;241m.\u001b[39mformat(_session\u001b[38;5;241m.\u001b[39mserver_port))\n",
      "File \u001b[1;32m~\\PycharmProjects\\Wise_Ad-\\venv\\Lib\\site-packages\\fiftyone\\core\\session\\session.py:421\u001b[0m, in \u001b[0;36mSession.__init__\u001b[1;34m(self, dataset, view, view_name, spaces, color_scheme, plots, port, address, remote, desktop, height, auto, config)\u001b[0m\n\u001b[0;32m    419\u001b[0m \u001b[38;5;28;01mif\u001b[39;00m \u001b[38;5;28mself\u001b[39m\u001b[38;5;241m.\u001b[39mremote:\n\u001b[0;32m    420\u001b[0m     \u001b[38;5;28;01mif\u001b[39;00m focx\u001b[38;5;241m.\u001b[39mis_notebook_context():\n\u001b[1;32m--> 421\u001b[0m         \u001b[38;5;28;01mraise\u001b[39;00m \u001b[38;5;167;01mValueError\u001b[39;00m(\n\u001b[0;32m    422\u001b[0m             \u001b[38;5;124m\"\u001b[39m\u001b[38;5;124mRemote sessions cannot be run from a notebook\u001b[39m\u001b[38;5;124m\"\u001b[39m\n\u001b[0;32m    423\u001b[0m         )\n\u001b[0;32m    425\u001b[0m     \u001b[38;5;28;01mreturn\u001b[39;00m\n\u001b[0;32m    427\u001b[0m \u001b[38;5;28;01mif\u001b[39;00m \u001b[38;5;28mself\u001b[39m\u001b[38;5;241m.\u001b[39mdesktop:\n",
      "\u001b[1;31mValueError\u001b[0m: Remote sessions cannot be run from a notebook"
     ]
    }
   ],
   "source": [
    "import fiftyone as fo\n",
    "import fiftyone.zoo as foz\n",
    "\n",
    "# 지정할 클래스 목록\n",
    "classes = [\n",
    "    \"Bowl\", \"Backpack\", \"Laptop\", \"Oven\", \"Toaster\", \"Mouse\", \"Bottle\",\n",
    "    \"Tennis racket\", \"Clock\", \"Tie\", \"Wine glass\", \"Spoon\", \"Scissors\",\n",
    "    \"Toothbrush\", \"Refrigerator\", \"Couch\", \"Chair\", \"Umbrella\", \"Knife\",\n",
    "    \"Suitcase\", \"Sunglasses\"\n",
    "]\n",
    "\n",
    "# 다운로드할 데이터셋의 경로 지정\n",
    "dataset_dir = f\"G://.shortcut-targets-by-id//1Q6UFNIvk5YAMJRHcegrvdH33ASTPTK1e//sw아카데미//Data//OpenImagesV7\"\n",
    "\n",
    "# OpenImages V7 데이터셋에서 지정한 클래스의 학습 데이터셋 다운로드\n",
    "dataset = foz.load_zoo_dataset(\n",
    "    \"open-images-v7\",\n",
    "    split=\"train\",\n",
    "    classes=classes,\n",
    "    label_types=[\"detections\"],\n",
    "    dataset_dir=dataset_dir  # 데이터셋 다운로드 경로 지정\n",
    ")\n",
    "\n",
    "# fiftyone 프로그램 안에서 dataset 열람\n",
    "session = fo.launch_app(dataset)"
   ]
  },
  {
   "cell_type": "code",
   "execution_count": 1,
   "id": "2d2d749fdcc5ac0e",
   "metadata": {
    "ExecuteTime": {
     "end_time": "2023-11-20T02:22:52.717612900Z",
     "start_time": "2023-11-20T02:22:52.496244200Z"
    },
    "collapsed": false
   },
   "outputs": [
    {
     "ename": "NameError",
     "evalue": "name 'fo' is not defined",
     "output_type": "error",
     "traceback": [
      "\u001b[1;31m---------------------------------------------------------------------------\u001b[0m",
      "\u001b[1;31mNameError\u001b[0m                                 Traceback (most recent call last)",
      "Cell \u001b[1;32mIn[1], line 1\u001b[0m\n\u001b[1;32m----> 1\u001b[0m session \u001b[38;5;241m=\u001b[39m \u001b[43mfo\u001b[49m\u001b[38;5;241m.\u001b[39mlaunch_app(dataset,remote\u001b[38;5;241m=\u001b[39m\u001b[38;5;28;01mTrue\u001b[39;00m,desktop\u001b[38;5;241m=\u001b[39m\u001b[38;5;28;01mTrue\u001b[39;00m )\n",
      "\u001b[1;31mNameError\u001b[0m: name 'fo' is not defined"
     ]
    }
   ],
   "source": [
    "# fiftyone 프로그램 실행\n",
    "session = fo.launch_app(dataset,remote=True,desktop=True )"
   ]
  },
  {
   "cell_type": "code",
   "execution_count": 5,
   "id": "84562184ac7b894b",
   "metadata": {
    "ExecuteTime": {
     "end_time": "2023-11-20T04:37:13.020593100Z",
     "start_time": "2023-11-20T02:52:31.866766600Z"
    },
    "collapsed": false
   },
   "outputs": [
    {
     "name": "stdout",
     "output_type": "stream",
     "text": [
      "Downloading split 'train' to 'C:\\Users\\jhk16\\fiftyone\\open-images-v7\\train' if necessary\n",
      "Downloading 'https://storage.googleapis.com/openimages/v5/train-annotations-human-imagelabels-boxable.csv' to 'C:\\Users\\jhk16\\fiftyone\\open-images-v7\\train\\labels\\classifications.csv'\n",
      "Downloading 'https://storage.googleapis.com/openimages/v6/oidv6-train-annotations-bbox.csv' to 'C:\\Users\\jhk16\\fiftyone\\open-images-v7\\train\\labels\\detections.csv'\n",
      "Downloading 'https://storage.googleapis.com/openimages/v7/oidv7-train-annotations-point-labels.csv' to 'C:\\Users\\jhk16\\fiftyone\\open-images-v7\\train\\labels\\points.csv'\n",
      "Downloading 'https://storage.googleapis.com/openimages/v6/oidv6-train-annotations-vrd.csv' to 'C:\\Users\\jhk16\\fiftyone\\open-images-v7\\train\\labels\\relationships.csv'\n",
      "Downloading 'https://storage.googleapis.com/openimages/v5/train-annotations-object-segmentation.csv' to 'C:\\Users\\jhk16\\fiftyone\\open-images-v7\\train\\labels\\segmentations.csv'\n",
      "Downloading 'https://storage.googleapis.com/openimages/v5/train-masks/train-masks-1.zip' to 'C:\\Users\\jhk16\\fiftyone\\open-images-v7\\train\\labels\\masks\\1.zip'\n",
      "Downloading 'https://storage.googleapis.com/openimages/v5/train-masks/train-masks-0.zip' to 'C:\\Users\\jhk16\\fiftyone\\open-images-v7\\train\\labels\\masks\\0.zip'\n",
      "Downloading 'https://storage.googleapis.com/openimages/v5/train-masks/train-masks-8.zip' to 'C:\\Users\\jhk16\\fiftyone\\open-images-v7\\train\\labels\\masks\\8.zip'\n",
      "Downloading 'https://storage.googleapis.com/openimages/v5/train-masks/train-masks-3.zip' to 'C:\\Users\\jhk16\\fiftyone\\open-images-v7\\train\\labels\\masks\\3.zip'\n",
      "Downloading 'https://storage.googleapis.com/openimages/v5/train-masks/train-masks-2.zip' to 'C:\\Users\\jhk16\\fiftyone\\open-images-v7\\train\\labels\\masks\\2.zip'\n",
      "Downloading 'https://storage.googleapis.com/openimages/v5/train-masks/train-masks-e.zip' to 'C:\\Users\\jhk16\\fiftyone\\open-images-v7\\train\\labels\\masks\\E.zip'\n"
     ]
    },
    {
     "ename": "KeyboardInterrupt",
     "evalue": "",
     "output_type": "error",
     "traceback": [
      "\u001b[1;31m---------------------------------------------------------------------------\u001b[0m",
      "\u001b[1;31mKeyboardInterrupt\u001b[0m                         Traceback (most recent call last)",
      "Cell \u001b[1;32mIn[5], line 1\u001b[0m\n\u001b[1;32m----> 1\u001b[0m dataset \u001b[38;5;241m=\u001b[39m \u001b[43mfoz\u001b[49m\u001b[38;5;241;43m.\u001b[39;49m\u001b[43mload_zoo_dataset\u001b[49m\u001b[43m(\u001b[49m\u001b[38;5;124;43m\"\u001b[39;49m\u001b[38;5;124;43mopen-images-v7\u001b[39;49m\u001b[38;5;124;43m\"\u001b[39;49m\u001b[43m,\u001b[49m\u001b[43m \u001b[49m\u001b[43msplit\u001b[49m\u001b[38;5;241;43m=\u001b[39;49m\u001b[38;5;124;43m\"\u001b[39;49m\u001b[38;5;124;43mtrain\u001b[39;49m\u001b[38;5;124;43m\"\u001b[39;49m\u001b[43m)\u001b[49m\n\u001b[0;32m      2\u001b[0m view \u001b[38;5;241m=\u001b[39m dataset\u001b[38;5;241m.\u001b[39mfilter_labels(\u001b[38;5;124m\"\u001b[39m\u001b[38;5;124mdetections\u001b[39m\u001b[38;5;124m\"\u001b[39m, fo\u001b[38;5;241m.\u001b[39mClassificationsFilter(labels\u001b[38;5;241m=\u001b[39m[\u001b[38;5;124m\"\u001b[39m\u001b[38;5;124mBowl\u001b[39m\u001b[38;5;124m\"\u001b[39m, \u001b[38;5;124m\"\u001b[39m\u001b[38;5;124mBackpack\u001b[39m\u001b[38;5;124m\"\u001b[39m, \u001b[38;5;124m\"\u001b[39m\u001b[38;5;124mLaptop\u001b[39m\u001b[38;5;124m\"\u001b[39m, \u001b[38;5;124m\"\u001b[39m\u001b[38;5;124mOven\u001b[39m\u001b[38;5;124m\"\u001b[39m, \u001b[38;5;124m\"\u001b[39m\u001b[38;5;124mToaster\u001b[39m\u001b[38;5;124m\"\u001b[39m, \u001b[38;5;124m\"\u001b[39m\u001b[38;5;124mMouse\u001b[39m\u001b[38;5;124m\"\u001b[39m, \u001b[38;5;124m\"\u001b[39m\u001b[38;5;124mBottle\u001b[39m\u001b[38;5;124m\"\u001b[39m,\n\u001b[0;32m      3\u001b[0m     \u001b[38;5;124m\"\u001b[39m\u001b[38;5;124mTennis racket\u001b[39m\u001b[38;5;124m\"\u001b[39m, \u001b[38;5;124m\"\u001b[39m\u001b[38;5;124mClock\u001b[39m\u001b[38;5;124m\"\u001b[39m, \u001b[38;5;124m\"\u001b[39m\u001b[38;5;124mTie\u001b[39m\u001b[38;5;124m\"\u001b[39m, \u001b[38;5;124m\"\u001b[39m\u001b[38;5;124mWine glass\u001b[39m\u001b[38;5;124m\"\u001b[39m, \u001b[38;5;124m\"\u001b[39m\u001b[38;5;124mSpoon\u001b[39m\u001b[38;5;124m\"\u001b[39m, \u001b[38;5;124m\"\u001b[39m\u001b[38;5;124mScissors\u001b[39m\u001b[38;5;124m\"\u001b[39m,\n\u001b[0;32m      4\u001b[0m     \u001b[38;5;124m\"\u001b[39m\u001b[38;5;124mToothbrush\u001b[39m\u001b[38;5;124m\"\u001b[39m, \u001b[38;5;124m\"\u001b[39m\u001b[38;5;124mRefrigerator\u001b[39m\u001b[38;5;124m\"\u001b[39m, \u001b[38;5;124m\"\u001b[39m\u001b[38;5;124mCouch\u001b[39m\u001b[38;5;124m\"\u001b[39m, \u001b[38;5;124m\"\u001b[39m\u001b[38;5;124mChair\u001b[39m\u001b[38;5;124m\"\u001b[39m, \u001b[38;5;124m\"\u001b[39m\u001b[38;5;124mUmbrella\u001b[39m\u001b[38;5;124m\"\u001b[39m, \u001b[38;5;124m\"\u001b[39m\u001b[38;5;124mKnife\u001b[39m\u001b[38;5;124m\"\u001b[39m,\n\u001b[0;32m      5\u001b[0m     \u001b[38;5;124m\"\u001b[39m\u001b[38;5;124mSuitcase\u001b[39m\u001b[38;5;124m\"\u001b[39m, \u001b[38;5;124m\"\u001b[39m\u001b[38;5;124mSunglasses\u001b[39m\u001b[38;5;124m\"\u001b[39m]))\n\u001b[0;32m      6\u001b[0m export_dir \u001b[38;5;241m=\u001b[39m \u001b[38;5;124m\"\u001b[39m\u001b[38;5;124mC:\u001b[39m\u001b[38;5;130;01m\\\\\u001b[39;00m\u001b[38;5;124m1\u001b[39m\u001b[38;5;124m\"\u001b[39m\n",
      "File \u001b[1;32m~\\PycharmProjects\\Wise_Ad-\\venv\\Lib\\site-packages\\fiftyone\\zoo\\datasets\\__init__.py:251\u001b[0m, in \u001b[0;36mload_zoo_dataset\u001b[1;34m(name, split, splits, label_field, dataset_name, dataset_dir, download_if_necessary, drop_existing_dataset, overwrite, cleanup, **kwargs)\u001b[0m\n\u001b[0;32m    246\u001b[0m     zoo_dataset_cls \u001b[38;5;241m=\u001b[39m _get_zoo_dataset_cls(name)\n\u001b[0;32m    247\u001b[0m     download_kwargs, _ \u001b[38;5;241m=\u001b[39m fou\u001b[38;5;241m.\u001b[39mextract_kwargs_for_class(\n\u001b[0;32m    248\u001b[0m         zoo_dataset_cls, kwargs\n\u001b[0;32m    249\u001b[0m     )\n\u001b[1;32m--> 251\u001b[0m     info, dataset_dir \u001b[38;5;241m=\u001b[39m \u001b[43mdownload_zoo_dataset\u001b[49m\u001b[43m(\u001b[49m\n\u001b[0;32m    252\u001b[0m \u001b[43m        \u001b[49m\u001b[43mname\u001b[49m\u001b[43m,\u001b[49m\n\u001b[0;32m    253\u001b[0m \u001b[43m        \u001b[49m\u001b[43msplits\u001b[49m\u001b[38;5;241;43m=\u001b[39;49m\u001b[43msplits\u001b[49m\u001b[43m,\u001b[49m\n\u001b[0;32m    254\u001b[0m \u001b[43m        \u001b[49m\u001b[43mdataset_dir\u001b[49m\u001b[38;5;241;43m=\u001b[39;49m\u001b[43mdataset_dir\u001b[49m\u001b[43m,\u001b[49m\n\u001b[0;32m    255\u001b[0m \u001b[43m        \u001b[49m\u001b[43moverwrite\u001b[49m\u001b[38;5;241;43m=\u001b[39;49m\u001b[43moverwrite\u001b[49m\u001b[43m,\u001b[49m\n\u001b[0;32m    256\u001b[0m \u001b[43m        \u001b[49m\u001b[43mcleanup\u001b[49m\u001b[38;5;241;43m=\u001b[39;49m\u001b[43mcleanup\u001b[49m\u001b[43m,\u001b[49m\n\u001b[0;32m    257\u001b[0m \u001b[43m        \u001b[49m\u001b[38;5;241;43m*\u001b[39;49m\u001b[38;5;241;43m*\u001b[39;49m\u001b[43mdownload_kwargs\u001b[49m\u001b[43m,\u001b[49m\n\u001b[0;32m    258\u001b[0m \u001b[43m    \u001b[49m\u001b[43m)\u001b[49m\n\u001b[0;32m    259\u001b[0m     zoo_dataset \u001b[38;5;241m=\u001b[39m info\u001b[38;5;241m.\u001b[39mget_zoo_dataset()\n\u001b[0;32m    260\u001b[0m \u001b[38;5;28;01melse\u001b[39;00m:\n",
      "File \u001b[1;32m~\\PycharmProjects\\Wise_Ad-\\venv\\Lib\\site-packages\\fiftyone\\zoo\\datasets\\__init__.py:170\u001b[0m, in \u001b[0;36mdownload_zoo_dataset\u001b[1;34m(name, split, splits, dataset_dir, overwrite, cleanup, **kwargs)\u001b[0m\n\u001b[0;32m    135\u001b[0m \u001b[38;5;250m\u001b[39m\u001b[38;5;124;03m\"\"\"Downloads the dataset of the given name from the FiftyOne Dataset Zoo.\u001b[39;00m\n\u001b[0;32m    136\u001b[0m \n\u001b[0;32m    137\u001b[0m \u001b[38;5;124;03mAny dataset splits that already exist in the specified directory are not\u001b[39;00m\n\u001b[1;32m   (...)\u001b[0m\n\u001b[0;32m    165\u001b[0m \u001b[38;5;124;03m    -   dataset_dir: the directory containing the dataset\u001b[39;00m\n\u001b[0;32m    166\u001b[0m \u001b[38;5;124;03m\"\"\"\u001b[39;00m\n\u001b[0;32m    167\u001b[0m zoo_dataset, dataset_dir \u001b[38;5;241m=\u001b[39m _parse_dataset_details(\n\u001b[0;32m    168\u001b[0m     name, dataset_dir, \u001b[38;5;241m*\u001b[39m\u001b[38;5;241m*\u001b[39mkwargs\n\u001b[0;32m    169\u001b[0m )\n\u001b[1;32m--> 170\u001b[0m \u001b[38;5;28;01mreturn\u001b[39;00m \u001b[43mzoo_dataset\u001b[49m\u001b[38;5;241;43m.\u001b[39;49m\u001b[43mdownload_and_prepare\u001b[49m\u001b[43m(\u001b[49m\n\u001b[0;32m    171\u001b[0m \u001b[43m    \u001b[49m\u001b[43mdataset_dir\u001b[49m\u001b[38;5;241;43m=\u001b[39;49m\u001b[43mdataset_dir\u001b[49m\u001b[43m,\u001b[49m\n\u001b[0;32m    172\u001b[0m \u001b[43m    \u001b[49m\u001b[43msplit\u001b[49m\u001b[38;5;241;43m=\u001b[39;49m\u001b[43msplit\u001b[49m\u001b[43m,\u001b[49m\n\u001b[0;32m    173\u001b[0m \u001b[43m    \u001b[49m\u001b[43msplits\u001b[49m\u001b[38;5;241;43m=\u001b[39;49m\u001b[43msplits\u001b[49m\u001b[43m,\u001b[49m\n\u001b[0;32m    174\u001b[0m \u001b[43m    \u001b[49m\u001b[43moverwrite\u001b[49m\u001b[38;5;241;43m=\u001b[39;49m\u001b[43moverwrite\u001b[49m\u001b[43m,\u001b[49m\n\u001b[0;32m    175\u001b[0m \u001b[43m    \u001b[49m\u001b[43mcleanup\u001b[49m\u001b[38;5;241;43m=\u001b[39;49m\u001b[43mcleanup\u001b[49m\u001b[43m,\u001b[49m\n\u001b[0;32m    176\u001b[0m \u001b[43m\u001b[49m\u001b[43m)\u001b[49m\n",
      "File \u001b[1;32m~\\PycharmProjects\\Wise_Ad-\\venv\\Lib\\site-packages\\fiftyone\\zoo\\datasets\\__init__.py:1076\u001b[0m, in \u001b[0;36mZooDataset.download_and_prepare\u001b[1;34m(self, dataset_dir, split, splits, overwrite, cleanup)\u001b[0m\n\u001b[0;32m   1064\u001b[0m \u001b[38;5;28;01melse\u001b[39;00m:\n\u001b[0;32m   1065\u001b[0m     logger\u001b[38;5;241m.\u001b[39minfo(\n\u001b[0;32m   1066\u001b[0m         \u001b[38;5;124m\"\u001b[39m\u001b[38;5;124mDownloading split \u001b[39m\u001b[38;5;124m'\u001b[39m\u001b[38;5;132;01m%s\u001b[39;00m\u001b[38;5;124m'\u001b[39m\u001b[38;5;124m to \u001b[39m\u001b[38;5;124m'\u001b[39m\u001b[38;5;132;01m%s\u001b[39;00m\u001b[38;5;124m'\u001b[39m\u001b[38;5;132;01m%s\u001b[39;00m\u001b[38;5;124m\"\u001b[39m,\n\u001b[0;32m   1067\u001b[0m         split,\n\u001b[0;32m   1068\u001b[0m         split_dir,\n\u001b[0;32m   1069\u001b[0m         suffix,\n\u001b[0;32m   1070\u001b[0m     )\n\u001b[0;32m   1072\u001b[0m (\n\u001b[0;32m   1073\u001b[0m     dataset_type,\n\u001b[0;32m   1074\u001b[0m     num_samples,\n\u001b[0;32m   1075\u001b[0m     classes,\n\u001b[1;32m-> 1076\u001b[0m ) \u001b[38;5;241m=\u001b[39m \u001b[38;5;28;43mself\u001b[39;49m\u001b[38;5;241;43m.\u001b[39;49m\u001b[43m_download_and_prepare\u001b[49m\u001b[43m(\u001b[49m\u001b[43msplit_dir\u001b[49m\u001b[43m,\u001b[49m\u001b[43m \u001b[49m\u001b[43mscratch_dir\u001b[49m\u001b[43m,\u001b[49m\u001b[43m \u001b[49m\u001b[43msplit\u001b[49m\u001b[43m)\u001b[49m\n\u001b[0;32m   1078\u001b[0m \u001b[38;5;66;03m# Add split to ZooDatasetInfo\u001b[39;00m\n\u001b[0;32m   1079\u001b[0m \u001b[38;5;28;01mif\u001b[39;00m info \u001b[38;5;129;01mis\u001b[39;00m \u001b[38;5;28;01mNone\u001b[39;00m:\n",
      "File \u001b[1;32m~\\PycharmProjects\\Wise_Ad-\\venv\\Lib\\site-packages\\fiftyone\\zoo\\datasets\\base.py:2874\u001b[0m, in \u001b[0;36mOpenImagesV7Dataset._download_and_prepare\u001b[1;34m(self, dataset_dir, _, split)\u001b[0m\n\u001b[0;32m   2873\u001b[0m \u001b[38;5;28;01mdef\u001b[39;00m \u001b[38;5;21m_download_and_prepare\u001b[39m(\u001b[38;5;28mself\u001b[39m, dataset_dir, _, split):\n\u001b[1;32m-> 2874\u001b[0m     num_samples, classes, downloaded \u001b[38;5;241m=\u001b[39m \u001b[43mfouo\u001b[49m\u001b[38;5;241;43m.\u001b[39;49m\u001b[43mdownload_open_images_split\u001b[49m\u001b[43m(\u001b[49m\n\u001b[0;32m   2875\u001b[0m \u001b[43m        \u001b[49m\u001b[43mdataset_dir\u001b[49m\u001b[43m,\u001b[49m\n\u001b[0;32m   2876\u001b[0m \u001b[43m        \u001b[49m\u001b[43msplit\u001b[49m\u001b[43m,\u001b[49m\n\u001b[0;32m   2877\u001b[0m \u001b[43m        \u001b[49m\u001b[43mlabel_types\u001b[49m\u001b[38;5;241;43m=\u001b[39;49m\u001b[38;5;28;43mself\u001b[39;49m\u001b[38;5;241;43m.\u001b[39;49m\u001b[43mlabel_types\u001b[49m\u001b[43m,\u001b[49m\n\u001b[0;32m   2878\u001b[0m \u001b[43m        \u001b[49m\u001b[43mclasses\u001b[49m\u001b[38;5;241;43m=\u001b[39;49m\u001b[38;5;28;43mself\u001b[39;49m\u001b[38;5;241;43m.\u001b[39;49m\u001b[43mclasses\u001b[49m\u001b[43m,\u001b[49m\n\u001b[0;32m   2879\u001b[0m \u001b[43m        \u001b[49m\u001b[43mattrs\u001b[49m\u001b[38;5;241;43m=\u001b[39;49m\u001b[38;5;28;43mself\u001b[39;49m\u001b[38;5;241;43m.\u001b[39;49m\u001b[43mattrs\u001b[49m\u001b[43m,\u001b[49m\n\u001b[0;32m   2880\u001b[0m \u001b[43m        \u001b[49m\u001b[43mimage_ids\u001b[49m\u001b[38;5;241;43m=\u001b[39;49m\u001b[38;5;28;43mself\u001b[39;49m\u001b[38;5;241;43m.\u001b[39;49m\u001b[43mimage_ids\u001b[49m\u001b[43m,\u001b[49m\n\u001b[0;32m   2881\u001b[0m \u001b[43m        \u001b[49m\u001b[43mnum_workers\u001b[49m\u001b[38;5;241;43m=\u001b[39;49m\u001b[38;5;28;43mself\u001b[39;49m\u001b[38;5;241;43m.\u001b[39;49m\u001b[43mnum_workers\u001b[49m\u001b[43m,\u001b[49m\n\u001b[0;32m   2882\u001b[0m \u001b[43m        \u001b[49m\u001b[43mshuffle\u001b[49m\u001b[38;5;241;43m=\u001b[39;49m\u001b[38;5;28;43mself\u001b[39;49m\u001b[38;5;241;43m.\u001b[39;49m\u001b[43mshuffle\u001b[49m\u001b[43m,\u001b[49m\n\u001b[0;32m   2883\u001b[0m \u001b[43m        \u001b[49m\u001b[43mseed\u001b[49m\u001b[38;5;241;43m=\u001b[39;49m\u001b[38;5;28;43mself\u001b[39;49m\u001b[38;5;241;43m.\u001b[39;49m\u001b[43mseed\u001b[49m\u001b[43m,\u001b[49m\n\u001b[0;32m   2884\u001b[0m \u001b[43m        \u001b[49m\u001b[43mmax_samples\u001b[49m\u001b[38;5;241;43m=\u001b[39;49m\u001b[38;5;28;43mself\u001b[39;49m\u001b[38;5;241;43m.\u001b[39;49m\u001b[43mmax_samples\u001b[49m\u001b[43m,\u001b[49m\n\u001b[0;32m   2885\u001b[0m \u001b[43m        \u001b[49m\u001b[43mversion\u001b[49m\u001b[38;5;241;43m=\u001b[39;49m\u001b[38;5;124;43m\"\u001b[39;49m\u001b[38;5;124;43mv7\u001b[39;49m\u001b[38;5;124;43m\"\u001b[39;49m\u001b[43m,\u001b[49m\n\u001b[0;32m   2886\u001b[0m \u001b[43m    \u001b[49m\u001b[43m)\u001b[49m\n\u001b[0;32m   2888\u001b[0m     dataset_type \u001b[38;5;241m=\u001b[39m fot\u001b[38;5;241m.\u001b[39mOpenImagesV7Dataset()\n\u001b[0;32m   2890\u001b[0m     \u001b[38;5;28;01mif\u001b[39;00m \u001b[38;5;129;01mnot\u001b[39;00m downloaded:\n",
      "File \u001b[1;32m~\\PycharmProjects\\Wise_Ad-\\venv\\Lib\\site-packages\\fiftyone\\utils\\openimages.py:795\u001b[0m, in \u001b[0;36mdownload_open_images_split\u001b[1;34m(dataset_dir, split, version, label_types, classes, attrs, image_ids, num_workers, shuffle, seed, max_samples)\u001b[0m\n\u001b[0;32m    790\u001b[0m _, _did_download \u001b[38;5;241m=\u001b[39m _get_hierarchy(\n\u001b[0;32m    791\u001b[0m     dataset_dir, classes_map\u001b[38;5;241m=\u001b[39mclasses_map, download\u001b[38;5;241m=\u001b[39m\u001b[38;5;28;01mTrue\u001b[39;00m\n\u001b[0;32m    792\u001b[0m )\n\u001b[0;32m    793\u001b[0m did_download \u001b[38;5;241m|\u001b[39m\u001b[38;5;241m=\u001b[39m _did_download\n\u001b[1;32m--> 795\u001b[0m num_samples, _did_download \u001b[38;5;241m=\u001b[39m \u001b[43m_download\u001b[49m\u001b[43m(\u001b[49m\n\u001b[0;32m    796\u001b[0m \u001b[43m    \u001b[49m\u001b[43mimage_ids\u001b[49m\u001b[43m,\u001b[49m\n\u001b[0;32m    797\u001b[0m \u001b[43m    \u001b[49m\u001b[43mdownloaded_ids\u001b[49m\u001b[43m,\u001b[49m\n\u001b[0;32m    798\u001b[0m \u001b[43m    \u001b[49m\u001b[43moi_classes\u001b[49m\u001b[43m,\u001b[49m\n\u001b[0;32m    799\u001b[0m \u001b[43m    \u001b[49m\u001b[43moi_attrs\u001b[49m\u001b[43m,\u001b[49m\n\u001b[0;32m    800\u001b[0m \u001b[43m    \u001b[49m\u001b[43mseg_classes\u001b[49m\u001b[43m,\u001b[49m\n\u001b[0;32m    801\u001b[0m \u001b[43m    \u001b[49m\u001b[43mpnt_classes_map\u001b[49m\u001b[43m,\u001b[49m\n\u001b[0;32m    802\u001b[0m \u001b[43m    \u001b[49m\u001b[43mdataset_dir\u001b[49m\u001b[43m,\u001b[49m\n\u001b[0;32m    803\u001b[0m \u001b[43m    \u001b[49m\u001b[43msplit\u001b[49m\u001b[43m,\u001b[49m\n\u001b[0;32m    804\u001b[0m \u001b[43m    \u001b[49m\u001b[43mlabel_types\u001b[49m\u001b[38;5;241;43m=\u001b[39;49m\u001b[43mlabel_types\u001b[49m\u001b[43m,\u001b[49m\n\u001b[0;32m    805\u001b[0m \u001b[43m    \u001b[49m\u001b[43mclasses\u001b[49m\u001b[38;5;241;43m=\u001b[39;49m\u001b[43mclasses\u001b[49m\u001b[43m,\u001b[49m\n\u001b[0;32m    806\u001b[0m \u001b[43m    \u001b[49m\u001b[43mattrs\u001b[49m\u001b[38;5;241;43m=\u001b[39;49m\u001b[43mattrs\u001b[49m\u001b[43m,\u001b[49m\n\u001b[0;32m    807\u001b[0m \u001b[43m    \u001b[49m\u001b[43mmax_samples\u001b[49m\u001b[38;5;241;43m=\u001b[39;49m\u001b[43mmax_samples\u001b[49m\u001b[43m,\u001b[49m\n\u001b[0;32m    808\u001b[0m \u001b[43m    \u001b[49m\u001b[43mshuffle\u001b[49m\u001b[38;5;241;43m=\u001b[39;49m\u001b[43mshuffle\u001b[49m\u001b[43m,\u001b[49m\n\u001b[0;32m    809\u001b[0m \u001b[43m    \u001b[49m\u001b[43mnum_workers\u001b[49m\u001b[38;5;241;43m=\u001b[39;49m\u001b[43mnum_workers\u001b[49m\u001b[43m,\u001b[49m\n\u001b[0;32m    810\u001b[0m \u001b[43m    \u001b[49m\u001b[43mdownload\u001b[49m\u001b[38;5;241;43m=\u001b[39;49m\u001b[38;5;28;43;01mTrue\u001b[39;49;00m\u001b[43m,\u001b[49m\n\u001b[0;32m    811\u001b[0m \u001b[43m    \u001b[49m\u001b[43mversion\u001b[49m\u001b[38;5;241;43m=\u001b[39;49m\u001b[43mversion\u001b[49m\u001b[43m,\u001b[49m\n\u001b[0;32m    812\u001b[0m \u001b[43m\u001b[49m\u001b[43m)\u001b[49m\n\u001b[0;32m    814\u001b[0m did_download \u001b[38;5;241m|\u001b[39m\u001b[38;5;241m=\u001b[39m _did_download\n\u001b[0;32m    816\u001b[0m \u001b[38;5;28;01mreturn\u001b[39;00m num_samples, all_classes, did_download\n",
      "File \u001b[1;32m~\\PycharmProjects\\Wise_Ad-\\venv\\Lib\\site-packages\\fiftyone\\utils\\openimages.py:1611\u001b[0m, in \u001b[0;36m_download\u001b[1;34m(image_ids, downloaded_ids, oi_classes, oi_attrs, seg_classes, pnt_classes, dataset_dir, split, label_types, classes, attrs, max_samples, shuffle, num_workers, download, version)\u001b[0m\n\u001b[0;32m   1604\u001b[0m     logger\u001b[38;5;241m.\u001b[39mwarning(\n\u001b[0;32m   1605\u001b[0m         \u001b[38;5;124m\"\u001b[39m\u001b[38;5;124mOnly found \u001b[39m\u001b[38;5;132;01m%d\u001b[39;00m\u001b[38;5;124m (<\u001b[39m\u001b[38;5;132;01m%d\u001b[39;00m\u001b[38;5;124m) samples matching your requirements\u001b[39m\u001b[38;5;124m\"\u001b[39m,\n\u001b[0;32m   1606\u001b[0m         num_target,\n\u001b[0;32m   1607\u001b[0m         max_samples,\n\u001b[0;32m   1608\u001b[0m     )\n\u001b[0;32m   1610\u001b[0m \u001b[38;5;28;01mif\u001b[39;00m \u001b[38;5;124m\"\u001b[39m\u001b[38;5;124msegmentations\u001b[39m\u001b[38;5;124m\"\u001b[39m \u001b[38;5;129;01min\u001b[39;00m label_types:\n\u001b[1;32m-> 1611\u001b[0m     _did_download \u001b[38;5;241m=\u001b[39m \u001b[43m_download_masks_if_necessary\u001b[49m\u001b[43m(\u001b[49m\n\u001b[0;32m   1612\u001b[0m \u001b[43m        \u001b[49m\u001b[43mall_ids\u001b[49m\u001b[43m,\u001b[49m\u001b[43m \u001b[49m\u001b[43mdataset_dir\u001b[49m\u001b[43m,\u001b[49m\u001b[43m \u001b[49m\u001b[43msplit\u001b[49m\u001b[43m,\u001b[49m\u001b[43m \u001b[49m\u001b[43mdownload\u001b[49m\u001b[38;5;241;43m=\u001b[39;49m\u001b[43mdownload\u001b[49m\n\u001b[0;32m   1613\u001b[0m \u001b[43m    \u001b[49m\u001b[43m)\u001b[49m\n\u001b[0;32m   1614\u001b[0m     did_download \u001b[38;5;241m|\u001b[39m\u001b[38;5;241m=\u001b[39m _did_download\n\u001b[0;32m   1615\u001b[0m num_downloaded \u001b[38;5;241m=\u001b[39m _download_images_if_necessary(\n\u001b[0;32m   1616\u001b[0m     target_ids,\n\u001b[0;32m   1617\u001b[0m     split,\n\u001b[1;32m   (...)\u001b[0m\n\u001b[0;32m   1620\u001b[0m     download\u001b[38;5;241m=\u001b[39mdownload,\n\u001b[0;32m   1621\u001b[0m )\n",
      "File \u001b[1;32m~\\PycharmProjects\\Wise_Ad-\\venv\\Lib\\site-packages\\fiftyone\\utils\\openimages.py:1913\u001b[0m, in \u001b[0;36m_download_masks_if_necessary\u001b[1;34m(image_ids, dataset_dir, split, download)\u001b[0m\n\u001b[0;32m   1911\u001b[0m     url \u001b[38;5;241m=\u001b[39m mask_urls[zip_name]\n\u001b[0;32m   1912\u001b[0m     zip_path \u001b[38;5;241m=\u001b[39m os\u001b[38;5;241m.\u001b[39mpath\u001b[38;5;241m.\u001b[39mjoin(masks_dir, zip_name \u001b[38;5;241m+\u001b[39m \u001b[38;5;124m\"\u001b[39m\u001b[38;5;124m.zip\u001b[39m\u001b[38;5;124m\"\u001b[39m)\n\u001b[1;32m-> 1913\u001b[0m     _did_download \u001b[38;5;241m=\u001b[39m \u001b[43m_download_file_if_necessary\u001b[49m\u001b[43m(\u001b[49m\n\u001b[0;32m   1914\u001b[0m \u001b[43m        \u001b[49m\u001b[43mzip_path\u001b[49m\u001b[43m,\u001b[49m\u001b[43m \u001b[49m\u001b[43murl\u001b[49m\u001b[43m,\u001b[49m\u001b[43m \u001b[49m\u001b[43mis_zip\u001b[49m\u001b[38;5;241;43m=\u001b[39;49m\u001b[38;5;28;43;01mTrue\u001b[39;49;00m\u001b[43m,\u001b[49m\u001b[43m \u001b[49m\u001b[43mquiet\u001b[49m\u001b[38;5;241;43m=\u001b[39;49m\u001b[43mquiet\u001b[49m\u001b[43m,\u001b[49m\u001b[43m \u001b[49m\u001b[43mdownload\u001b[49m\u001b[38;5;241;43m=\u001b[39;49m\u001b[43mdownload\u001b[49m\n\u001b[0;32m   1915\u001b[0m \u001b[43m    \u001b[49m\u001b[43m)\u001b[49m\n\u001b[0;32m   1916\u001b[0m     did_download \u001b[38;5;241m|\u001b[39m\u001b[38;5;241m=\u001b[39m _did_download\n\u001b[0;32m   1918\u001b[0m \u001b[38;5;28;01mreturn\u001b[39;00m did_download\n",
      "File \u001b[1;32m~\\PycharmProjects\\Wise_Ad-\\venv\\Lib\\site-packages\\fiftyone\\utils\\openimages.py:1898\u001b[0m, in \u001b[0;36m_download_file_if_necessary\u001b[1;34m(filepath, url, is_zip, quiet, download)\u001b[0m\n\u001b[0;32m   1895\u001b[0m     did_download \u001b[38;5;241m=\u001b[39m \u001b[38;5;28;01mTrue\u001b[39;00m\n\u001b[0;32m   1897\u001b[0m \u001b[38;5;28;01mif\u001b[39;00m is_zip:\n\u001b[1;32m-> 1898\u001b[0m     \u001b[43metau\u001b[49m\u001b[38;5;241;43m.\u001b[39;49m\u001b[43mextract_zip\u001b[49m\u001b[43m(\u001b[49m\u001b[43mfilepath\u001b[49m\u001b[43m,\u001b[49m\u001b[43m \u001b[49m\u001b[43moutdir\u001b[49m\u001b[38;5;241;43m=\u001b[39;49m\u001b[43munzipped_dir\u001b[49m\u001b[43m,\u001b[49m\u001b[43m \u001b[49m\u001b[43mdelete_zip\u001b[49m\u001b[38;5;241;43m=\u001b[39;49m\u001b[38;5;28;43;01mTrue\u001b[39;49;00m\u001b[43m)\u001b[49m\n\u001b[0;32m   1900\u001b[0m \u001b[38;5;28;01mreturn\u001b[39;00m did_download\n",
      "File \u001b[1;32m~\\PycharmProjects\\Wise_Ad-\\venv\\Lib\\site-packages\\eta\\core\\utils.py:3605\u001b[0m, in \u001b[0;36mextract_zip\u001b[1;34m(zip_path, outdir, delete_zip)\u001b[0m\n\u001b[0;32m   3602\u001b[0m outdir \u001b[38;5;241m=\u001b[39m outdir \u001b[38;5;129;01mor\u001b[39;00m os\u001b[38;5;241m.\u001b[39mpath\u001b[38;5;241m.\u001b[39mdirname(zip_path) \u001b[38;5;129;01mor\u001b[39;00m \u001b[38;5;124m\"\u001b[39m\u001b[38;5;124m.\u001b[39m\u001b[38;5;124m\"\u001b[39m\n\u001b[0;32m   3604\u001b[0m \u001b[38;5;28;01mwith\u001b[39;00m zf\u001b[38;5;241m.\u001b[39mZipFile(zip_path, \u001b[38;5;124m\"\u001b[39m\u001b[38;5;124mr\u001b[39m\u001b[38;5;124m\"\u001b[39m, allowZip64\u001b[38;5;241m=\u001b[39m\u001b[38;5;28;01mTrue\u001b[39;00m) \u001b[38;5;28;01mas\u001b[39;00m f:\n\u001b[1;32m-> 3605\u001b[0m     \u001b[43mf\u001b[49m\u001b[38;5;241;43m.\u001b[39;49m\u001b[43mextractall\u001b[49m\u001b[43m(\u001b[49m\u001b[43moutdir\u001b[49m\u001b[43m)\u001b[49m\n\u001b[0;32m   3607\u001b[0m \u001b[38;5;28;01mif\u001b[39;00m delete_zip:\n\u001b[0;32m   3608\u001b[0m     delete_file(zip_path)\n",
      "File \u001b[1;32m~\\AppData\\Local\\Programs\\Python\\Python311\\Lib\\zipfile.py:1681\u001b[0m, in \u001b[0;36mZipFile.extractall\u001b[1;34m(self, path, members, pwd)\u001b[0m\n\u001b[0;32m   1678\u001b[0m     path \u001b[38;5;241m=\u001b[39m os\u001b[38;5;241m.\u001b[39mfspath(path)\n\u001b[0;32m   1680\u001b[0m \u001b[38;5;28;01mfor\u001b[39;00m zipinfo \u001b[38;5;129;01min\u001b[39;00m members:\n\u001b[1;32m-> 1681\u001b[0m     \u001b[38;5;28;43mself\u001b[39;49m\u001b[38;5;241;43m.\u001b[39;49m\u001b[43m_extract_member\u001b[49m\u001b[43m(\u001b[49m\u001b[43mzipinfo\u001b[49m\u001b[43m,\u001b[49m\u001b[43m \u001b[49m\u001b[43mpath\u001b[49m\u001b[43m,\u001b[49m\u001b[43m \u001b[49m\u001b[43mpwd\u001b[49m\u001b[43m)\u001b[49m\n",
      "File \u001b[1;32m~\\AppData\\Local\\Programs\\Python\\Python311\\Lib\\zipfile.py:1735\u001b[0m, in \u001b[0;36mZipFile._extract_member\u001b[1;34m(self, member, targetpath, pwd)\u001b[0m\n\u001b[0;32m   1731\u001b[0m         os\u001b[38;5;241m.\u001b[39mmkdir(targetpath)\n\u001b[0;32m   1732\u001b[0m     \u001b[38;5;28;01mreturn\u001b[39;00m targetpath\n\u001b[0;32m   1734\u001b[0m \u001b[38;5;28;01mwith\u001b[39;00m \u001b[38;5;28mself\u001b[39m\u001b[38;5;241m.\u001b[39mopen(member, pwd\u001b[38;5;241m=\u001b[39mpwd) \u001b[38;5;28;01mas\u001b[39;00m source, \\\n\u001b[1;32m-> 1735\u001b[0m      \u001b[38;5;28mopen\u001b[39m(targetpath, \u001b[38;5;124m\"\u001b[39m\u001b[38;5;124mwb\u001b[39m\u001b[38;5;124m\"\u001b[39m) \u001b[38;5;28;01mas\u001b[39;00m target:\n\u001b[0;32m   1736\u001b[0m     shutil\u001b[38;5;241m.\u001b[39mcopyfileobj(source, target)\n\u001b[0;32m   1738\u001b[0m \u001b[38;5;28;01mreturn\u001b[39;00m targetpath\n",
      "\u001b[1;31mKeyboardInterrupt\u001b[0m: "
     ]
    }
   ],
   "source": [
    "dataset = foz.load_zoo_dataset(\"open-images-v7\", split=\"train\")\n",
    "view = dataset.filter_labels(\"detections\", fo.ClassificationsFilter(labels=[\"Bowl\", \"Backpack\", \"Laptop\", \"Oven\", \"Toaster\", \"Mouse\", \"Bottle\",\n",
    "    \"Tennis racket\", \"Clock\", \"Tie\", \"Wine glass\", \"Spoon\", \"Scissors\",\n",
    "    \"Toothbrush\", \"Refrigerator\", \"Couch\", \"Chair\", \"Umbrella\", \"Knife\",\n",
    "    \"Suitcase\", \"Sunglasses\"]))\n",
    "export_dir = \"C:\\\\1\"\n",
    "view.export(export_dir, dataset_type=fo.types.YOLOv5Dataset)\n"
   ]
  },
  {
   "cell_type": "code",
   "execution_count": 21,
   "id": "cc3607bd51883abe",
   "metadata": {
    "ExecuteTime": {
     "end_time": "2023-11-20T08:24:56.609435200Z",
     "start_time": "2023-11-20T08:07:15.328102700Z"
    },
    "collapsed": false
   },
   "outputs": [
    {
     "name": "stdout",
     "output_type": "stream",
     "text": [
      "Downloading split 'train' to 'D:\\Data\\OpenImagesV7\\train' if necessary\n",
      "Necessary images already downloaded\n",
      "Existing download of split 'train' is sufficient\n",
      "Ignoring unsupported parameter 'only_index' for importer type <class 'fiftyone.utils.openimages.OpenImagesV7DatasetImporter'>\n",
      "Loading existing dataset 'open-images-v7-train'. To reload from disk, either delete the existing dataset or provide a custom `dataset_name` to use\n",
      "Directory 'D:\\Data\\OpenImagesV7' already exists; export will be merged with existing files\n",
      " 100% |█████████████| 81897/81897 [16.0m elapsed, 0s remaining, 80.4 samples/s]       \n"
     ]
    }
   ],
   "source": [
    "from fiftyone import ViewField as F\n",
    "classes = [\n",
    "    \"Bowl\", \"Backpack\", \"Laptop\", \"Oven\", \"Toaster\", \"Mouse\", \"Bottle\",\n",
    "    \"Tennis racket\", \"Clock\", \"Tie\", \"Wine glass\", \"Spoon\", \"Scissors\",\n",
    "    \"Toothbrush\", \"Refrigerator\", \"Couch\", \"Chair\", \"Umbrella\", \"Knife\",\n",
    "    \"Suitcase\", \"Sunglasses\"\n",
    "]\n",
    "\n",
    "# 다운로드할 데이터셋의 경로 지정\n",
    "dataset_dir = f\"D:\\Data\\OpenImagesV7\"\n",
    "\n",
    "#OpenImages V7 데이터셋에서 지정한 클래스의 학습 데이터셋 다운로드\n",
    "dataset = foz.load_zoo_dataset(\n",
    "    \"open-images-v7\",\n",
    "    split=\"train\",\n",
    "    classes=classes,\n",
    "    label_types=[\"detections\"],\n",
    "    dataset_dir=dataset_dir,\n",
    "    only_index=True)\n",
    "\n",
    "# 필터링된 뷰를 YOLOv5 형식으로 내보내기\n",
    "view.export(\n",
    "    export_dir=export_dir,\n",
    "    dataset_type=fo.types.YOLOv5Dataset,\n",
    "    export_media=False  # 이미지 파일을 내보내지 않도록 False로 설정\n",
    ")\n"
   ]
  },
  {
   "cell_type": "code",
   "execution_count": 19,
   "id": "8da422a6e8910849",
   "metadata": {
    "ExecuteTime": {
     "end_time": "2023-11-20T08:03:13.893737200Z",
     "start_time": "2023-11-20T08:03:13.887492800Z"
    },
    "collapsed": false
   },
   "outputs": [
    {
     "name": "stdout",
     "output_type": "stream",
     "text": [
      "OrderedDict([('id', <fiftyone.core.fields.ObjectIdField object at 0x0000020A82C18110>), ('filepath', <fiftyone.core.fields.StringField object at 0x0000020A82C19650>), ('tags', <fiftyone.core.fields.ListField object at 0x0000020A82C27D10>), ('metadata', <fiftyone.core.fields.EmbeddedDocumentField object at 0x0000020A82C24790>), ('ground_truth', <fiftyone.core.fields.EmbeddedDocumentField object at 0x0000020A82BC0110>)])\n"
     ]
    }
   ],
   "source": [
    "# 데이터셋의 필드 스키마를 출력\n",
    "# 데이터셋에 있는 각 필드(레이블, 이미지 속성 등)의 타입과 구조\n",
    "print(dataset.get_field_schema())"
   ]
  },
  {
   "cell_type": "code",
   "execution_count": 23,
   "id": "2621eb3a6b194325",
   "metadata": {
    "ExecuteTime": {
     "end_time": "2023-11-20T08:27:22.129024600Z",
     "start_time": "2023-11-20T08:27:00.612219100Z"
    },
    "collapsed": false
   },
   "outputs": [
    {
     "data": {
      "text/html": [
       "<div>\n",
       "<style scoped>\n",
       "    .dataframe tbody tr th:only-of-type {\n",
       "        vertical-align: middle;\n",
       "    }\n",
       "\n",
       "    .dataframe tbody tr th {\n",
       "        vertical-align: top;\n",
       "    }\n",
       "\n",
       "    .dataframe thead th {\n",
       "        text-align: right;\n",
       "    }\n",
       "</style>\n",
       "<table border=\"1\" class=\"dataframe\">\n",
       "  <thead>\n",
       "    <tr style=\"text-align: right;\">\n",
       "      <th></th>\n",
       "      <th>ImageID</th>\n",
       "      <th>Source</th>\n",
       "      <th>LabelName</th>\n",
       "      <th>Confidence</th>\n",
       "      <th>XMin</th>\n",
       "      <th>XMax</th>\n",
       "      <th>YMin</th>\n",
       "      <th>YMax</th>\n",
       "      <th>IsOccluded</th>\n",
       "      <th>IsTruncated</th>\n",
       "      <th>...</th>\n",
       "      <th>IsDepiction</th>\n",
       "      <th>IsInside</th>\n",
       "      <th>XClick1X</th>\n",
       "      <th>XClick2X</th>\n",
       "      <th>XClick3X</th>\n",
       "      <th>XClick4X</th>\n",
       "      <th>XClick1Y</th>\n",
       "      <th>XClick2Y</th>\n",
       "      <th>XClick3Y</th>\n",
       "      <th>XClick4Y</th>\n",
       "    </tr>\n",
       "  </thead>\n",
       "  <tbody>\n",
       "    <tr>\n",
       "      <th>0</th>\n",
       "      <td>000002b66c9c498e</td>\n",
       "      <td>xclick</td>\n",
       "      <td>/m/01g317</td>\n",
       "      <td>1</td>\n",
       "      <td>0.012500</td>\n",
       "      <td>0.195312</td>\n",
       "      <td>0.148438</td>\n",
       "      <td>0.587500</td>\n",
       "      <td>0</td>\n",
       "      <td>1</td>\n",
       "      <td>...</td>\n",
       "      <td>0</td>\n",
       "      <td>0</td>\n",
       "      <td>0.148438</td>\n",
       "      <td>0.012500</td>\n",
       "      <td>0.059375</td>\n",
       "      <td>0.195312</td>\n",
       "      <td>0.148438</td>\n",
       "      <td>0.357812</td>\n",
       "      <td>0.587500</td>\n",
       "      <td>0.325000</td>\n",
       "    </tr>\n",
       "    <tr>\n",
       "      <th>1</th>\n",
       "      <td>000002b66c9c498e</td>\n",
       "      <td>xclick</td>\n",
       "      <td>/m/01g317</td>\n",
       "      <td>1</td>\n",
       "      <td>0.025000</td>\n",
       "      <td>0.276563</td>\n",
       "      <td>0.714063</td>\n",
       "      <td>0.948438</td>\n",
       "      <td>0</td>\n",
       "      <td>1</td>\n",
       "      <td>...</td>\n",
       "      <td>0</td>\n",
       "      <td>0</td>\n",
       "      <td>0.025000</td>\n",
       "      <td>0.248438</td>\n",
       "      <td>0.276563</td>\n",
       "      <td>0.214062</td>\n",
       "      <td>0.914062</td>\n",
       "      <td>0.714063</td>\n",
       "      <td>0.782813</td>\n",
       "      <td>0.948438</td>\n",
       "    </tr>\n",
       "    <tr>\n",
       "      <th>2</th>\n",
       "      <td>000002b66c9c498e</td>\n",
       "      <td>xclick</td>\n",
       "      <td>/m/01g317</td>\n",
       "      <td>1</td>\n",
       "      <td>0.151562</td>\n",
       "      <td>0.310937</td>\n",
       "      <td>0.198437</td>\n",
       "      <td>0.590625</td>\n",
       "      <td>1</td>\n",
       "      <td>0</td>\n",
       "      <td>...</td>\n",
       "      <td>0</td>\n",
       "      <td>0</td>\n",
       "      <td>0.243750</td>\n",
       "      <td>0.151562</td>\n",
       "      <td>0.310937</td>\n",
       "      <td>0.262500</td>\n",
       "      <td>0.198437</td>\n",
       "      <td>0.434375</td>\n",
       "      <td>0.507812</td>\n",
       "      <td>0.590625</td>\n",
       "    </tr>\n",
       "    <tr>\n",
       "      <th>3</th>\n",
       "      <td>000002b66c9c498e</td>\n",
       "      <td>xclick</td>\n",
       "      <td>/m/01g317</td>\n",
       "      <td>1</td>\n",
       "      <td>0.256250</td>\n",
       "      <td>0.429688</td>\n",
       "      <td>0.651563</td>\n",
       "      <td>0.925000</td>\n",
       "      <td>1</td>\n",
       "      <td>0</td>\n",
       "      <td>...</td>\n",
       "      <td>0</td>\n",
       "      <td>0</td>\n",
       "      <td>0.315625</td>\n",
       "      <td>0.429688</td>\n",
       "      <td>0.256250</td>\n",
       "      <td>0.423438</td>\n",
       "      <td>0.651563</td>\n",
       "      <td>0.921875</td>\n",
       "      <td>0.826562</td>\n",
       "      <td>0.925000</td>\n",
       "    </tr>\n",
       "    <tr>\n",
       "      <th>4</th>\n",
       "      <td>000002b66c9c498e</td>\n",
       "      <td>xclick</td>\n",
       "      <td>/m/01g317</td>\n",
       "      <td>1</td>\n",
       "      <td>0.257812</td>\n",
       "      <td>0.346875</td>\n",
       "      <td>0.235938</td>\n",
       "      <td>0.385938</td>\n",
       "      <td>1</td>\n",
       "      <td>0</td>\n",
       "      <td>...</td>\n",
       "      <td>0</td>\n",
       "      <td>0</td>\n",
       "      <td>0.317188</td>\n",
       "      <td>0.257812</td>\n",
       "      <td>0.346875</td>\n",
       "      <td>0.307812</td>\n",
       "      <td>0.235938</td>\n",
       "      <td>0.289062</td>\n",
       "      <td>0.348438</td>\n",
       "      <td>0.385938</td>\n",
       "    </tr>\n",
       "    <tr>\n",
       "      <th>...</th>\n",
       "      <td>...</td>\n",
       "      <td>...</td>\n",
       "      <td>...</td>\n",
       "      <td>...</td>\n",
       "      <td>...</td>\n",
       "      <td>...</td>\n",
       "      <td>...</td>\n",
       "      <td>...</td>\n",
       "      <td>...</td>\n",
       "      <td>...</td>\n",
       "      <td>...</td>\n",
       "      <td>...</td>\n",
       "      <td>...</td>\n",
       "      <td>...</td>\n",
       "      <td>...</td>\n",
       "      <td>...</td>\n",
       "      <td>...</td>\n",
       "      <td>...</td>\n",
       "      <td>...</td>\n",
       "      <td>...</td>\n",
       "      <td>...</td>\n",
       "    </tr>\n",
       "    <tr>\n",
       "      <th>14610224</th>\n",
       "      <td>fffffdaec951185d</td>\n",
       "      <td>xclick</td>\n",
       "      <td>/m/0dzct</td>\n",
       "      <td>1</td>\n",
       "      <td>0.445625</td>\n",
       "      <td>0.672500</td>\n",
       "      <td>0.154784</td>\n",
       "      <td>0.200750</td>\n",
       "      <td>1</td>\n",
       "      <td>0</td>\n",
       "      <td>...</td>\n",
       "      <td>0</td>\n",
       "      <td>0</td>\n",
       "      <td>0.510000</td>\n",
       "      <td>0.445625</td>\n",
       "      <td>0.538125</td>\n",
       "      <td>0.672500</td>\n",
       "      <td>0.154784</td>\n",
       "      <td>0.168856</td>\n",
       "      <td>0.200750</td>\n",
       "      <td>0.176360</td>\n",
       "    </tr>\n",
       "    <tr>\n",
       "      <th>14610225</th>\n",
       "      <td>fffffdaec951185d</td>\n",
       "      <td>xclick</td>\n",
       "      <td>/m/0dzct</td>\n",
       "      <td>1</td>\n",
       "      <td>0.695625</td>\n",
       "      <td>0.786250</td>\n",
       "      <td>0.118199</td>\n",
       "      <td>0.297373</td>\n",
       "      <td>0</td>\n",
       "      <td>0</td>\n",
       "      <td>...</td>\n",
       "      <td>0</td>\n",
       "      <td>0</td>\n",
       "      <td>0.725000</td>\n",
       "      <td>0.748125</td>\n",
       "      <td>0.695625</td>\n",
       "      <td>0.786250</td>\n",
       "      <td>0.118199</td>\n",
       "      <td>0.297373</td>\n",
       "      <td>0.233583</td>\n",
       "      <td>0.207317</td>\n",
       "    </tr>\n",
       "    <tr>\n",
       "      <th>14610226</th>\n",
       "      <td>fffffdaec951185d</td>\n",
       "      <td>xclick</td>\n",
       "      <td>/m/0dzct</td>\n",
       "      <td>1</td>\n",
       "      <td>0.788750</td>\n",
       "      <td>0.835000</td>\n",
       "      <td>0.198874</td>\n",
       "      <td>0.272045</td>\n",
       "      <td>1</td>\n",
       "      <td>0</td>\n",
       "      <td>...</td>\n",
       "      <td>0</td>\n",
       "      <td>0</td>\n",
       "      <td>0.814375</td>\n",
       "      <td>0.814375</td>\n",
       "      <td>0.788750</td>\n",
       "      <td>0.835000</td>\n",
       "      <td>0.198874</td>\n",
       "      <td>0.272045</td>\n",
       "      <td>0.245779</td>\n",
       "      <td>0.247655</td>\n",
       "    </tr>\n",
       "    <tr>\n",
       "      <th>14610227</th>\n",
       "      <td>fffffdaec951185d</td>\n",
       "      <td>xclick</td>\n",
       "      <td>/m/0dzct</td>\n",
       "      <td>1</td>\n",
       "      <td>0.796875</td>\n",
       "      <td>0.951875</td>\n",
       "      <td>0.156660</td>\n",
       "      <td>0.205441</td>\n",
       "      <td>1</td>\n",
       "      <td>0</td>\n",
       "      <td>...</td>\n",
       "      <td>0</td>\n",
       "      <td>0</td>\n",
       "      <td>0.868750</td>\n",
       "      <td>0.796875</td>\n",
       "      <td>0.951875</td>\n",
       "      <td>0.942500</td>\n",
       "      <td>0.156660</td>\n",
       "      <td>0.176360</td>\n",
       "      <td>0.189493</td>\n",
       "      <td>0.205441</td>\n",
       "    </tr>\n",
       "    <tr>\n",
       "      <th>14610228</th>\n",
       "      <td>fffffdaec951185d</td>\n",
       "      <td>xclick</td>\n",
       "      <td>/m/0dzct</td>\n",
       "      <td>1</td>\n",
       "      <td>0.991250</td>\n",
       "      <td>0.999375</td>\n",
       "      <td>0.174484</td>\n",
       "      <td>0.195122</td>\n",
       "      <td>1</td>\n",
       "      <td>0</td>\n",
       "      <td>...</td>\n",
       "      <td>0</td>\n",
       "      <td>0</td>\n",
       "      <td>0.995625</td>\n",
       "      <td>0.991250</td>\n",
       "      <td>0.993750</td>\n",
       "      <td>0.999375</td>\n",
       "      <td>0.174484</td>\n",
       "      <td>0.185741</td>\n",
       "      <td>0.195122</td>\n",
       "      <td>0.181989</td>\n",
       "    </tr>\n",
       "  </tbody>\n",
       "</table>\n",
       "<p>14610229 rows × 21 columns</p>\n",
       "</div>"
      ],
      "text/plain": [
       "                   ImageID  Source  LabelName  Confidence      XMin      XMax  \\\n",
       "0         000002b66c9c498e  xclick  /m/01g317           1  0.012500  0.195312   \n",
       "1         000002b66c9c498e  xclick  /m/01g317           1  0.025000  0.276563   \n",
       "2         000002b66c9c498e  xclick  /m/01g317           1  0.151562  0.310937   \n",
       "3         000002b66c9c498e  xclick  /m/01g317           1  0.256250  0.429688   \n",
       "4         000002b66c9c498e  xclick  /m/01g317           1  0.257812  0.346875   \n",
       "...                    ...     ...        ...         ...       ...       ...   \n",
       "14610224  fffffdaec951185d  xclick   /m/0dzct           1  0.445625  0.672500   \n",
       "14610225  fffffdaec951185d  xclick   /m/0dzct           1  0.695625  0.786250   \n",
       "14610226  fffffdaec951185d  xclick   /m/0dzct           1  0.788750  0.835000   \n",
       "14610227  fffffdaec951185d  xclick   /m/0dzct           1  0.796875  0.951875   \n",
       "14610228  fffffdaec951185d  xclick   /m/0dzct           1  0.991250  0.999375   \n",
       "\n",
       "              YMin      YMax  IsOccluded  IsTruncated  ...  IsDepiction  \\\n",
       "0         0.148438  0.587500           0            1  ...            0   \n",
       "1         0.714063  0.948438           0            1  ...            0   \n",
       "2         0.198437  0.590625           1            0  ...            0   \n",
       "3         0.651563  0.925000           1            0  ...            0   \n",
       "4         0.235938  0.385938           1            0  ...            0   \n",
       "...            ...       ...         ...          ...  ...          ...   \n",
       "14610224  0.154784  0.200750           1            0  ...            0   \n",
       "14610225  0.118199  0.297373           0            0  ...            0   \n",
       "14610226  0.198874  0.272045           1            0  ...            0   \n",
       "14610227  0.156660  0.205441           1            0  ...            0   \n",
       "14610228  0.174484  0.195122           1            0  ...            0   \n",
       "\n",
       "          IsInside  XClick1X  XClick2X  XClick3X  XClick4X  XClick1Y  \\\n",
       "0                0  0.148438  0.012500  0.059375  0.195312  0.148438   \n",
       "1                0  0.025000  0.248438  0.276563  0.214062  0.914062   \n",
       "2                0  0.243750  0.151562  0.310937  0.262500  0.198437   \n",
       "3                0  0.315625  0.429688  0.256250  0.423438  0.651563   \n",
       "4                0  0.317188  0.257812  0.346875  0.307812  0.235938   \n",
       "...            ...       ...       ...       ...       ...       ...   \n",
       "14610224         0  0.510000  0.445625  0.538125  0.672500  0.154784   \n",
       "14610225         0  0.725000  0.748125  0.695625  0.786250  0.118199   \n",
       "14610226         0  0.814375  0.814375  0.788750  0.835000  0.198874   \n",
       "14610227         0  0.868750  0.796875  0.951875  0.942500  0.156660   \n",
       "14610228         0  0.995625  0.991250  0.993750  0.999375  0.174484   \n",
       "\n",
       "          XClick2Y  XClick3Y  XClick4Y  \n",
       "0         0.357812  0.587500  0.325000  \n",
       "1         0.714063  0.782813  0.948438  \n",
       "2         0.434375  0.507812  0.590625  \n",
       "3         0.921875  0.826562  0.925000  \n",
       "4         0.289062  0.348438  0.385938  \n",
       "...            ...       ...       ...  \n",
       "14610224  0.168856  0.200750  0.176360  \n",
       "14610225  0.297373  0.233583  0.207317  \n",
       "14610226  0.272045  0.245779  0.247655  \n",
       "14610227  0.176360  0.189493  0.205441  \n",
       "14610228  0.185741  0.195122  0.181989  \n",
       "\n",
       "[14610229 rows x 21 columns]"
      ]
     },
     "execution_count": 23,
     "metadata": {},
     "output_type": "execute_result"
    }
   ],
   "source": [
    "import pandas as pd\n",
    "\n",
    "pd.read_csv(\"D:\\Data\\OpenImagesV7//train\\labels\\detections.csv\")"
   ]
  },
  {
   "cell_type": "code",
   "execution_count": 24,
   "id": "86403e4079da1bfa",
   "metadata": {
    "ExecuteTime": {
     "end_time": "2023-11-20T09:05:42.740940500Z",
     "start_time": "2023-11-20T09:05:42.439717100Z"
    },
    "collapsed": false
   },
   "outputs": [
    {
     "ename": "ValueError",
     "evalue": "Failed to construct importer of type <class 'fiftyone.utils.yolo.YOLOv5DatasetImporter'> using the provided parameters. See above for the error. You may need to supply additional mandatory arguments. Please consult the documentation of <class 'fiftyone.utils.yolo.YOLOv5DatasetImporter'> to learn more",
     "output_type": "error",
     "traceback": [
      "\u001b[1;31m---------------------------------------------------------------------------\u001b[0m",
      "\u001b[1;31mValueError\u001b[0m                                Traceback (most recent call last)",
      "File \u001b[1;32m~\\PycharmProjects\\Wise_Ad-\\venv\\Lib\\site-packages\\fiftyone\\utils\\data\\importers.py:599\u001b[0m, in \u001b[0;36mbuild_dataset_importer\u001b[1;34m(dataset_type, strip_none, warn_unused, name, **kwargs)\u001b[0m\n\u001b[0;32m    598\u001b[0m \u001b[38;5;28;01mtry\u001b[39;00m:\n\u001b[1;32m--> 599\u001b[0m     dataset_importer \u001b[38;5;241m=\u001b[39m \u001b[43mdataset_importer_cls\u001b[49m\u001b[43m(\u001b[49m\u001b[38;5;241;43m*\u001b[39;49m\u001b[38;5;241;43m*\u001b[39;49m\u001b[43mkwargs\u001b[49m\u001b[43m)\u001b[49m\n\u001b[0;32m    600\u001b[0m \u001b[38;5;28;01mexcept\u001b[39;00m \u001b[38;5;167;01mException\u001b[39;00m \u001b[38;5;28;01mas\u001b[39;00m e:\n",
      "File \u001b[1;32m~\\PycharmProjects\\Wise_Ad-\\venv\\Lib\\site-packages\\fiftyone\\utils\\yolo.py:411\u001b[0m, in \u001b[0;36mYOLOv5DatasetImporter.__init__\u001b[1;34m(self, dataset_dir, yaml_path, split, include_all_data, shuffle, seed, max_samples)\u001b[0m\n\u001b[0;32m    410\u001b[0m \u001b[38;5;28;01mif\u001b[39;00m dataset_dir \u001b[38;5;129;01mis\u001b[39;00m \u001b[38;5;28;01mNone\u001b[39;00m \u001b[38;5;129;01mand\u001b[39;00m yaml_path \u001b[38;5;129;01mis\u001b[39;00m \u001b[38;5;28;01mNone\u001b[39;00m:\n\u001b[1;32m--> 411\u001b[0m     \u001b[38;5;28;01mraise\u001b[39;00m \u001b[38;5;167;01mValueError\u001b[39;00m(\n\u001b[0;32m    412\u001b[0m         \u001b[38;5;124m\"\u001b[39m\u001b[38;5;124mEither `dataset_dir` or `yaml_path` must be provided\u001b[39m\u001b[38;5;124m\"\u001b[39m\n\u001b[0;32m    413\u001b[0m     )\n\u001b[0;32m    415\u001b[0m yaml_path \u001b[38;5;241m=\u001b[39m \u001b[38;5;28mself\u001b[39m\u001b[38;5;241m.\u001b[39m_parse_labels_path(\n\u001b[0;32m    416\u001b[0m     dataset_dir\u001b[38;5;241m=\u001b[39mdataset_dir,\n\u001b[0;32m    417\u001b[0m     labels_path\u001b[38;5;241m=\u001b[39myaml_path,\n\u001b[0;32m    418\u001b[0m     default\u001b[38;5;241m=\u001b[39m\u001b[38;5;124m\"\u001b[39m\u001b[38;5;124mdataset.yaml\u001b[39m\u001b[38;5;124m\"\u001b[39m,\n\u001b[0;32m    419\u001b[0m )\n",
      "\u001b[1;31mValueError\u001b[0m: Either `dataset_dir` or `yaml_path` must be provided",
      "\nThe above exception was the direct cause of the following exception:\n",
      "\u001b[1;31mValueError\u001b[0m                                Traceback (most recent call last)",
      "Cell \u001b[1;32mIn[24], line 3\u001b[0m\n\u001b[0;32m      1\u001b[0m \u001b[38;5;28;01mimport\u001b[39;00m \u001b[38;5;21;01mfiftyone\u001b[39;00m \u001b[38;5;28;01mas\u001b[39;00m \u001b[38;5;21;01mfo\u001b[39;00m\n\u001b[1;32m----> 3\u001b[0m dataset1 \u001b[38;5;241m=\u001b[39m \u001b[43mfo\u001b[49m\u001b[38;5;241;43m.\u001b[39;49m\u001b[43mDataset\u001b[49m\u001b[38;5;241;43m.\u001b[39;49m\u001b[43mfrom_dir\u001b[49m\u001b[43m(\u001b[49m\n\u001b[0;32m      4\u001b[0m \u001b[43m    \u001b[49m\u001b[43mdata_path\u001b[49m\u001b[38;5;241;43m=\u001b[39;49m\u001b[38;5;124;43m\"\u001b[39;49m\u001b[38;5;124;43mD:\u001b[39;49m\u001b[38;5;124;43m\\\u001b[39;49m\u001b[38;5;124;43mData\u001b[39;49m\u001b[38;5;124;43m\\\u001b[39;49m\u001b[38;5;124;43mYOLO//train\u001b[39;49m\u001b[38;5;124;43m\\\u001b[39;49m\u001b[38;5;124;43mimages\u001b[39;49m\u001b[38;5;124;43m\"\u001b[39;49m\u001b[43m,\u001b[49m\n\u001b[0;32m      5\u001b[0m \u001b[43m    \u001b[49m\u001b[43mlabels_path\u001b[49m\u001b[38;5;241;43m=\u001b[39;49m\u001b[38;5;124;43m\"\u001b[39;49m\u001b[38;5;124;43mD:\u001b[39;49m\u001b[38;5;124;43m\\\u001b[39;49m\u001b[38;5;124;43mData\u001b[39;49m\u001b[38;5;124;43m\\\u001b[39;49m\u001b[38;5;124;43mYOLO//train\u001b[39;49m\u001b[38;5;124;43m\\\u001b[39;49m\u001b[38;5;124;43mlabels\u001b[39;49m\u001b[38;5;124;43m\"\u001b[39;49m\u001b[43m,\u001b[49m\n\u001b[0;32m      6\u001b[0m \u001b[43m    \u001b[49m\u001b[43mdataset_type\u001b[49m\u001b[38;5;241;43m=\u001b[39;49m\u001b[43mfo\u001b[49m\u001b[38;5;241;43m.\u001b[39;49m\u001b[43mtypes\u001b[49m\u001b[38;5;241;43m.\u001b[39;49m\u001b[43mYOLOv5Dataset\u001b[49m\u001b[43m,\u001b[49m\n\u001b[0;32m      7\u001b[0m \u001b[43m)\u001b[49m\n\u001b[0;32m      9\u001b[0m dataset2 \u001b[38;5;241m=\u001b[39m fo\u001b[38;5;241m.\u001b[39mDataset\u001b[38;5;241m.\u001b[39mfrom_dir(\n\u001b[0;32m     10\u001b[0m     data_path\u001b[38;5;241m=\u001b[39m\u001b[38;5;124m\"\u001b[39m\u001b[38;5;124mD:\u001b[39m\u001b[38;5;124m\\\u001b[39m\u001b[38;5;124mData\u001b[39m\u001b[38;5;124m\\\u001b[39m\u001b[38;5;124mYOLO_1//train\u001b[39m\u001b[38;5;124m\\\u001b[39m\u001b[38;5;124mimages\u001b[39m\u001b[38;5;124m\"\u001b[39m,\n\u001b[0;32m     11\u001b[0m     labels_path\u001b[38;5;241m=\u001b[39m\u001b[38;5;124m\"\u001b[39m\u001b[38;5;124mD:\u001b[39m\u001b[38;5;124m\\\u001b[39m\u001b[38;5;124mData\u001b[39m\u001b[38;5;124m\\\u001b[39m\u001b[38;5;124mYOLO_1//train\u001b[39m\u001b[38;5;124m\\\u001b[39m\u001b[38;5;124mlabels\u001b[39m\u001b[38;5;124m\"\u001b[39m,\n\u001b[0;32m     12\u001b[0m     dataset_type\u001b[38;5;241m=\u001b[39mfo\u001b[38;5;241m.\u001b[39mtypes\u001b[38;5;241m.\u001b[39mYOLOv5Dataset,\n\u001b[0;32m     13\u001b[0m )\n",
      "File \u001b[1;32m~\\PycharmProjects\\Wise_Ad-\\venv\\Lib\\site-packages\\fiftyone\\core\\dataset.py:5354\u001b[0m, in \u001b[0;36mDataset.from_dir\u001b[1;34m(cls, dataset_dir, dataset_type, data_path, labels_path, name, persistent, overwrite, label_field, tags, dynamic, **kwargs)\u001b[0m\n\u001b[0;32m   5260\u001b[0m \u001b[38;5;250m\u001b[39m\u001b[38;5;124;03m\"\"\"Creates a :class:`Dataset` from the contents of the given directory.\u001b[39;00m\n\u001b[0;32m   5261\u001b[0m \n\u001b[0;32m   5262\u001b[0m \u001b[38;5;124;03mYou can create datasets with this method via the following basic\u001b[39;00m\n\u001b[1;32m   (...)\u001b[0m\n\u001b[0;32m   5351\u001b[0m \u001b[38;5;124;03m    a :class:`Dataset`\u001b[39;00m\n\u001b[0;32m   5352\u001b[0m \u001b[38;5;124;03m\"\"\"\u001b[39;00m\n\u001b[0;32m   5353\u001b[0m dataset \u001b[38;5;241m=\u001b[39m \u001b[38;5;28mcls\u001b[39m(name, persistent\u001b[38;5;241m=\u001b[39mpersistent, overwrite\u001b[38;5;241m=\u001b[39moverwrite)\n\u001b[1;32m-> 5354\u001b[0m \u001b[43mdataset\u001b[49m\u001b[38;5;241;43m.\u001b[39;49m\u001b[43madd_dir\u001b[49m\u001b[43m(\u001b[49m\n\u001b[0;32m   5355\u001b[0m \u001b[43m    \u001b[49m\u001b[43mdataset_dir\u001b[49m\u001b[38;5;241;43m=\u001b[39;49m\u001b[43mdataset_dir\u001b[49m\u001b[43m,\u001b[49m\n\u001b[0;32m   5356\u001b[0m \u001b[43m    \u001b[49m\u001b[43mdataset_type\u001b[49m\u001b[38;5;241;43m=\u001b[39;49m\u001b[43mdataset_type\u001b[49m\u001b[43m,\u001b[49m\n\u001b[0;32m   5357\u001b[0m \u001b[43m    \u001b[49m\u001b[43mdata_path\u001b[49m\u001b[38;5;241;43m=\u001b[39;49m\u001b[43mdata_path\u001b[49m\u001b[43m,\u001b[49m\n\u001b[0;32m   5358\u001b[0m \u001b[43m    \u001b[49m\u001b[43mlabels_path\u001b[49m\u001b[38;5;241;43m=\u001b[39;49m\u001b[43mlabels_path\u001b[49m\u001b[43m,\u001b[49m\n\u001b[0;32m   5359\u001b[0m \u001b[43m    \u001b[49m\u001b[43mlabel_field\u001b[49m\u001b[38;5;241;43m=\u001b[39;49m\u001b[43mlabel_field\u001b[49m\u001b[43m,\u001b[49m\n\u001b[0;32m   5360\u001b[0m \u001b[43m    \u001b[49m\u001b[43mtags\u001b[49m\u001b[38;5;241;43m=\u001b[39;49m\u001b[43mtags\u001b[49m\u001b[43m,\u001b[49m\n\u001b[0;32m   5361\u001b[0m \u001b[43m    \u001b[49m\u001b[43mdynamic\u001b[49m\u001b[38;5;241;43m=\u001b[39;49m\u001b[43mdynamic\u001b[49m\u001b[43m,\u001b[49m\n\u001b[0;32m   5362\u001b[0m \u001b[43m    \u001b[49m\u001b[38;5;241;43m*\u001b[39;49m\u001b[38;5;241;43m*\u001b[39;49m\u001b[43mkwargs\u001b[49m\u001b[43m,\u001b[49m\n\u001b[0;32m   5363\u001b[0m \u001b[43m\u001b[49m\u001b[43m)\u001b[49m\n\u001b[0;32m   5364\u001b[0m \u001b[38;5;28;01mreturn\u001b[39;00m dataset\n",
      "File \u001b[1;32m~\\PycharmProjects\\Wise_Ad-\\venv\\Lib\\site-packages\\fiftyone\\core\\dataset.py:4055\u001b[0m, in \u001b[0;36mDataset.add_dir\u001b[1;34m(self, dataset_dir, dataset_type, data_path, labels_path, label_field, tags, expand_schema, dynamic, add_info, **kwargs)\u001b[0m\n\u001b[0;32m   3949\u001b[0m \u001b[38;5;28;01mdef\u001b[39;00m \u001b[38;5;21madd_dir\u001b[39m(\n\u001b[0;32m   3950\u001b[0m     \u001b[38;5;28mself\u001b[39m,\n\u001b[0;32m   3951\u001b[0m     dataset_dir\u001b[38;5;241m=\u001b[39m\u001b[38;5;28;01mNone\u001b[39;00m,\n\u001b[1;32m   (...)\u001b[0m\n\u001b[0;32m   3960\u001b[0m     \u001b[38;5;241m*\u001b[39m\u001b[38;5;241m*\u001b[39mkwargs,\n\u001b[0;32m   3961\u001b[0m ):\n\u001b[0;32m   3962\u001b[0m \u001b[38;5;250m    \u001b[39m\u001b[38;5;124;03m\"\"\"Adds the contents of the given directory to the dataset.\u001b[39;00m\n\u001b[0;32m   3963\u001b[0m \n\u001b[0;32m   3964\u001b[0m \u001b[38;5;124;03m    You can perform imports with this method via the following basic\u001b[39;00m\n\u001b[1;32m   (...)\u001b[0m\n\u001b[0;32m   4053\u001b[0m \u001b[38;5;124;03m        a list of IDs of the samples that were added to the dataset\u001b[39;00m\n\u001b[0;32m   4054\u001b[0m \u001b[38;5;124;03m    \"\"\"\u001b[39;00m\n\u001b[1;32m-> 4055\u001b[0m     dataset_importer, _ \u001b[38;5;241m=\u001b[39m \u001b[43mfoud\u001b[49m\u001b[38;5;241;43m.\u001b[39;49m\u001b[43mbuild_dataset_importer\u001b[49m\u001b[43m(\u001b[49m\n\u001b[0;32m   4056\u001b[0m \u001b[43m        \u001b[49m\u001b[43mdataset_type\u001b[49m\u001b[43m,\u001b[49m\n\u001b[0;32m   4057\u001b[0m \u001b[43m        \u001b[49m\u001b[43mdataset_dir\u001b[49m\u001b[38;5;241;43m=\u001b[39;49m\u001b[43mdataset_dir\u001b[49m\u001b[43m,\u001b[49m\n\u001b[0;32m   4058\u001b[0m \u001b[43m        \u001b[49m\u001b[43mdata_path\u001b[49m\u001b[38;5;241;43m=\u001b[39;49m\u001b[43mdata_path\u001b[49m\u001b[43m,\u001b[49m\n\u001b[0;32m   4059\u001b[0m \u001b[43m        \u001b[49m\u001b[43mlabels_path\u001b[49m\u001b[38;5;241;43m=\u001b[39;49m\u001b[43mlabels_path\u001b[49m\u001b[43m,\u001b[49m\n\u001b[0;32m   4060\u001b[0m \u001b[43m        \u001b[49m\u001b[43mname\u001b[49m\u001b[38;5;241;43m=\u001b[39;49m\u001b[38;5;28;43mself\u001b[39;49m\u001b[38;5;241;43m.\u001b[39;49m\u001b[43mname\u001b[49m\u001b[43m,\u001b[49m\n\u001b[0;32m   4061\u001b[0m \u001b[43m        \u001b[49m\u001b[38;5;241;43m*\u001b[39;49m\u001b[38;5;241;43m*\u001b[39;49m\u001b[43mkwargs\u001b[49m\u001b[43m,\u001b[49m\n\u001b[0;32m   4062\u001b[0m \u001b[43m    \u001b[49m\u001b[43m)\u001b[49m\n\u001b[0;32m   4064\u001b[0m     \u001b[38;5;28;01mreturn\u001b[39;00m \u001b[38;5;28mself\u001b[39m\u001b[38;5;241m.\u001b[39madd_importer(\n\u001b[0;32m   4065\u001b[0m         dataset_importer,\n\u001b[0;32m   4066\u001b[0m         label_field\u001b[38;5;241m=\u001b[39mlabel_field,\n\u001b[1;32m   (...)\u001b[0m\n\u001b[0;32m   4070\u001b[0m         add_info\u001b[38;5;241m=\u001b[39madd_info,\n\u001b[0;32m   4071\u001b[0m     )\n",
      "File \u001b[1;32m~\\PycharmProjects\\Wise_Ad-\\venv\\Lib\\site-packages\\fiftyone\\utils\\data\\importers.py:601\u001b[0m, in \u001b[0;36mbuild_dataset_importer\u001b[1;34m(dataset_type, strip_none, warn_unused, name, **kwargs)\u001b[0m\n\u001b[0;32m    599\u001b[0m     dataset_importer \u001b[38;5;241m=\u001b[39m dataset_importer_cls(\u001b[38;5;241m*\u001b[39m\u001b[38;5;241m*\u001b[39mkwargs)\n\u001b[0;32m    600\u001b[0m \u001b[38;5;28;01mexcept\u001b[39;00m \u001b[38;5;167;01mException\u001b[39;00m \u001b[38;5;28;01mas\u001b[39;00m e:\n\u001b[1;32m--> 601\u001b[0m     \u001b[38;5;28;01mraise\u001b[39;00m \u001b[38;5;167;01mValueError\u001b[39;00m(\n\u001b[0;32m    602\u001b[0m         \u001b[38;5;124m\"\u001b[39m\u001b[38;5;124mFailed to construct importer of type \u001b[39m\u001b[38;5;132;01m%s\u001b[39;00m\u001b[38;5;124m using the provided \u001b[39m\u001b[38;5;124m\"\u001b[39m\n\u001b[0;32m    603\u001b[0m         \u001b[38;5;124m\"\u001b[39m\u001b[38;5;124mparameters. See above for the error. You may need to supply \u001b[39m\u001b[38;5;124m\"\u001b[39m\n\u001b[0;32m    604\u001b[0m         \u001b[38;5;124m\"\u001b[39m\u001b[38;5;124madditional mandatory arguments. Please consult the documentation \u001b[39m\u001b[38;5;124m\"\u001b[39m\n\u001b[0;32m    605\u001b[0m         \u001b[38;5;124m\"\u001b[39m\u001b[38;5;124mof \u001b[39m\u001b[38;5;132;01m%s\u001b[39;00m\u001b[38;5;124m to learn more\u001b[39m\u001b[38;5;124m\"\u001b[39m\n\u001b[0;32m    606\u001b[0m         \u001b[38;5;241m%\u001b[39m (dataset_importer_cls, dataset_importer_cls)\n\u001b[0;32m    607\u001b[0m     ) \u001b[38;5;28;01mfrom\u001b[39;00m \u001b[38;5;21;01me\u001b[39;00m\n\u001b[0;32m    609\u001b[0m \u001b[38;5;28;01mif\u001b[39;00m warn_unused:\n\u001b[0;32m    610\u001b[0m     \u001b[38;5;28;01mfor\u001b[39;00m key, value \u001b[38;5;129;01min\u001b[39;00m unused_kwargs\u001b[38;5;241m.\u001b[39mitems():\n",
      "\u001b[1;31mValueError\u001b[0m: Failed to construct importer of type <class 'fiftyone.utils.yolo.YOLOv5DatasetImporter'> using the provided parameters. See above for the error. You may need to supply additional mandatory arguments. Please consult the documentation of <class 'fiftyone.utils.yolo.YOLOv5DatasetImporter'> to learn more"
     ]
    }
   ],
   "source": [
    "import fiftyone as fo\n",
    "\n",
    "# 첫 번째 YOLOv5 데이터셋을 로드\n",
    "# `data_path`는 이미지 파일이 위치한 경로\n",
    "# `labels_path`는 YOLO 형식의 레이블 파일이 위치한 경로\n",
    "# `dataset_type`은 데이터셋 형식을 지정\n",
    "dataset1 = fo.Dataset.from_dir(\n",
    "    data_path=\"D:\\Data\\YOLO//train\\images\",\n",
    "    labels_path=\"D:\\Data\\YOLO//train\\labels\",\n",
    "    dataset_type=fo.types.YOLOv5Dataset,\n",
    ")\n",
    "\n",
    "# 두 번째 YOLOv5 데이터셋을 비슷한 방식으로 로드\n",
    "dataset2 = fo.Dataset.from_dir(\n",
    "    data_path=\"D:\\Data\\YOLO_1//train\\images\",\n",
    "    labels_path=\"D:\\Data\\YOLO_1//train\\labels\",\n",
    "    dataset_type=fo.types.YOLOv5Dataset,\n",
    ")"
   ]
  },
  {
   "cell_type": "code",
   "execution_count": 15,
   "id": "b0659a338e125e9d",
   "metadata": {
    "ExecuteTime": {
     "end_time": "2023-11-20T12:42:53.292880100Z",
     "start_time": "2023-11-20T12:42:53.230625Z"
    },
    "collapsed": false
   },
   "outputs": [
    {
     "name": "stdout",
     "output_type": "stream",
     "text": [
      " 100% |█████████████████████| 0/0 [1.6ms elapsed, ? remaining, ? samples/s]  \n"
     ]
    }
   ],
   "source": [
    "import fiftyone as fo\n",
    "\n",
    "# 첫 번째 YOLOv5 데이터셋을 로드\n",
    "# `data_path`는 이미지 파일들이 위치한 경로\n",
    "# `labels_path`는 YOLOv5 형식의 레이블 파일들이 위치한 경로\n",
    "# `dataset_type`은 로드할 데이터셋의 형식을 지정\n",
    "# `yaml_path`는 데이터셋의 클래스 정보 등을 포함한 YAML 파일의 경로\n",
    "dataset1 = fo.Dataset.from_dir(\n",
    "    dataset_dir=\"D:\\Data\\YOLO\",\n",
    "    dataset_type=fo.types.YOLOv5Dataset,\n",
    "    name= \"youtube\"\n",
    ")\n",
    "\n",
    "# # 두 번째 YOLOv5 데이터셋도 비슷한 방식으로 로드.\n",
    "# # 이 데이터셋은 다른 경로에 있는 이미지와 레이블을 사용.\n",
    "# # 여기에도 해당 데이터셋의 구조와 클래스 정보가 담긴 YAML 파일의 경로를 제공.\n",
    "# dataset2 = fo.Dataset.from_dir(\n",
    "#     data_path=r\"D:\\Data\\YOLO_1\\train\\images\",\n",
    "#     labels_path=r\"D:\\Data\\YOLO_1\\train\\labels\",\n",
    "#     dataset_type=fo.types.YOLOv5Dataset,\n",
    "#     yaml_path=r\"D:\\Data\\YOLO_1\\data.yaml\"\n",
    "#)"
   ]
  },
  {
   "cell_type": "code",
   "execution_count": 3,
   "id": "aa6cb3efceaa872e",
   "metadata": {
    "ExecuteTime": {
     "end_time": "2023-11-20T12:28:07.679745700Z",
     "start_time": "2023-11-20T12:28:07.650991500Z"
    },
    "collapsed": false
   },
   "outputs": [
    {
     "ename": "NameError",
     "evalue": "name 'dataset1' is not defined",
     "output_type": "error",
     "traceback": [
      "\u001b[1;31m---------------------------------------------------------------------------\u001b[0m",
      "\u001b[1;31mNameError\u001b[0m                                 Traceback (most recent call last)",
      "Cell \u001b[1;32mIn[3], line 9\u001b[0m\n\u001b[0;32m      1\u001b[0m \u001b[38;5;28;01mimport\u001b[39;00m \u001b[38;5;21;01mfiftyone\u001b[39;00m \u001b[38;5;28;01mas\u001b[39;00m \u001b[38;5;21;01mfo\u001b[39;00m\n\u001b[0;32m      3\u001b[0m \u001b[38;5;66;03m# 이미 로드된 `dataset1` 데이터셋에 다른 데이터셋을 병합합니다.\u001b[39;00m\n\u001b[0;32m      4\u001b[0m \u001b[38;5;66;03m# `merge_dir` 메소드를 사용하여 두 번째 데이터셋의 이미지와 레이블을 첫 번째 데이터셋에 추가합니다.\u001b[39;00m\n\u001b[0;32m      5\u001b[0m \u001b[38;5;66;03m# `data_path`는 두 번째 데이터셋의 이미지 파일들이 위치한 경로입니다.\u001b[39;00m\n\u001b[0;32m      6\u001b[0m \u001b[38;5;66;03m# `labels_path`는 두 번째 데이터셋의 YOLOv5 형식 레이블 파일들이 위치한 경로입니다.\u001b[39;00m\n\u001b[0;32m      7\u001b[0m \u001b[38;5;66;03m# `dataset_type`은 로드할 데이터셋의 형식을 지정합니다 (여기서는 YOLOv5).\u001b[39;00m\n\u001b[0;32m      8\u001b[0m \u001b[38;5;66;03m# `yaml_path`는 두 번째 데이터셋의 클래스 정보 등을 포함한 YAML 파일의 경로입니다.\u001b[39;00m\n\u001b[1;32m----> 9\u001b[0m \u001b[43mdataset1\u001b[49m\u001b[38;5;241m.\u001b[39mmerge_dir(\n\u001b[0;32m     10\u001b[0m     data_path\u001b[38;5;241m=\u001b[39m\u001b[38;5;124mr\u001b[39m\u001b[38;5;124m\"\u001b[39m\u001b[38;5;124mD:\u001b[39m\u001b[38;5;124m\\\u001b[39m\u001b[38;5;124mData\u001b[39m\u001b[38;5;124m\\\u001b[39m\u001b[38;5;124mYOLO_1\u001b[39m\u001b[38;5;124m\\\u001b[39m\u001b[38;5;124mtrain\u001b[39m\u001b[38;5;124m\\\u001b[39m\u001b[38;5;124mimages\u001b[39m\u001b[38;5;124m\"\u001b[39m,\n\u001b[0;32m     11\u001b[0m     labels_path\u001b[38;5;241m=\u001b[39m\u001b[38;5;124mr\u001b[39m\u001b[38;5;124m\"\u001b[39m\u001b[38;5;124mD:\u001b[39m\u001b[38;5;124m\\\u001b[39m\u001b[38;5;124mData\u001b[39m\u001b[38;5;124m\\\u001b[39m\u001b[38;5;124mYOLO_1\u001b[39m\u001b[38;5;124m\\\u001b[39m\u001b[38;5;124mtrain\u001b[39m\u001b[38;5;124m\\\u001b[39m\u001b[38;5;124mlabels\u001b[39m\u001b[38;5;124m\"\u001b[39m,\n\u001b[0;32m     12\u001b[0m     dataset_type\u001b[38;5;241m=\u001b[39mfo\u001b[38;5;241m.\u001b[39mtypes\u001b[38;5;241m.\u001b[39mYOLOv5Dataset,\n\u001b[0;32m     13\u001b[0m     yaml_path\u001b[38;5;241m=\u001b[39m\u001b[38;5;124mr\u001b[39m\u001b[38;5;124m\"\u001b[39m\u001b[38;5;124mD:\u001b[39m\u001b[38;5;124m\\\u001b[39m\u001b[38;5;124mData\u001b[39m\u001b[38;5;124m\\\u001b[39m\u001b[38;5;124mYOLO_1\u001b[39m\u001b[38;5;124m\\\u001b[39m\u001b[38;5;124mdata.yaml\u001b[39m\u001b[38;5;124m\"\u001b[39m\n\u001b[0;32m     14\u001b[0m )\n",
      "\u001b[1;31mNameError\u001b[0m: name 'dataset1' is not defined"
     ]
    }
   ],
   "source": [
    "import fiftyone as fo\n",
    "\n",
    "# 이미 로드된 `dataset1` 데이터셋에 다른 데이터셋을 병합.\n",
    "# `merge_dir` 메소드를 사용하여 두 번째 데이터셋의 이미지와 레이블을 첫 번째 데이터셋에 추가.\n",
    "# `data_path`는 두 번째 데이터셋의 이미지 파일들이 위치한 경로.\n",
    "# `labels_path`는 두 번째 데이터셋의 YOLOv5 형식 레이블 파일들이 위치한 경로.\n",
    "# `dataset_type`은 로드할 데이터셋의 형식을 지정\n",
    "# `yaml_path`는 두 번째 데이터셋의 클래스 정보 등을 포함한 YAML 파일의 경로.\n",
    "dataset1.merge_dir(\n",
    "    data_path=r\"D:\\Data\\YOLO_1\\train\\images\",\n",
    "    labels_path=r\"D:\\Data\\YOLO_1\\train\\labels\",\n",
    "    dataset_type=fo.types.YOLOv5Dataset,\n",
    "    yaml_path=r\"D:\\Data\\YOLO_1\\data.yaml\"\n",
    ")"
   ]
  },
  {
   "cell_type": "code",
   "execution_count": 18,
   "id": "3fab37dfd07c0e6a",
   "metadata": {
    "ExecuteTime": {
     "end_time": "2023-11-20T12:45:08.301717900Z",
     "start_time": "2023-11-20T12:45:06.604553500Z"
    },
    "collapsed": false
   },
   "outputs": [
    {
     "name": "stdout",
     "output_type": "stream",
     "text": [
      " 100% |█████████████████| 438/438 [1.5s elapsed, 0s remaining, 301.0 samples/s]         \n"
     ]
    }
   ],
   "source": [
    "import fiftyone as fo\n",
    "import fiftyone.zoo as foz\n",
    "\n",
    "\n",
    "name = \"test\"\n",
    "dataset_dir = r\"D:\\\\Data\\\\YOLO\"\n",
    "\n",
    "# train, validation, test 중 하나 로드\n",
    "splits = [\"train\"]\n",
    "\n",
    "# 경로에서 스플릿에 대한 Yolo v5 데이터셋 불러오기\n",
    "dataset = fo.Dataset(name)\n",
    "for split in splits:\n",
    "    dataset.add_dir(\n",
    "        dataset_dir=dataset_dir,\n",
    "        dataset_type=fo.types.YOLOv5Dataset,\n",
    "        split=split,\n",
    "        tags=split,\n",
    "        \n",
    "    )"
   ]
  },
  {
   "cell_type": "code",
   "execution_count": 20,
   "id": "96799223e8401ace",
   "metadata": {
    "ExecuteTime": {
     "end_time": "2023-11-20T12:56:42.916166200Z",
     "start_time": "2023-11-20T12:56:38.524074500Z"
    },
    "collapsed": false
   },
   "outputs": [
    {
     "name": "stdout",
     "output_type": "stream",
     "text": [
      " 100% |███████████████| 1060/1060 [3.6s elapsed, 0s remaining, 297.5 samples/s]      \n"
     ]
    }
   ],
   "source": [
    "dataset_dir2 = \"D://Data//YOLO_1\"\n",
    "\n",
    "dataset.merge_dir(\n",
    "    dataset_dir = dataset_dir2,\n",
    "    dataset_type = fo.types.YOLOv5Dataset,\n",
    "    split=split,\n",
    "    tags=split,\n",
    ")"
   ]
  },
  {
   "cell_type": "code",
   "execution_count": 21,
   "id": "f76359e689349b34",
   "metadata": {
    "ExecuteTime": {
     "end_time": "2023-11-20T12:58:40.783649600Z",
     "start_time": "2023-11-20T12:58:07.406519500Z"
    },
    "collapsed": false
   },
   "outputs": [
    {
     "name": "stdout",
     "output_type": "stream",
     "text": [
      "Directory 'D://Data//YOLO_merged' already exists; export will be merged with existing files\n",
      " 100% |███████████████| 1498/1498 [33.4s elapsed, 0s remaining, 49.9 samples/s]      \n"
     ]
    }
   ],
   "source": [
    "dataset.export(\n",
    "    export_dir=\"D://Data//YOLO_merged\",\n",
    "    split=\"train\",\n",
    "    dataset_type=fo.types.YOLOv5Dataset,\n",
    ")"
   ]
  },
  {
   "cell_type": "code",
   "execution_count": 27,
   "id": "2341b34502756602",
   "metadata": {
    "ExecuteTime": {
     "end_time": "2023-11-20T13:03:51.241865600Z",
     "start_time": "2023-11-20T13:03:49.037210800Z"
    },
    "collapsed": false
   },
   "outputs": [
    {
     "name": "stdout",
     "output_type": "stream",
     "text": [
      " 100% |█████████████████████| 0/0 [1.4ms elapsed, ? remaining, ? samples/s]  \n"
     ]
    }
   ],
   "source": [
    "import fiftyone as fo\n",
    "import fiftyone.zoo as foz\n",
    "\n",
    "\n",
    "name = \"openimagesv7-2\"\n",
    "dataset_dir = \"D://Data//OpenImagesV7//train\"\n",
    "\n",
    "splits = [\"train\"]\n",
    "\n",
    "dataset = fo.Dataset(name)\n",
    "for split in splits:\n",
    "    dataset.add_dir(\n",
    "        dataset_dir=dataset_dir,\n",
    "        dataset_type=fo.types.YOLOv5Dataset,\n",
    "        split=split,\n",
    "        tags=split,\n",
    "    )"
   ]
  },
  {
   "cell_type": "code",
   "execution_count": 1,
   "id": "8823b2b75decfe78",
   "metadata": {
    "ExecuteTime": {
     "end_time": "2023-11-20T16:12:06.679684600Z",
     "start_time": "2023-11-20T16:10:26.605237900Z"
    },
    "collapsed": false
   },
   "outputs": [
    {
     "name": "stdout",
     "output_type": "stream",
     "text": [
      "Downloading split 'train' to 'D://Data\\open-images-v7\\train' if necessary\n",
      "Necessary images already downloaded\n",
      "Existing download of split 'train' is sufficient\n",
      "Loading existing dataset 'open-images-v7-train'. To reload from disk, either delete the existing dataset or provide a custom `dataset_name` to use\n"
     ]
    }
   ],
   "source": [
    "import fiftyone as fo\n",
    "import fiftyone.zoo as foz\n",
    "import os\n",
    "from fiftyone import ViewField as F\n",
    "\n",
    "classes = [\n",
    "    \"Bowl\", \"Backpack\", \"Laptop\", \"Oven\", \"Toaster\", \"Mouse\", \"Bottle\",\n",
    "    \"Tennis racket\", \"Clock\", \"Tie\", \"Wine glass\", \"Spoon\", \"Scissors\",\n",
    "    \"Toothbrush\", \"Refrigerator\", \"Couch\", \"Chair\", \"Umbrella\", \"Knife\",\n",
    "    \"Suitcase\", \"Sunglasses\"\n",
    "]\n",
    "\n",
    "split = \"train\"\n",
    "\n",
    "dataset_dir = \"D://Data\"\n",
    "\n",
    "fo.config.dataset_zoo_dir = dataset_dir\n",
    "\n",
    "os.makedirs(dataset_dir, exist_ok=True)\n",
    "\n",
    "dataset = foz.load_zoo_dataset(\n",
    "    \"open-images-v7\",\n",
    "    split=split,\n",
    "    classes=classes,\n",
    "    label_types=[\"detections\"],\n",
    "    only_matching=True\n",
    ")\n"
   ]
  },
  {
   "cell_type": "code",
   "execution_count": 7,
   "id": "e37017da550a6814",
   "metadata": {
    "ExecuteTime": {
     "end_time": "2023-11-20T19:41:01.778189500Z",
     "start_time": "2023-11-20T17:49:36.926181500Z"
    },
    "collapsed": false
   },
   "outputs": [
    {
     "name": "stdout",
     "output_type": "stream",
     "text": [
      "Directory 'D://Data//open-images-v7' already exists; export will be merged with existing files\n",
      " 100% |█████████████| 81897/81897 [1.9h elapsed, 0s remaining, 1.7 samples/s]        \n"
     ]
    }
   ],
   "source": [
    "view = dataset.filter_labels(\"ground_truth\", \n",
    "                             fo.ViewField(\"label\").is_in(classes))\n",
    "\n",
    "view.export(\n",
    "    export_dir=\"D://Data//open-images-v7\",\n",
    "    dataset_type=fo.types.YOLOv5Dataset,\n",
    "    split=\"train\"\n",
    ")"
   ]
  },
  {
   "cell_type": "code",
   "execution_count": 35,
   "id": "4ef013fd974574ab",
   "metadata": {
    "ExecuteTime": {
     "end_time": "2023-11-20T14:45:20.243612200Z",
     "start_time": "2023-11-20T14:45:14.541162500Z"
    },
    "collapsed": false
   },
   "outputs": [
    {
     "name": "stdout",
     "output_type": "stream",
     "text": [
      " 100% |███████████████| 1498/1498 [3.6s elapsed, 0s remaining, 377.2 samples/s]      \n"
     ]
    }
   ],
   "source": [
    "import fiftyone as fo\n",
    "import fiftyone.zoo as foz\n",
    "\n",
    "\n",
    "name = \"youtube_merged2\"\n",
    "dataset_dir = \"D://Data//YOLO_merged\"\n",
    "\n",
    "splits = [\"train\"]\n",
    "\n",
    "dataset = fo.Dataset(name)\n",
    "for split in splits:\n",
    "    dataset.add_dir(\n",
    "        dataset_dir=dataset_dir,\n",
    "        dataset_type=fo.types.YOLOv5Dataset,\n",
    "        split=split,\n",
    "        tags=split,\n",
    "    )\n"
   ]
  },
  {
   "cell_type": "code",
   "execution_count": 36,
   "id": "7b4e77733246b1f",
   "metadata": {
    "ExecuteTime": {
     "end_time": "2023-11-20T14:49:22.790404500Z",
     "start_time": "2023-11-20T14:48:32.698063100Z"
    },
    "collapsed": false
   },
   "outputs": [
    {
     "name": "stdout",
     "output_type": "stream",
     "text": [
      " 100% |███████████████| 2807/2807 [47.0s elapsed, 0s remaining, 57.8 samples/s]      \n"
     ]
    }
   ],
   "source": [
    "dataset_dir2 = \"D:\\Data\\Coupang_YOLO\"\n",
    "\n",
    "dataset.merge_dir(\n",
    "    dataset_dir = dataset_dir2,\n",
    "    dataset_type = fo.types.YOLOv5Dataset,\n",
    "    split=split,\n",
    "    tags=split,\n",
    ")"
   ]
  },
  {
   "cell_type": "code",
   "execution_count": 37,
   "id": "be05fa6766125cbb",
   "metadata": {
    "ExecuteTime": {
     "end_time": "2023-11-20T14:53:42.608497100Z",
     "start_time": "2023-11-20T14:51:30.429498600Z"
    },
    "collapsed": false
   },
   "outputs": [
    {
     "name": "stdout",
     "output_type": "stream",
     "text": [
      "Directory 'D:\\Data\\custom' already exists; export will be merged with existing files\n",
      " 100% |███████████████| 4305/4305 [2.2m elapsed, 0s remaining, 24.4 samples/s]      \n"
     ]
    }
   ],
   "source": [
    "dataset.export(\n",
    "    export_dir=\"D:\\Data\\custom\",\n",
    "    split=\"train\",\n",
    "    dataset_type=fo.types.YOLOv5Dataset,\n",
    ")"
   ]
  },
  {
   "cell_type": "code",
   "execution_count": 8,
   "id": "4b9d6d5aa2045ea7",
   "metadata": {
    "ExecuteTime": {
     "end_time": "2023-11-20T19:51:24.168923300Z",
     "start_time": "2023-11-20T19:45:01.202706700Z"
    },
    "collapsed": false
   },
   "outputs": [
    {
     "name": "stdout",
     "output_type": "stream",
     "text": [
      " 100% |█████████████| 81897/81897 [6.0m elapsed, 0s remaining, 243.7 samples/s]       \n"
     ]
    }
   ],
   "source": [
    "import fiftyone as fo\n",
    "import fiftyone.zoo as foz\n",
    "\n",
    "\n",
    "name = \"merged_final\"\n",
    "dataset_dir = \"D:\\Data\\open-images-v7\"\n",
    "\n",
    "splits = [\"train\"]\n",
    "\n",
    "dataset = fo.Dataset(name)\n",
    "for split in splits:\n",
    "    dataset.add_dir(\n",
    "        dataset_dir=dataset_dir,\n",
    "        dataset_type=fo.types.YOLOv5Dataset,\n",
    "        split=split,\n",
    "        tags=split,\n",
    "    )\n"
   ]
  },
  {
   "cell_type": "code",
   "execution_count": 9,
   "id": "d1753bd81269c95c",
   "metadata": {
    "ExecuteTime": {
     "end_time": "2023-11-20T19:53:03.490443500Z",
     "start_time": "2023-11-20T19:52:26.173973500Z"
    },
    "collapsed": false
   },
   "outputs": [
    {
     "name": "stdout",
     "output_type": "stream",
     "text": [
      " 100% |███████████████| 4305/4305 [26.4s elapsed, 0s remaining, 162.4 samples/s]      \n"
     ]
    }
   ],
   "source": [
    "dataset_dir2 = \"D:\\Data\\custom\"\n",
    "\n",
    "dataset.merge_dir(\n",
    "    dataset_dir = dataset_dir2,\n",
    "    dataset_type = fo.types.YOLOv5Dataset,\n",
    "    split=split,\n",
    "    tags=split,\n",
    ")"
   ]
  },
  {
   "cell_type": "code",
   "execution_count": 10,
   "id": "51a773ee86448c51",
   "metadata": {
    "ExecuteTime": {
     "end_time": "2023-11-20T20:22:22.492271600Z",
     "start_time": "2023-11-20T19:53:32.410236500Z"
    },
    "collapsed": false
   },
   "outputs": [
    {
     "name": "stdout",
     "output_type": "stream",
     "text": [
      "Directory 'D:\\Data\\merged_final' already exists; export will be merged with existing files\n",
      " 100% |█████████████| 86202/86202 [28.8m elapsed, 0s remaining, 24.6 samples/s]      \n"
     ]
    }
   ],
   "source": [
    "dataset.export(\n",
    "    export_dir=\"D:\\Data\\merged_final\",\n",
    "    split=\"train\",\n",
    "    dataset_type=fo.types.YOLOv5Dataset,\n",
    ")"
   ]
  },
  {
   "cell_type": "code",
   "execution_count": 11,
   "id": "ac38bfc89ff8a8c3",
   "metadata": {
    "ExecuteTime": {
     "end_time": "2023-11-21T15:28:09.898479800Z",
     "start_time": "2023-11-21T15:21:20.642882700Z"
    },
    "collapsed": false
   },
   "outputs": [
    {
     "name": "stdout",
     "output_type": "stream",
     "text": [
      " 100% |█████████████| 86202/86202 [6.4m elapsed, 0s remaining, 300.1 samples/s]      \n"
     ]
    }
   ],
   "source": [
    "import fiftyone as fo\n",
    "\n",
    "dataset = fo.Dataset.from_dir(\n",
    "    dataset_dir=\"D://Data//merged_final\",\n",
    "    dataset_type=fo.types.YOLOv5Dataset\n",
    ")"
   ]
  },
  {
   "cell_type": "code",
   "execution_count": 14,
   "id": "976362a3c9e003e6",
   "metadata": {
    "ExecuteTime": {
     "end_time": "2023-11-21T15:33:37.097458500Z",
     "start_time": "2023-11-21T15:32:54.181866600Z"
    },
    "collapsed": false
   },
   "outputs": [
    {
     "name": "stdout",
     "output_type": "stream",
     "text": [
      "Downloading split 'validation' to 'D://Data\\open-images-v7\\validation' if necessary\n",
      "Downloading 'https://storage.googleapis.com/openimages/2018_04/validation/validation-images-with-rotation.csv' to 'D://Data\\open-images-v7\\validation\\metadata\\image_ids.csv'\n",
      "Downloading 'https://storage.googleapis.com/openimages/v5/class-descriptions-boxable.csv' to 'D://Data\\open-images-v7\\validation\\metadata\\classes.csv'\n",
      "Downloading 'https://storage.googleapis.com/openimages/2018_04/bbox_labels_600_hierarchy.json' to 'C:\\Users\\jhk16\\AppData\\Local\\Temp\\tmps_xe5c39\\metadata\\hierarchy.json'\n",
      "Downloading 'https://storage.googleapis.com/openimages/v5/validation-annotations-bbox.csv' to 'D://Data\\open-images-v7\\validation\\labels\\detections.csv'\n",
      "Downloading 1279 images\n",
      " 100% |█████████████████| 1279/1279 [35.7s elapsed, 0s remaining, 18.2 files/s]      \n",
      "Dataset info written to 'D://Data\\open-images-v7\\info.json'\n",
      "Loading 'open-images-v7' split 'validation'\n",
      " 100% |███████████████| 1279/1279 [1.7s elapsed, 0s remaining, 778.9 samples/s]         \n",
      "Dataset 'open-images-v7-validation' created\n"
     ]
    }
   ],
   "source": [
    "import fiftyone as fo\n",
    "import fiftyone.zoo as foz\n",
    "import os\n",
    "from fiftyone import ViewField as F\n",
    "\n",
    "\n",
    "classes = [\n",
    "    \"Bowl\", \"Backpack\", \"Laptop\", \"Oven\", \"Toaster\", \"Mouse\", \"Bottle\",\n",
    "    \"Tennis racket\", \"Clock\", \"Tie\", \"Wine glass\", \"Spoon\", \"Scissors\",\n",
    "    \"Toothbrush\", \"Refrigerator\", \"Couch\", \"Chair\", \"Umbrella\", \"Knife\",\n",
    "    \"Suitcase\", \"Sunglasses\"\n",
    "]\n",
    "\n",
    "split = \"validation\"\n",
    "\n",
    "dataset_dir = \"D://Data\"\n",
    "\n",
    "fo.config.dataset_zoo_dir = dataset_dir\n",
    "\n",
    "os.makedirs(dataset_dir, exist_ok=True)\n",
    "\n",
    "dataset = foz.load_zoo_dataset(\n",
    "    \"open-images-v7\",\n",
    "    split=split,\n",
    "    classes=classes,\n",
    "    label_types=[\"detections\"],\n",
    "    only_matching=True\n",
    ")\n"
   ]
  },
  {
   "cell_type": "code",
   "execution_count": 17,
   "id": "e76fac5e6c89e7a1",
   "metadata": {
    "ExecuteTime": {
     "end_time": "2023-11-21T15:41:31.263439800Z",
     "start_time": "2023-11-21T15:41:22.129730Z"
    },
    "collapsed": false
   },
   "outputs": [
    {
     "name": "stdout",
     "output_type": "stream",
     "text": [
      "Directory 'D://Data//open-images-v7' already exists; export will be merged with existing files\n",
      " 100% |███████████████| 1279/1279 [9.1s elapsed, 0s remaining, 102.5 samples/s]       \n"
     ]
    },
    {
     "ename": "ValueError",
     "evalue": "Aborting export of YOLOv5 split 'val' because its class list does not match the existing class list in 'D:\\Data\\open-images-v7\\dataset.yaml'.\nIf you are exporting multiple splits, you must provide a common class list via the `classes` argument",
     "output_type": "error",
     "traceback": [
      "\u001b[1;31m---------------------------------------------------------------------------\u001b[0m",
      "\u001b[1;31mValueError\u001b[0m                                Traceback (most recent call last)",
      "Cell \u001b[1;32mIn[17], line 5\u001b[0m\n\u001b[0;32m      1\u001b[0m view \u001b[38;5;241m=\u001b[39m dataset\u001b[38;5;241m.\u001b[39mfilter_labels(\u001b[38;5;124m\"\u001b[39m\u001b[38;5;124mground_truth\u001b[39m\u001b[38;5;124m\"\u001b[39m, \n\u001b[0;32m      2\u001b[0m                              fo\u001b[38;5;241m.\u001b[39mViewField(\u001b[38;5;124m\"\u001b[39m\u001b[38;5;124mlabel\u001b[39m\u001b[38;5;124m\"\u001b[39m)\u001b[38;5;241m.\u001b[39mis_in(classes))\n\u001b[0;32m      4\u001b[0m \u001b[38;5;66;03m# Export the dataset in YOLOv5 format\u001b[39;00m\n\u001b[1;32m----> 5\u001b[0m \u001b[43mview\u001b[49m\u001b[38;5;241;43m.\u001b[39;49m\u001b[43mexport\u001b[49m\u001b[43m(\u001b[49m\n\u001b[0;32m      6\u001b[0m \u001b[43m    \u001b[49m\u001b[43mexport_dir\u001b[49m\u001b[38;5;241;43m=\u001b[39;49m\u001b[38;5;124;43m\"\u001b[39;49m\u001b[38;5;124;43mD://Data//open-images-v7\u001b[39;49m\u001b[38;5;124;43m\"\u001b[39;49m\u001b[43m,\u001b[49m\u001b[43m  \u001b[49m\u001b[38;5;66;43;03m# Replace with your desired path\u001b[39;49;00m\n\u001b[0;32m      7\u001b[0m \u001b[43m    \u001b[49m\u001b[43mdataset_type\u001b[49m\u001b[38;5;241;43m=\u001b[39;49m\u001b[43mfo\u001b[49m\u001b[38;5;241;43m.\u001b[39;49m\u001b[43mtypes\u001b[49m\u001b[38;5;241;43m.\u001b[39;49m\u001b[43mYOLOv5Dataset\u001b[49m\u001b[43m,\u001b[49m\n\u001b[0;32m      8\u001b[0m \u001b[43m    \u001b[49m\u001b[43msplit\u001b[49m\u001b[38;5;241;43m=\u001b[39;49m\u001b[38;5;124;43m\"\u001b[39;49m\u001b[38;5;124;43mval\u001b[39;49m\u001b[38;5;124;43m\"\u001b[39;49m\u001b[43m,\u001b[49m\u001b[43m  \u001b[49m\u001b[38;5;66;43;03m# You can specify the split (train, val, test) if needed\u001b[39;49;00m\n\u001b[0;32m      9\u001b[0m \u001b[43m    \u001b[49m\u001b[43mclasses\u001b[49m\u001b[38;5;241;43m=\u001b[39;49m\u001b[43mclasses\u001b[49m\n\u001b[0;32m     10\u001b[0m \u001b[43m)\u001b[49m\n",
      "File \u001b[1;32m~\\PycharmProjects\\Wise_Ad-\\venv\\Lib\\site-packages\\fiftyone\\core\\collections.py:8151\u001b[0m, in \u001b[0;36mSampleCollection.export\u001b[1;34m(self, export_dir, dataset_type, data_path, labels_path, export_media, rel_dir, dataset_exporter, label_field, frame_labels_field, overwrite, **kwargs)\u001b[0m\n\u001b[0;32m   8148\u001b[0m     export_dir, _ \u001b[38;5;241m=\u001b[39m etau\u001b[38;5;241m.\u001b[39msplit_archive(archive_path)\n\u001b[0;32m   8150\u001b[0m \u001b[38;5;66;03m# Perform the export\u001b[39;00m\n\u001b[1;32m-> 8151\u001b[0m \u001b[43m_export\u001b[49m\u001b[43m(\u001b[49m\n\u001b[0;32m   8152\u001b[0m \u001b[43m    \u001b[49m\u001b[38;5;28;43mself\u001b[39;49m\u001b[43m,\u001b[49m\n\u001b[0;32m   8153\u001b[0m \u001b[43m    \u001b[49m\u001b[43mexport_dir\u001b[49m\u001b[38;5;241;43m=\u001b[39;49m\u001b[43mexport_dir\u001b[49m\u001b[43m,\u001b[49m\n\u001b[0;32m   8154\u001b[0m \u001b[43m    \u001b[49m\u001b[43mdataset_type\u001b[49m\u001b[38;5;241;43m=\u001b[39;49m\u001b[43mdataset_type\u001b[49m\u001b[43m,\u001b[49m\n\u001b[0;32m   8155\u001b[0m \u001b[43m    \u001b[49m\u001b[43mdata_path\u001b[49m\u001b[38;5;241;43m=\u001b[39;49m\u001b[43mdata_path\u001b[49m\u001b[43m,\u001b[49m\n\u001b[0;32m   8156\u001b[0m \u001b[43m    \u001b[49m\u001b[43mlabels_path\u001b[49m\u001b[38;5;241;43m=\u001b[39;49m\u001b[43mlabels_path\u001b[49m\u001b[43m,\u001b[49m\n\u001b[0;32m   8157\u001b[0m \u001b[43m    \u001b[49m\u001b[43mexport_media\u001b[49m\u001b[38;5;241;43m=\u001b[39;49m\u001b[43mexport_media\u001b[49m\u001b[43m,\u001b[49m\n\u001b[0;32m   8158\u001b[0m \u001b[43m    \u001b[49m\u001b[43mrel_dir\u001b[49m\u001b[38;5;241;43m=\u001b[39;49m\u001b[43mrel_dir\u001b[49m\u001b[43m,\u001b[49m\n\u001b[0;32m   8159\u001b[0m \u001b[43m    \u001b[49m\u001b[43mdataset_exporter\u001b[49m\u001b[38;5;241;43m=\u001b[39;49m\u001b[43mdataset_exporter\u001b[49m\u001b[43m,\u001b[49m\n\u001b[0;32m   8160\u001b[0m \u001b[43m    \u001b[49m\u001b[43mlabel_field\u001b[49m\u001b[38;5;241;43m=\u001b[39;49m\u001b[43mlabel_field\u001b[49m\u001b[43m,\u001b[49m\n\u001b[0;32m   8161\u001b[0m \u001b[43m    \u001b[49m\u001b[43mframe_labels_field\u001b[49m\u001b[38;5;241;43m=\u001b[39;49m\u001b[43mframe_labels_field\u001b[49m\u001b[43m,\u001b[49m\n\u001b[0;32m   8162\u001b[0m \u001b[43m    \u001b[49m\u001b[43moverwrite\u001b[49m\u001b[38;5;241;43m=\u001b[39;49m\u001b[43moverwrite\u001b[49m\u001b[43m,\u001b[49m\n\u001b[0;32m   8163\u001b[0m \u001b[43m    \u001b[49m\u001b[38;5;241;43m*\u001b[39;49m\u001b[38;5;241;43m*\u001b[39;49m\u001b[43mkwargs\u001b[49m\u001b[43m,\u001b[49m\n\u001b[0;32m   8164\u001b[0m \u001b[43m\u001b[49m\u001b[43m)\u001b[49m\n\u001b[0;32m   8166\u001b[0m \u001b[38;5;66;03m# Make archive, if requested\u001b[39;00m\n\u001b[0;32m   8167\u001b[0m \u001b[38;5;28;01mif\u001b[39;00m archive_path \u001b[38;5;129;01mis\u001b[39;00m \u001b[38;5;129;01mnot\u001b[39;00m \u001b[38;5;28;01mNone\u001b[39;00m:\n",
      "File \u001b[1;32m~\\PycharmProjects\\Wise_Ad-\\venv\\Lib\\site-packages\\fiftyone\\core\\collections.py:10702\u001b[0m, in \u001b[0;36m_export\u001b[1;34m(sample_collection, export_dir, dataset_type, data_path, labels_path, export_media, rel_dir, dataset_exporter, label_field, frame_labels_field, overwrite, **kwargs)\u001b[0m\n\u001b[0;32m  10696\u001b[0m         \u001b[38;5;28;01mraise\u001b[39;00m \u001b[38;5;167;01mValueError\u001b[39;00m(\n\u001b[0;32m  10697\u001b[0m             \u001b[38;5;124m\"\u001b[39m\u001b[38;5;124mUnable to locate compatible sample or frame-level \u001b[39m\u001b[38;5;124m\"\u001b[39m\n\u001b[0;32m  10698\u001b[0m             \u001b[38;5;124m\"\u001b[39m\u001b[38;5;124mfield(s) to export\u001b[39m\u001b[38;5;124m\"\u001b[39m\n\u001b[0;32m  10699\u001b[0m         )\n\u001b[0;32m  10701\u001b[0m \u001b[38;5;66;03m# Perform the export\u001b[39;00m\n\u001b[1;32m> 10702\u001b[0m \u001b[43mfoud\u001b[49m\u001b[38;5;241;43m.\u001b[39;49m\u001b[43mexport_samples\u001b[49m\u001b[43m(\u001b[49m\n\u001b[0;32m  10703\u001b[0m \u001b[43m    \u001b[49m\u001b[43msample_collection\u001b[49m\u001b[43m,\u001b[49m\n\u001b[0;32m  10704\u001b[0m \u001b[43m    \u001b[49m\u001b[43mdataset_exporter\u001b[49m\u001b[38;5;241;43m=\u001b[39;49m\u001b[43mdataset_exporter\u001b[49m\u001b[43m,\u001b[49m\n\u001b[0;32m  10705\u001b[0m \u001b[43m    \u001b[49m\u001b[43mlabel_field\u001b[49m\u001b[38;5;241;43m=\u001b[39;49m\u001b[43mlabel_field\u001b[49m\u001b[43m,\u001b[49m\n\u001b[0;32m  10706\u001b[0m \u001b[43m    \u001b[49m\u001b[43mframe_labels_field\u001b[49m\u001b[38;5;241;43m=\u001b[39;49m\u001b[43mframe_labels_field\u001b[49m\u001b[43m,\u001b[49m\n\u001b[0;32m  10707\u001b[0m \u001b[43m    \u001b[49m\u001b[38;5;241;43m*\u001b[39;49m\u001b[38;5;241;43m*\u001b[39;49m\u001b[43mkwargs\u001b[49m\u001b[43m,\u001b[49m\n\u001b[0;32m  10708\u001b[0m \u001b[43m\u001b[49m\u001b[43m)\u001b[49m\n",
      "File \u001b[1;32m~\\PycharmProjects\\Wise_Ad-\\venv\\Lib\\site-packages\\fiftyone\\utils\\data\\exporters.py:357\u001b[0m, in \u001b[0;36mexport_samples\u001b[1;34m(samples, export_dir, dataset_type, data_path, labels_path, export_media, rel_dir, dataset_exporter, label_field, frame_labels_field, num_samples, **kwargs)\u001b[0m\n\u001b[0;32m    352\u001b[0m \u001b[38;5;28;01melse\u001b[39;00m:\n\u001b[0;32m    353\u001b[0m     \u001b[38;5;28;01mraise\u001b[39;00m \u001b[38;5;167;01mValueError\u001b[39;00m(\n\u001b[0;32m    354\u001b[0m         \u001b[38;5;124m\"\u001b[39m\u001b[38;5;124mUnsupported DatasetExporter \u001b[39m\u001b[38;5;132;01m%s\u001b[39;00m\u001b[38;5;124m\"\u001b[39m \u001b[38;5;241m%\u001b[39m \u001b[38;5;28mtype\u001b[39m(dataset_exporter)\n\u001b[0;32m    355\u001b[0m     )\n\u001b[1;32m--> 357\u001b[0m \u001b[43mwrite_dataset\u001b[49m\u001b[43m(\u001b[49m\n\u001b[0;32m    358\u001b[0m \u001b[43m    \u001b[49m\u001b[43msamples\u001b[49m\u001b[43m,\u001b[49m\n\u001b[0;32m    359\u001b[0m \u001b[43m    \u001b[49m\u001b[43msample_parser\u001b[49m\u001b[43m,\u001b[49m\n\u001b[0;32m    360\u001b[0m \u001b[43m    \u001b[49m\u001b[43mdataset_exporter\u001b[49m\u001b[43m,\u001b[49m\n\u001b[0;32m    361\u001b[0m \u001b[43m    \u001b[49m\u001b[43mnum_samples\u001b[49m\u001b[38;5;241;43m=\u001b[39;49m\u001b[43mnum_samples\u001b[49m\u001b[43m,\u001b[49m\n\u001b[0;32m    362\u001b[0m \u001b[43m    \u001b[49m\u001b[43msample_collection\u001b[49m\u001b[38;5;241;43m=\u001b[39;49m\u001b[43msample_collection\u001b[49m\u001b[43m,\u001b[49m\n\u001b[0;32m    363\u001b[0m \u001b[43m\u001b[49m\u001b[43m)\u001b[49m\n",
      "File \u001b[1;32m~\\PycharmProjects\\Wise_Ad-\\venv\\Lib\\site-packages\\fiftyone\\utils\\data\\exporters.py:417\u001b[0m, in \u001b[0;36mwrite_dataset\u001b[1;34m(samples, sample_parser, dataset_exporter, num_samples, sample_collection)\u001b[0m\n\u001b[0;32m    407\u001b[0m     _write_group_dataset(\n\u001b[0;32m    408\u001b[0m         dataset_exporter,\n\u001b[0;32m    409\u001b[0m         samples,\n\u001b[0;32m    410\u001b[0m         num_samples\u001b[38;5;241m=\u001b[39mnum_samples,\n\u001b[0;32m    411\u001b[0m         sample_collection\u001b[38;5;241m=\u001b[39msample_collection,\n\u001b[0;32m    412\u001b[0m     )\n\u001b[0;32m    413\u001b[0m \u001b[38;5;28;01melif\u001b[39;00m \u001b[38;5;28misinstance\u001b[39m(\n\u001b[0;32m    414\u001b[0m     dataset_exporter,\n\u001b[0;32m    415\u001b[0m     (UnlabeledImageDatasetExporter, LabeledImageDatasetExporter),\n\u001b[0;32m    416\u001b[0m ):\n\u001b[1;32m--> 417\u001b[0m     \u001b[43m_write_image_dataset\u001b[49m\u001b[43m(\u001b[49m\n\u001b[0;32m    418\u001b[0m \u001b[43m        \u001b[49m\u001b[43mdataset_exporter\u001b[49m\u001b[43m,\u001b[49m\n\u001b[0;32m    419\u001b[0m \u001b[43m        \u001b[49m\u001b[43msamples\u001b[49m\u001b[43m,\u001b[49m\n\u001b[0;32m    420\u001b[0m \u001b[43m        \u001b[49m\u001b[43msample_parser\u001b[49m\u001b[43m,\u001b[49m\n\u001b[0;32m    421\u001b[0m \u001b[43m        \u001b[49m\u001b[43mnum_samples\u001b[49m\u001b[38;5;241;43m=\u001b[39;49m\u001b[43mnum_samples\u001b[49m\u001b[43m,\u001b[49m\n\u001b[0;32m    422\u001b[0m \u001b[43m        \u001b[49m\u001b[43msample_collection\u001b[49m\u001b[38;5;241;43m=\u001b[39;49m\u001b[43msample_collection\u001b[49m\u001b[43m,\u001b[49m\n\u001b[0;32m    423\u001b[0m \u001b[43m    \u001b[49m\u001b[43m)\u001b[49m\n\u001b[0;32m    424\u001b[0m \u001b[38;5;28;01melif\u001b[39;00m \u001b[38;5;28misinstance\u001b[39m(\n\u001b[0;32m    425\u001b[0m     dataset_exporter,\n\u001b[0;32m    426\u001b[0m     (UnlabeledVideoDatasetExporter, LabeledVideoDatasetExporter),\n\u001b[0;32m    427\u001b[0m ):\n\u001b[0;32m    428\u001b[0m     _write_video_dataset(\n\u001b[0;32m    429\u001b[0m         dataset_exporter,\n\u001b[0;32m    430\u001b[0m         samples,\n\u001b[1;32m   (...)\u001b[0m\n\u001b[0;32m    433\u001b[0m         sample_collection\u001b[38;5;241m=\u001b[39msample_collection,\n\u001b[0;32m    434\u001b[0m     )\n",
      "File \u001b[1;32m~\\PycharmProjects\\Wise_Ad-\\venv\\Lib\\site-packages\\fiftyone\\utils\\data\\exporters.py:872\u001b[0m, in \u001b[0;36m_write_image_dataset\u001b[1;34m(dataset_exporter, samples, sample_parser, num_samples, sample_collection)\u001b[0m\n\u001b[0;32m    869\u001b[0m labeled_images \u001b[38;5;241m=\u001b[39m \u001b[38;5;28misinstance\u001b[39m(dataset_exporter, LabeledImageDatasetExporter)\n\u001b[0;32m    871\u001b[0m \u001b[38;5;28;01mwith\u001b[39;00m fou\u001b[38;5;241m.\u001b[39mProgressBar(total\u001b[38;5;241m=\u001b[39mnum_samples) \u001b[38;5;28;01mas\u001b[39;00m pb:\n\u001b[1;32m--> 872\u001b[0m \u001b[43m    \u001b[49m\u001b[38;5;28;43;01mwith\u001b[39;49;00m\u001b[43m \u001b[49m\u001b[43mdataset_exporter\u001b[49m\u001b[43m:\u001b[49m\n\u001b[0;32m    873\u001b[0m \u001b[43m        \u001b[49m\u001b[38;5;28;43;01mif\u001b[39;49;00m\u001b[43m \u001b[49m\u001b[43msample_collection\u001b[49m\u001b[43m \u001b[49m\u001b[38;5;129;43;01mis\u001b[39;49;00m\u001b[43m \u001b[49m\u001b[38;5;129;43;01mnot\u001b[39;49;00m\u001b[43m \u001b[49m\u001b[38;5;28;43;01mNone\u001b[39;49;00m\u001b[43m:\u001b[49m\n\u001b[0;32m    874\u001b[0m \u001b[43m            \u001b[49m\u001b[43mdataset_exporter\u001b[49m\u001b[38;5;241;43m.\u001b[39;49m\u001b[43mlog_collection\u001b[49m\u001b[43m(\u001b[49m\u001b[43msample_collection\u001b[49m\u001b[43m)\u001b[49m\n",
      "File \u001b[1;32m~\\PycharmProjects\\Wise_Ad-\\venv\\Lib\\site-packages\\fiftyone\\utils\\data\\exporters.py:1301\u001b[0m, in \u001b[0;36mDatasetExporter.__exit__\u001b[1;34m(self, *args)\u001b[0m\n\u001b[0;32m   1300\u001b[0m \u001b[38;5;28;01mdef\u001b[39;00m \u001b[38;5;21m__exit__\u001b[39m(\u001b[38;5;28mself\u001b[39m, \u001b[38;5;241m*\u001b[39margs):\n\u001b[1;32m-> 1301\u001b[0m     \u001b[38;5;28;43mself\u001b[39;49m\u001b[38;5;241;43m.\u001b[39;49m\u001b[43mclose\u001b[49m\u001b[43m(\u001b[49m\u001b[38;5;241;43m*\u001b[39;49m\u001b[43margs\u001b[49m\u001b[43m)\u001b[49m\n",
      "File \u001b[1;32m~\\PycharmProjects\\Wise_Ad-\\venv\\Lib\\site-packages\\fiftyone\\utils\\yolo.py:935\u001b[0m, in \u001b[0;36mYOLOv5DatasetExporter.close\u001b[1;34m(self, *args)\u001b[0m\n\u001b[0;32m    932\u001b[0m     classes \u001b[38;5;241m=\u001b[39m \u001b[38;5;28mlist\u001b[39m(\u001b[38;5;28mself\u001b[39m\u001b[38;5;241m.\u001b[39mclasses)\n\u001b[0;32m    934\u001b[0m \u001b[38;5;28;01mif\u001b[39;00m \u001b[38;5;124m\"\u001b[39m\u001b[38;5;124mnames\u001b[39m\u001b[38;5;124m\"\u001b[39m \u001b[38;5;129;01min\u001b[39;00m d \u001b[38;5;129;01mand\u001b[39;00m classes \u001b[38;5;241m!=\u001b[39m _parse_yolo_classes(d[\u001b[38;5;124m\"\u001b[39m\u001b[38;5;124mnames\u001b[39m\u001b[38;5;124m\"\u001b[39m]):\n\u001b[1;32m--> 935\u001b[0m     \u001b[38;5;28;01mraise\u001b[39;00m \u001b[38;5;167;01mValueError\u001b[39;00m(\n\u001b[0;32m    936\u001b[0m         \u001b[38;5;124m\"\u001b[39m\u001b[38;5;124mAborting export of YOLOv5 split \u001b[39m\u001b[38;5;124m'\u001b[39m\u001b[38;5;132;01m%s\u001b[39;00m\u001b[38;5;124m'\u001b[39m\u001b[38;5;124m because its class list \u001b[39m\u001b[38;5;124m\"\u001b[39m\n\u001b[0;32m    937\u001b[0m         \u001b[38;5;124m\"\u001b[39m\u001b[38;5;124mdoes not match the existing class list in \u001b[39m\u001b[38;5;124m'\u001b[39m\u001b[38;5;132;01m%s\u001b[39;00m\u001b[38;5;124m'\u001b[39m\u001b[38;5;124m.\u001b[39m\u001b[38;5;130;01m\\n\u001b[39;00m\u001b[38;5;124mIf you are \u001b[39m\u001b[38;5;124m\"\u001b[39m\n\u001b[0;32m    938\u001b[0m         \u001b[38;5;124m\"\u001b[39m\u001b[38;5;124mexporting multiple splits, you must provide a common class \u001b[39m\u001b[38;5;124m\"\u001b[39m\n\u001b[0;32m    939\u001b[0m         \u001b[38;5;124m\"\u001b[39m\u001b[38;5;124mlist via the `classes` argument\u001b[39m\u001b[38;5;124m\"\u001b[39m\n\u001b[0;32m    940\u001b[0m         \u001b[38;5;241m%\u001b[39m (\u001b[38;5;28mself\u001b[39m\u001b[38;5;241m.\u001b[39msplit, \u001b[38;5;28mself\u001b[39m\u001b[38;5;241m.\u001b[39myaml_path)\n\u001b[0;32m    941\u001b[0m     )\n\u001b[0;32m    943\u001b[0m \u001b[38;5;28;01mif\u001b[39;00m \u001b[38;5;28mself\u001b[39m\u001b[38;5;241m.\u001b[39minclude_path:\n\u001b[0;32m    944\u001b[0m     d[\u001b[38;5;124m\"\u001b[39m\u001b[38;5;124mpath\u001b[39m\u001b[38;5;124m\"\u001b[39m] \u001b[38;5;241m=\u001b[39m os\u001b[38;5;241m.\u001b[39mpath\u001b[38;5;241m.\u001b[39mdirname(\u001b[38;5;28mself\u001b[39m\u001b[38;5;241m.\u001b[39myaml_path)\n",
      "\u001b[1;31mValueError\u001b[0m: Aborting export of YOLOv5 split 'val' because its class list does not match the existing class list in 'D:\\Data\\open-images-v7\\dataset.yaml'.\nIf you are exporting multiple splits, you must provide a common class list via the `classes` argument"
     ]
    }
   ],
   "source": [
    "view = dataset.filter_labels(\"ground_truth\", \n",
    "                             fo.ViewField(\"label\").is_in(classes))\n",
    "\n",
    "view.export(\n",
    "    export_dir=\"D://Data//open-images-v7\",\n",
    "    dataset_type=fo.types.YOLOv5Dataset,\n",
    "    split=\"val\",\n",
    "    classes=classes\n",
    ")"
   ]
  }
 ],
 "metadata": {
  "kernelspec": {
   "display_name": "Python 3 (ipykernel)",
   "language": "python",
   "name": "python3"
  },
  "language_info": {
   "codemirror_mode": {
    "name": "ipython",
    "version": 3
   },
   "file_extension": ".py",
   "mimetype": "text/x-python",
   "name": "python",
   "nbconvert_exporter": "python",
   "pygments_lexer": "ipython3",
   "version": "3.11.6"
  }
 },
 "nbformat": 4,
 "nbformat_minor": 5
}
