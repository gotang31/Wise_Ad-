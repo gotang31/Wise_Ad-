{
 "cells": [
  {
   "cell_type": "code",
   "execution_count": null,
   "id": "initial_id",
   "metadata": {
    "collapsed": true
   },
   "outputs": [],
   "source": [
    "from getUrl import *\n",
    "from getInfo import *\n",
    "import os\n",
    "import json\n",
    "from urllib.request import urlretrieve, urlopen\n",
    "import re\n",
    "\n",
    "def clean_filename(title):\n",
    "    # 파일 이름에서 특수 문자와 공백을 제거하는 함수\n",
    "    cleaned_title = re.sub(r'[\\/:*?\"<>|\\s]', '', title)\n",
    "    return cleaned_title\n",
    "\n",
    "def extract_jpeg_urls(soup):\n",
    "    # HTML 내용에서 '.jpeg' URL을 추출하는 함수\n",
    "    # Convert the soup object to a string\n",
    "    html_content = str(soup)\n",
    "\n",
    "    # Use regular expression to find all occurrences of \"origin\":\"//(image URL).jpeg\"\n",
    "    # and capture only the //(image URL).jpeg part\n",
    "    matches = re.findall(r'\"origin\":\"(//[^\"]+\\.jpeg)\"', html_content)\n",
    "\n",
    "    # Return the list of extracted .jpeg URLs\n",
    "    return matches\n",
    "\n",
    "def downloadimg(df):\n",
    "    # DataFrame의 각 행에 대해 이미지를 다운로드하는 함수\n",
    "    for index, row in df.iterrows():\n",
    "        # DataFrame의 각 행을 순회\n",
    "        link = row['Link']\n",
    "        # 현재 행의 'Link' 값을 가져옴\n",
    "        name = clean_filename(row['Name'])\n",
    "        # 'Name' 값을 정제하여 파일 이름으로 사용\n",
    "\n",
    "        text = getres(link)\n",
    "        # 링크로부터 HTML 내용을 가져옴\n",
    "        soup = BeautifulSoup(text, 'html5lib')\n",
    "        # BeautifulSoup을 사용하여 HTML 파싱\n",
    "        jpeg_urls = extract_jpeg_urls(soup)\n",
    "        # 파싱된 HTML에서 JPEG URL 추출\n",
    "\n",
    "        for url in jpeg_urls:\n",
    "            # 추출된 JPEG URL들을 순회\n",
    "            filename = url.split('/')[-1]\n",
    "            # URL의 마지막 부분을 파일명으로 사용\n",
    "\n",
    "            fdir = f'.//data//sweatshirt//{name}'\n",
    "            # 저장할 디렉토리 경로 설정\n",
    "            if not os.path.exists(fdir):\n",
    "                # 디렉토리가 존재하지 않으면 새로 생성\n",
    "                os.makedirs(fdir)\n",
    "\n",
    "            file_path = os.path.join(fdir, filename)\n",
    "            # 최종 파일 경로 조합\n",
    "            urlretrieve(url, file_path)\n",
    "            # 이미지를 다운로드하여 지정된 경로에 저장\n",
    "            print(f\"Downloaded {filename}\")\n",
    "            # 다운로드 완료 메시지 출력"
   ]
  }
 ],
 "metadata": {
  "kernelspec": {
   "display_name": "Python 3",
   "language": "python",
   "name": "python3"
  },
  "language_info": {
   "codemirror_mode": {
    "name": "ipython",
    "version": 2
   },
   "file_extension": ".py",
   "mimetype": "text/x-python",
   "name": "python",
   "nbconvert_exporter": "python",
   "pygments_lexer": "ipython2",
   "version": "2.7.6"
  }
 },
 "nbformat": 4,
 "nbformat_minor": 5
}
