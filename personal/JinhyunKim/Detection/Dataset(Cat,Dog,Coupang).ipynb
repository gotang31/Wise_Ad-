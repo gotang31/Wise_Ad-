{
 "cells": [
  {
   "cell_type": "markdown",
   "id": "83168518-57e0-42bc-96e2-af1d86303537",
   "metadata": {
    "collapsed": false
   },
   "source": [
    "# Dataset 준비"
   ]
  },
  {
   "cell_type": "markdown",
   "source": [
    "## 1. Downloading Custom Labeled Data from Roboflow"
   ],
   "metadata": {
    "collapsed": false
   },
   "id": "d3b86083f3ec7ff2"
  },
  {
   "cell_type": "code",
   "execution_count": 1,
   "outputs": [
    {
     "name": "stdout",
     "output_type": "stream",
     "text": [
      "Collecting roboflow\n",
      "  Downloading roboflow-1.1.9-py3-none-any.whl.metadata (9.1 kB)\n",
      "Requirement already satisfied: certifi==2023.7.22 in c:\\users\\jhk16\\pycharmprojects\\wise_ad-\\venv\\lib\\site-packages (from roboflow) (2023.7.22)\n",
      "Collecting chardet==4.0.0 (from roboflow)\n",
      "  Downloading chardet-4.0.0-py2.py3-none-any.whl (178 kB)\n",
      "     ---------------------------------------- 0.0/178.7 kB ? eta -:--:--\n",
      "     -- ------------------------------------- 10.2/178.7 kB ? eta -:--:--\n",
      "     -------------------------------------- 178.7/178.7 kB 3.6 MB/s eta 0:00:00\n",
      "Collecting cycler==0.10.0 (from roboflow)\n",
      "  Downloading cycler-0.10.0-py2.py3-none-any.whl (6.5 kB)\n",
      "Collecting idna==2.10 (from roboflow)\n",
      "  Downloading idna-2.10-py2.py3-none-any.whl (58 kB)\n",
      "     ---------------------------------------- 0.0/58.8 kB ? eta -:--:--\n",
      "     ---------------------------------------- 58.8/58.8 kB ? eta 0:00:00\n",
      "Requirement already satisfied: kiwisolver>=1.3.1 in c:\\users\\jhk16\\pycharmprojects\\wise_ad-\\venv\\lib\\site-packages (from roboflow) (1.4.5)\n",
      "Requirement already satisfied: matplotlib in c:\\users\\jhk16\\pycharmprojects\\wise_ad-\\venv\\lib\\site-packages (from roboflow) (3.8.1)\n",
      "Requirement already satisfied: numpy>=1.18.5 in c:\\users\\jhk16\\pycharmprojects\\wise_ad-\\venv\\lib\\site-packages (from roboflow) (1.26.1)\n",
      "Collecting opencv-python-headless==4.8.0.74 (from roboflow)\n",
      "  Downloading opencv_python_headless-4.8.0.74-cp37-abi3-win_amd64.whl.metadata (19 kB)\n",
      "Requirement already satisfied: Pillow>=7.1.2 in c:\\users\\jhk16\\pycharmprojects\\wise_ad-\\venv\\lib\\site-packages (from roboflow) (10.0.1)\n",
      "Collecting pyparsing==2.4.7 (from roboflow)\n",
      "  Downloading pyparsing-2.4.7-py2.py3-none-any.whl (67 kB)\n",
      "     ---------------------------------------- 0.0/67.8 kB ? eta -:--:--\n",
      "     ---------------------------------------- 67.8/67.8 kB 3.6 MB/s eta 0:00:00\n",
      "Requirement already satisfied: python-dateutil in c:\\users\\jhk16\\pycharmprojects\\wise_ad-\\venv\\lib\\site-packages (from roboflow) (2.8.2)\n",
      "Collecting python-dotenv (from roboflow)\n",
      "  Downloading python_dotenv-1.0.0-py3-none-any.whl (19 kB)\n",
      "Requirement already satisfied: requests in c:\\users\\jhk16\\pycharmprojects\\wise_ad-\\venv\\lib\\site-packages (from roboflow) (2.31.0)\n",
      "Requirement already satisfied: six in c:\\users\\jhk16\\pycharmprojects\\wise_ad-\\venv\\lib\\site-packages (from roboflow) (1.16.0)\n",
      "Collecting supervision (from roboflow)\n",
      "  Downloading supervision-0.16.0-py3-none-any.whl.metadata (14 kB)\n",
      "Requirement already satisfied: urllib3>=1.26.6 in c:\\users\\jhk16\\pycharmprojects\\wise_ad-\\venv\\lib\\site-packages (from roboflow) (1.26.18)\n",
      "Requirement already satisfied: tqdm>=4.41.0 in c:\\users\\jhk16\\pycharmprojects\\wise_ad-\\venv\\lib\\site-packages (from roboflow) (4.66.1)\n",
      "Requirement already satisfied: PyYAML>=5.3.1 in c:\\users\\jhk16\\pycharmprojects\\wise_ad-\\venv\\lib\\site-packages (from roboflow) (6.0.1)\n",
      "Collecting requests-toolbelt (from roboflow)\n",
      "  Using cached requests_toolbelt-1.0.0-py2.py3-none-any.whl (54 kB)\n",
      "Collecting python-magic (from roboflow)\n",
      "  Downloading python_magic-0.4.27-py2.py3-none-any.whl (13 kB)\n",
      "Requirement already satisfied: colorama in c:\\users\\jhk16\\pycharmprojects\\wise_ad-\\venv\\lib\\site-packages (from tqdm>=4.41.0->roboflow) (0.4.6)\n",
      "Requirement already satisfied: contourpy>=1.0.1 in c:\\users\\jhk16\\pycharmprojects\\wise_ad-\\venv\\lib\\site-packages (from matplotlib->roboflow) (1.2.0)\n",
      "Requirement already satisfied: fonttools>=4.22.0 in c:\\users\\jhk16\\pycharmprojects\\wise_ad-\\venv\\lib\\site-packages (from matplotlib->roboflow) (4.44.3)\n",
      "Requirement already satisfied: packaging>=20.0 in c:\\users\\jhk16\\pycharmprojects\\wise_ad-\\venv\\lib\\site-packages (from matplotlib->roboflow) (23.2)\n",
      "Requirement already satisfied: charset-normalizer<4,>=2 in c:\\users\\jhk16\\pycharmprojects\\wise_ad-\\venv\\lib\\site-packages (from requests->roboflow) (3.3.2)\n",
      "Requirement already satisfied: scipy<2.0.0,>=1.9.0 in c:\\users\\jhk16\\pycharmprojects\\wise_ad-\\venv\\lib\\site-packages (from supervision->roboflow) (1.11.3)\n",
      "Downloading roboflow-1.1.9-py3-none-any.whl (63 kB)\n",
      "   ---------------------------------------- 0.0/63.3 kB ? eta -:--:--\n",
      "   ---------------------------------------- 63.3/63.3 kB 3.3 MB/s eta 0:00:00\n",
      "Downloading opencv_python_headless-4.8.0.74-cp37-abi3-win_amd64.whl (38.0 MB)\n",
      "   ---------------------------------------- 0.0/38.0 MB ? eta -:--:--\n",
      "   - -------------------------------------- 1.6/38.0 MB 34.9 MB/s eta 0:00:02\n",
      "   --- ------------------------------------ 3.1/38.0 MB 40.2 MB/s eta 0:00:01\n",
      "   ----- ---------------------------------- 4.9/38.0 MB 35.1 MB/s eta 0:00:01\n",
      "   -------- ------------------------------- 7.8/38.0 MB 41.7 MB/s eta 0:00:01\n",
      "   ----------- ---------------------------- 10.7/38.0 MB 46.7 MB/s eta 0:00:01\n",
      "   -------------- ------------------------- 13.6/38.0 MB 59.5 MB/s eta 0:00:01\n",
      "   ----------------- ---------------------- 16.6/38.0 MB 59.5 MB/s eta 0:00:01\n",
      "   -------------------- ------------------- 19.5/38.0 MB 59.5 MB/s eta 0:00:01\n",
      "   ----------------------- ---------------- 22.4/38.0 MB 59.8 MB/s eta 0:00:01\n",
      "   -------------------------- ------------- 25.3/38.0 MB 59.5 MB/s eta 0:00:01\n",
      "   ----------------------------- ---------- 28.3/38.0 MB 59.5 MB/s eta 0:00:01\n",
      "   -------------------------------- ------- 31.2/38.0 MB 59.5 MB/s eta 0:00:01\n",
      "   ----------------------------------- ---- 34.0/38.0 MB 59.5 MB/s eta 0:00:01\n",
      "   -------------------------------------- - 36.9/38.0 MB 59.5 MB/s eta 0:00:01\n",
      "   ---------------------------------------  37.9/38.0 MB 59.8 MB/s eta 0:00:01\n",
      "   ---------------------------------------- 38.0/38.0 MB 50.4 MB/s eta 0:00:00\n",
      "Downloading supervision-0.16.0-py3-none-any.whl (72 kB)\n",
      "   ---------------------------------------- 0.0/72.2 kB ? eta -:--:--\n",
      "   ---------------------------------------- 72.2/72.2 kB ? eta 0:00:00\n",
      "Installing collected packages: python-magic, python-dotenv, pyparsing, opencv-python-headless, idna, cycler, chardet, supervision, requests-toolbelt, roboflow\n",
      "  Attempting uninstall: pyparsing\n",
      "    Found existing installation: pyparsing 3.1.1\n",
      "    Uninstalling pyparsing-3.1.1:\n",
      "      Successfully uninstalled pyparsing-3.1.1\n",
      "  Attempting uninstall: opencv-python-headless\n",
      "    Found existing installation: opencv-python-headless 4.8.1.78\n",
      "    Uninstalling opencv-python-headless-4.8.1.78:\n",
      "      Successfully uninstalled opencv-python-headless-4.8.1.78\n",
      "  Attempting uninstall: idna\n",
      "    Found existing installation: idna 3.4\n",
      "    Uninstalling idna-3.4:\n",
      "      Successfully uninstalled idna-3.4\n",
      "  Attempting uninstall: cycler\n",
      "    Found existing installation: cycler 0.12.1\n",
      "    Uninstalling cycler-0.12.1:\n",
      "      Successfully uninstalled cycler-0.12.1\n",
      "Successfully installed chardet-4.0.0 cycler-0.10.0 idna-2.10 opencv-python-headless-4.8.0.74 pyparsing-2.4.7 python-dotenv-1.0.0 python-magic-0.4.27 requests-toolbelt-1.0.0 roboflow-1.1.9 supervision-0.16.0\n"
     ]
    }
   ],
   "source": [
    "!pip install roboflow"
   ],
   "metadata": {
    "collapsed": false,
    "ExecuteTime": {
     "end_time": "2023-11-22T01:57:40.474007Z",
     "start_time": "2023-11-22T01:57:32.996478400Z"
    }
   },
   "id": "f0ea0625039009a5"
  },
  {
   "cell_type": "code",
   "execution_count": 2,
   "outputs": [
    {
     "name": "stdout",
     "output_type": "stream",
     "text": [
      "loading Roboflow workspace...\n",
      "loading Roboflow project...\n",
      "Dependency ultralytics==8.0.196 is required but found version=8.0.215, to fix: `pip install ultralytics==8.0.196`\n"
     ]
    },
    {
     "name": "stderr",
     "output_type": "stream",
     "text": [
      "Downloading Dataset Version Zip in Coupang_Sweatshirt_2000-5 to yolov8:: 100%|██████████| 83206/83206 [00:04<00:00, 18279.59it/s]"
     ]
    },
    {
     "name": "stdout",
     "output_type": "stream",
     "text": []
    },
    {
     "name": "stderr",
     "output_type": "stream",
     "text": [
      "\n",
      "Extracting Dataset Version Zip to Coupang_Sweatshirt_2000-5 in yolov8:: 100%|██████████| 5626/5626 [00:02<00:00, 1963.55it/s]\n"
     ]
    }
   ],
   "source": [
    "# Coupang Dataset for YOLOv8\n",
    "from roboflow import Roboflow\n",
    "rf = Roboflow(api_key=\"rYBl8XHVMjJdpPIT67zF\")\n",
    "project = rf.workspace(\"inisw91\").project(\"coupang_sweatshirt_2000\")\n",
    "dataset = project.version(5).download(\"yolov8\")"
   ],
   "metadata": {
    "collapsed": false,
    "ExecuteTime": {
     "end_time": "2023-11-22T01:59:02.196604300Z",
     "start_time": "2023-11-22T01:58:40.753918Z"
    }
   },
   "id": "ab38f1f2e89ab1d5"
  },
  {
   "cell_type": "code",
   "execution_count": 4,
   "outputs": [
    {
     "name": "stdout",
     "output_type": "stream",
     "text": [
      "loading Roboflow workspace...\n",
      "loading Roboflow project...\n",
      "Dependency ultralytics==8.0.196 is required but found version=8.0.215, to fix: `pip install ultralytics==8.0.196`\n"
     ]
    },
    {
     "name": "stderr",
     "output_type": "stream",
     "text": [
      "Downloading Dataset Version Zip in Sweatshirts_youtube-2 to yolov8:: 100%|██████████| 56495/56495 [00:02<00:00, 25018.02it/s]"
     ]
    },
    {
     "name": "stdout",
     "output_type": "stream",
     "text": []
    },
    {
     "name": "stderr",
     "output_type": "stream",
     "text": [
      "\n",
      "Extracting Dataset Version Zip to Sweatshirts_youtube-2 in yolov8:: 100%|██████████| 3206/3206 [00:01<00:00, 1955.13it/s]\n"
     ]
    }
   ],
   "source": [
    "# Youtube Dataset for YOLOv8\n",
    "from roboflow import Roboflow\n",
    "rf = Roboflow(api_key=\"El60cQAWYQvZ269ZDtRd\")\n",
    "project = rf.workspace(\"project-9yric\").project(\"sweatshirts_youtube\")\n",
    "dataset = project.version(2).download(\"yolov8\")"
   ],
   "metadata": {
    "collapsed": false,
    "ExecuteTime": {
     "end_time": "2023-11-22T02:27:10.763621500Z",
     "start_time": "2023-11-22T02:27:00.898957100Z"
    }
   },
   "id": "8a632513f6d84b75"
  },
  {
   "cell_type": "markdown",
   "source": [
    "# 2. Merging Datasets with Fiftyone"
   ],
   "metadata": {
    "collapsed": false
   },
   "id": "1acd35fd4c97739e"
  },
  {
   "cell_type": "code",
   "execution_count": null,
   "outputs": [],
   "source": [
    "!pip install fiftyone"
   ],
   "metadata": {
    "collapsed": false
   },
   "id": "b3087182d4d0ac03"
  },
  {
   "cell_type": "code",
   "execution_count": 98,
   "outputs": [],
   "source": [
    "fo.delete_datasets(\"\")"
   ],
   "metadata": {
    "collapsed": false,
    "ExecuteTime": {
     "end_time": "2023-12-04T13:04:29.326610700Z",
     "start_time": "2023-12-04T13:04:29.150266900Z"
    }
   },
   "id": "f230e3d83a4b8b4"
  },
  {
   "cell_type": "markdown",
   "source": [
    "## 1. Train\n"
   ],
   "metadata": {
    "collapsed": false
   },
   "id": "7137bd382260bd8f"
  },
  {
   "cell_type": "markdown",
   "source": [
    "### 2) dog_fence"
   ],
   "metadata": {
    "collapsed": false
   },
   "id": "81e0d22b31fe1b85"
  },
  {
   "cell_type": "code",
   "execution_count": 27,
   "outputs": [
    {
     "name": "stdout",
     "output_type": "stream",
     "text": [
      " 100% |███████████████| 1022/1022 [1.1s elapsed, 0s remaining, 921.5 samples/s]         \n"
     ]
    },
    {
     "data": {
      "text/plain": "['656d9535cba0a1193d9be81b',\n '656d9535cba0a1193d9be824',\n '656d9535cba0a1193d9be825',\n '656d9535cba0a1193d9be82e',\n '656d9535cba0a1193d9be82f',\n '656d9535cba0a1193d9be830',\n '656d9535cba0a1193d9be831',\n '656d9535cba0a1193d9be844',\n '656d9535cba0a1193d9be845',\n '656d9535cba0a1193d9be846',\n '656d9535cba0a1193d9be847',\n '656d9535cba0a1193d9be848',\n '656d9535cba0a1193d9be849',\n '656d9535cba0a1193d9be84a',\n '656d9535cba0a1193d9be84b',\n '656d9535cba0a1193d9be886',\n '656d9535cba0a1193d9be887',\n '656d9535cba0a1193d9be888',\n '656d9535cba0a1193d9be889',\n '656d9535cba0a1193d9be88a',\n '656d9535cba0a1193d9be88b',\n '656d9535cba0a1193d9be88c',\n '656d9535cba0a1193d9be88d',\n '656d9535cba0a1193d9be88e',\n '656d9535cba0a1193d9be88f',\n '656d9535cba0a1193d9be890',\n '656d9535cba0a1193d9be891',\n '656d9535cba0a1193d9be892',\n '656d9535cba0a1193d9be893',\n '656d9535cba0a1193d9be894',\n '656d9535cba0a1193d9be895',\n '656d9535cba0a1193d9be8ec',\n '656d9535cba0a1193d9be8ed',\n '656d9535cba0a1193d9be8ee',\n '656d9535cba0a1193d9be8ef',\n '656d9535cba0a1193d9be8f0',\n '656d9535cba0a1193d9be8f1',\n '656d9535cba0a1193d9be8f2',\n '656d9535cba0a1193d9be8f3',\n '656d9535cba0a1193d9be8f4',\n '656d9535cba0a1193d9be8f5',\n '656d9535cba0a1193d9be8f6',\n '656d9535cba0a1193d9be8f7',\n '656d9535cba0a1193d9be8f8',\n '656d9535cba0a1193d9be8f9',\n '656d9535cba0a1193d9be8fa',\n '656d9535cba0a1193d9be8fb',\n '656d9535cba0a1193d9be8fc',\n '656d9535cba0a1193d9be8fd',\n '656d9535cba0a1193d9be8fe',\n '656d9535cba0a1193d9be8ff',\n '656d9535cba0a1193d9be900',\n '656d9535cba0a1193d9be901',\n '656d9535cba0a1193d9be902',\n '656d9535cba0a1193d9be903',\n '656d9535cba0a1193d9be904',\n '656d9535cba0a1193d9be905',\n '656d9535cba0a1193d9be906',\n '656d9535cba0a1193d9be907',\n '656d9535cba0a1193d9be908',\n '656d9535cba0a1193d9be909',\n '656d9535cba0a1193d9be90a',\n '656d9535cba0a1193d9be90b',\n '656d9535cba0a1193d9be9be',\n '656d9535cba0a1193d9be9bf',\n '656d9535cba0a1193d9be9c0',\n '656d9535cba0a1193d9be9c1',\n '656d9535cba0a1193d9be9c2',\n '656d9535cba0a1193d9be9c3',\n '656d9535cba0a1193d9be9c4',\n '656d9535cba0a1193d9be9c5',\n '656d9535cba0a1193d9be9c6',\n '656d9535cba0a1193d9be9c7',\n '656d9535cba0a1193d9be9c8',\n '656d9535cba0a1193d9be9c9',\n '656d9535cba0a1193d9be9ca',\n '656d9535cba0a1193d9be9cb',\n '656d9535cba0a1193d9be9cc',\n '656d9535cba0a1193d9be9cd',\n '656d9535cba0a1193d9be9ce',\n '656d9535cba0a1193d9be9cf',\n '656d9535cba0a1193d9be9d0',\n '656d9535cba0a1193d9be9d1',\n '656d9535cba0a1193d9be9d2',\n '656d9535cba0a1193d9be9d3',\n '656d9535cba0a1193d9be9d4',\n '656d9535cba0a1193d9be9d5',\n '656d9535cba0a1193d9be9d6',\n '656d9535cba0a1193d9be9d7',\n '656d9535cba0a1193d9be9d8',\n '656d9535cba0a1193d9be9d9',\n '656d9535cba0a1193d9be9da',\n '656d9535cba0a1193d9be9db',\n '656d9535cba0a1193d9be9dc',\n '656d9535cba0a1193d9be9dd',\n '656d9535cba0a1193d9be9de',\n '656d9535cba0a1193d9be9df',\n '656d9535cba0a1193d9be9e0',\n '656d9535cba0a1193d9be9e1',\n '656d9535cba0a1193d9be9e2',\n '656d9535cba0a1193d9be9e3',\n '656d9535cba0a1193d9be9e4',\n '656d9535cba0a1193d9be9e5',\n '656d9535cba0a1193d9be9e6',\n '656d9535cba0a1193d9be9e7',\n '656d9535cba0a1193d9be9e8',\n '656d9535cba0a1193d9be9e9',\n '656d9535cba0a1193d9be9ea',\n '656d9535cba0a1193d9be9eb',\n '656d9535cba0a1193d9be9ec',\n '656d9535cba0a1193d9be9ed',\n '656d9535cba0a1193d9be9ee',\n '656d9535cba0a1193d9be9ef',\n '656d9535cba0a1193d9be9f0',\n '656d9535cba0a1193d9be9f1',\n '656d9535cba0a1193d9be9f2',\n '656d9535cba0a1193d9be9f3',\n '656d9535cba0a1193d9be9f4',\n '656d9535cba0a1193d9be9f5',\n '656d9535cba0a1193d9be9f6',\n '656d9535cba0a1193d9be9f7',\n '656d9535cba0a1193d9be9f8',\n '656d9535cba0a1193d9be9f9',\n '656d9535cba0a1193d9be9fa',\n '656d9535cba0a1193d9be9fb',\n '656d9535cba0a1193d9be9fc',\n '656d9535cba0a1193d9be9fd',\n '656d9535cba0a1193d9beb4a',\n '656d9535cba0a1193d9beb4b',\n '656d9535cba0a1193d9beb4c',\n '656d9535cba0a1193d9beb4d',\n '656d9535cba0a1193d9beb4e',\n '656d9535cba0a1193d9beb4f',\n '656d9535cba0a1193d9beb50',\n '656d9535cba0a1193d9beb51',\n '656d9535cba0a1193d9beb52',\n '656d9535cba0a1193d9beb53',\n '656d9535cba0a1193d9beb54',\n '656d9535cba0a1193d9beb55',\n '656d9535cba0a1193d9beb56',\n '656d9535cba0a1193d9beb57',\n '656d9535cba0a1193d9beb58',\n '656d9535cba0a1193d9beb59',\n '656d9535cba0a1193d9beb5a',\n '656d9535cba0a1193d9beb5b',\n '656d9535cba0a1193d9beb5c',\n '656d9535cba0a1193d9beb5d',\n '656d9535cba0a1193d9beb5e',\n '656d9535cba0a1193d9beb5f',\n '656d9535cba0a1193d9beb60',\n '656d9535cba0a1193d9beb61',\n '656d9535cba0a1193d9beb62',\n '656d9535cba0a1193d9beb63',\n '656d9535cba0a1193d9beb64',\n '656d9535cba0a1193d9beb65',\n '656d9535cba0a1193d9beb66',\n '656d9535cba0a1193d9beb67',\n '656d9535cba0a1193d9beb68',\n '656d9535cba0a1193d9beb69',\n '656d9535cba0a1193d9beb6a',\n '656d9535cba0a1193d9beb6b',\n '656d9535cba0a1193d9beb6c',\n '656d9535cba0a1193d9beb6d',\n '656d9535cba0a1193d9beb6e',\n '656d9535cba0a1193d9beb6f',\n '656d9535cba0a1193d9beb70',\n '656d9535cba0a1193d9beb71',\n '656d9535cba0a1193d9beb72',\n '656d9535cba0a1193d9beb73',\n '656d9535cba0a1193d9beb74',\n '656d9535cba0a1193d9beb75',\n '656d9535cba0a1193d9beb76',\n '656d9535cba0a1193d9beb77',\n '656d9535cba0a1193d9beb78',\n '656d9535cba0a1193d9beb79',\n '656d9535cba0a1193d9beb7a',\n '656d9535cba0a1193d9beb7b',\n '656d9535cba0a1193d9beb7c',\n '656d9535cba0a1193d9beb7d',\n '656d9535cba0a1193d9beb7e',\n '656d9535cba0a1193d9beb7f',\n '656d9535cba0a1193d9beb80',\n '656d9535cba0a1193d9beb81',\n '656d9535cba0a1193d9beb82',\n '656d9535cba0a1193d9beb83',\n '656d9535cba0a1193d9beb84',\n '656d9535cba0a1193d9beb85',\n '656d9535cba0a1193d9beb86',\n '656d9535cba0a1193d9beb87',\n '656d9535cba0a1193d9beb88',\n '656d9535cba0a1193d9beb89',\n '656d9535cba0a1193d9beb8a',\n '656d9535cba0a1193d9beb8b',\n '656d9535cba0a1193d9beb8c',\n '656d9535cba0a1193d9beb8d',\n '656d9535cba0a1193d9beb8e',\n '656d9535cba0a1193d9beb8f',\n '656d9535cba0a1193d9beb90',\n '656d9535cba0a1193d9beb91',\n '656d9535cba0a1193d9beb92',\n '656d9535cba0a1193d9beb93',\n '656d9535cba0a1193d9beb94',\n '656d9535cba0a1193d9beb95',\n '656d9535cba0a1193d9beb96',\n '656d9535cba0a1193d9beb97',\n '656d9535cba0a1193d9beb98',\n '656d9535cba0a1193d9beb99',\n '656d9535cba0a1193d9beb9a',\n '656d9535cba0a1193d9beb9b',\n '656d9535cba0a1193d9beb9c',\n '656d9535cba0a1193d9beb9d',\n '656d9535cba0a1193d9beb9e',\n '656d9535cba0a1193d9beb9f',\n '656d9535cba0a1193d9beba0',\n '656d9535cba0a1193d9beba1',\n '656d9535cba0a1193d9beba2',\n '656d9535cba0a1193d9beba3',\n '656d9535cba0a1193d9beba4',\n '656d9535cba0a1193d9beba5',\n '656d9535cba0a1193d9beba6',\n '656d9535cba0a1193d9beba7',\n '656d9535cba0a1193d9beba8',\n '656d9535cba0a1193d9beba9',\n '656d9535cba0a1193d9bebaa',\n '656d9535cba0a1193d9bebab',\n '656d9535cba0a1193d9bebac',\n '656d9535cba0a1193d9bebad',\n '656d9535cba0a1193d9bebae',\n '656d9535cba0a1193d9bebaf',\n '656d9535cba0a1193d9bebb0',\n '656d9535cba0a1193d9bebb1',\n '656d9535cba0a1193d9bebb2',\n '656d9535cba0a1193d9bebb3',\n '656d9535cba0a1193d9bebb4',\n '656d9535cba0a1193d9bebb5',\n '656d9535cba0a1193d9bebb6',\n '656d9535cba0a1193d9bebb7',\n '656d9535cba0a1193d9bebb8',\n '656d9535cba0a1193d9bebb9',\n '656d9535cba0a1193d9bebba',\n '656d9535cba0a1193d9bebbb',\n '656d9535cba0a1193d9bebbc',\n '656d9535cba0a1193d9bebbd',\n '656d9535cba0a1193d9bebbe',\n '656d9535cba0a1193d9bebbf',\n '656d9535cba0a1193d9bebc0',\n '656d9535cba0a1193d9bebc1',\n '656d9535cba0a1193d9bebc2',\n '656d9535cba0a1193d9bebc3',\n '656d9535cba0a1193d9bebc4',\n '656d9535cba0a1193d9bebc5',\n '656d9535cba0a1193d9bebc6',\n '656d9535cba0a1193d9bebc7',\n '656d9535cba0a1193d9bebc8',\n '656d9535cba0a1193d9bebc9',\n '656d9535cba0a1193d9bee2a',\n '656d9535cba0a1193d9bee2b',\n '656d9535cba0a1193d9bee2c',\n '656d9535cba0a1193d9bee2d',\n '656d9535cba0a1193d9bee2e',\n '656d9535cba0a1193d9bee2f',\n '656d9535cba0a1193d9bee30',\n '656d9535cba0a1193d9bee31',\n '656d9535cba0a1193d9bee32',\n '656d9535cba0a1193d9bee33',\n '656d9535cba0a1193d9bee34',\n '656d9535cba0a1193d9bee35',\n '656d9535cba0a1193d9bee36',\n '656d9535cba0a1193d9bee37',\n '656d9535cba0a1193d9bee38',\n '656d9535cba0a1193d9bee39',\n '656d9535cba0a1193d9bee3a',\n '656d9535cba0a1193d9bee3b',\n '656d9535cba0a1193d9bee3c',\n '656d9535cba0a1193d9bee3d',\n '656d9535cba0a1193d9bee3e',\n '656d9535cba0a1193d9bee3f',\n '656d9535cba0a1193d9bee40',\n '656d9535cba0a1193d9bee41',\n '656d9535cba0a1193d9bee42',\n '656d9535cba0a1193d9bee43',\n '656d9535cba0a1193d9bee44',\n '656d9535cba0a1193d9bee45',\n '656d9535cba0a1193d9bee46',\n '656d9535cba0a1193d9bee47',\n '656d9535cba0a1193d9bee48',\n '656d9535cba0a1193d9bee49',\n '656d9535cba0a1193d9bee4a',\n '656d9535cba0a1193d9bee4b',\n '656d9535cba0a1193d9bee4c',\n '656d9535cba0a1193d9bee4d',\n '656d9535cba0a1193d9bee4e',\n '656d9535cba0a1193d9bee4f',\n '656d9535cba0a1193d9bee50',\n '656d9535cba0a1193d9bee51',\n '656d9535cba0a1193d9bee52',\n '656d9535cba0a1193d9bee53',\n '656d9535cba0a1193d9bee54',\n '656d9535cba0a1193d9bee55',\n '656d9535cba0a1193d9bee56',\n '656d9535cba0a1193d9bee57',\n '656d9535cba0a1193d9bee58',\n '656d9535cba0a1193d9bee59',\n '656d9535cba0a1193d9bee5a',\n '656d9535cba0a1193d9bee5b',\n '656d9535cba0a1193d9bee5c',\n '656d9535cba0a1193d9bee5d',\n '656d9535cba0a1193d9bee5e',\n '656d9535cba0a1193d9bee5f',\n '656d9535cba0a1193d9bee60',\n '656d9535cba0a1193d9bee61',\n '656d9535cba0a1193d9bee62',\n '656d9535cba0a1193d9bee63',\n '656d9535cba0a1193d9bee64',\n '656d9535cba0a1193d9bee65',\n '656d9535cba0a1193d9bee66',\n '656d9535cba0a1193d9bee67',\n '656d9535cba0a1193d9bee68',\n '656d9535cba0a1193d9bee69',\n '656d9535cba0a1193d9bee6a',\n '656d9535cba0a1193d9bee6b',\n '656d9535cba0a1193d9bee6c',\n '656d9535cba0a1193d9bee6d',\n '656d9535cba0a1193d9bee6e',\n '656d9535cba0a1193d9bee6f',\n '656d9535cba0a1193d9bee70',\n '656d9535cba0a1193d9bee71',\n '656d9535cba0a1193d9bee72',\n '656d9535cba0a1193d9bee73',\n '656d9535cba0a1193d9bee74',\n '656d9535cba0a1193d9bee75',\n '656d9535cba0a1193d9bee76',\n '656d9535cba0a1193d9bee77',\n '656d9535cba0a1193d9bee78',\n '656d9535cba0a1193d9bee79',\n '656d9535cba0a1193d9bee7a',\n '656d9535cba0a1193d9bee7b',\n '656d9535cba0a1193d9bee7c',\n '656d9535cba0a1193d9bee7d',\n '656d9535cba0a1193d9bee7e',\n '656d9535cba0a1193d9bee7f',\n '656d9535cba0a1193d9bee80',\n '656d9535cba0a1193d9bee81',\n '656d9535cba0a1193d9bee82',\n '656d9535cba0a1193d9bee83',\n '656d9535cba0a1193d9bee84',\n '656d9535cba0a1193d9bee85',\n '656d9535cba0a1193d9bee86',\n '656d9535cba0a1193d9bee87',\n '656d9535cba0a1193d9bee88',\n '656d9535cba0a1193d9bee89',\n '656d9535cba0a1193d9bee8a',\n '656d9535cba0a1193d9bee8b',\n '656d9535cba0a1193d9bee8c',\n '656d9535cba0a1193d9bee8d',\n '656d9535cba0a1193d9bee8e',\n '656d9535cba0a1193d9bee8f',\n '656d9535cba0a1193d9bee90',\n '656d9535cba0a1193d9bee91',\n '656d9535cba0a1193d9bee92',\n '656d9535cba0a1193d9bee93',\n '656d9535cba0a1193d9bee94',\n '656d9535cba0a1193d9bee95',\n '656d9535cba0a1193d9bee96',\n '656d9535cba0a1193d9bee97',\n '656d9535cba0a1193d9bee98',\n '656d9535cba0a1193d9bee99',\n '656d9535cba0a1193d9bee9a',\n '656d9535cba0a1193d9bee9b',\n '656d9535cba0a1193d9bee9c',\n '656d9535cba0a1193d9bee9d',\n '656d9535cba0a1193d9bee9e',\n '656d9535cba0a1193d9bee9f',\n '656d9535cba0a1193d9beea0',\n '656d9535cba0a1193d9beea1',\n '656d9535cba0a1193d9beea2',\n '656d9535cba0a1193d9beea3',\n '656d9535cba0a1193d9beea4',\n '656d9535cba0a1193d9beea5',\n '656d9535cba0a1193d9beea6',\n '656d9535cba0a1193d9beea7',\n '656d9535cba0a1193d9beea8',\n '656d9535cba0a1193d9beea9',\n '656d9535cba0a1193d9beeaa',\n '656d9535cba0a1193d9beeab',\n '656d9535cba0a1193d9beeac',\n '656d9535cba0a1193d9beead',\n '656d9535cba0a1193d9beeae',\n '656d9535cba0a1193d9beeaf',\n '656d9535cba0a1193d9beeb0',\n '656d9535cba0a1193d9beeb1',\n '656d9535cba0a1193d9beeb2',\n '656d9535cba0a1193d9beeb3',\n '656d9535cba0a1193d9beeb4',\n '656d9535cba0a1193d9beeb5',\n '656d9535cba0a1193d9beeb6',\n '656d9535cba0a1193d9beeb7',\n '656d9535cba0a1193d9beeb8',\n '656d9535cba0a1193d9beeb9',\n '656d9535cba0a1193d9beeba',\n '656d9535cba0a1193d9beebb',\n '656d9535cba0a1193d9beebc',\n '656d9535cba0a1193d9beebd',\n '656d9535cba0a1193d9beebe',\n '656d9535cba0a1193d9beebf',\n '656d9535cba0a1193d9beec0',\n '656d9535cba0a1193d9beec1',\n '656d9535cba0a1193d9beec2',\n '656d9535cba0a1193d9beec3',\n '656d9535cba0a1193d9beec4',\n '656d9535cba0a1193d9beec5',\n '656d9535cba0a1193d9beec6',\n '656d9535cba0a1193d9beec7',\n '656d9535cba0a1193d9beec8',\n '656d9535cba0a1193d9beec9',\n '656d9535cba0a1193d9beeca',\n '656d9535cba0a1193d9beecb',\n '656d9535cba0a1193d9beecc',\n '656d9535cba0a1193d9beecd',\n '656d9535cba0a1193d9beece',\n '656d9535cba0a1193d9beecf',\n '656d9535cba0a1193d9beed0',\n '656d9535cba0a1193d9beed1',\n '656d9535cba0a1193d9beed2',\n '656d9535cba0a1193d9beed3',\n '656d9535cba0a1193d9beed4',\n '656d9535cba0a1193d9beed5',\n '656d9535cba0a1193d9beed6',\n '656d9535cba0a1193d9beed7',\n '656d9535cba0a1193d9beed8',\n '656d9535cba0a1193d9beed9',\n '656d9535cba0a1193d9beeda',\n '656d9535cba0a1193d9beedb',\n '656d9535cba0a1193d9beedc',\n '656d9535cba0a1193d9beedd',\n '656d9535cba0a1193d9beede',\n '656d9535cba0a1193d9beedf',\n '656d9535cba0a1193d9beee0',\n '656d9535cba0a1193d9beee1',\n '656d9535cba0a1193d9beee2',\n '656d9535cba0a1193d9beee3',\n '656d9535cba0a1193d9beee4',\n '656d9535cba0a1193d9beee5',\n '656d9535cba0a1193d9beee6',\n '656d9535cba0a1193d9beee7',\n '656d9535cba0a1193d9beee8',\n '656d9535cba0a1193d9beee9',\n '656d9535cba0a1193d9beeea',\n '656d9535cba0a1193d9beeeb',\n '656d9535cba0a1193d9beeec',\n '656d9535cba0a1193d9beeed',\n '656d9535cba0a1193d9beeee',\n '656d9535cba0a1193d9beeef',\n '656d9535cba0a1193d9beef0',\n '656d9535cba0a1193d9beef1',\n '656d9535cba0a1193d9beef2',\n '656d9535cba0a1193d9beef3',\n '656d9535cba0a1193d9beef4',\n '656d9535cba0a1193d9beef5',\n '656d9535cba0a1193d9beef6',\n '656d9535cba0a1193d9beef7',\n '656d9535cba0a1193d9beef8',\n '656d9535cba0a1193d9beef9',\n '656d9535cba0a1193d9beefa',\n '656d9535cba0a1193d9beefb',\n '656d9535cba0a1193d9beefc',\n '656d9535cba0a1193d9beefd',\n '656d9535cba0a1193d9beefe',\n '656d9535cba0a1193d9beeff',\n '656d9535cba0a1193d9bef00',\n '656d9535cba0a1193d9bef01',\n '656d9535cba0a1193d9bef02',\n '656d9535cba0a1193d9bef03',\n '656d9535cba0a1193d9bef04',\n '656d9535cba0a1193d9bef05',\n '656d9535cba0a1193d9bef06',\n '656d9536cba0a1193d9bf1ef',\n '656d9536cba0a1193d9bf1f0',\n '656d9536cba0a1193d9bf1f1',\n '656d9536cba0a1193d9bf1f2',\n '656d9536cba0a1193d9bf1f3',\n '656d9536cba0a1193d9bf1f4',\n '656d9536cba0a1193d9bf1f5',\n '656d9536cba0a1193d9bf1f6',\n '656d9536cba0a1193d9bf1f7',\n '656d9536cba0a1193d9bf1f8',\n '656d9536cba0a1193d9bf1f9',\n '656d9536cba0a1193d9bf1fa',\n '656d9536cba0a1193d9bf1fb',\n '656d9536cba0a1193d9bf1fc',\n '656d9536cba0a1193d9bf1fd',\n '656d9536cba0a1193d9bf1fe',\n '656d9536cba0a1193d9bf1ff',\n '656d9536cba0a1193d9bf200',\n '656d9536cba0a1193d9bf201',\n '656d9536cba0a1193d9bf202',\n '656d9536cba0a1193d9bf203',\n '656d9536cba0a1193d9bf204',\n '656d9536cba0a1193d9bf205',\n '656d9536cba0a1193d9bf206',\n '656d9536cba0a1193d9bf207',\n '656d9536cba0a1193d9bf208',\n '656d9536cba0a1193d9bf209',\n '656d9536cba0a1193d9bf20a',\n '656d9536cba0a1193d9bf20b',\n '656d9536cba0a1193d9bf20c',\n '656d9536cba0a1193d9bf20d',\n '656d9536cba0a1193d9bf20e',\n '656d9536cba0a1193d9bf20f',\n '656d9536cba0a1193d9bf210',\n '656d9536cba0a1193d9bf211',\n '656d9536cba0a1193d9bf212',\n '656d9536cba0a1193d9bf213',\n '656d9536cba0a1193d9bf214',\n '656d9536cba0a1193d9bf215',\n '656d9536cba0a1193d9bf216',\n '656d9536cba0a1193d9bf217',\n '656d9536cba0a1193d9bf218',\n '656d9536cba0a1193d9bf219',\n '656d9536cba0a1193d9bf21a',\n '656d9536cba0a1193d9bf21b',\n '656d9536cba0a1193d9bf21c',\n '656d9536cba0a1193d9bf21d',\n '656d9536cba0a1193d9bf21e',\n '656d9536cba0a1193d9bf21f',\n '656d9536cba0a1193d9bf220',\n '656d9536cba0a1193d9bf221',\n '656d9536cba0a1193d9bf222',\n '656d9536cba0a1193d9bf223',\n '656d9536cba0a1193d9bf224',\n '656d9536cba0a1193d9bf225',\n '656d9536cba0a1193d9bf226',\n '656d9536cba0a1193d9bf227',\n '656d9536cba0a1193d9bf228',\n '656d9536cba0a1193d9bf229',\n '656d9536cba0a1193d9bf22a',\n '656d9536cba0a1193d9bf22b',\n '656d9536cba0a1193d9bf22c',\n '656d9536cba0a1193d9bf22d',\n '656d9536cba0a1193d9bf22e',\n '656d9536cba0a1193d9bf22f',\n '656d9536cba0a1193d9bf230',\n '656d9536cba0a1193d9bf231',\n '656d9536cba0a1193d9bf232',\n '656d9536cba0a1193d9bf233',\n '656d9536cba0a1193d9bf234',\n '656d9536cba0a1193d9bf235',\n '656d9536cba0a1193d9bf236',\n '656d9536cba0a1193d9bf237',\n '656d9536cba0a1193d9bf238',\n '656d9536cba0a1193d9bf239',\n '656d9536cba0a1193d9bf23a',\n '656d9536cba0a1193d9bf23b',\n '656d9536cba0a1193d9bf23c',\n '656d9536cba0a1193d9bf23d',\n '656d9536cba0a1193d9bf23e',\n '656d9536cba0a1193d9bf23f',\n '656d9536cba0a1193d9bf240',\n '656d9536cba0a1193d9bf241',\n '656d9536cba0a1193d9bf242',\n '656d9536cba0a1193d9bf243',\n '656d9536cba0a1193d9bf244',\n '656d9536cba0a1193d9bf245',\n '656d9536cba0a1193d9bf246',\n '656d9536cba0a1193d9bf247',\n '656d9536cba0a1193d9bf248',\n '656d9536cba0a1193d9bf249',\n '656d9536cba0a1193d9bf24a',\n '656d9536cba0a1193d9bf24b',\n '656d9536cba0a1193d9bf24c',\n '656d9536cba0a1193d9bf24d',\n '656d9536cba0a1193d9bf24e',\n '656d9536cba0a1193d9bf24f',\n '656d9536cba0a1193d9bf250',\n '656d9536cba0a1193d9bf251',\n '656d9536cba0a1193d9bf252',\n '656d9536cba0a1193d9bf253',\n '656d9536cba0a1193d9bf254',\n '656d9536cba0a1193d9bf255',\n '656d9536cba0a1193d9bf256',\n '656d9536cba0a1193d9bf257',\n '656d9536cba0a1193d9bf258',\n '656d9536cba0a1193d9bf259',\n '656d9536cba0a1193d9bf25a',\n '656d9536cba0a1193d9bf25b',\n '656d9536cba0a1193d9bf25c',\n '656d9536cba0a1193d9bf25d',\n '656d9536cba0a1193d9bf25e',\n '656d9536cba0a1193d9bf25f',\n '656d9536cba0a1193d9bf260',\n '656d9536cba0a1193d9bf261',\n '656d9536cba0a1193d9bf262',\n '656d9536cba0a1193d9bf263',\n '656d9536cba0a1193d9bf264',\n '656d9536cba0a1193d9bf265',\n '656d9536cba0a1193d9bf266',\n '656d9536cba0a1193d9bf267',\n '656d9536cba0a1193d9bf268',\n '656d9536cba0a1193d9bf269',\n '656d9536cba0a1193d9bf26a',\n '656d9536cba0a1193d9bf26b',\n '656d9536cba0a1193d9bf26c',\n '656d9536cba0a1193d9bf26d',\n '656d9536cba0a1193d9bf26e',\n '656d9536cba0a1193d9bf26f',\n '656d9536cba0a1193d9bf270',\n '656d9536cba0a1193d9bf271',\n '656d9536cba0a1193d9bf272',\n '656d9536cba0a1193d9bf273',\n '656d9536cba0a1193d9bf274',\n '656d9536cba0a1193d9bf275',\n '656d9536cba0a1193d9bf276',\n '656d9536cba0a1193d9bf277',\n '656d9536cba0a1193d9bf278',\n '656d9536cba0a1193d9bf279',\n '656d9536cba0a1193d9bf27a',\n '656d9536cba0a1193d9bf27b',\n '656d9536cba0a1193d9bf27c',\n '656d9536cba0a1193d9bf27d',\n '656d9536cba0a1193d9bf27e',\n '656d9536cba0a1193d9bf27f',\n '656d9536cba0a1193d9bf280',\n '656d9536cba0a1193d9bf281',\n '656d9536cba0a1193d9bf282',\n '656d9536cba0a1193d9bf283',\n '656d9536cba0a1193d9bf284',\n '656d9536cba0a1193d9bf285',\n '656d9536cba0a1193d9bf286',\n '656d9536cba0a1193d9bf287',\n '656d9536cba0a1193d9bf288',\n '656d9536cba0a1193d9bf289',\n '656d9536cba0a1193d9bf28a',\n '656d9536cba0a1193d9bf28b',\n '656d9536cba0a1193d9bf28c',\n '656d9536cba0a1193d9bf28d',\n '656d9536cba0a1193d9bf28e',\n '656d9536cba0a1193d9bf28f',\n '656d9536cba0a1193d9bf290',\n '656d9536cba0a1193d9bf291',\n '656d9536cba0a1193d9bf292',\n '656d9536cba0a1193d9bf293',\n '656d9536cba0a1193d9bf294',\n '656d9536cba0a1193d9bf295',\n '656d9536cba0a1193d9bf296',\n '656d9536cba0a1193d9bf297',\n '656d9536cba0a1193d9bf298',\n '656d9536cba0a1193d9bf299',\n '656d9536cba0a1193d9bf29a',\n '656d9536cba0a1193d9bf29b',\n '656d9536cba0a1193d9bf29c',\n '656d9536cba0a1193d9bf29d',\n '656d9536cba0a1193d9bf29e',\n '656d9536cba0a1193d9bf29f',\n '656d9536cba0a1193d9bf2a0',\n '656d9536cba0a1193d9bf2a1',\n '656d9536cba0a1193d9bf2a2',\n '656d9536cba0a1193d9bf2a3',\n '656d9536cba0a1193d9bf2a4',\n '656d9536cba0a1193d9bf2a5',\n '656d9536cba0a1193d9bf2a6',\n '656d9536cba0a1193d9bf2a7',\n '656d9536cba0a1193d9bf2a8',\n '656d9536cba0a1193d9bf2a9',\n '656d9536cba0a1193d9bf2aa',\n '656d9536cba0a1193d9bf2ab',\n '656d9536cba0a1193d9bf2ac',\n '656d9536cba0a1193d9bf2ad',\n '656d9536cba0a1193d9bf2ae',\n '656d9536cba0a1193d9bf2af',\n '656d9536cba0a1193d9bf2b0',\n '656d9536cba0a1193d9bf2b1',\n '656d9536cba0a1193d9bf2b2',\n '656d9536cba0a1193d9bf2b3',\n '656d9536cba0a1193d9bf2b4',\n '656d9536cba0a1193d9bf2b5',\n '656d9536cba0a1193d9bf2b6',\n '656d9536cba0a1193d9bf2b7',\n '656d9536cba0a1193d9bf2b8',\n '656d9536cba0a1193d9bf2b9',\n '656d9536cba0a1193d9bf2ba',\n '656d9536cba0a1193d9bf2bb',\n '656d9536cba0a1193d9bf2bc',\n '656d9536cba0a1193d9bf2bd',\n '656d9536cba0a1193d9bf2be',\n '656d9536cba0a1193d9bf2bf',\n '656d9536cba0a1193d9bf2c0',\n '656d9536cba0a1193d9bf2c1',\n '656d9536cba0a1193d9bf2c2',\n '656d9536cba0a1193d9bf2c3',\n '656d9536cba0a1193d9bf2c4',\n '656d9536cba0a1193d9bf2c5',\n '656d9536cba0a1193d9bf2c6',\n '656d9536cba0a1193d9bf2c7',\n '656d9536cba0a1193d9bf2c8',\n '656d9536cba0a1193d9bf2c9',\n '656d9536cba0a1193d9bf2ca',\n '656d9536cba0a1193d9bf2cb',\n '656d9536cba0a1193d9bf2cc',\n '656d9536cba0a1193d9bf2cd',\n '656d9536cba0a1193d9bf2ce',\n '656d9536cba0a1193d9bf2cf',\n '656d9536cba0a1193d9bf2d0',\n '656d9536cba0a1193d9bf2d1',\n '656d9536cba0a1193d9bf2d2',\n '656d9536cba0a1193d9bf2d3',\n '656d9536cba0a1193d9bf2d4',\n '656d9536cba0a1193d9bf2d5',\n '656d9536cba0a1193d9bf2d6',\n '656d9536cba0a1193d9bf2d7',\n '656d9536cba0a1193d9bf428',\n '656d9536cba0a1193d9bf429',\n '656d9536cba0a1193d9bf42a',\n '656d9536cba0a1193d9bf42b',\n '656d9536cba0a1193d9bf42c',\n '656d9536cba0a1193d9bf42d',\n '656d9536cba0a1193d9bf42e',\n '656d9536cba0a1193d9bf42f',\n '656d9536cba0a1193d9bf430',\n '656d9536cba0a1193d9bf431',\n '656d9536cba0a1193d9bf432',\n '656d9536cba0a1193d9bf433',\n '656d9536cba0a1193d9bf434',\n '656d9536cba0a1193d9bf435',\n '656d9536cba0a1193d9bf436',\n '656d9536cba0a1193d9bf437',\n '656d9536cba0a1193d9bf438',\n '656d9536cba0a1193d9bf439',\n '656d9536cba0a1193d9bf43a',\n '656d9536cba0a1193d9bf43b',\n '656d9536cba0a1193d9bf43c',\n '656d9536cba0a1193d9bf43d',\n '656d9536cba0a1193d9bf43e',\n '656d9536cba0a1193d9bf43f',\n '656d9536cba0a1193d9bf440',\n '656d9536cba0a1193d9bf441',\n '656d9536cba0a1193d9bf442',\n '656d9536cba0a1193d9bf443',\n '656d9536cba0a1193d9bf444',\n '656d9536cba0a1193d9bf445',\n '656d9536cba0a1193d9bf446',\n '656d9536cba0a1193d9bf447',\n '656d9536cba0a1193d9bf448',\n '656d9536cba0a1193d9bf449',\n '656d9536cba0a1193d9bf44a',\n '656d9536cba0a1193d9bf44b',\n '656d9536cba0a1193d9bf44c',\n '656d9536cba0a1193d9bf44d',\n '656d9536cba0a1193d9bf44e',\n '656d9536cba0a1193d9bf44f',\n '656d9536cba0a1193d9bf450',\n '656d9536cba0a1193d9bf451',\n '656d9536cba0a1193d9bf452',\n '656d9536cba0a1193d9bf453',\n '656d9536cba0a1193d9bf454',\n '656d9536cba0a1193d9bf455',\n '656d9536cba0a1193d9bf456',\n '656d9536cba0a1193d9bf457',\n '656d9536cba0a1193d9bf458',\n '656d9536cba0a1193d9bf459',\n '656d9536cba0a1193d9bf45a',\n '656d9536cba0a1193d9bf45b',\n '656d9536cba0a1193d9bf45c',\n '656d9536cba0a1193d9bf45d',\n '656d9536cba0a1193d9bf45e',\n '656d9536cba0a1193d9bf45f',\n '656d9536cba0a1193d9bf460',\n '656d9536cba0a1193d9bf461',\n '656d9536cba0a1193d9bf462',\n '656d9536cba0a1193d9bf463',\n '656d9536cba0a1193d9bf464',\n '656d9536cba0a1193d9bf465',\n '656d9536cba0a1193d9bf466',\n '656d9536cba0a1193d9bf467',\n '656d9536cba0a1193d9bf468',\n '656d9536cba0a1193d9bf469',\n '656d9536cba0a1193d9bf46a',\n '656d9536cba0a1193d9bf46b',\n '656d9536cba0a1193d9bf46c',\n '656d9536cba0a1193d9bf46d',\n '656d9536cba0a1193d9bf46e',\n '656d9536cba0a1193d9bf46f',\n '656d9536cba0a1193d9bf470',\n '656d9536cba0a1193d9bf471',\n '656d9536cba0a1193d9bf472',\n '656d9536cba0a1193d9bf473',\n '656d9536cba0a1193d9bf474',\n '656d9536cba0a1193d9bf475',\n '656d9536cba0a1193d9bf476',\n '656d9536cba0a1193d9bf477',\n '656d9536cba0a1193d9bf478',\n '656d9536cba0a1193d9bf479',\n '656d9536cba0a1193d9bf47a',\n '656d9536cba0a1193d9bf47b',\n '656d9536cba0a1193d9bf47c',\n '656d9536cba0a1193d9bf47d',\n '656d9536cba0a1193d9bf47e',\n '656d9536cba0a1193d9bf47f',\n '656d9536cba0a1193d9bf480',\n '656d9536cba0a1193d9bf481',\n '656d9536cba0a1193d9bf482',\n '656d9536cba0a1193d9bf483',\n '656d9536cba0a1193d9bf484',\n '656d9536cba0a1193d9bf485',\n '656d9536cba0a1193d9bf486',\n '656d9536cba0a1193d9bf487',\n '656d9536cba0a1193d9bf488',\n '656d9536cba0a1193d9bf489',\n '656d9536cba0a1193d9bf48a',\n '656d9536cba0a1193d9bf48b',\n '656d9536cba0a1193d9bf48c',\n '656d9536cba0a1193d9bf48d',\n '656d9536cba0a1193d9bf48e',\n '656d9536cba0a1193d9bf48f',\n '656d9536cba0a1193d9bf490',\n '656d9536cba0a1193d9bf491',\n '656d9536cba0a1193d9bf492',\n '656d9536cba0a1193d9bf493',\n '656d9536cba0a1193d9bf494',\n '656d9536cba0a1193d9bf495',\n '656d9536cba0a1193d9bf496',\n '656d9536cba0a1193d9bf497',\n '656d9536cba0a1193d9bf498',\n '656d9536cba0a1193d9bf499',\n '656d9536cba0a1193d9bf49a',\n '656d9536cba0a1193d9bf49b',\n '656d9536cba0a1193d9bf49c',\n '656d9536cba0a1193d9bf49d',\n '656d9536cba0a1193d9bf49e',\n '656d9536cba0a1193d9bf49f',\n '656d9536cba0a1193d9bf4a0',\n '656d9536cba0a1193d9bf4a1',\n '656d9536cba0a1193d9bf4a2',\n '656d9536cba0a1193d9bf4a3',\n '656d9536cba0a1193d9bf4a4',\n '656d9536cba0a1193d9bf6c7',\n '656d9536cba0a1193d9bf6c8',\n '656d9536cba0a1193d9bf6c9',\n '656d9536cba0a1193d9bf6ca',\n '656d9536cba0a1193d9bf6cb',\n '656d9536cba0a1193d9bf6cc',\n '656d9536cba0a1193d9bf6cd',\n '656d9536cba0a1193d9bf6ce',\n '656d9536cba0a1193d9bf6cf',\n '656d9536cba0a1193d9bf6d0',\n '656d9536cba0a1193d9bf6d1',\n '656d9536cba0a1193d9bf6d2',\n '656d9536cba0a1193d9bf6d3',\n '656d9536cba0a1193d9bf6d4',\n '656d9536cba0a1193d9bf6d5',\n '656d9536cba0a1193d9bf6d6',\n '656d9536cba0a1193d9bf6d7',\n '656d9536cba0a1193d9bf6d8',\n '656d9536cba0a1193d9bf6d9',\n '656d9536cba0a1193d9bf6da',\n '656d9536cba0a1193d9bf6db',\n '656d9536cba0a1193d9bf6dc',\n '656d9536cba0a1193d9bf6dd',\n '656d9536cba0a1193d9bf6de',\n '656d9536cba0a1193d9bf6df',\n '656d9536cba0a1193d9bf6e0',\n '656d9536cba0a1193d9bf6e1',\n '656d9536cba0a1193d9bf6e2',\n '656d9536cba0a1193d9bf6e3',\n '656d9536cba0a1193d9bf6e4',\n '656d9536cba0a1193d9bf6e5',\n '656d9536cba0a1193d9bf6e6',\n '656d9536cba0a1193d9bf6e7',\n '656d9536cba0a1193d9bf6e8',\n '656d9536cba0a1193d9bf6e9',\n '656d9536cba0a1193d9bf6ea',\n '656d9536cba0a1193d9bf6eb',\n '656d9536cba0a1193d9bf6ec',\n '656d9536cba0a1193d9bf6ed',\n '656d9536cba0a1193d9bf6ee',\n '656d9536cba0a1193d9bf6ef',\n '656d9536cba0a1193d9bf6f0',\n '656d9536cba0a1193d9bf6f1',\n '656d9536cba0a1193d9bf6f2',\n '656d9536cba0a1193d9bf6f3',\n '656d9536cba0a1193d9bf6f4',\n '656d9536cba0a1193d9bf6f5',\n '656d9536cba0a1193d9bf6f6',\n '656d9536cba0a1193d9bf6f7',\n '656d9536cba0a1193d9bf6f8',\n '656d9536cba0a1193d9bf6f9',\n '656d9536cba0a1193d9bf6fa',\n '656d9536cba0a1193d9bf6fb',\n '656d9536cba0a1193d9bf6fc',\n '656d9536cba0a1193d9bf6fd',\n '656d9536cba0a1193d9bf6fe',\n '656d9536cba0a1193d9bf6ff',\n '656d9536cba0a1193d9bf700',\n '656d9536cba0a1193d9bf701',\n '656d9536cba0a1193d9bf702',\n '656d9536cba0a1193d9bf703',\n '656d9536cba0a1193d9bf704',\n '656d9536cba0a1193d9bf705',\n '656d9536cba0a1193d9bf706',\n '656d9536cba0a1193d9bf707',\n '656d9536cba0a1193d9bf708',\n '656d9536cba0a1193d9bf709',\n '656d9536cba0a1193d9bf70a',\n '656d9536cba0a1193d9bf70b',\n '656d9536cba0a1193d9bf70c',\n '656d9536cba0a1193d9bf70d',\n '656d9536cba0a1193d9bf70e',\n '656d9536cba0a1193d9bf70f',\n '656d9536cba0a1193d9bf710',\n '656d9536cba0a1193d9bf711',\n '656d9536cba0a1193d9bf712',\n '656d9536cba0a1193d9bf713',\n '656d9536cba0a1193d9bf714',\n '656d9536cba0a1193d9bf715',\n '656d9536cba0a1193d9bf716',\n '656d9536cba0a1193d9bf717',\n '656d9536cba0a1193d9bf718',\n '656d9536cba0a1193d9bf719',\n '656d9536cba0a1193d9bf71a',\n '656d9536cba0a1193d9bf71b',\n '656d9536cba0a1193d9bf71c',\n '656d9536cba0a1193d9bf71d',\n '656d9536cba0a1193d9bf71e',\n '656d9536cba0a1193d9bf71f',\n '656d9536cba0a1193d9bf720',\n '656d9536cba0a1193d9bf721',\n '656d9536cba0a1193d9bf722',\n '656d9536cba0a1193d9bf723',\n '656d9536cba0a1193d9bf724',\n '656d9536cba0a1193d9bf725',\n '656d9536cba0a1193d9bf726',\n '656d9536cba0a1193d9bf727',\n '656d9536cba0a1193d9bf728',\n '656d9536cba0a1193d9bf729',\n '656d9536cba0a1193d9bf72a',\n '656d9536cba0a1193d9bf72b',\n '656d9536cba0a1193d9bf72c',\n '656d9536cba0a1193d9bf72d',\n '656d9536cba0a1193d9bf72e',\n '656d9536cba0a1193d9bf72f',\n '656d9536cba0a1193d9bf730',\n '656d9536cba0a1193d9bf731',\n '656d9536cba0a1193d9bf732',\n '656d9536cba0a1193d9bf733',\n '656d9536cba0a1193d9bf734',\n '656d9536cba0a1193d9bf735',\n '656d9536cba0a1193d9bf736',\n '656d9536cba0a1193d9bf737',\n '656d9536cba0a1193d9bf738',\n '656d9536cba0a1193d9bf739',\n '656d9536cba0a1193d9bf73a',\n '656d9536cba0a1193d9bf73b',\n '656d9536cba0a1193d9bf73c',\n '656d9536cba0a1193d9bf73d',\n '656d9536cba0a1193d9bf73e',\n '656d9536cba0a1193d9bf73f',\n '656d9536cba0a1193d9bf740',\n '656d9536cba0a1193d9bf741',\n '656d9536cba0a1193d9bf742',\n '656d9536cba0a1193d9bf743',\n '656d9536cba0a1193d9bf744',\n '656d9536cba0a1193d9bf745',\n '656d9536cba0a1193d9bf746',\n '656d9536cba0a1193d9bf747',\n '656d9536cba0a1193d9bf748',\n '656d9536cba0a1193d9bf749',\n '656d9536cba0a1193d9bf74a',\n '656d9536cba0a1193d9bf74b',\n '656d9536cba0a1193d9bf74c',\n '656d9536cba0a1193d9bf74d',\n '656d9536cba0a1193d9bf74e',\n '656d9536cba0a1193d9bf74f',\n '656d9536cba0a1193d9bf750',\n '656d9536cba0a1193d9bf751',\n '656d9536cba0a1193d9bf752',\n '656d9536cba0a1193d9bf753',\n '656d9536cba0a1193d9bf754',\n '656d9536cba0a1193d9bf755',\n '656d9536cba0a1193d9bf756',\n '656d9536cba0a1193d9bf757',\n '656d9536cba0a1193d9bf758',\n '656d9536cba0a1193d9bf759',\n '656d9536cba0a1193d9bf75a',\n '656d9536cba0a1193d9bf75b',\n '656d9536cba0a1193d9bf75c',\n '656d9536cba0a1193d9bf75d',\n '656d9536cba0a1193d9bf75e',\n '656d9536cba0a1193d9bf75f',\n '656d9536cba0a1193d9bf760',\n '656d9536cba0a1193d9bf761',\n '656d9536cba0a1193d9bf762',\n '656d9536cba0a1193d9bf763',\n '656d9536cba0a1193d9bf764',\n '656d9536cba0a1193d9bf765',\n '656d9536cba0a1193d9bf766',\n '656d9536cba0a1193d9bf767',\n '656d9536cba0a1193d9bf768',\n '656d9536cba0a1193d9bf769',\n '656d9536cba0a1193d9bf76a',\n '656d9536cba0a1193d9bf76b',\n '656d9536cba0a1193d9bf76c',\n ...]"
     },
     "execution_count": 27,
     "metadata": {},
     "output_type": "execute_result"
    }
   ],
   "source": [
    "import fiftyone as fo\n",
    "\n",
    "\n",
    "# Initialize the main dataset\n",
    "name = \"dog_fence-train\"\n",
    "dataset = fo.Dataset(name)\n",
    "\n",
    "# Load and tag the first dataset\n",
    "dataset_dir = \"D://Data//roboflow//2_dog_fence//train\"\n",
    "dataset.add_dir(\n",
    "    dataset_dir=dataset_dir,\n",
    "    dataset_type=fo.types.COCODetectionDataset,\n",
    "    classes=\"dog_fence\"\n",
    ")\n",
    "    "
   ],
   "metadata": {
    "collapsed": false,
    "ExecuteTime": {
     "end_time": "2023-12-04T09:00:38.778111500Z",
     "start_time": "2023-12-04T09:00:37.582047Z"
    }
   },
   "id": "d0a69a20d0c870c6"
  },
  {
   "cell_type": "markdown",
   "source": [
    "### 3) dog_nosework"
   ],
   "metadata": {
    "collapsed": false
   },
   "id": "80a1a18ad3fd290e"
  },
  {
   "cell_type": "code",
   "execution_count": 29,
   "outputs": [
    {
     "name": "stdout",
     "output_type": "stream",
     "text": [
      " 100% |███████████████| 1055/1055 [929.4ms elapsed, 0s remaining, 1.1K samples/s]       \n"
     ]
    }
   ],
   "source": [
    "# Load and tag the second dataset into a separate Dataset object\n",
    "dataset_dir2 = \"D://Data//roboflow//3_dog_nosework//train\"\n",
    "merge_classes = ['dog_fence', 'dog_nosework']\n",
    "dataset.merge_dir(\n",
    "    dataset_dir = dataset_dir2,\n",
    "    dataset_type = fo.types.COCODetectionDataset,\n",
    ")"
   ],
   "metadata": {
    "collapsed": false,
    "ExecuteTime": {
     "end_time": "2023-12-04T09:03:16.497865800Z",
     "start_time": "2023-12-04T09:03:15.312000500Z"
    }
   },
   "id": "10c35523fde9b8c4"
  },
  {
   "cell_type": "markdown",
   "source": [
    "### 4) cat_tower"
   ],
   "metadata": {
    "collapsed": false
   },
   "id": "cd4754314701a47b"
  },
  {
   "cell_type": "code",
   "execution_count": 30,
   "outputs": [
    {
     "name": "stdout",
     "output_type": "stream",
     "text": [
      " 100% |█████████████████| 970/970 [868.0ms elapsed, 0s remaining, 1.1K samples/s]       \n"
     ]
    }
   ],
   "source": [
    "# Load and tag the second dataset into a separate Dataset object\n",
    "dataset_dir3 = \"D://Data//roboflow//4_cat_tower//train\"\n",
    "merge_classes = ['dog_fence', 'dog_nosework', 'cat_tower']\n",
    "dataset.merge_dir(\n",
    "    dataset_dir = dataset_dir3,\n",
    "    dataset_type = fo.types.COCODetectionDataset,\n",
    ")"
   ],
   "metadata": {
    "collapsed": false,
    "ExecuteTime": {
     "end_time": "2023-12-04T09:06:34.734759200Z",
     "start_time": "2023-12-04T09:06:33.631328900Z"
    }
   },
   "id": "451e7be470c1d95f"
  },
  {
   "cell_type": "markdown",
   "source": [
    "### 5) cat_scratcher"
   ],
   "metadata": {
    "collapsed": false
   },
   "id": "8c85856bad7747a8"
  },
  {
   "cell_type": "code",
   "execution_count": 31,
   "outputs": [
    {
     "name": "stdout",
     "output_type": "stream",
     "text": [
      " 100% |███████████████| 1800/1800 [1.6s elapsed, 0s remaining, 1.1K samples/s]         \n"
     ]
    }
   ],
   "source": [
    "# Load and tag the second dataset into a separate Dataset object\n",
    "dataset_dir4 = \"D://Data//roboflow//5_cat_scratcher//train\"\n",
    "merge_classes = ['dog_fence', 'dog_nosework', 'cat_tower', 'cat_scratcher']\n",
    "dataset.merge_dir(\n",
    "    dataset_dir = dataset_dir4,\n",
    "    dataset_type = fo.types.COCODetectionDataset,\n",
    ")"
   ],
   "metadata": {
    "collapsed": false,
    "ExecuteTime": {
     "end_time": "2023-12-04T09:09:16.090901600Z",
     "start_time": "2023-12-04T09:09:14.079170100Z"
    }
   },
   "id": "2584de99c2e19138"
  },
  {
   "cell_type": "markdown",
   "source": [
    "### 6) cat_toilet"
   ],
   "metadata": {
    "collapsed": false
   },
   "id": "94ab24fe859dd1d0"
  },
  {
   "cell_type": "code",
   "execution_count": 32,
   "outputs": [
    {
     "name": "stdout",
     "output_type": "stream",
     "text": [
      " 100% |███████████████| 1869/1869 [1.6s elapsed, 0s remaining, 1.2K samples/s]         \n"
     ]
    }
   ],
   "source": [
    "# Load and tag the second dataset into a separate Dataset object\n",
    "dataset_dir5 = \"D://Data//roboflow//6_cat_toilet//train\"\n",
    "merge_classes = ['dog_fence', 'dog_nosework', 'cat_tower', 'cat_scratcher', 'cat_toilet']\n",
    "dataset.merge_dir(\n",
    "    dataset_dir = dataset_dir5,\n",
    "    dataset_type = fo.types.COCODetectionDataset,\n",
    ")"
   ],
   "metadata": {
    "collapsed": false,
    "ExecuteTime": {
     "end_time": "2023-12-04T09:13:03.829254400Z",
     "start_time": "2023-12-04T09:13:01.792626500Z"
    }
   },
   "id": "837942be8f004a2a"
  },
  {
   "cell_type": "markdown",
   "source": [
    "### 7) house"
   ],
   "metadata": {
    "collapsed": false
   },
   "id": "a43f331b6491a7b2"
  },
  {
   "cell_type": "code",
   "execution_count": 34,
   "outputs": [
    {
     "name": "stdout",
     "output_type": "stream",
     "text": [
      " 100% |███████████████| 3710/3710 [3.0s elapsed, 0s remaining, 1.3K samples/s]      \n"
     ]
    }
   ],
   "source": [
    "# Load and tag the second dataset into a separate Dataset object\n",
    "dataset_dir6 = \"D://Data//roboflow//7_house//train\"\n",
    "merge_classes = ['dog_fence', 'dog_nosework', 'cat_tower', 'cat_scratcher', 'cat_toilet', 'house']\n",
    "dataset.merge_dir(\n",
    "    dataset_dir = dataset_dir6,\n",
    "    dataset_type = fo.types.COCODetectionDataset,\n",
    ")"
   ],
   "metadata": {
    "collapsed": false,
    "ExecuteTime": {
     "end_time": "2023-12-04T09:14:22.993084800Z",
     "start_time": "2023-12-04T09:14:19.226136900Z"
    }
   },
   "id": "86fdc1e2eacf005e"
  },
  {
   "cell_type": "markdown",
   "source": [
    "### 8) carrier"
   ],
   "metadata": {
    "collapsed": false
   },
   "id": "e0a303bee101c33"
  },
  {
   "cell_type": "code",
   "execution_count": 35,
   "outputs": [
    {
     "name": "stdout",
     "output_type": "stream",
     "text": [
      " 100% |███████████████| 2380/2380 [1.9s elapsed, 0s remaining, 1.3K samples/s]      \n"
     ]
    }
   ],
   "source": [
    "# Load and tag the second dataset into a separate Dataset object\n",
    "dataset_dir7 = \"D://Data//roboflow//8_carrier//train\"\n",
    "merge_classes = ['dog_fence', 'dog_nosework', 'cat_tower', 'cat_scratcher', 'cat_toilet', 'house', 'carrier']\n",
    "dataset.merge_dir(\n",
    "    dataset_dir = dataset_dir7,\n",
    "    dataset_type = fo.types.COCODetectionDataset,\n",
    ")"
   ],
   "metadata": {
    "collapsed": false,
    "ExecuteTime": {
     "end_time": "2023-12-04T09:15:13.383438900Z",
     "start_time": "2023-12-04T09:15:10.940675100Z"
    }
   },
   "id": "4d4c5ab84f809bea"
  },
  {
   "cell_type": "markdown",
   "source": [
    "### 9) clothes"
   ],
   "metadata": {
    "collapsed": false
   },
   "id": "f73ba7883c0e6698"
  },
  {
   "cell_type": "code",
   "execution_count": 36,
   "outputs": [
    {
     "name": "stdout",
     "output_type": "stream",
     "text": [
      " 100% |███████████████| 2687/2687 [2.6s elapsed, 0s remaining, 1.1K samples/s]       \n"
     ]
    }
   ],
   "source": [
    "# Load and tag the second dataset into a separate Dataset object\n",
    "dataset_dir8 = \"D://Data//roboflow//9_clothes//train\"\n",
    "merge_classes = ['dog_fence', 'dog_nosework', 'cat_tower', 'cat_scratcher', 'cat_toilet', 'house', 'carrier', 'clothes']\n",
    "dataset.merge_dir(\n",
    "    dataset_dir = dataset_dir8,\n",
    "    dataset_type = fo.types.COCODetectionDataset,\n",
    ")"
   ],
   "metadata": {
    "collapsed": false,
    "ExecuteTime": {
     "end_time": "2023-12-04T09:18:34.305039700Z",
     "start_time": "2023-12-04T09:18:31.025338400Z"
    }
   },
   "id": "77e3da86105f6cdf"
  },
  {
   "cell_type": "markdown",
   "source": [
    "### 10) Export"
   ],
   "metadata": {
    "collapsed": false
   },
   "id": "b74c22b38fad7e1f"
  },
  {
   "cell_type": "code",
   "execution_count": 37,
   "outputs": [
    {
     "name": "stdout",
     "output_type": "stream",
     "text": [
      "Directory 'D://Data//roboflow//merged' already exists; export will be merged with existing files\n",
      " 100% |█████████████| 15493/15493 [3.6m elapsed, 0s remaining, 64.4 samples/s]       \n"
     ]
    }
   ],
   "source": [
    "# Export each split\n",
    "export_dir = \"D://Data//roboflow//merged\"\n",
    "\n",
    "dataset.export(\n",
    "    export_dir=export_dir,\n",
    "    dataset_type=fo.types.COCODetectionDataset,\n",
    "    classes=merge_classes\n",
    ")\n",
    "    "
   ],
   "metadata": {
    "collapsed": false,
    "ExecuteTime": {
     "end_time": "2023-12-04T09:26:57.208556400Z",
     "start_time": "2023-12-04T09:23:21.873847800Z"
    }
   },
   "id": "c7a9e7756bf35cab"
  },
  {
   "cell_type": "markdown",
   "source": [
    "## 2. Validation"
   ],
   "metadata": {
    "collapsed": false
   },
   "id": "aa82f361467c0de"
  },
  {
   "cell_type": "markdown",
   "source": [
    "### 2) dog_fence"
   ],
   "metadata": {
    "collapsed": false
   },
   "id": "256f7978aa76d0c"
  },
  {
   "cell_type": "code",
   "execution_count": 38,
   "outputs": [
    {
     "name": "stdout",
     "output_type": "stream",
     "text": [
      " 100% |█████████████████| 130/130 [126.0ms elapsed, 0s remaining, 1.0K samples/s]    \n"
     ]
    },
    {
     "data": {
      "text/plain": "['656d9bf1cba0a1193d9cafaa',\n '656d9bf1cba0a1193d9cafaf',\n '656d9bf1cba0a1193d9cafb0',\n '656d9bf1cba0a1193d9cafbd',\n '656d9bf1cba0a1193d9cafbe',\n '656d9bf1cba0a1193d9cafbf',\n '656d9bf1cba0a1193d9cafc0',\n '656d9bf1cba0a1193d9cafdd',\n '656d9bf1cba0a1193d9cafde',\n '656d9bf1cba0a1193d9cafdf',\n '656d9bf1cba0a1193d9cafe0',\n '656d9bf1cba0a1193d9cafe1',\n '656d9bf1cba0a1193d9cafe2',\n '656d9bf1cba0a1193d9cafe3',\n '656d9bf1cba0a1193d9cafe4',\n '656d9bf1cba0a1193d9cb007',\n '656d9bf1cba0a1193d9cb008',\n '656d9bf1cba0a1193d9cb009',\n '656d9bf1cba0a1193d9cb00a',\n '656d9bf1cba0a1193d9cb00b',\n '656d9bf1cba0a1193d9cb00c',\n '656d9bf1cba0a1193d9cb00d',\n '656d9bf1cba0a1193d9cb00e',\n '656d9bf1cba0a1193d9cb00f',\n '656d9bf1cba0a1193d9cb010',\n '656d9bf1cba0a1193d9cb011',\n '656d9bf1cba0a1193d9cb012',\n '656d9bf1cba0a1193d9cb013',\n '656d9bf1cba0a1193d9cb014',\n '656d9bf1cba0a1193d9cb015',\n '656d9bf1cba0a1193d9cb016',\n '656d9bf1cba0a1193d9cb067',\n '656d9bf1cba0a1193d9cb068',\n '656d9bf1cba0a1193d9cb069',\n '656d9bf1cba0a1193d9cb06a',\n '656d9bf1cba0a1193d9cb06b',\n '656d9bf1cba0a1193d9cb06c',\n '656d9bf1cba0a1193d9cb06d',\n '656d9bf1cba0a1193d9cb06e',\n '656d9bf1cba0a1193d9cb06f',\n '656d9bf1cba0a1193d9cb070',\n '656d9bf1cba0a1193d9cb071',\n '656d9bf1cba0a1193d9cb072',\n '656d9bf1cba0a1193d9cb073',\n '656d9bf1cba0a1193d9cb074',\n '656d9bf1cba0a1193d9cb075',\n '656d9bf1cba0a1193d9cb076',\n '656d9bf1cba0a1193d9cb077',\n '656d9bf1cba0a1193d9cb078',\n '656d9bf1cba0a1193d9cb079',\n '656d9bf1cba0a1193d9cb07a',\n '656d9bf1cba0a1193d9cb07b',\n '656d9bf1cba0a1193d9cb07c',\n '656d9bf1cba0a1193d9cb07d',\n '656d9bf1cba0a1193d9cb07e',\n '656d9bf1cba0a1193d9cb07f',\n '656d9bf1cba0a1193d9cb080',\n '656d9bf1cba0a1193d9cb081',\n '656d9bf1cba0a1193d9cb082',\n '656d9bf1cba0a1193d9cb083',\n '656d9bf1cba0a1193d9cb084',\n '656d9bf1cba0a1193d9cb085',\n '656d9bf1cba0a1193d9cb086',\n '656d9bf1cba0a1193d9cb121',\n '656d9bf1cba0a1193d9cb122',\n '656d9bf1cba0a1193d9cb123',\n '656d9bf1cba0a1193d9cb124',\n '656d9bf1cba0a1193d9cb125',\n '656d9bf1cba0a1193d9cb126',\n '656d9bf1cba0a1193d9cb127',\n '656d9bf1cba0a1193d9cb128',\n '656d9bf1cba0a1193d9cb129',\n '656d9bf1cba0a1193d9cb12a',\n '656d9bf1cba0a1193d9cb12b',\n '656d9bf1cba0a1193d9cb12c',\n '656d9bf1cba0a1193d9cb12d',\n '656d9bf1cba0a1193d9cb12e',\n '656d9bf1cba0a1193d9cb12f',\n '656d9bf1cba0a1193d9cb130',\n '656d9bf1cba0a1193d9cb131',\n '656d9bf1cba0a1193d9cb132',\n '656d9bf1cba0a1193d9cb133',\n '656d9bf1cba0a1193d9cb134',\n '656d9bf1cba0a1193d9cb135',\n '656d9bf1cba0a1193d9cb136',\n '656d9bf1cba0a1193d9cb137',\n '656d9bf1cba0a1193d9cb138',\n '656d9bf1cba0a1193d9cb139',\n '656d9bf1cba0a1193d9cb13a',\n '656d9bf1cba0a1193d9cb13b',\n '656d9bf1cba0a1193d9cb13c',\n '656d9bf1cba0a1193d9cb13d',\n '656d9bf1cba0a1193d9cb13e',\n '656d9bf1cba0a1193d9cb13f',\n '656d9bf1cba0a1193d9cb140',\n '656d9bf1cba0a1193d9cb141',\n '656d9bf1cba0a1193d9cb142',\n '656d9bf1cba0a1193d9cb143',\n '656d9bf1cba0a1193d9cb144',\n '656d9bf1cba0a1193d9cb145',\n '656d9bf1cba0a1193d9cb146',\n '656d9bf1cba0a1193d9cb147',\n '656d9bf1cba0a1193d9cb148',\n '656d9bf1cba0a1193d9cb149',\n '656d9bf1cba0a1193d9cb14a',\n '656d9bf1cba0a1193d9cb14b',\n '656d9bf1cba0a1193d9cb14c',\n '656d9bf1cba0a1193d9cb14d',\n '656d9bf1cba0a1193d9cb14e',\n '656d9bf1cba0a1193d9cb14f',\n '656d9bf1cba0a1193d9cb150',\n '656d9bf1cba0a1193d9cb151',\n '656d9bf1cba0a1193d9cb152',\n '656d9bf1cba0a1193d9cb153',\n '656d9bf1cba0a1193d9cb154',\n '656d9bf1cba0a1193d9cb155',\n '656d9bf1cba0a1193d9cb156',\n '656d9bf1cba0a1193d9cb157',\n '656d9bf1cba0a1193d9cb158',\n '656d9bf1cba0a1193d9cb159',\n '656d9bf1cba0a1193d9cb15a',\n '656d9bf1cba0a1193d9cb15b',\n '656d9bf1cba0a1193d9cb15c',\n '656d9bf1cba0a1193d9cb15d',\n '656d9bf1cba0a1193d9cb15e',\n '656d9bf1cba0a1193d9cb15f',\n '656d9bf1cba0a1193d9cb160',\n '656d9bf1cba0a1193d9cb167',\n '656d9bf1cba0a1193d9cb168',\n '656d9bf1cba0a1193d9cb169']"
     },
     "execution_count": 38,
     "metadata": {},
     "output_type": "execute_result"
    }
   ],
   "source": [
    "import fiftyone as fo\n",
    "\n",
    "\n",
    "# Initialize the main dataset\n",
    "name = \"dog_fence-validation\"\n",
    "dataset = fo.Dataset(name)\n",
    "\n",
    "# Load and tag the first dataset\n",
    "dataset_dir = \"D://Data//roboflow//2_dog_fence//val\"\n",
    "dataset.add_dir(\n",
    "    dataset_dir=dataset_dir,\n",
    "    dataset_type=fo.types.COCODetectionDataset,\n",
    ")\n",
    "    "
   ],
   "metadata": {
    "collapsed": false,
    "ExecuteTime": {
     "end_time": "2023-12-04T09:29:21.903551200Z",
     "start_time": "2023-12-04T09:29:21.598036100Z"
    }
   },
   "id": "18f220cf32ffc23e"
  },
  {
   "cell_type": "markdown",
   "source": [
    "### 3) dog_nosework"
   ],
   "metadata": {
    "collapsed": false
   },
   "id": "43fa060699bb947"
  },
  {
   "cell_type": "code",
   "execution_count": 39,
   "outputs": [
    {
     "name": "stdout",
     "output_type": "stream",
     "text": [
      " 100% |█████████████████| 132/132 [131.3ms elapsed, 0s remaining, 1.0K samples/s]    \n"
     ]
    }
   ],
   "source": [
    "# Load and tag the second dataset into a separate Dataset object\n",
    "dataset_dir2 = \"D://Data//roboflow//3_dog_nosework//val\"\n",
    "merge_classes = ['dog_fence', 'dog_nosework']\n",
    "dataset.merge_dir(\n",
    "    dataset_dir = dataset_dir2,\n",
    "    dataset_type = fo.types.COCODetectionDataset,\n",
    ")"
   ],
   "metadata": {
    "collapsed": false,
    "ExecuteTime": {
     "end_time": "2023-12-04T09:29:44.192813900Z",
     "start_time": "2023-12-04T09:29:43.806213500Z"
    }
   },
   "id": "c4d96f5648d79028"
  },
  {
   "cell_type": "markdown",
   "source": [
    "### 4) cat_tower"
   ],
   "metadata": {
    "collapsed": false
   },
   "id": "d4f282fed0fb47ed"
  },
  {
   "cell_type": "code",
   "execution_count": 40,
   "outputs": [
    {
     "name": "stdout",
     "output_type": "stream",
     "text": [
      " 100% |█████████████████| 122/122 [100.5ms elapsed, 0s remaining, 1.2K samples/s]     \n"
     ]
    }
   ],
   "source": [
    "# Load and tag the second dataset into a separate Dataset object\n",
    "dataset_dir3 = \"D://Data//roboflow//4_cat_tower//val\"\n",
    "merge_classes = ['dog_fence', 'dog_nosework', 'cat_tower']\n",
    "dataset.merge_dir(\n",
    "    dataset_dir = dataset_dir3,\n",
    "    dataset_type = fo.types.COCODetectionDataset,\n",
    ")"
   ],
   "metadata": {
    "collapsed": false,
    "ExecuteTime": {
     "end_time": "2023-12-04T09:29:55.765813500Z",
     "start_time": "2023-12-04T09:29:55.438232700Z"
    }
   },
   "id": "38363a2a7bcd1d5d"
  },
  {
   "cell_type": "markdown",
   "source": [
    "### 5) cat_scratcher"
   ],
   "metadata": {
    "collapsed": false
   },
   "id": "9974b210190e980a"
  },
  {
   "cell_type": "code",
   "execution_count": 41,
   "outputs": [
    {
     "name": "stdout",
     "output_type": "stream",
     "text": [
      " 100% |█████████████████| 224/224 [204.8ms elapsed, 0s remaining, 1.1K samples/s]     \n"
     ]
    }
   ],
   "source": [
    "# Load and tag the second dataset into a separate Dataset object\n",
    "dataset_dir4 = \"D://Data//roboflow//5_cat_scratcher//val\"\n",
    "merge_classes = ['dog_fence', 'dog_nosework', 'cat_tower', 'cat_scratcher']\n",
    "dataset.merge_dir(\n",
    "    dataset_dir = dataset_dir4,\n",
    "    dataset_type = fo.types.COCODetectionDataset,\n",
    ")"
   ],
   "metadata": {
    "collapsed": false,
    "ExecuteTime": {
     "end_time": "2023-12-04T09:30:06.736185100Z",
     "start_time": "2023-12-04T09:30:06.241340700Z"
    }
   },
   "id": "38a12f67cf7abe5d"
  },
  {
   "cell_type": "markdown",
   "source": [
    "### 6) cat_toilet"
   ],
   "metadata": {
    "collapsed": false
   },
   "id": "7bb5502b40a74221"
  },
  {
   "cell_type": "code",
   "execution_count": 42,
   "outputs": [
    {
     "name": "stdout",
     "output_type": "stream",
     "text": [
      " 100% |█████████████████| 237/237 [215.8ms elapsed, 0s remaining, 1.1K samples/s]      \n"
     ]
    }
   ],
   "source": [
    "# Load and tag the second dataset into a separate Dataset object\n",
    "dataset_dir5 = \"D://Data//roboflow//6_cat_toilet//val\"\n",
    "merge_classes = ['dog_fence', 'dog_nosework', 'cat_tower', 'cat_scratcher', 'cat_toilet']\n",
    "dataset.merge_dir(\n",
    "    dataset_dir = dataset_dir5,\n",
    "    dataset_type = fo.types.COCODetectionDataset,\n",
    ")"
   ],
   "metadata": {
    "collapsed": false,
    "ExecuteTime": {
     "end_time": "2023-12-04T09:30:16.686409400Z",
     "start_time": "2023-12-04T09:30:16.340205100Z"
    }
   },
   "id": "79bbe3b342744fc5"
  },
  {
   "cell_type": "markdown",
   "source": [
    "### 7) house"
   ],
   "metadata": {
    "collapsed": false
   },
   "id": "efbcd0158fd168ae"
  },
  {
   "cell_type": "code",
   "execution_count": 43,
   "outputs": [
    {
     "name": "stdout",
     "output_type": "stream",
     "text": [
      " 100% |█████████████████| 465/465 [373.0ms elapsed, 0s remaining, 1.3K samples/s]      \n"
     ]
    }
   ],
   "source": [
    "# Load and tag the second dataset into a separate Dataset object\n",
    "dataset_dir6 = \"D://Data//roboflow//7_house//val\"\n",
    "merge_classes = ['dog_fence', 'dog_nosework', 'cat_tower', 'cat_scratcher', 'cat_toilet', 'house']\n",
    "dataset.merge_dir(\n",
    "    dataset_dir = dataset_dir6,\n",
    "    dataset_type = fo.types.COCODetectionDataset,\n",
    ")"
   ],
   "metadata": {
    "collapsed": false,
    "ExecuteTime": {
     "end_time": "2023-12-04T09:30:32.031710800Z",
     "start_time": "2023-12-04T09:30:31.235411100Z"
    }
   },
   "id": "97388d5a6cce4d35"
  },
  {
   "cell_type": "markdown",
   "source": [
    "### 8) carrier"
   ],
   "metadata": {
    "collapsed": false
   },
   "id": "77eb6ec330796dc"
  },
  {
   "cell_type": "code",
   "execution_count": 44,
   "outputs": [
    {
     "name": "stdout",
     "output_type": "stream",
     "text": [
      " 100% |█████████████████| 298/298 [237.4ms elapsed, 0s remaining, 1.3K samples/s]     \n"
     ]
    }
   ],
   "source": [
    "# Load and tag the second dataset into a separate Dataset object\n",
    "dataset_dir7 = \"D://Data//roboflow//8_carrier//val\"\n",
    "merge_classes = ['dog_fence', 'dog_nosework', 'cat_tower', 'cat_scratcher', 'cat_toilet', 'house', 'carrier']\n",
    "dataset.merge_dir(\n",
    "    dataset_dir = dataset_dir7,\n",
    "    dataset_type = fo.types.COCODetectionDataset,\n",
    ")"
   ],
   "metadata": {
    "collapsed": false,
    "ExecuteTime": {
     "end_time": "2023-12-04T09:30:42.879548600Z",
     "start_time": "2023-12-04T09:30:42.294748400Z"
    }
   },
   "id": "447c0748dc480f07"
  },
  {
   "cell_type": "markdown",
   "source": [
    "### 9) clothes"
   ],
   "metadata": {
    "collapsed": false
   },
   "id": "271c00405e6e52b1"
  },
  {
   "cell_type": "code",
   "execution_count": 45,
   "outputs": [
    {
     "name": "stdout",
     "output_type": "stream",
     "text": [
      " 100% |█████████████████| 358/358 [331.4ms elapsed, 0s remaining, 1.1K samples/s]      \n"
     ]
    }
   ],
   "source": [
    "# Load and tag the second dataset into a separate Dataset object\n",
    "dataset_dir8 = \"D://Data//roboflow//9_clothes//val\"\n",
    "merge_classes = ['dog_fence', 'dog_nosework', 'cat_tower', 'cat_scratcher', 'cat_toilet', 'house', 'carrier', 'clothes']\n",
    "dataset.merge_dir(\n",
    "    dataset_dir = dataset_dir8,\n",
    "    dataset_type = fo.types.COCODetectionDataset,\n",
    ")"
   ],
   "metadata": {
    "collapsed": false,
    "ExecuteTime": {
     "end_time": "2023-12-04T09:30:53.908731500Z",
     "start_time": "2023-12-04T09:30:53.255029700Z"
    }
   },
   "id": "ff3e8480c616b929"
  },
  {
   "cell_type": "markdown",
   "source": [
    "### 10) Export"
   ],
   "metadata": {
    "collapsed": false
   },
   "id": "201045cd4056ba66"
  },
  {
   "cell_type": "code",
   "execution_count": 46,
   "outputs": [
    {
     "name": "stdout",
     "output_type": "stream",
     "text": [
      "Directory 'D://Data//roboflow//merged' already exists; export will be merged with existing files\n",
      " 100% |███████████████| 1966/1966 [14.4s elapsed, 0s remaining, 219.2 samples/s]      \n"
     ]
    }
   ],
   "source": [
    "# Export each split\n",
    "export_dir = \"D://Data//roboflow//merged\"\n",
    "\n",
    "dataset.export(\n",
    "    export_dir=export_dir,\n",
    "    dataset_type=fo.types.COCODetectionDataset,\n",
    "    classes=merge_classes\n",
    ")\n",
    "    "
   ],
   "metadata": {
    "collapsed": false,
    "ExecuteTime": {
     "end_time": "2023-12-04T09:31:24.065727700Z",
     "start_time": "2023-12-04T09:31:09.668141400Z"
    }
   },
   "id": "1cf061733fee4b2c"
  },
  {
   "cell_type": "markdown",
   "source": [
    "## 3. Test"
   ],
   "metadata": {
    "collapsed": false
   },
   "id": "e9ed0d1f96e0b7b6"
  },
  {
   "cell_type": "markdown",
   "source": [
    "### 2) dog_fence"
   ],
   "metadata": {
    "collapsed": false
   },
   "id": "aa59706b09825000"
  },
  {
   "cell_type": "code",
   "execution_count": 47,
   "outputs": [
    {
     "name": "stdout",
     "output_type": "stream",
     "text": [
      " 100% |█████████████████| 116/116 [133.4ms elapsed, 0s remaining, 880.7 samples/s] \n"
     ]
    },
    {
     "data": {
      "text/plain": "['656d9cf7cba0a1193d9cc8a2',\n '656d9cf7cba0a1193d9cc8a7',\n '656d9cf7cba0a1193d9cc8a8',\n '656d9cf7cba0a1193d9cc8b1',\n '656d9cf7cba0a1193d9cc8b2',\n '656d9cf7cba0a1193d9cc8b3',\n '656d9cf7cba0a1193d9cc8b4',\n '656d9cf7cba0a1193d9cc8d7',\n '656d9cf7cba0a1193d9cc8d8',\n '656d9cf7cba0a1193d9cc8d9',\n '656d9cf7cba0a1193d9cc8da',\n '656d9cf7cba0a1193d9cc8db',\n '656d9cf7cba0a1193d9cc8dc',\n '656d9cf7cba0a1193d9cc8dd',\n '656d9cf7cba0a1193d9cc8de',\n '656d9cf7cba0a1193d9cc917',\n '656d9cf7cba0a1193d9cc918',\n '656d9cf7cba0a1193d9cc919',\n '656d9cf7cba0a1193d9cc91a',\n '656d9cf7cba0a1193d9cc91b',\n '656d9cf7cba0a1193d9cc91c',\n '656d9cf7cba0a1193d9cc91d',\n '656d9cf7cba0a1193d9cc91e',\n '656d9cf7cba0a1193d9cc91f',\n '656d9cf7cba0a1193d9cc920',\n '656d9cf7cba0a1193d9cc921',\n '656d9cf7cba0a1193d9cc922',\n '656d9cf7cba0a1193d9cc923',\n '656d9cf7cba0a1193d9cc924',\n '656d9cf7cba0a1193d9cc925',\n '656d9cf7cba0a1193d9cc926',\n '656d9cf7cba0a1193d9cc987',\n '656d9cf7cba0a1193d9cc988',\n '656d9cf7cba0a1193d9cc989',\n '656d9cf7cba0a1193d9cc98a',\n '656d9cf7cba0a1193d9cc98b',\n '656d9cf7cba0a1193d9cc98c',\n '656d9cf7cba0a1193d9cc98d',\n '656d9cf7cba0a1193d9cc98e',\n '656d9cf7cba0a1193d9cc98f',\n '656d9cf7cba0a1193d9cc990',\n '656d9cf7cba0a1193d9cc991',\n '656d9cf7cba0a1193d9cc992',\n '656d9cf7cba0a1193d9cc993',\n '656d9cf7cba0a1193d9cc994',\n '656d9cf7cba0a1193d9cc995',\n '656d9cf7cba0a1193d9cc996',\n '656d9cf7cba0a1193d9cc997',\n '656d9cf7cba0a1193d9cc998',\n '656d9cf7cba0a1193d9cc999',\n '656d9cf7cba0a1193d9cc99a',\n '656d9cf7cba0a1193d9cc99b',\n '656d9cf7cba0a1193d9cc99c',\n '656d9cf7cba0a1193d9cc99d',\n '656d9cf7cba0a1193d9cc99e',\n '656d9cf7cba0a1193d9cc99f',\n '656d9cf7cba0a1193d9cc9a0',\n '656d9cf7cba0a1193d9cc9a1',\n '656d9cf7cba0a1193d9cc9a2',\n '656d9cf7cba0a1193d9cc9a3',\n '656d9cf7cba0a1193d9cc9a4',\n '656d9cf7cba0a1193d9cc9a5',\n '656d9cf7cba0a1193d9cc9a6',\n '656d9cf7cba0a1193d9cca47',\n '656d9cf7cba0a1193d9cca48',\n '656d9cf7cba0a1193d9cca49',\n '656d9cf7cba0a1193d9cca4a',\n '656d9cf7cba0a1193d9cca4b',\n '656d9cf7cba0a1193d9cca4c',\n '656d9cf7cba0a1193d9cca4d',\n '656d9cf7cba0a1193d9cca4e',\n '656d9cf7cba0a1193d9cca4f',\n '656d9cf7cba0a1193d9cca50',\n '656d9cf7cba0a1193d9cca51',\n '656d9cf7cba0a1193d9cca52',\n '656d9cf7cba0a1193d9cca53',\n '656d9cf7cba0a1193d9cca54',\n '656d9cf7cba0a1193d9cca55',\n '656d9cf7cba0a1193d9cca56',\n '656d9cf7cba0a1193d9cca57',\n '656d9cf7cba0a1193d9cca58',\n '656d9cf7cba0a1193d9cca59',\n '656d9cf7cba0a1193d9cca5a',\n '656d9cf7cba0a1193d9cca5b',\n '656d9cf7cba0a1193d9cca5c',\n '656d9cf7cba0a1193d9cca5d',\n '656d9cf7cba0a1193d9cca5e',\n '656d9cf7cba0a1193d9cca5f',\n '656d9cf7cba0a1193d9cca60',\n '656d9cf7cba0a1193d9cca61',\n '656d9cf7cba0a1193d9cca62',\n '656d9cf7cba0a1193d9cca63',\n '656d9cf7cba0a1193d9cca64',\n '656d9cf7cba0a1193d9cca65',\n '656d9cf7cba0a1193d9cca66',\n '656d9cf7cba0a1193d9cca67',\n '656d9cf7cba0a1193d9cca68',\n '656d9cf7cba0a1193d9cca69',\n '656d9cf7cba0a1193d9cca6a',\n '656d9cf7cba0a1193d9cca6b',\n '656d9cf7cba0a1193d9cca6c',\n '656d9cf7cba0a1193d9cca6d',\n '656d9cf7cba0a1193d9cca6e',\n '656d9cf7cba0a1193d9cca6f',\n '656d9cf7cba0a1193d9cca70',\n '656d9cf7cba0a1193d9cca71',\n '656d9cf7cba0a1193d9cca72',\n '656d9cf7cba0a1193d9cca73',\n '656d9cf7cba0a1193d9cca74',\n '656d9cf7cba0a1193d9cca75',\n '656d9cf7cba0a1193d9cca76',\n '656d9cf7cba0a1193d9cca77',\n '656d9cf7cba0a1193d9cca78',\n '656d9cf7cba0a1193d9cca79',\n '656d9cf7cba0a1193d9cca7a',\n '656d9cf7cba0a1193d9cca7b']"
     },
     "execution_count": 47,
     "metadata": {},
     "output_type": "execute_result"
    }
   ],
   "source": [
    "import fiftyone as fo\n",
    "\n",
    "\n",
    "# Initialize the main dataset\n",
    "name = \"dog_fence-test\"\n",
    "dataset = fo.Dataset(name)\n",
    "\n",
    "# Load and tag the first dataset\n",
    "dataset_dir = \"D://Data//roboflow//2_dog_fence//test\"\n",
    "dataset.add_dir(\n",
    "    dataset_dir=dataset_dir,\n",
    "    dataset_type=fo.types.COCODetectionDataset,\n",
    ")\n",
    "    "
   ],
   "metadata": {
    "collapsed": false,
    "ExecuteTime": {
     "end_time": "2023-12-04T09:33:43.830404600Z",
     "start_time": "2023-12-04T09:33:43.562688500Z"
    }
   },
   "id": "410179c8b2359df8"
  },
  {
   "cell_type": "markdown",
   "source": [
    "### 3) dog_nosework"
   ],
   "metadata": {
    "collapsed": false
   },
   "id": "23e339bf039610d2"
  },
  {
   "cell_type": "code",
   "execution_count": 48,
   "outputs": [
    {
     "name": "stdout",
     "output_type": "stream",
     "text": [
      " 100% |█████████████████| 132/132 [146.2ms elapsed, 0s remaining, 902.9 samples/s]    \n"
     ]
    }
   ],
   "source": [
    "# Load and tag the second dataset into a separate Dataset object\n",
    "dataset_dir2 = \"D://Data//roboflow//3_dog_nosework//test\"\n",
    "merge_classes = ['dog_fence', 'dog_nosework']\n",
    "dataset.merge_dir(\n",
    "    dataset_dir = dataset_dir2,\n",
    "    dataset_type = fo.types.COCODetectionDataset,\n",
    ")"
   ],
   "metadata": {
    "collapsed": false,
    "ExecuteTime": {
     "end_time": "2023-12-04T09:33:56.722275100Z",
     "start_time": "2023-12-04T09:33:56.366212400Z"
    }
   },
   "id": "6fc2570738ede1c2"
  },
  {
   "cell_type": "markdown",
   "source": [
    "### 4) cat_tower"
   ],
   "metadata": {
    "collapsed": false
   },
   "id": "a131f9386f246613"
  },
  {
   "cell_type": "code",
   "execution_count": 49,
   "outputs": [
    {
     "name": "stdout",
     "output_type": "stream",
     "text": [
      " 100% |█████████████████| 121/121 [113.3ms elapsed, 0s remaining, 1.1K samples/s]  \n"
     ]
    }
   ],
   "source": [
    "# Load and tag the second dataset into a separate Dataset object\n",
    "dataset_dir3 = \"D://Data//roboflow//4_cat_tower//test\"\n",
    "merge_classes = ['dog_fence', 'dog_nosework', 'cat_tower']\n",
    "dataset.merge_dir(\n",
    "    dataset_dir = dataset_dir3,\n",
    "    dataset_type = fo.types.COCODetectionDataset,\n",
    ")"
   ],
   "metadata": {
    "collapsed": false,
    "ExecuteTime": {
     "end_time": "2023-12-04T09:34:11.142770400Z",
     "start_time": "2023-12-04T09:34:10.809515100Z"
    }
   },
   "id": "10bc47f690abb721"
  },
  {
   "cell_type": "markdown",
   "source": [
    "### 5) cat_scratcher"
   ],
   "metadata": {
    "collapsed": false
   },
   "id": "9ce7b00d04bec34e"
  },
  {
   "cell_type": "code",
   "execution_count": 50,
   "outputs": [
    {
     "name": "stdout",
     "output_type": "stream",
     "text": [
      " 100% |█████████████████| 234/234 [210.0ms elapsed, 0s remaining, 1.1K samples/s]      \n"
     ]
    }
   ],
   "source": [
    "# Load and tag the second dataset into a separate Dataset object\n",
    "dataset_dir4 = \"D://Data//roboflow//5_cat_scratcher//test\"\n",
    "merge_classes = ['dog_fence', 'dog_nosework', 'cat_tower', 'cat_scratcher']\n",
    "dataset.merge_dir(\n",
    "    dataset_dir = dataset_dir4,\n",
    "    dataset_type = fo.types.COCODetectionDataset,\n",
    ")"
   ],
   "metadata": {
    "collapsed": false,
    "ExecuteTime": {
     "end_time": "2023-12-04T09:34:19.610448900Z",
     "start_time": "2023-12-04T09:34:19.097881100Z"
    }
   },
   "id": "1eba9f84d93ae63"
  },
  {
   "cell_type": "markdown",
   "source": [
    "### 6) cat_toilet"
   ],
   "metadata": {
    "collapsed": false
   },
   "id": "23e4f20623c23150"
  },
  {
   "cell_type": "code",
   "execution_count": 51,
   "outputs": [
    {
     "name": "stdout",
     "output_type": "stream",
     "text": [
      " 100% |█████████████████| 238/238 [215.2ms elapsed, 0s remaining, 1.1K samples/s]       \n"
     ]
    }
   ],
   "source": [
    "# Load and tag the second dataset into a separate Dataset object\n",
    "dataset_dir5 = \"D://Data//roboflow//6_cat_toilet//test\"\n",
    "merge_classes = ['dog_fence', 'dog_nosework', 'cat_tower', 'cat_scratcher', 'cat_toilet']\n",
    "dataset.merge_dir(\n",
    "    dataset_dir = dataset_dir5,\n",
    "    dataset_type = fo.types.COCODetectionDataset,\n",
    ")"
   ],
   "metadata": {
    "collapsed": false,
    "ExecuteTime": {
     "end_time": "2023-12-04T09:34:26.676178100Z",
     "start_time": "2023-12-04T09:34:26.327432500Z"
    }
   },
   "id": "2b105ca903571ac0"
  },
  {
   "cell_type": "markdown",
   "source": [
    "### 7) house"
   ],
   "metadata": {
    "collapsed": false
   },
   "id": "97a565e921eb749d"
  },
  {
   "cell_type": "code",
   "execution_count": 52,
   "outputs": [
    {
     "name": "stdout",
     "output_type": "stream",
     "text": [
      " 100% |█████████████████| 463/463 [367.4ms elapsed, 0s remaining, 1.3K samples/s]      \n"
     ]
    }
   ],
   "source": [
    "# Load and tag the second dataset into a separate Dataset object\n",
    "dataset_dir6 = \"D://Data//roboflow//7_house//test\"\n",
    "merge_classes = ['dog_fence', 'dog_nosework', 'cat_tower', 'cat_scratcher', 'cat_toilet', 'house']\n",
    "dataset.merge_dir(\n",
    "    dataset_dir = dataset_dir6,\n",
    "    dataset_type = fo.types.COCODetectionDataset,\n",
    ")"
   ],
   "metadata": {
    "collapsed": false,
    "ExecuteTime": {
     "end_time": "2023-12-04T09:34:34.927517400Z",
     "start_time": "2023-12-04T09:34:34.079227700Z"
    }
   },
   "id": "ecd0173d1f59214f"
  },
  {
   "cell_type": "markdown",
   "source": [
    "### 8) carrier"
   ],
   "metadata": {
    "collapsed": false
   },
   "id": "8bfa8e4bbb8be250"
  },
  {
   "cell_type": "code",
   "execution_count": 53,
   "outputs": [
    {
     "name": "stdout",
     "output_type": "stream",
     "text": [
      " 100% |█████████████████| 297/297 [247.6ms elapsed, 0s remaining, 1.2K samples/s]     \n"
     ]
    }
   ],
   "source": [
    "# Load and tag the second dataset into a separate Dataset object\n",
    "dataset_dir7 = \"D://Data//roboflow//8_carrier//test\"\n",
    "merge_classes = ['dog_fence', 'dog_nosework', 'cat_tower', 'cat_scratcher', 'cat_toilet', 'house', 'carrier']\n",
    "dataset.merge_dir(\n",
    "    dataset_dir = dataset_dir7,\n",
    "    dataset_type = fo.types.COCODetectionDataset,\n",
    ")"
   ],
   "metadata": {
    "collapsed": false,
    "ExecuteTime": {
     "end_time": "2023-12-04T09:34:43.968391200Z",
     "start_time": "2023-12-04T09:34:43.423551600Z"
    }
   },
   "id": "7b08908c4e4bc5b8"
  },
  {
   "cell_type": "markdown",
   "source": [
    "### 9) clothes"
   ],
   "metadata": {
    "collapsed": false
   },
   "id": "e19cb769b593f032"
  },
  {
   "cell_type": "code",
   "execution_count": 54,
   "outputs": [
    {
     "name": "stdout",
     "output_type": "stream",
     "text": [
      " 100% |█████████████████| 342/342 [314.9ms elapsed, 0s remaining, 1.1K samples/s]      \n"
     ]
    }
   ],
   "source": [
    "# Load and tag the second dataset into a separate Dataset object\n",
    "dataset_dir8 = \"D://Data//roboflow//9_clothes//test\"\n",
    "merge_classes = ['dog_fence', 'dog_nosework', 'cat_tower', 'cat_scratcher', 'cat_toilet', 'house', 'carrier', 'clothes']\n",
    "dataset.merge_dir(\n",
    "    dataset_dir = dataset_dir8,\n",
    "    dataset_type = fo.types.COCODetectionDataset,\n",
    ")"
   ],
   "metadata": {
    "collapsed": false,
    "ExecuteTime": {
     "end_time": "2023-12-04T09:34:52.324601100Z",
     "start_time": "2023-12-04T09:34:51.636707100Z"
    }
   },
   "id": "3c30e3b664998193"
  },
  {
   "cell_type": "markdown",
   "source": [
    "### 10) Export"
   ],
   "metadata": {
    "collapsed": false
   },
   "id": "5dece27cd741b220"
  },
  {
   "cell_type": "code",
   "execution_count": 55,
   "outputs": [
    {
     "name": "stdout",
     "output_type": "stream",
     "text": [
      "Directory 'D://Data//roboflow//merged' already exists; export will be merged with existing files\n",
      " 100% |███████████████| 1943/1943 [19.6s elapsed, 0s remaining, 234.5 samples/s]      \n"
     ]
    }
   ],
   "source": [
    "# Export each split\n",
    "export_dir = \"D://Data//roboflow//merged\"\n",
    "\n",
    "dataset.export(\n",
    "    export_dir=export_dir,\n",
    "    dataset_type=fo.types.COCODetectionDataset,\n",
    "    classes=merge_classes\n",
    ")\n",
    "    "
   ],
   "metadata": {
    "collapsed": false,
    "ExecuteTime": {
     "end_time": "2023-12-04T09:35:20.553271800Z",
     "start_time": "2023-12-04T09:35:00.912480700Z"
    }
   },
   "id": "313f3c662ee591fa"
  },
  {
   "cell_type": "markdown",
   "source": [
    "# 3. Load and Export OpenImages V7"
   ],
   "metadata": {
    "collapsed": false
   },
   "id": "4b6d8896a5302720"
  },
  {
   "cell_type": "markdown",
   "source": [
    "## 1. Train"
   ],
   "metadata": {
    "collapsed": false
   },
   "id": "2f13d3fe277b8166"
  },
  {
   "cell_type": "code",
   "execution_count": 94,
   "outputs": [
    {
     "name": "stdout",
     "output_type": "stream",
     "text": [
      "Loading class: Dog\n",
      "Downloading split 'train' to 'D://Data//Fiftyone\\open-images-v7\\train' if necessary\n",
      "Necessary images already downloaded\n",
      "Existing download of split 'train' is sufficient\n",
      "Loading existing dataset 'open-images-v7-dog-train'. To reload from disk, either delete the existing dataset or provide a custom `dataset_name` to use\n",
      " 100% |███████████████| 5000/5000 [15.9s elapsed, 0s remaining, 308.8 samples/s]      \n",
      "Loading class: Cat\n",
      "Downloading split 'train' to 'D://Data//Fiftyone\\open-images-v7\\train' if necessary\n",
      "Necessary images already downloaded\n",
      "Existing download of split 'train' is sufficient\n",
      "Loading existing dataset 'open-images-v7-cat-train'. To reload from disk, either delete the existing dataset or provide a custom `dataset_name` to use\n",
      " 100% |███████████████| 5000/5000 [10.2s elapsed, 0s remaining, 469.1 samples/s]      \n",
      "Directory 'D://Data//openimages' already exists; export will be merged with existing files\n",
      "Ignoring unsupported parameter 'abs_path'\n",
      " 100% |█████████████| 10000/10000 [4.0m elapsed, 0s remaining, 34.8 samples/s]      \n"
     ]
    }
   ],
   "source": [
    "import fiftyone as fo\n",
    "import fiftyone.zoo as foz\n",
    "import os\n",
    "\n",
    "\n",
    "classes = [\n",
    "    \"Dog\", \"Cat\"\n",
    "]\n",
    "\n",
    "# Specify your custom download directory\n",
    "dataset_dir = \"D://Data//Fiftyone\"  # Replace with your desired path\n",
    "\n",
    "# Set the base data directory for FiftyOne\n",
    "fo.config.dataset_zoo_dir = dataset_dir\n",
    "\n",
    "# Create an empty dataset\n",
    "accumulated_dataset = fo.Dataset()\n",
    "\n",
    "for cls in classes:\n",
    "    print(f\"Loading class: {cls}\")\n",
    "\n",
    "    # Generate a unique dataset name for each class\n",
    "    dataset_name = f\"open-images-v7-{cls.lower().replace(' ', '-')}-train\"\n",
    "\n",
    "    dataset = foz.load_zoo_dataset(\n",
    "        \"open-images-v7\",\n",
    "        split=\"train\",\n",
    "        classes=[cls],\n",
    "        label_types=[\"detections\"],\n",
    "        max_samples=5000,\n",
    "        seed=51,\n",
    "        shuffle=True,\n",
    "        dataset_name=dataset_name  # Use the unique dataset name here\n",
    "    )\n",
    "\n",
    "    # Add samples to the accumulated dataset\n",
    "    accumulated_dataset.add_samples(dataset)\n",
    "\n",
    "# # 축적된 데이터셋 저장\n",
    "# accumulated_dataset.persistent = True\n",
    "# accumulated_dataset_name = \"accumulated_openimages_dataset\"\n",
    "# accumulated_dataset.save(accumulated_dataset_name)\n",
    "# print(f\"데이터셋 '{accumulated_dataset_name}' 저장 완료.\")\n",
    "\n",
    "# Now `accumulated_dataset` contains all the data\n",
    "\n",
    "view = accumulated_dataset.filter_labels(\"ground_truth\", \n",
    "                         fo.ViewField(\"label\").is_in(classes))\n",
    "\n",
    "# Export the dataset in YOLOv5 format\n",
    "classes=[\"Dog\", \"Cat\"]\n",
    "view.export(\n",
    "    export_dir=\"D://Data//openimages\",  # Replace with your desired path\n",
    "    dataset_type=fo.types.COCODetectionDataset, \n",
    "    classes=classes,\n",
    "    abs_path=True\n",
    ")"
   ],
   "metadata": {
    "collapsed": false,
    "ExecuteTime": {
     "end_time": "2023-12-04T12:50:42.124981500Z",
     "start_time": "2023-12-04T12:43:24.784671200Z"
    }
   },
   "id": "f32f791ea65db4f9"
  },
  {
   "cell_type": "markdown",
   "source": [
    "## 2. Validation"
   ],
   "metadata": {
    "collapsed": false
   },
   "id": "b2408cf205362f1b"
  },
  {
   "cell_type": "code",
   "execution_count": 99,
   "outputs": [
    {
     "name": "stdout",
     "output_type": "stream",
     "text": [
      "Loading class: Dog\n",
      "Downloading split 'validation' to 'D://Data//Fiftyone\\open-images-v7\\validation' if necessary\n",
      "Necessary images already downloaded\n",
      "Existing download of split 'validation' is sufficient\n",
      "Loading 'open-images-v7' split 'validation'\n",
      " 100% |█████████████████| 625/625 [1.5s elapsed, 0s remaining, 424.3 samples/s]         \n",
      "Dataset 'open-images-v7-dog-validation' created\n",
      " 100% |█████████████████| 625/625 [1.8s elapsed, 0s remaining, 351.5 samples/s]         \n",
      "Loading class: Cat\n",
      "Downloading split 'validation' to 'D://Data//Fiftyone\\open-images-v7\\validation' if necessary\n",
      "Only found 345 (<625) samples matching your requirements\n",
      "Necessary images already downloaded\n",
      "Existing download of split 'validation' is sufficient\n",
      "Loading 'open-images-v7' split 'validation'\n",
      " 100% |█████████████████| 345/345 [470.3ms elapsed, 0s remaining, 735.8 samples/s]      \n",
      "Dataset 'open-images-v7-cat-validation' created\n",
      " 100% |█████████████████| 345/345 [733.8ms elapsed, 0s remaining, 471.2 samples/s]      \n",
      "Directory 'D://Data//openimages' already exists; export will be merged with existing files\n",
      " 100% |█████████████████| 970/970 [5.9s elapsed, 0s remaining, 171.9 samples/s]      \n"
     ]
    }
   ],
   "source": [
    "import fiftyone as fo\n",
    "import fiftyone.zoo as foz\n",
    "import os\n",
    "\n",
    "\n",
    "classes = [\n",
    "    \"Dog\", \"Cat\"\n",
    "]\n",
    "\n",
    "# Specify your custom download directory\n",
    "dataset_dir = \"D://Data//Fiftyone\"  # Replace with your desired path\n",
    "\n",
    "# Set the base data directory for FiftyOne\n",
    "fo.config.dataset_zoo_dir = dataset_dir\n",
    "\n",
    "# Create an empty dataset\n",
    "accumulated_dataset = fo.Dataset()\n",
    "\n",
    "for cls in classes:\n",
    "    print(f\"Loading class: {cls}\")\n",
    "\n",
    "    # Generate a unique dataset name for each class\n",
    "    dataset_name = f\"open-images-v7-{cls.lower().replace(' ', '-')}-validation\"\n",
    "\n",
    "    dataset = foz.load_zoo_dataset(\n",
    "        \"open-images-v7\",\n",
    "        split=\"validation\",\n",
    "        classes=[cls],\n",
    "        label_types=[\"detections\"],\n",
    "        max_samples=625,\n",
    "        seed=51,\n",
    "        shuffle=True,\n",
    "        dataset_name=dataset_name  # Use the unique dataset name here\n",
    "    )\n",
    "\n",
    "    # Add samples to the accumulated dataset\n",
    "    accumulated_dataset.add_samples(dataset)\n",
    "\n",
    "# # 축적된 데이터셋 저장\n",
    "# accumulated_dataset.persistent = True\n",
    "# accumulated_dataset_name = \"accumulated_openimages_dataset\"\n",
    "# accumulated_dataset.save(accumulated_dataset_name)\n",
    "# print(f\"데이터셋 '{accumulated_dataset_name}' 저장 완료.\")\n",
    "\n",
    "# Now `accumulated_dataset` contains all the data\n",
    "\n",
    "view = accumulated_dataset.filter_labels(\"ground_truth\", \n",
    "                         fo.ViewField(\"label\").is_in(classes))\n",
    "\n",
    "# Export the dataset in YOLOv5 format\n",
    "classes=[\"Dog\", \"Cat\"]\n",
    "view.export(\n",
    "    export_dir=\"D://Data//openimages\",  # Replace with your desired path\n",
    "    dataset_type=fo.types.COCODetectionDataset, \n",
    "    classes=classes,\n",
    ")"
   ],
   "metadata": {
    "collapsed": false,
    "ExecuteTime": {
     "end_time": "2023-12-04T13:05:30.778460500Z",
     "start_time": "2023-12-04T13:05:18.097451600Z"
    }
   },
   "id": "4bc6a36e2006245a"
  },
  {
   "cell_type": "markdown",
   "source": [
    "## 3. Test"
   ],
   "metadata": {
    "collapsed": false
   },
   "id": "15f722ce388d9ed0"
  },
  {
   "cell_type": "code",
   "execution_count": 100,
   "outputs": [
    {
     "name": "stdout",
     "output_type": "stream",
     "text": [
      "Loading class: Dog\n",
      "Downloading split 'validation' to 'D://Data//Fiftyone\\open-images-v7\\validation' if necessary\n",
      "Necessary images already downloaded\n",
      "Existing download of split 'validation' is sufficient\n",
      "Loading 'open-images-v7' split 'validation'\n",
      " 100% |█████████████████| 625/625 [1.3s elapsed, 0s remaining, 463.3 samples/s]         \n",
      "Dataset 'open-images-v7-dog-test' created\n",
      " 100% |█████████████████| 625/625 [1.8s elapsed, 0s remaining, 356.9 samples/s]         \n",
      "Loading class: Cat\n",
      "Downloading split 'validation' to 'D://Data//Fiftyone\\open-images-v7\\validation' if necessary\n",
      "Only found 345 (<625) samples matching your requirements\n",
      "Necessary images already downloaded\n",
      "Existing download of split 'validation' is sufficient\n",
      "Loading 'open-images-v7' split 'validation'\n",
      " 100% |█████████████████| 345/345 [594.7ms elapsed, 0s remaining, 581.8 samples/s]      \n",
      "Dataset 'open-images-v7-cat-test' created\n",
      " 100% |█████████████████| 345/345 [599.4ms elapsed, 0s remaining, 577.1 samples/s]      \n",
      "Directory 'D://Data//openimages' already exists; export will be merged with existing files\n",
      " 100% |█████████████████| 970/970 [12.7s elapsed, 0s remaining, 97.2 samples/s]      \n"
     ]
    }
   ],
   "source": [
    "import fiftyone as fo\n",
    "import fiftyone.zoo as foz\n",
    "import os\n",
    "\n",
    "\n",
    "classes = [\n",
    "    \"Dog\", \"Cat\"\n",
    "]\n",
    "\n",
    "# Specify your custom download directory\n",
    "dataset_dir = \"D://Data//Fiftyone\"  # Replace with your desired path\n",
    "\n",
    "# Set the base data directory for FiftyOne\n",
    "fo.config.dataset_zoo_dir = dataset_dir\n",
    "\n",
    "# Create an empty dataset\n",
    "accumulated_dataset = fo.Dataset()\n",
    "\n",
    "for cls in classes:\n",
    "    print(f\"Loading class: {cls}\")\n",
    "\n",
    "    # Generate a unique dataset name for each class\n",
    "    dataset_name = f\"open-images-v7-{cls.lower().replace(' ', '-')}-test\"\n",
    "\n",
    "    dataset = foz.load_zoo_dataset(\n",
    "        \"open-images-v7\",\n",
    "        split=\"validation\",\n",
    "        classes=[cls],\n",
    "        label_types=[\"detections\"],\n",
    "        max_samples=625,\n",
    "        seed=51,\n",
    "        shuffle=True,\n",
    "        dataset_name=dataset_name  # Use the unique dataset name here\n",
    "    )\n",
    "\n",
    "    # Add samples to the accumulated dataset\n",
    "    accumulated_dataset.add_samples(dataset)\n",
    "\n",
    "# # 축적된 데이터셋 저장\n",
    "# accumulated_dataset.persistent = True\n",
    "# accumulated_dataset_name = \"accumulated_openimages_dataset\"\n",
    "# accumulated_dataset.save(accumulated_dataset_name)\n",
    "# print(f\"데이터셋 '{accumulated_dataset_name}' 저장 완료.\")\n",
    "\n",
    "# Now `accumulated_dataset` contains all the data\n",
    "\n",
    "view = accumulated_dataset.filter_labels(\"ground_truth\", \n",
    "                         fo.ViewField(\"label\").is_in(classes))\n",
    "\n",
    "# Export the dataset in YOLOv5 format\n",
    "classes=[\"Dog\", \"Cat\"]\n",
    "view.export(\n",
    "    export_dir=\"D://Data//openimages\",  # Replace with your desired path\n",
    "    dataset_type=fo.types.COCODetectionDataset, \n",
    "    classes=classes,\n",
    ")"
   ],
   "metadata": {
    "collapsed": false,
    "ExecuteTime": {
     "end_time": "2023-12-04T13:07:12.132864900Z",
     "start_time": "2023-12-04T13:06:52.393925900Z"
    }
   },
   "id": "faea993f8cf31684"
  },
  {
   "cell_type": "markdown",
   "source": [
    "# 4. OpenImagesV7 + Custom Dataset"
   ],
   "metadata": {
    "collapsed": false
   },
   "id": "d8ce878392b9a6c"
  },
  {
   "cell_type": "markdown",
   "source": [
    "## 1. Train"
   ],
   "metadata": {
    "collapsed": false
   },
   "id": "53d4ef79d793021d"
  },
  {
   "cell_type": "code",
   "execution_count": 95,
   "outputs": [
    {
     "name": "stdout",
     "output_type": "stream",
     "text": [
      " 100% |█████████████| 15493/15493 [13.8s elapsed, 0s remaining, 1.0K samples/s]       \n",
      " 100% |█████████████| 10000/10000 [12.0s elapsed, 0s remaining, 855.7 samples/s]      \n"
     ]
    },
    {
     "data": {
      "text/plain": "['656dcb6bcba0a1193daa5a42',\n '656dcb6bcba0a1193daa5a49',\n '656dcb6bcba0a1193daa5a4a',\n '656dcb6bcba0a1193daa5a55',\n '656dcb6bcba0a1193daa5a56',\n '656dcb6bcba0a1193daa5a57',\n '656dcb6bcba0a1193daa5a58',\n '656dcb6bcba0a1193daa5a6d',\n '656dcb6bcba0a1193daa5a6e',\n '656dcb6bcba0a1193daa5a6f',\n '656dcb6bcba0a1193daa5a70',\n '656dcb6bcba0a1193daa5a71',\n '656dcb6bcba0a1193daa5a72',\n '656dcb6bcba0a1193daa5a73',\n '656dcb6bcba0a1193daa5a74',\n '656dcb6bcba0a1193daa5a9f',\n '656dcb6bcba0a1193daa5aa0',\n '656dcb6bcba0a1193daa5aa1',\n '656dcb6bcba0a1193daa5aa2',\n '656dcb6bcba0a1193daa5aa3',\n '656dcb6bcba0a1193daa5aa4',\n '656dcb6bcba0a1193daa5aa5',\n '656dcb6bcba0a1193daa5aa6',\n '656dcb6bcba0a1193daa5aa7',\n '656dcb6bcba0a1193daa5aa8',\n '656dcb6bcba0a1193daa5aa9',\n '656dcb6bcba0a1193daa5aaa',\n '656dcb6bcba0a1193daa5aab',\n '656dcb6bcba0a1193daa5aac',\n '656dcb6bcba0a1193daa5aad',\n '656dcb6bcba0a1193daa5aae',\n '656dcb6bcba0a1193daa5b25',\n '656dcb6bcba0a1193daa5b26',\n '656dcb6bcba0a1193daa5b27',\n '656dcb6bcba0a1193daa5b28',\n '656dcb6bcba0a1193daa5b29',\n '656dcb6bcba0a1193daa5b2a',\n '656dcb6bcba0a1193daa5b2b',\n '656dcb6bcba0a1193daa5b2c',\n '656dcb6bcba0a1193daa5b2d',\n '656dcb6bcba0a1193daa5b2e',\n '656dcb6bcba0a1193daa5b2f',\n '656dcb6bcba0a1193daa5b30',\n '656dcb6bcba0a1193daa5b31',\n '656dcb6bcba0a1193daa5b32',\n '656dcb6bcba0a1193daa5b33',\n '656dcb6bcba0a1193daa5b34',\n '656dcb6bcba0a1193daa5b35',\n '656dcb6bcba0a1193daa5b36',\n '656dcb6bcba0a1193daa5b37',\n '656dcb6bcba0a1193daa5b38',\n '656dcb6bcba0a1193daa5b39',\n '656dcb6bcba0a1193daa5b3a',\n '656dcb6bcba0a1193daa5b3b',\n '656dcb6bcba0a1193daa5b3c',\n '656dcb6bcba0a1193daa5b3d',\n '656dcb6bcba0a1193daa5b3e',\n '656dcb6bcba0a1193daa5b3f',\n '656dcb6bcba0a1193daa5b40',\n '656dcb6bcba0a1193daa5b41',\n '656dcb6bcba0a1193daa5b42',\n '656dcb6bcba0a1193daa5b43',\n '656dcb6bcba0a1193daa5b44',\n '656dcb6bcba0a1193daa5bef',\n '656dcb6bcba0a1193daa5bf0',\n '656dcb6bcba0a1193daa5bf1',\n '656dcb6bcba0a1193daa5bf2',\n '656dcb6bcba0a1193daa5bf3',\n '656dcb6bcba0a1193daa5bf4',\n '656dcb6bcba0a1193daa5bf5',\n '656dcb6bcba0a1193daa5bf6',\n '656dcb6bcba0a1193daa5bf7',\n '656dcb6bcba0a1193daa5bf8',\n '656dcb6bcba0a1193daa5bf9',\n '656dcb6bcba0a1193daa5bfa',\n '656dcb6bcba0a1193daa5bfb',\n '656dcb6bcba0a1193daa5bfc',\n '656dcb6bcba0a1193daa5bfd',\n '656dcb6bcba0a1193daa5bfe',\n '656dcb6bcba0a1193daa5bff',\n '656dcb6bcba0a1193daa5c00',\n '656dcb6bcba0a1193daa5c01',\n '656dcb6bcba0a1193daa5c02',\n '656dcb6bcba0a1193daa5c03',\n '656dcb6bcba0a1193daa5c04',\n '656dcb6bcba0a1193daa5c05',\n '656dcb6bcba0a1193daa5c06',\n '656dcb6bcba0a1193daa5c07',\n '656dcb6bcba0a1193daa5c08',\n '656dcb6bcba0a1193daa5c09',\n '656dcb6bcba0a1193daa5c0a',\n '656dcb6bcba0a1193daa5c0b',\n '656dcb6bcba0a1193daa5c0c',\n '656dcb6bcba0a1193daa5c0d',\n '656dcb6bcba0a1193daa5c0e',\n '656dcb6bcba0a1193daa5c0f',\n '656dcb6bcba0a1193daa5c10',\n '656dcb6bcba0a1193daa5c11',\n '656dcb6bcba0a1193daa5c12',\n '656dcb6bcba0a1193daa5c13',\n '656dcb6bcba0a1193daa5c14',\n '656dcb6bcba0a1193daa5c15',\n '656dcb6bcba0a1193daa5c16',\n '656dcb6bcba0a1193daa5c17',\n '656dcb6bcba0a1193daa5c18',\n '656dcb6bcba0a1193daa5c19',\n '656dcb6bcba0a1193daa5c1a',\n '656dcb6bcba0a1193daa5c1b',\n '656dcb6bcba0a1193daa5c1c',\n '656dcb6bcba0a1193daa5c1d',\n '656dcb6bcba0a1193daa5c1e',\n '656dcb6bcba0a1193daa5c1f',\n '656dcb6bcba0a1193daa5c20',\n '656dcb6bcba0a1193daa5c21',\n '656dcb6bcba0a1193daa5c22',\n '656dcb6bcba0a1193daa5c23',\n '656dcb6bcba0a1193daa5c24',\n '656dcb6bcba0a1193daa5c25',\n '656dcb6bcba0a1193daa5c26',\n '656dcb6bcba0a1193daa5c27',\n '656dcb6bcba0a1193daa5c28',\n '656dcb6bcba0a1193daa5c29',\n '656dcb6bcba0a1193daa5c2a',\n '656dcb6bcba0a1193daa5c2b',\n '656dcb6bcba0a1193daa5c2c',\n '656dcb6bcba0a1193daa5c2d',\n '656dcb6bcba0a1193daa5c2e',\n '656dcb6bcba0a1193daa5d9f',\n '656dcb6bcba0a1193daa5da0',\n '656dcb6bcba0a1193daa5da1',\n '656dcb6bcba0a1193daa5da2',\n '656dcb6bcba0a1193daa5da3',\n '656dcb6bcba0a1193daa5da4',\n '656dcb6bcba0a1193daa5da5',\n '656dcb6bcba0a1193daa5da6',\n '656dcb6bcba0a1193daa5da7',\n '656dcb6bcba0a1193daa5da8',\n '656dcb6bcba0a1193daa5da9',\n '656dcb6bcba0a1193daa5daa',\n '656dcb6bcba0a1193daa5dab',\n '656dcb6bcba0a1193daa5dac',\n '656dcb6bcba0a1193daa5dad',\n '656dcb6bcba0a1193daa5dae',\n '656dcb6bcba0a1193daa5daf',\n '656dcb6bcba0a1193daa5db0',\n '656dcb6bcba0a1193daa5db1',\n '656dcb6bcba0a1193daa5db2',\n '656dcb6bcba0a1193daa5db3',\n '656dcb6bcba0a1193daa5db4',\n '656dcb6bcba0a1193daa5db5',\n '656dcb6bcba0a1193daa5db6',\n '656dcb6bcba0a1193daa5db7',\n '656dcb6bcba0a1193daa5db8',\n '656dcb6bcba0a1193daa5db9',\n '656dcb6bcba0a1193daa5dba',\n '656dcb6bcba0a1193daa5dbb',\n '656dcb6bcba0a1193daa5dbc',\n '656dcb6bcba0a1193daa5dbd',\n '656dcb6bcba0a1193daa5dbe',\n '656dcb6bcba0a1193daa5dbf',\n '656dcb6bcba0a1193daa5dc0',\n '656dcb6bcba0a1193daa5dc1',\n '656dcb6bcba0a1193daa5dc2',\n '656dcb6bcba0a1193daa5dc3',\n '656dcb6bcba0a1193daa5dc4',\n '656dcb6bcba0a1193daa5dc5',\n '656dcb6bcba0a1193daa5dc6',\n '656dcb6bcba0a1193daa5dc7',\n '656dcb6bcba0a1193daa5dc8',\n '656dcb6bcba0a1193daa5dc9',\n '656dcb6bcba0a1193daa5dca',\n '656dcb6bcba0a1193daa5dcb',\n '656dcb6bcba0a1193daa5dcc',\n '656dcb6bcba0a1193daa5dcd',\n '656dcb6bcba0a1193daa5dce',\n '656dcb6bcba0a1193daa5dcf',\n '656dcb6bcba0a1193daa5dd0',\n '656dcb6bcba0a1193daa5dd1',\n '656dcb6bcba0a1193daa5dd2',\n '656dcb6bcba0a1193daa5dd3',\n '656dcb6bcba0a1193daa5dd4',\n '656dcb6bcba0a1193daa5dd5',\n '656dcb6bcba0a1193daa5dd6',\n '656dcb6bcba0a1193daa5dd7',\n '656dcb6bcba0a1193daa5dd8',\n '656dcb6bcba0a1193daa5dd9',\n '656dcb6bcba0a1193daa5dda',\n '656dcb6bcba0a1193daa5ddb',\n '656dcb6bcba0a1193daa5ddc',\n '656dcb6bcba0a1193daa5ddd',\n '656dcb6bcba0a1193daa5dde',\n '656dcb6bcba0a1193daa5ddf',\n '656dcb6bcba0a1193daa5de0',\n '656dcb6bcba0a1193daa5de1',\n '656dcb6bcba0a1193daa5de2',\n '656dcb6bcba0a1193daa5de3',\n '656dcb6bcba0a1193daa5de4',\n '656dcb6bcba0a1193daa5de5',\n '656dcb6bcba0a1193daa5de6',\n '656dcb6bcba0a1193daa5de7',\n '656dcb6bcba0a1193daa5de8',\n '656dcb6bcba0a1193daa5de9',\n '656dcb6bcba0a1193daa5dea',\n '656dcb6bcba0a1193daa5deb',\n '656dcb6bcba0a1193daa5dec',\n '656dcb6bcba0a1193daa5ded',\n '656dcb6bcba0a1193daa5dee',\n '656dcb6bcba0a1193daa5def',\n '656dcb6bcba0a1193daa5df0',\n '656dcb6bcba0a1193daa5df1',\n '656dcb6bcba0a1193daa5df2',\n '656dcb6bcba0a1193daa5df3',\n '656dcb6bcba0a1193daa5df4',\n '656dcb6bcba0a1193daa5df5',\n '656dcb6bcba0a1193daa5df6',\n '656dcb6bcba0a1193daa5df7',\n '656dcb6bcba0a1193daa5df8',\n '656dcb6bcba0a1193daa5df9',\n '656dcb6bcba0a1193daa5dfa',\n '656dcb6bcba0a1193daa5dfb',\n '656dcb6bcba0a1193daa5dfc',\n '656dcb6bcba0a1193daa5dfd',\n '656dcb6bcba0a1193daa5dfe',\n '656dcb6bcba0a1193daa5dff',\n '656dcb6bcba0a1193daa5e00',\n '656dcb6bcba0a1193daa5e01',\n '656dcb6bcba0a1193daa5e02',\n '656dcb6bcba0a1193daa5e03',\n '656dcb6bcba0a1193daa5e04',\n '656dcb6bcba0a1193daa5e05',\n '656dcb6bcba0a1193daa5e06',\n '656dcb6bcba0a1193daa5e07',\n '656dcb6bcba0a1193daa5e08',\n '656dcb6bcba0a1193daa5e09',\n '656dcb6bcba0a1193daa5e0a',\n '656dcb6bcba0a1193daa5e0b',\n '656dcb6bcba0a1193daa5e0c',\n '656dcb6bcba0a1193daa5e0d',\n '656dcb6bcba0a1193daa5e0e',\n '656dcb6bcba0a1193daa5e0f',\n '656dcb6bcba0a1193daa5e10',\n '656dcb6bcba0a1193daa5e11',\n '656dcb6bcba0a1193daa5e12',\n '656dcb6bcba0a1193daa5e13',\n '656dcb6bcba0a1193daa5e14',\n '656dcb6bcba0a1193daa5e15',\n '656dcb6bcba0a1193daa5e16',\n '656dcb6bcba0a1193daa5e17',\n '656dcb6bcba0a1193daa5e18',\n '656dcb6bcba0a1193daa5e19',\n '656dcb6bcba0a1193daa5e1a',\n '656dcb6bcba0a1193daa5e1b',\n '656dcb6bcba0a1193daa5e1c',\n '656dcb6bcba0a1193daa5e1d',\n '656dcb6bcba0a1193daa5e1e',\n '656dcb6bcba0a1193daa6013',\n '656dcb6bcba0a1193daa6014',\n '656dcb6bcba0a1193daa6015',\n '656dcb6bcba0a1193daa6016',\n '656dcb6bcba0a1193daa6017',\n '656dcb6bcba0a1193daa6018',\n '656dcb6bcba0a1193daa6019',\n '656dcb6bcba0a1193daa601a',\n '656dcb6bcba0a1193daa601b',\n '656dcb6bcba0a1193daa601c',\n '656dcb6bcba0a1193daa601d',\n '656dcb6bcba0a1193daa601e',\n '656dcb6bcba0a1193daa601f',\n '656dcb6bcba0a1193daa6020',\n '656dcb6bcba0a1193daa6021',\n '656dcb6bcba0a1193daa6022',\n '656dcb6bcba0a1193daa6023',\n '656dcb6bcba0a1193daa6024',\n '656dcb6bcba0a1193daa6025',\n '656dcb6bcba0a1193daa6026',\n '656dcb6bcba0a1193daa6027',\n '656dcb6bcba0a1193daa6028',\n '656dcb6bcba0a1193daa6029',\n '656dcb6bcba0a1193daa602a',\n '656dcb6bcba0a1193daa602b',\n '656dcb6bcba0a1193daa602c',\n '656dcb6bcba0a1193daa602d',\n '656dcb6bcba0a1193daa602e',\n '656dcb6bcba0a1193daa602f',\n '656dcb6bcba0a1193daa6030',\n '656dcb6bcba0a1193daa6031',\n '656dcb6bcba0a1193daa6032',\n '656dcb6bcba0a1193daa6033',\n '656dcb6bcba0a1193daa6034',\n '656dcb6bcba0a1193daa6035',\n '656dcb6bcba0a1193daa6036',\n '656dcb6bcba0a1193daa6037',\n '656dcb6bcba0a1193daa6038',\n '656dcb6bcba0a1193daa6039',\n '656dcb6bcba0a1193daa603a',\n '656dcb6bcba0a1193daa603b',\n '656dcb6bcba0a1193daa603c',\n '656dcb6bcba0a1193daa603d',\n '656dcb6bcba0a1193daa603e',\n '656dcb6bcba0a1193daa603f',\n '656dcb6bcba0a1193daa6040',\n '656dcb6bcba0a1193daa6041',\n '656dcb6bcba0a1193daa6042',\n '656dcb6bcba0a1193daa6043',\n '656dcb6bcba0a1193daa6044',\n '656dcb6bcba0a1193daa6045',\n '656dcb6bcba0a1193daa6046',\n '656dcb6bcba0a1193daa6047',\n '656dcb6bcba0a1193daa6048',\n '656dcb6bcba0a1193daa6049',\n '656dcb6bcba0a1193daa604a',\n '656dcb6bcba0a1193daa604b',\n '656dcb6bcba0a1193daa604c',\n '656dcb6bcba0a1193daa604d',\n '656dcb6bcba0a1193daa604e',\n '656dcb6bcba0a1193daa604f',\n '656dcb6bcba0a1193daa6050',\n '656dcb6bcba0a1193daa6051',\n '656dcb6bcba0a1193daa6052',\n '656dcb6bcba0a1193daa6053',\n '656dcb6bcba0a1193daa6054',\n '656dcb6bcba0a1193daa6055',\n '656dcb6bcba0a1193daa6056',\n '656dcb6bcba0a1193daa6057',\n '656dcb6bcba0a1193daa6058',\n '656dcb6bcba0a1193daa6059',\n '656dcb6bcba0a1193daa605a',\n '656dcb6bcba0a1193daa605b',\n '656dcb6bcba0a1193daa605c',\n '656dcb6bcba0a1193daa605d',\n '656dcb6bcba0a1193daa605e',\n '656dcb6bcba0a1193daa605f',\n '656dcb6bcba0a1193daa6060',\n '656dcb6bcba0a1193daa6061',\n '656dcb6bcba0a1193daa6062',\n '656dcb6bcba0a1193daa6063',\n '656dcb6bcba0a1193daa6064',\n '656dcb6bcba0a1193daa6065',\n '656dcb6bcba0a1193daa6066',\n '656dcb6bcba0a1193daa6067',\n '656dcb6bcba0a1193daa6068',\n '656dcb6bcba0a1193daa6069',\n '656dcb6bcba0a1193daa606a',\n '656dcb6bcba0a1193daa606b',\n '656dcb6bcba0a1193daa606c',\n '656dcb6bcba0a1193daa606d',\n '656dcb6bcba0a1193daa606e',\n '656dcb6bcba0a1193daa606f',\n '656dcb6bcba0a1193daa6070',\n '656dcb6bcba0a1193daa6071',\n '656dcb6bcba0a1193daa6072',\n '656dcb6bcba0a1193daa6073',\n '656dcb6bcba0a1193daa6074',\n '656dcb6bcba0a1193daa6075',\n '656dcb6bcba0a1193daa6076',\n '656dcb6bcba0a1193daa6077',\n '656dcb6bcba0a1193daa6078',\n '656dcb6bcba0a1193daa6079',\n '656dcb6bcba0a1193daa607a',\n '656dcb6bcba0a1193daa607b',\n '656dcb6bcba0a1193daa607c',\n '656dcb6bcba0a1193daa607d',\n '656dcb6bcba0a1193daa607e',\n '656dcb6bcba0a1193daa607f',\n '656dcb6bcba0a1193daa6080',\n '656dcb6bcba0a1193daa6081',\n '656dcb6bcba0a1193daa6082',\n '656dcb6bcba0a1193daa6083',\n '656dcb6bcba0a1193daa6084',\n '656dcb6bcba0a1193daa6085',\n '656dcb6bcba0a1193daa6086',\n '656dcb6bcba0a1193daa6087',\n '656dcb6bcba0a1193daa6088',\n '656dcb6bcba0a1193daa6089',\n '656dcb6bcba0a1193daa608a',\n '656dcb6bcba0a1193daa608b',\n '656dcb6bcba0a1193daa608c',\n '656dcb6bcba0a1193daa608d',\n '656dcb6bcba0a1193daa608e',\n '656dcb6bcba0a1193daa608f',\n '656dcb6bcba0a1193daa6090',\n '656dcb6bcba0a1193daa6091',\n '656dcb6bcba0a1193daa6092',\n '656dcb6bcba0a1193daa6093',\n '656dcb6bcba0a1193daa6094',\n '656dcb6bcba0a1193daa6095',\n '656dcb6bcba0a1193daa6096',\n '656dcb6bcba0a1193daa6097',\n '656dcb6bcba0a1193daa6098',\n '656dcb6bcba0a1193daa6099',\n '656dcb6bcba0a1193daa609a',\n '656dcb6bcba0a1193daa609b',\n '656dcb6bcba0a1193daa609c',\n '656dcb6bcba0a1193daa609d',\n '656dcb6bcba0a1193daa609e',\n '656dcb6bcba0a1193daa609f',\n '656dcb6bcba0a1193daa60a0',\n '656dcb6bcba0a1193daa60a1',\n '656dcb6bcba0a1193daa60a2',\n '656dcb6bcba0a1193daa60a3',\n '656dcb6bcba0a1193daa60a4',\n '656dcb6bcba0a1193daa60a5',\n '656dcb6bcba0a1193daa60a6',\n '656dcb6bcba0a1193daa60a7',\n '656dcb6bcba0a1193daa60a8',\n '656dcb6bcba0a1193daa60a9',\n '656dcb6bcba0a1193daa60aa',\n '656dcb6bcba0a1193daa60ab',\n '656dcb6bcba0a1193daa60ac',\n '656dcb6bcba0a1193daa60ad',\n '656dcb6bcba0a1193daa60ae',\n '656dcb6bcba0a1193daa60af',\n '656dcb6bcba0a1193daa60b0',\n '656dcb6bcba0a1193daa60b1',\n '656dcb6bcba0a1193daa60b2',\n '656dcb6bcba0a1193daa60b3',\n '656dcb6bcba0a1193daa60b4',\n '656dcb6bcba0a1193daa60b5',\n '656dcb6bcba0a1193daa60b6',\n '656dcb6bcba0a1193daa60b7',\n '656dcb6bcba0a1193daa60b8',\n '656dcb6bcba0a1193daa60b9',\n '656dcb6bcba0a1193daa60ba',\n '656dcb6bcba0a1193daa60bb',\n '656dcb6bcba0a1193daa60bc',\n '656dcb6bcba0a1193daa60bd',\n '656dcb6bcba0a1193daa60be',\n '656dcb6bcba0a1193daa60bf',\n '656dcb6ccba0a1193daa62a2',\n '656dcb6ccba0a1193daa62a3',\n '656dcb6ccba0a1193daa62a4',\n '656dcb6ccba0a1193daa62a5',\n '656dcb6ccba0a1193daa62a6',\n '656dcb6ccba0a1193daa62a7',\n '656dcb6ccba0a1193daa62a8',\n '656dcb6ccba0a1193daa62a9',\n '656dcb6ccba0a1193daa62aa',\n '656dcb6ccba0a1193daa62ab',\n '656dcb6ccba0a1193daa62ac',\n '656dcb6ccba0a1193daa62ad',\n '656dcb6ccba0a1193daa62ae',\n '656dcb6ccba0a1193daa62af',\n '656dcb6ccba0a1193daa62b0',\n '656dcb6ccba0a1193daa62b1',\n '656dcb6ccba0a1193daa62b2',\n '656dcb6ccba0a1193daa62b3',\n '656dcb6ccba0a1193daa62b4',\n '656dcb6ccba0a1193daa62b5',\n '656dcb6ccba0a1193daa62b6',\n '656dcb6ccba0a1193daa62b7',\n '656dcb6ccba0a1193daa62b8',\n '656dcb6ccba0a1193daa62b9',\n '656dcb6ccba0a1193daa62ba',\n '656dcb6ccba0a1193daa62bb',\n '656dcb6ccba0a1193daa62bc',\n '656dcb6ccba0a1193daa62bd',\n '656dcb6ccba0a1193daa62be',\n '656dcb6ccba0a1193daa62bf',\n '656dcb6ccba0a1193daa62c0',\n '656dcb6ccba0a1193daa62c1',\n '656dcb6ccba0a1193daa62c2',\n '656dcb6ccba0a1193daa62c3',\n '656dcb6ccba0a1193daa62c4',\n '656dcb6ccba0a1193daa62c5',\n '656dcb6ccba0a1193daa62c6',\n '656dcb6ccba0a1193daa62c7',\n '656dcb6ccba0a1193daa62c8',\n '656dcb6ccba0a1193daa62c9',\n '656dcb6ccba0a1193daa62ca',\n '656dcb6ccba0a1193daa62cb',\n '656dcb6ccba0a1193daa62cc',\n '656dcb6ccba0a1193daa62cd',\n '656dcb6ccba0a1193daa62ce',\n '656dcb6ccba0a1193daa62cf',\n '656dcb6ccba0a1193daa62d0',\n '656dcb6ccba0a1193daa62d1',\n '656dcb6ccba0a1193daa62d2',\n '656dcb6ccba0a1193daa62d3',\n '656dcb6ccba0a1193daa62d4',\n '656dcb6ccba0a1193daa62d5',\n '656dcb6ccba0a1193daa62d6',\n '656dcb6ccba0a1193daa62d7',\n '656dcb6ccba0a1193daa62d8',\n '656dcb6ccba0a1193daa62d9',\n '656dcb6ccba0a1193daa62da',\n '656dcb6ccba0a1193daa62db',\n '656dcb6ccba0a1193daa62dc',\n '656dcb6ccba0a1193daa62dd',\n '656dcb6ccba0a1193daa62de',\n '656dcb6ccba0a1193daa62df',\n '656dcb6ccba0a1193daa62e0',\n '656dcb6ccba0a1193daa62e1',\n '656dcb6ccba0a1193daa62e2',\n '656dcb6ccba0a1193daa62e3',\n '656dcb6ccba0a1193daa62e4',\n '656dcb6ccba0a1193daa62e5',\n '656dcb6ccba0a1193daa62e6',\n '656dcb6ccba0a1193daa62e7',\n '656dcb6ccba0a1193daa62e8',\n '656dcb6ccba0a1193daa62e9',\n '656dcb6ccba0a1193daa62ea',\n '656dcb6ccba0a1193daa62eb',\n '656dcb6ccba0a1193daa62ec',\n '656dcb6ccba0a1193daa62ed',\n '656dcb6ccba0a1193daa62ee',\n '656dcb6ccba0a1193daa62ef',\n '656dcb6ccba0a1193daa62f0',\n '656dcb6ccba0a1193daa62f1',\n '656dcb6ccba0a1193daa62f2',\n '656dcb6ccba0a1193daa62f3',\n '656dcb6ccba0a1193daa62f4',\n '656dcb6ccba0a1193daa62f5',\n '656dcb6ccba0a1193daa62f6',\n '656dcb6ccba0a1193daa62f7',\n '656dcb6ccba0a1193daa62f8',\n '656dcb6ccba0a1193daa62f9',\n '656dcb6ccba0a1193daa62fa',\n '656dcb6ccba0a1193daa62fb',\n '656dcb6ccba0a1193daa62fc',\n '656dcb6ccba0a1193daa62fd',\n '656dcb6ccba0a1193daa62fe',\n '656dcb6ccba0a1193daa62ff',\n '656dcb6ccba0a1193daa6300',\n '656dcb6ccba0a1193daa6301',\n '656dcb6ccba0a1193daa6302',\n '656dcb6ccba0a1193daa6303',\n '656dcb6ccba0a1193daa6304',\n '656dcb6ccba0a1193daa6305',\n '656dcb6ccba0a1193daa6306',\n '656dcb6ccba0a1193daa6307',\n '656dcb6ccba0a1193daa6308',\n '656dcb6ccba0a1193daa6309',\n '656dcb6ccba0a1193daa630a',\n '656dcb6ccba0a1193daa630b',\n '656dcb6ccba0a1193daa630c',\n '656dcb6ccba0a1193daa630d',\n '656dcb6ccba0a1193daa630e',\n '656dcb6ccba0a1193daa630f',\n '656dcb6ccba0a1193daa6310',\n '656dcb6ccba0a1193daa6311',\n '656dcb6ccba0a1193daa6312',\n '656dcb6ccba0a1193daa6313',\n '656dcb6ccba0a1193daa6314',\n '656dcb6ccba0a1193daa6315',\n '656dcb6ccba0a1193daa6316',\n '656dcb6ccba0a1193daa6317',\n '656dcb6ccba0a1193daa6318',\n '656dcb6ccba0a1193daa6319',\n '656dcb6ccba0a1193daa631a',\n '656dcb6ccba0a1193daa631b',\n '656dcb6ccba0a1193daa631c',\n '656dcb6ccba0a1193daa631d',\n '656dcb6ccba0a1193daa631e',\n '656dcb6ccba0a1193daa631f',\n '656dcb6ccba0a1193daa6320',\n '656dcb6ccba0a1193daa6321',\n '656dcb6ccba0a1193daa6322',\n '656dcb6ccba0a1193daa6323',\n '656dcb6ccba0a1193daa6324',\n '656dcb6ccba0a1193daa6325',\n '656dcb6ccba0a1193daa6326',\n '656dcb6ccba0a1193daa6327',\n '656dcb6ccba0a1193daa6328',\n '656dcb6ccba0a1193daa6329',\n '656dcb6ccba0a1193daa632a',\n '656dcb6ccba0a1193daa632b',\n '656dcb6ccba0a1193daa632c',\n '656dcb6ccba0a1193daa632d',\n '656dcb6ccba0a1193daa632e',\n '656dcb6ccba0a1193daa632f',\n '656dcb6ccba0a1193daa6330',\n '656dcb6ccba0a1193daa6331',\n '656dcb6ccba0a1193daa6332',\n '656dcb6ccba0a1193daa6333',\n '656dcb6ccba0a1193daa6334',\n '656dcb6ccba0a1193daa6335',\n '656dcb6ccba0a1193daa6336',\n '656dcb6ccba0a1193daa6337',\n '656dcb6ccba0a1193daa6338',\n '656dcb6ccba0a1193daa6339',\n '656dcb6ccba0a1193daa633a',\n '656dcb6ccba0a1193daa633b',\n '656dcb6ccba0a1193daa633c',\n '656dcb6ccba0a1193daa633d',\n '656dcb6ccba0a1193daa633e',\n '656dcb6ccba0a1193daa633f',\n '656dcb6ccba0a1193daa6340',\n '656dcb6ccba0a1193daa6341',\n '656dcb6ccba0a1193daa6342',\n '656dcb6ccba0a1193daa6343',\n '656dcb6ccba0a1193daa6344',\n '656dcb6ccba0a1193daa6345',\n '656dcb6ccba0a1193daa6346',\n '656dcb6ccba0a1193daa6347',\n '656dcb6ccba0a1193daa6348',\n '656dcb6ccba0a1193daa6349',\n '656dcb6ccba0a1193daa634a',\n '656dcb6ccba0a1193daa634b',\n '656dcb6ccba0a1193daa634c',\n '656dcb6ccba0a1193daa634d',\n '656dcb6ccba0a1193daa634e',\n '656dcb6ccba0a1193daa634f',\n '656dcb6ccba0a1193daa6350',\n '656dcb6ccba0a1193daa64a3',\n '656dcb6ccba0a1193daa64a4',\n '656dcb6ccba0a1193daa64a5',\n '656dcb6ccba0a1193daa64a6',\n '656dcb6ccba0a1193daa64a7',\n '656dcb6ccba0a1193daa64a8',\n '656dcb6ccba0a1193daa64a9',\n '656dcb6ccba0a1193daa64aa',\n '656dcb6ccba0a1193daa64ab',\n '656dcb6ccba0a1193daa64ac',\n '656dcb6ccba0a1193daa64ad',\n '656dcb6ccba0a1193daa64ae',\n '656dcb6ccba0a1193daa64af',\n '656dcb6ccba0a1193daa64b0',\n '656dcb6ccba0a1193daa64b1',\n '656dcb6ccba0a1193daa64b2',\n '656dcb6ccba0a1193daa64b3',\n '656dcb6ccba0a1193daa64b4',\n '656dcb6ccba0a1193daa64b5',\n '656dcb6ccba0a1193daa64b6',\n '656dcb6ccba0a1193daa64b7',\n '656dcb6ccba0a1193daa64b8',\n '656dcb6ccba0a1193daa64b9',\n '656dcb6ccba0a1193daa64ba',\n '656dcb6ccba0a1193daa64bb',\n '656dcb6ccba0a1193daa64bc',\n '656dcb6ccba0a1193daa64bd',\n '656dcb6ccba0a1193daa64be',\n '656dcb6ccba0a1193daa64bf',\n '656dcb6ccba0a1193daa64c0',\n '656dcb6ccba0a1193daa64c1',\n '656dcb6ccba0a1193daa64c2',\n '656dcb6ccba0a1193daa64c3',\n '656dcb6ccba0a1193daa64c4',\n '656dcb6ccba0a1193daa64c5',\n '656dcb6ccba0a1193daa64c6',\n '656dcb6ccba0a1193daa64c7',\n '656dcb6ccba0a1193daa64c8',\n '656dcb6ccba0a1193daa64c9',\n '656dcb6ccba0a1193daa64ca',\n '656dcb6ccba0a1193daa64cb',\n '656dcb6ccba0a1193daa64cc',\n '656dcb6ccba0a1193daa64cd',\n '656dcb6ccba0a1193daa64ce',\n '656dcb6ccba0a1193daa64cf',\n '656dcb6ccba0a1193daa64d0',\n '656dcb6ccba0a1193daa64d1',\n '656dcb6ccba0a1193daa64d2',\n '656dcb6ccba0a1193daa64d3',\n '656dcb6ccba0a1193daa64d4',\n '656dcb6ccba0a1193daa64d5',\n '656dcb6ccba0a1193daa64d6',\n '656dcb6ccba0a1193daa64d7',\n '656dcb6ccba0a1193daa64d8',\n '656dcb6ccba0a1193daa64d9',\n '656dcb6ccba0a1193daa64da',\n '656dcb6ccba0a1193daa64db',\n '656dcb6ccba0a1193daa64dc',\n '656dcb6ccba0a1193daa64dd',\n '656dcb6ccba0a1193daa64de',\n '656dcb6ccba0a1193daa64df',\n '656dcb6ccba0a1193daa64e0',\n '656dcb6ccba0a1193daa64e1',\n '656dcb6ccba0a1193daa64e2',\n '656dcb6ccba0a1193daa64e3',\n '656dcb6ccba0a1193daa64e4',\n '656dcb6ccba0a1193daa64e5',\n '656dcb6ccba0a1193daa64e6',\n '656dcb6ccba0a1193daa64e7',\n '656dcb6ccba0a1193daa64e8',\n '656dcb6ccba0a1193daa64e9',\n '656dcb6ccba0a1193daa64ea',\n '656dcb6ccba0a1193daa64eb',\n '656dcb6ccba0a1193daa64ec',\n '656dcb6ccba0a1193daa64ed',\n '656dcb6ccba0a1193daa64ee',\n '656dcb6ccba0a1193daa64ef',\n '656dcb6ccba0a1193daa64f0',\n '656dcb6ccba0a1193daa64f1',\n '656dcb6ccba0a1193daa64f2',\n '656dcb6ccba0a1193daa64f3',\n '656dcb6ccba0a1193daa64f4',\n '656dcb6ccba0a1193daa64f5',\n '656dcb6ccba0a1193daa64f6',\n '656dcb6ccba0a1193daa64f7',\n '656dcb6ccba0a1193daa64f8',\n '656dcb6ccba0a1193daa64f9',\n '656dcb6ccba0a1193daa64fa',\n '656dcb6ccba0a1193daa64fb',\n '656dcb6ccba0a1193daa64fc',\n '656dcb6ccba0a1193daa64fd',\n '656dcb6ccba0a1193daa64fe',\n '656dcb6ccba0a1193daa64ff',\n '656dcb6ccba0a1193daa6500',\n '656dcb6ccba0a1193daa6501',\n '656dcb6ccba0a1193daa6502',\n '656dcb6ccba0a1193daa6503',\n '656dcb6ccba0a1193daa6504',\n '656dcb6ccba0a1193daa6505',\n '656dcb6ccba0a1193daa6506',\n '656dcb6ccba0a1193daa6507',\n '656dcb6ccba0a1193daa6508',\n '656dcb6ccba0a1193daa66a5',\n '656dcb6ccba0a1193daa66a6',\n '656dcb6ccba0a1193daa66a7',\n '656dcb6ccba0a1193daa66a8',\n '656dcb6ccba0a1193daa66a9',\n '656dcb6ccba0a1193daa66aa',\n '656dcb6ccba0a1193daa66ab',\n '656dcb6ccba0a1193daa66ac',\n '656dcb6ccba0a1193daa66ad',\n '656dcb6ccba0a1193daa66ae',\n '656dcb6ccba0a1193daa66af',\n '656dcb6ccba0a1193daa66b0',\n '656dcb6ccba0a1193daa66b1',\n '656dcb6ccba0a1193daa66b2',\n '656dcb6ccba0a1193daa66b3',\n '656dcb6ccba0a1193daa66b4',\n '656dcb6ccba0a1193daa66b5',\n '656dcb6ccba0a1193daa66b6',\n '656dcb6ccba0a1193daa66b7',\n '656dcb6ccba0a1193daa66b8',\n '656dcb6ccba0a1193daa66b9',\n '656dcb6ccba0a1193daa66ba',\n '656dcb6ccba0a1193daa66bb',\n '656dcb6ccba0a1193daa66bc',\n '656dcb6ccba0a1193daa66bd',\n '656dcb6ccba0a1193daa66be',\n '656dcb6ccba0a1193daa66bf',\n '656dcb6ccba0a1193daa66c0',\n '656dcb6ccba0a1193daa66c1',\n '656dcb6ccba0a1193daa66c2',\n '656dcb6ccba0a1193daa66c3',\n '656dcb6ccba0a1193daa66c4',\n '656dcb6ccba0a1193daa66c5',\n '656dcb6ccba0a1193daa66c6',\n '656dcb6ccba0a1193daa66c7',\n '656dcb6ccba0a1193daa66c8',\n '656dcb6ccba0a1193daa66c9',\n '656dcb6ccba0a1193daa66ca',\n '656dcb6ccba0a1193daa66cb',\n '656dcb6ccba0a1193daa66cc',\n '656dcb6ccba0a1193daa66cd',\n '656dcb6ccba0a1193daa66ce',\n '656dcb6ccba0a1193daa66cf',\n '656dcb6ccba0a1193daa66d0',\n '656dcb6ccba0a1193daa66d1',\n '656dcb6ccba0a1193daa66d2',\n '656dcb6ccba0a1193daa66d3',\n '656dcb6ccba0a1193daa66d4',\n '656dcb6ccba0a1193daa66d5',\n '656dcb6ccba0a1193daa66d6',\n '656dcb6ccba0a1193daa66d7',\n '656dcb6ccba0a1193daa66d8',\n '656dcb6ccba0a1193daa66d9',\n '656dcb6ccba0a1193daa66da',\n '656dcb6ccba0a1193daa66db',\n '656dcb6ccba0a1193daa66dc',\n '656dcb6ccba0a1193daa66dd',\n '656dcb6ccba0a1193daa66de',\n '656dcb6ccba0a1193daa66df',\n '656dcb6ccba0a1193daa66e0',\n '656dcb6ccba0a1193daa66e1',\n '656dcb6ccba0a1193daa66e2',\n '656dcb6ccba0a1193daa66e3',\n '656dcb6ccba0a1193daa66e4',\n '656dcb6ccba0a1193daa66e5',\n '656dcb6ccba0a1193daa66e6',\n '656dcb6ccba0a1193daa66e7',\n '656dcb6ccba0a1193daa66e8',\n '656dcb6ccba0a1193daa66e9',\n '656dcb6ccba0a1193daa66ea',\n '656dcb6ccba0a1193daa66eb',\n '656dcb6ccba0a1193daa66ec',\n '656dcb6ccba0a1193daa66ed',\n '656dcb6ccba0a1193daa66ee',\n '656dcb6ccba0a1193daa66ef',\n '656dcb6ccba0a1193daa66f0',\n '656dcb6ccba0a1193daa66f1',\n '656dcb6ccba0a1193daa66f2',\n '656dcb6ccba0a1193daa66f3',\n '656dcb6ccba0a1193daa66f4',\n '656dcb6ccba0a1193daa66f5',\n '656dcb6ccba0a1193daa66f6',\n '656dcb6ccba0a1193daa66f7',\n '656dcb6ccba0a1193daa66f8',\n '656dcb6ccba0a1193daa66f9',\n '656dcb6ccba0a1193daa66fa',\n '656dcb6ccba0a1193daa66fb',\n '656dcb6ccba0a1193daa66fc',\n '656dcb6ccba0a1193daa66fd',\n '656dcb6ccba0a1193daa66fe',\n '656dcb6ccba0a1193daa66ff',\n '656dcb6ccba0a1193daa6700',\n '656dcb6ccba0a1193daa6701',\n '656dcb6ccba0a1193daa6702',\n '656dcb6ccba0a1193daa6703',\n '656dcb6ccba0a1193daa6704',\n '656dcb6ccba0a1193daa6705',\n '656dcb6ccba0a1193daa6706',\n '656dcb6ccba0a1193daa6707',\n '656dcb6ccba0a1193daa6708',\n '656dcb6ccba0a1193daa6709',\n '656dcb6ccba0a1193daa670a',\n '656dcb6ccba0a1193daa670b',\n '656dcb6ccba0a1193daa670c',\n '656dcb6ccba0a1193daa670d',\n '656dcb6ccba0a1193daa670e',\n '656dcb6ccba0a1193daa670f',\n '656dcb6ccba0a1193daa6710',\n '656dcb6ccba0a1193daa6711',\n '656dcb6ccba0a1193daa6712',\n '656dcb6ccba0a1193daa6713',\n '656dcb6ccba0a1193daa6714',\n '656dcb6ccba0a1193daa6715',\n '656dcb6ccba0a1193daa6716',\n '656dcb6ccba0a1193daa6717',\n '656dcb6ccba0a1193daa6718',\n '656dcb6ccba0a1193daa6719',\n '656dcb6ccba0a1193daa671a',\n '656dcb6ccba0a1193daa671b',\n '656dcb6ccba0a1193daa671c',\n '656dcb6ccba0a1193daa671d',\n '656dcb6ccba0a1193daa671e',\n '656dcb6ccba0a1193daa671f',\n '656dcb6ccba0a1193daa6720',\n '656dcb6ccba0a1193daa6721',\n '656dcb6ccba0a1193daa6722',\n '656dcb6ccba0a1193daa6723',\n '656dcb6ccba0a1193daa6724',\n '656dcb6ccba0a1193daa6725',\n '656dcb6ccba0a1193daa6726',\n '656dcb6ccba0a1193daa6727',\n '656dcb6ccba0a1193daa6728',\n '656dcb6ccba0a1193daa6729',\n '656dcb6ccba0a1193daa672a',\n '656dcb6ccba0a1193daa672b',\n '656dcb6ccba0a1193daa672c',\n '656dcb6ccba0a1193daa672d',\n '656dcb6ccba0a1193daa672e',\n '656dcb6ccba0a1193daa672f',\n '656dcb6ccba0a1193daa6730',\n '656dcb6ccba0a1193daa6731',\n '656dcb6ccba0a1193daa6732',\n '656dcb6ccba0a1193daa6733',\n '656dcb6ccba0a1193daa6734',\n '656dcb6ccba0a1193daa6735',\n '656dcb6ccba0a1193daa6736',\n '656dcb6ccba0a1193daa6737',\n '656dcb6ccba0a1193daa6738',\n '656dcb6ccba0a1193daa6739',\n '656dcb6ccba0a1193daa673a',\n '656dcb6ccba0a1193daa673b',\n '656dcb6ccba0a1193daa673c',\n '656dcb6ccba0a1193daa673d',\n '656dcb6ccba0a1193daa673e',\n '656dcb6ccba0a1193daa690b',\n '656dcb6ccba0a1193daa690c',\n '656dcb6ccba0a1193daa690d',\n '656dcb6ccba0a1193daa690e',\n '656dcb6ccba0a1193daa690f',\n '656dcb6ccba0a1193daa6910',\n '656dcb6ccba0a1193daa6911',\n '656dcb6ccba0a1193daa6912',\n '656dcb6ccba0a1193daa6913',\n '656dcb6ccba0a1193daa6914',\n '656dcb6ccba0a1193daa6915',\n '656dcb6ccba0a1193daa6916',\n '656dcb6ccba0a1193daa6917',\n '656dcb6ccba0a1193daa6918',\n '656dcb6ccba0a1193daa6919',\n '656dcb6ccba0a1193daa691a',\n '656dcb6ccba0a1193daa691b',\n '656dcb6ccba0a1193daa691c',\n '656dcb6ccba0a1193daa691d',\n '656dcb6ccba0a1193daa691e',\n '656dcb6ccba0a1193daa691f',\n '656dcb6ccba0a1193daa6920',\n '656dcb6ccba0a1193daa6921',\n '656dcb6ccba0a1193daa6922',\n '656dcb6ccba0a1193daa6923',\n '656dcb6ccba0a1193daa6924',\n '656dcb6ccba0a1193daa6925',\n '656dcb6ccba0a1193daa6926',\n '656dcb6ccba0a1193daa6927',\n '656dcb6ccba0a1193daa6928',\n '656dcb6ccba0a1193daa6929',\n '656dcb6ccba0a1193daa692a',\n '656dcb6ccba0a1193daa692b',\n '656dcb6ccba0a1193daa692c',\n '656dcb6ccba0a1193daa692d',\n '656dcb6ccba0a1193daa692e',\n '656dcb6ccba0a1193daa692f',\n '656dcb6ccba0a1193daa6930',\n '656dcb6ccba0a1193daa6931',\n '656dcb6ccba0a1193daa6932',\n '656dcb6ccba0a1193daa6933',\n '656dcb6ccba0a1193daa6934',\n '656dcb6ccba0a1193daa6935',\n '656dcb6ccba0a1193daa6936',\n '656dcb6ccba0a1193daa6937',\n '656dcb6ccba0a1193daa6938',\n '656dcb6ccba0a1193daa6939',\n '656dcb6ccba0a1193daa693a',\n '656dcb6ccba0a1193daa693b',\n '656dcb6ccba0a1193daa693c',\n '656dcb6ccba0a1193daa693d',\n '656dcb6ccba0a1193daa693e',\n '656dcb6ccba0a1193daa693f',\n '656dcb6ccba0a1193daa6940',\n '656dcb6ccba0a1193daa6941',\n '656dcb6ccba0a1193daa6942',\n '656dcb6ccba0a1193daa6943',\n '656dcb6ccba0a1193daa6944',\n '656dcb6ccba0a1193daa6945',\n '656dcb6ccba0a1193daa6946',\n '656dcb6ccba0a1193daa6947',\n '656dcb6ccba0a1193daa6948',\n '656dcb6ccba0a1193daa6949',\n '656dcb6ccba0a1193daa694a',\n '656dcb6ccba0a1193daa694b',\n '656dcb6ccba0a1193daa694c',\n '656dcb6ccba0a1193daa694d',\n '656dcb6ccba0a1193daa694e',\n '656dcb6ccba0a1193daa694f',\n '656dcb6ccba0a1193daa6950',\n '656dcb6ccba0a1193daa6951',\n '656dcb6ccba0a1193daa6952',\n '656dcb6ccba0a1193daa6953',\n '656dcb6ccba0a1193daa6954',\n '656dcb6ccba0a1193daa6955',\n '656dcb6ccba0a1193daa6956',\n '656dcb6ccba0a1193daa6957',\n '656dcb6ccba0a1193daa6958',\n '656dcb6ccba0a1193daa6959',\n '656dcb6ccba0a1193daa695a',\n '656dcb6ccba0a1193daa695b',\n '656dcb6ccba0a1193daa695c',\n '656dcb6ccba0a1193daa695d',\n '656dcb6ccba0a1193daa695e',\n '656dcb6ccba0a1193daa695f',\n '656dcb6ccba0a1193daa6960',\n '656dcb6ccba0a1193daa6961',\n '656dcb6ccba0a1193daa6962',\n '656dcb6ccba0a1193daa6963',\n '656dcb6ccba0a1193daa6964',\n '656dcb6ccba0a1193daa6965',\n '656dcb6ccba0a1193daa6966',\n '656dcb6ccba0a1193daa6967',\n '656dcb6ccba0a1193daa6968',\n '656dcb6ccba0a1193daa6969',\n '656dcb6ccba0a1193daa696a',\n '656dcb6ccba0a1193daa696b',\n '656dcb6ccba0a1193daa696c',\n '656dcb6ccba0a1193daa696d',\n '656dcb6ccba0a1193daa696e',\n '656dcb6ccba0a1193daa696f',\n '656dcb6ccba0a1193daa6970',\n '656dcb6ccba0a1193daa6971',\n '656dcb6ccba0a1193daa6972',\n '656dcb6ccba0a1193daa6973',\n '656dcb6ccba0a1193daa6974',\n '656dcb6ccba0a1193daa6975',\n '656dcb6ccba0a1193daa6976',\n '656dcb6ccba0a1193daa6977',\n '656dcb6ccba0a1193daa6978',\n '656dcb6ccba0a1193daa6979',\n '656dcb6ccba0a1193daa697a',\n '656dcb6ccba0a1193daa697b',\n '656dcb6ccba0a1193daa697c',\n '656dcb6ccba0a1193daa697d',\n '656dcb6ccba0a1193daa697e',\n '656dcb6ccba0a1193daa697f',\n '656dcb6ccba0a1193daa6980',\n '656dcb6ccba0a1193daa6981',\n '656dcb6ccba0a1193daa6982',\n '656dcb6ccba0a1193daa6983',\n '656dcb6ccba0a1193daa6984',\n '656dcb6ccba0a1193daa6985',\n '656dcb6ccba0a1193daa6986',\n '656dcb6ccba0a1193daa6987',\n '656dcb6ccba0a1193daa6988',\n '656dcb6ccba0a1193daa6989',\n '656dcb6ccba0a1193daa698a',\n '656dcb6ccba0a1193daa698b',\n '656dcb6ccba0a1193daa698c',\n '656dcb6ccba0a1193daa698d',\n '656dcb6ccba0a1193daa698e',\n '656dcb6ccba0a1193daa698f',\n '656dcb6ccba0a1193daa6990',\n '656dcb6ccba0a1193daa6991',\n '656dcb6ccba0a1193daa6992',\n '656dcb6ccba0a1193daa6993',\n '656dcb6ccba0a1193daa6994',\n '656dcb6ccba0a1193daa6995',\n '656dcb6ccba0a1193daa6996',\n '656dcb6ccba0a1193daa6997',\n ...]"
     },
     "execution_count": 95,
     "metadata": {},
     "output_type": "execute_result"
    }
   ],
   "source": [
    "import fiftyone as fo\n",
    "\n",
    "dataset = fo.Dataset.from_dir(\n",
    "    data_path=\"D://Data//roboflow//merged//train//data\",\n",
    "    labels_path=\"D://Data//roboflow//merged//train//labels.json\",\n",
    "    dataset_type=fo.types.COCODetectionDataset,\n",
    ")\n",
    "\n",
    "dataset.add_dir(\n",
    "    data_path=\"D://Data//openimages//train//data\",\n",
    "    labels_path=\"D://Data//openimages//train//labels.json\",\n",
    "    dataset_type=fo.types.COCODetectionDataset,\n",
    ")"
   ],
   "metadata": {
    "collapsed": false,
    "ExecuteTime": {
     "end_time": "2023-12-04T12:52:07.360733500Z",
     "start_time": "2023-12-04T12:51:34.573314400Z"
    }
   },
   "id": "5106c0994dcf0100"
  },
  {
   "cell_type": "code",
   "execution_count": 96,
   "outputs": [
    {
     "name": "stdout",
     "output_type": "stream",
     "text": [
      "Directory 'D://Data//main' already exists; export will be merged with existing files\n",
      " 100% |█████████████| 25493/25493 [4.0m elapsed, 0s remaining, 80.9 samples/s]       \n"
     ]
    }
   ],
   "source": [
    "new_classes = [\"Dog\", \"Cat\", \"dog_fence\", 'dog_nosework', 'cat_tower', 'cat_scratcher', 'cat_toilet', 'house', 'carrier', 'clothes']\n",
    "\n",
    "# Export each split\n",
    "export_dir = \"D://Data//main\"\n",
    "\n",
    "dataset.export(\n",
    "    export_dir=export_dir,\n",
    "    dataset_type=fo.types.COCODetectionDataset,\n",
    "    classes=new_classes\n",
    ")\n",
    "    "
   ],
   "metadata": {
    "collapsed": false,
    "ExecuteTime": {
     "end_time": "2023-12-04T12:58:31.985275700Z",
     "start_time": "2023-12-04T12:54:30.698709600Z"
    }
   },
   "id": "80c97cb669626054"
  },
  {
   "cell_type": "markdown",
   "source": [
    "## 2. Validation"
   ],
   "metadata": {
    "collapsed": false
   },
   "id": "38366f15e0d5ca5f"
  },
  {
   "cell_type": "code",
   "execution_count": 101,
   "outputs": [
    {
     "name": "stdout",
     "output_type": "stream",
     "text": [
      " 100% |███████████████| 1966/1966 [1.9s elapsed, 0s remaining, 1.1K samples/s]         \n",
      " 100% |█████████████████| 970/970 [1.0s elapsed, 0s remaining, 960.3 samples/s]         \n",
      "Directory 'D://Data//main' already exists; export will be merged with existing files\n",
      " 100% |███████████████| 2936/2936 [23.2s elapsed, 0s remaining, 135.6 samples/s]      \n"
     ]
    }
   ],
   "source": [
    "import fiftyone as fo\n",
    "\n",
    "dataset = fo.Dataset.from_dir(\n",
    "    data_path=\"D://Data//roboflow//merged//val//data\",\n",
    "    labels_path=\"D://Data//roboflow//merged//val//labels.json\",\n",
    "    dataset_type=fo.types.COCODetectionDataset,\n",
    ")\n",
    "\n",
    "dataset.add_dir(\n",
    "    data_path=\"D://Data//openimages//val//data\",\n",
    "    labels_path=\"D://Data//openimages//val//labels.json\",\n",
    "    dataset_type=fo.types.COCODetectionDataset,\n",
    ")\n",
    "\n",
    "new_classes = [\"Dog\", \"Cat\", \"dog_fence\", 'dog_nosework', 'cat_tower', 'cat_scratcher', 'cat_toilet', 'house', 'carrier', 'clothes']\n",
    "\n",
    "# Export each split\n",
    "export_dir = \"D://Data//main\"\n",
    "\n",
    "dataset.export(\n",
    "    export_dir=export_dir,\n",
    "    dataset_type=fo.types.COCODetectionDataset,\n",
    "    classes=new_classes\n",
    ")"
   ],
   "metadata": {
    "collapsed": false,
    "ExecuteTime": {
     "end_time": "2023-12-04T13:09:33.731546300Z",
     "start_time": "2023-12-04T13:09:07.194615500Z"
    }
   },
   "id": "8536044a1c0855e2"
  },
  {
   "cell_type": "markdown",
   "source": [
    "## 3. Test"
   ],
   "metadata": {
    "collapsed": false
   },
   "id": "6520e1c17ca90f3"
  },
  {
   "cell_type": "code",
   "execution_count": 102,
   "outputs": [
    {
     "name": "stdout",
     "output_type": "stream",
     "text": [
      " 100% |███████████████| 1943/1943 [1.9s elapsed, 0s remaining, 1.2K samples/s]       \n",
      " 100% |█████████████████| 970/970 [995.1ms elapsed, 0s remaining, 976.4 samples/s]      \n",
      "Directory 'D://Data//main' already exists; export will be merged with existing files\n",
      " 100% |███████████████| 2913/2913 [22.3s elapsed, 0s remaining, 136.6 samples/s]      \n"
     ]
    }
   ],
   "source": [
    "import fiftyone as fo\n",
    "\n",
    "dataset = fo.Dataset.from_dir(\n",
    "    data_path=\"D://Data//roboflow//merged//test//data\",\n",
    "    labels_path=\"D://Data//roboflow//merged//test//labels.json\",\n",
    "    dataset_type=fo.types.COCODetectionDataset,\n",
    ")\n",
    "\n",
    "dataset.add_dir(\n",
    "    data_path=\"D://Data//openimages//test//data\",\n",
    "    labels_path=\"D://Data//openimages//test//labels.json\",\n",
    "    dataset_type=fo.types.COCODetectionDataset,\n",
    ")\n",
    "\n",
    "new_classes = [\"Dog\", \"Cat\", \"dog_fence\", 'dog_nosework', 'cat_tower', 'cat_scratcher', 'cat_toilet', 'house', 'carrier', 'clothes']\n",
    "\n",
    "# Export each split\n",
    "export_dir = \"D://Data//main\"\n",
    "\n",
    "dataset.export(\n",
    "    export_dir=export_dir,\n",
    "    dataset_type=fo.types.COCODetectionDataset,\n",
    "    classes=new_classes\n",
    ")"
   ],
   "metadata": {
    "collapsed": false,
    "ExecuteTime": {
     "end_time": "2023-12-04T13:11:13.148373300Z",
     "start_time": "2023-12-04T13:10:47.348481100Z"
    }
   },
   "id": "9da04b3f61643017"
  },
  {
   "cell_type": "code",
   "execution_count": null,
   "outputs": [],
   "source": [],
   "metadata": {
    "collapsed": false
   },
   "id": "6c1c3385f0e91f70"
  }
 ],
 "metadata": {
  "kernelspec": {
   "display_name": "Python 3 (ipykernel)",
   "language": "python",
   "name": "python3"
  },
  "language_info": {
   "codemirror_mode": {
    "name": "ipython",
    "version": 3
   },
   "file_extension": ".py",
   "mimetype": "text/x-python",
   "name": "python",
   "nbconvert_exporter": "python",
   "pygments_lexer": "ipython3",
   "version": "3.11.6"
  }
 },
 "nbformat": 4,
 "nbformat_minor": 5
}
