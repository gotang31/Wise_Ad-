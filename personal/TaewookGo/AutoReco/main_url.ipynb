{
 "cells": [
  {
   "cell_type": "code",
   "execution_count": null,
   "id": "006a4f10",
   "metadata": {},
   "outputs": [],
   "source": [
    "# Input : Youtube url\n",
    "\n",
    "from youreco.videoprocess import download_videos, create_imgframes\n",
    "from youreco.key import subject_extraction, key_extraction\n",
    "from youreco.similarity import similarity_result\n",
    "from youreco.utils import inference\n",
    "\n",
    "# flask에 미리 모델 실행되므로, main에서는 inference만 해주면 된다.\n",
    "model = Detr()\n",
    "model_1 = YouRecoSIm()\n",
    "\n",
    "if __name__ == '__main__':\n",
    "    \n",
    "    # front에서 input 받는 부분\n",
    "    url = 'Youtube URL'\n",
    "\n",
    "    # 영상 분할\n",
    "    fdir = 'directory for downloading a video' # 비디오 저장 경로\n",
    "\n",
    "    if not os.path.exists(filepath):\n",
    "        os.makedirs(filepath)\n",
    "\n",
    "    video_title, video_time = download_videos(fdir, url)\n",
    "    image_dir = create_imgframes(fdir, video_title)\n",
    "    \n",
    "    # Detection\n",
    "    # 이미지 시간 순 리스트 : 이미지 저장할 때 0부터 시작해서 저장해야 함\n",
    "    img_list = sorted(os.ilstdir(image_dir), key = lambda x : int(x[:-4]))\n",
    "    \n",
    "    inference_list = list()\n",
    "    for img in img_list:\n",
    "        result_list = inference(model, image_dir, img)\n",
    "        inference_list.extend(result_list)\n",
    "    \n",
    "    # key category Extraction\n",
    "    video_subject = subject_extraction(inference_list)\n",
    "    key_result = key_extraction(inference_list, video_time)\n",
    "    \n",
    "    # similarity\n",
    "    similar_itemid_list, category_list = similarity_result(model_1, key_result, image_dir)\n",
    "    \n",
    "    # similar_item_list는 상품 DB로, category_list는 추천 시스템으로 전달해주는 코드 최종 작성\n",
    "    "
   ]
  }
 ],
 "metadata": {
  "kernelspec": {
   "display_name": "Python 3 (ipykernel)",
   "language": "python",
   "name": "python3"
  },
  "language_info": {
   "codemirror_mode": {
    "name": "ipython",
    "version": 3
   },
   "file_extension": ".py",
   "mimetype": "text/x-python",
   "name": "python",
   "nbconvert_exporter": "python",
   "pygments_lexer": "ipython3",
   "version": "3.11.4"
  }
 },
 "nbformat": 4,
 "nbformat_minor": 5
}
