{
 "cells": [
  {
   "cell_type": "code",
   "execution_count": null,
   "id": "33c13c40",
   "metadata": {},
   "outputs": [],
   "source": [
    "def subject_extraction(inference_list):\n",
    "    '''\n",
    "    영상 주제 (Dog or Cat)\n",
    "    '''\n",
    "    cat_dog_list = list(map(lambda x: 0 if x[1] == 0 else 1 if x[1] == 1 else None, d))\n",
    "    \n",
    "    subject = ''\n",
    "    dog = cat_dog_list.count(0)\n",
    "    cat = cat_dog_list.count(1)\n",
    "    \n",
    "    if dog > cat:\n",
    "        subject = 0\n",
    "        \n",
    "    elif dog < cat:\n",
    "        subject = 1\n",
    "    \n",
    "    elif dog == cat:\n",
    "        subject = -1\n",
    "        \n",
    "    return subject\n",
    "\n",
    "def key_extraction(inference_list, video_time):\n",
    "    '''\n",
    "    key category extraction\n",
    "    '''\n",
    "    # 박스 score 기준으로 내림차순 정렬\n",
    "    inference_list = sorted(inference_list, key = lambda x : x[2], reverse = true)\n",
    "    \n",
    "    # 코드 미완성..\n",
    "    reco_num = round(video_time // 300) + 1\n",
    "    key_result = list()\n",
    "    for obj in inference_list:\n",
    "        if len(result) == 0:\n",
    "            result.append(obj)\n",
    "        else:\n",
    "            if \n",
    "            \n",
    "    return key_result"
   ]
  }
 ],
 "metadata": {
  "kernelspec": {
   "display_name": "Python 3 (ipykernel)",
   "language": "python",
   "name": "python3"
  },
  "language_info": {
   "codemirror_mode": {
    "name": "ipython",
    "version": 3
   },
   "file_extension": ".py",
   "mimetype": "text/x-python",
   "name": "python",
   "nbconvert_exporter": "python",
   "pygments_lexer": "ipython3",
   "version": "3.11.4"
  }
 },
 "nbformat": 4,
 "nbformat_minor": 5
}
