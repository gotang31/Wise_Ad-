{
 "cells": [
  {
   "cell_type": "code",
   "execution_count": null,
   "id": "45c36eb4",
   "metadata": {},
   "outputs": [],
   "source": [
    "from PIL import Image\n",
    "from transformers import DetrImageProcessor\n",
    "import torch\n",
    "\n",
    "def assign_transform(hubpath):\n",
    "    image_processor = DetrImageProcessor.from_pretrained(hubpath)\n",
    "    \n",
    "    return image_processor\n",
    "    \n",
    "def inference(model, fdir, img, hubpath = 'facebook/detr-resnet-50'):\n",
    "    device = 'cuda' if torch.cuda.is_available() else 'cpu'\n",
    "    processor = assign_transform(hubpath)\n",
    "    \n",
    "    image = Image.open(f'{fdir}/{img}').convert('RGB')\n",
    "\n",
    "    pixel_values = processor(images = image, return_tensors=\"pt\")\n",
    "    pixel_values = pixel_values['pixel_values'].to(device)\n",
    "\n",
    "    with torch.no_grad():\n",
    "        outputs = model(pixel_values = pixel_values, pixel_mask=None)\n",
    "\n",
    "    # postprocess model outputs\n",
    "    width, height = image.size\n",
    "    postprocessed_outputs = processor.post_process_object_detection(outputs,\n",
    "                                                                  target_sizes=[(height, width)],\n",
    "                                                                  threshold = 0.1)\n",
    "    img_index = int(img[:-4])\n",
    "    results = postprocessed_outputs[0]\n",
    "    result_list = list(zip([img_index] * len(results['labels']), results['labels'], results['scores'], results['boxes']))\n",
    "\n",
    "    return result_list"
   ]
  }
 ],
 "metadata": {
  "kernelspec": {
   "display_name": "Python 3 (ipykernel)",
   "language": "python",
   "name": "python3"
  },
  "language_info": {
   "codemirror_mode": {
    "name": "ipython",
    "version": 3
   },
   "file_extension": ".py",
   "mimetype": "text/x-python",
   "name": "python",
   "nbconvert_exporter": "python",
   "pygments_lexer": "ipython3",
   "version": "3.11.4"
  }
 },
 "nbformat": 4,
 "nbformat_minor": 5
}
