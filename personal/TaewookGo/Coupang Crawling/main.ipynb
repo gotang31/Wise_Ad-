{
 "cells": [
  {
   "cell_type": "code",
   "execution_count": null,
   "id": "5e10f8f3",
   "metadata": {},
   "outputs": [],
   "source": [
    "from createDF import *\n",
    "from getInfo import *\n",
    "from getUrl import *\n",
    "import pandas as pd\n",
    "import os\n",
    "\n",
    "def excel_to_list():\n",
    "    categories_list = pd.read_excel('coupang.csv', usecols='B')[0]\n",
    "    return categories_list\n",
    "\n",
    "def main():\n",
    "    url_meta_list = excel_to_list()\n",
    "    directory = 'Datasets'                                                                          # 데이터 저장 폴더 이름\n",
    "    os.mkdir(directory)                                                                             # 현재 작업 디렉토리에 폴더 생성\n",
    "        \n",
    "    for url in url_meta_list:\n",
    "        url_list = get_url_list(url)                                                                # 해당 url 상품 링크에서 페이지 별 링크 리스트\n",
    "        df_new = create_df()                                                                        # pd.DataFrame 새로 생성\n",
    "        namelist, imglist, pricelist, ratinglist, reviewlist, linklist = loop_url_getinfo(url_list) # 원하는 상품 데이터 추출\n",
    "        df_tmp = fill_df(namelist, imglist, pricelist, ratinglist, reviewlist, linklist)            # DataFrame에 데이터 추가\n",
    "        \n",
    "        # 수집 데이터 파일 저장(카테고리 분류에 따른 엑셀 파일 저장)\n",
    "        text = getres(url)\n",
    "        df = concat_df(df_new,df_tmp)\n",
    "        dom = BeautifulSoup(text, 'html5lib')\n",
    "        filename = '_'.join(list(map(lambda x : x.text.strip().replace('/', ',') \n",
    "                                     if '/' in x.text.strip() else x.text.strip(), \n",
    "                                       dom.select('.search-header > div > div> ul > li'))))         # '쿠팡홈_대분류_중분류_소분류' 형태\n",
    "        to_excel(df, directory, filename)\n",
    "        \n",
    "        print(f'<{filename}> 상품 데이터 수집이 완료되었습니다.')\n",
    "\n",
    "if __name__== \"__main__\":\n",
    "    main()"
   ]
  }
 ],
 "metadata": {
  "kernelspec": {
   "display_name": "Python 3 (ipykernel)",
   "language": "python",
   "name": "python3"
  },
  "language_info": {
   "codemirror_mode": {
    "name": "ipython",
    "version": 3
   },
   "file_extension": ".py",
   "mimetype": "text/x-python",
   "name": "python",
   "nbconvert_exporter": "python",
   "pygments_lexer": "ipython3",
   "version": "3.11.4"
  }
 },
 "nbformat": 4,
 "nbformat_minor": 5
}
