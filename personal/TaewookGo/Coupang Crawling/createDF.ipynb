{
 "cells": [
  {
   "cell_type": "code",
   "execution_count": null,
   "id": "b9c21640",
   "metadata": {},
   "outputs": [],
   "source": [
    "import pandas as pd\n",
    "\n",
    "def create_df():\n",
    "    df_new = pd.DataFrame(columns=['Name', 'img_src', 'Price', 'Rating', '#ofReviews', 'Link'])\n",
    "    return df_new\n",
    "\n",
    "\n",
    "def fill_df(namelist, imglist, pricelist, ratinglist, reviewlist, linklist):\n",
    "    df_tmp = pd.DataFrame({'Name': namelist, 'img_src': imglist, 'Price': pricelist, 'Rating': ratinglist,\n",
    "                           '#ofReviews': reviewlist, 'Link' : linklist})\n",
    "    return df_tmp\n",
    "\n",
    "\n",
    "def concat_df(df_new, df_tmp):\n",
    "    df = pd.concat([df_new, df_tmp])\n",
    "    return df\n",
    "\n",
    "\n",
    "def to_excel(df, directory, filename):\n",
    "    df.to_excel(f'{directory}/{filename}.xlsx')"
   ]
  }
 ],
 "metadata": {
  "kernelspec": {
   "display_name": "Python 3 (ipykernel)",
   "language": "python",
   "name": "python3"
  },
  "language_info": {
   "codemirror_mode": {
    "name": "ipython",
    "version": 3
   },
   "file_extension": ".py",
   "mimetype": "text/x-python",
   "name": "python",
   "nbconvert_exporter": "python",
   "pygments_lexer": "ipython3",
   "version": "3.11.4"
  }
 },
 "nbformat": 4,
 "nbformat_minor": 5
}
