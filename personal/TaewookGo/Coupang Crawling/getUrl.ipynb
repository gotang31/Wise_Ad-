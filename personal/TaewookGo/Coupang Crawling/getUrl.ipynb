{
 "cells": [
  {
   "cell_type": "code",
   "execution_count": null,
   "id": "8e62148a",
   "metadata": {},
   "outputs": [],
   "source": [
    "import requests\n",
    "from bs4 import BeautifulSoup\n",
    "\n",
    "headers = {'User-Agent': 'Mozilla/5.0 (Windows NT 10.0; Win64; x64) AppleWebKit/537.36 (KHTML, like Gecko) Chrome/116.0.0.0 Whale/3.22.205.26 Safari/537.36' , \n",
    "           'Accept-Language' : 'ko-KR,ko;q=0.9,en-US;q=0.8,en;q=0.7'}\n",
    "\n",
    "def getres(url):\n",
    "    sess = requests.Session()\n",
    "    res = sess.get(url, headers=headers, verify=False)\n",
    "    text = res.text\n",
    "    \n",
    "    return text\n",
    "\n",
    "def get_url_list(url):\n",
    "    url_list=list()\n",
    "\n",
    "    for i in range(1,18):\n",
    "        url_pg = url + '?page=' + str((i))\n",
    "        url_list.append(url_pg)\n",
    "\n",
    "    return url_list"
   ]
  }
 ],
 "metadata": {
  "kernelspec": {
   "display_name": "Python 3 (ipykernel)",
   "language": "python",
   "name": "python3"
  },
  "language_info": {
   "codemirror_mode": {
    "name": "ipython",
    "version": 3
   },
   "file_extension": ".py",
   "mimetype": "text/x-python",
   "name": "python",
   "nbconvert_exporter": "python",
   "pygments_lexer": "ipython3",
   "version": "3.11.4"
  }
 },
 "nbformat": 4,
 "nbformat_minor": 5
}
