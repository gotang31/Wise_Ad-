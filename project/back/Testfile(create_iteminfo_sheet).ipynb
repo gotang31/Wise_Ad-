{
 "cells": [
  {
   "cell_type": "code",
   "execution_count": 19,
   "id": "e68acec6",
   "metadata": {},
   "outputs": [],
   "source": [
    "from flask import Flask, request, jsonify\n",
    "import psycopg2 as pg\n",
    "import os\n",
    "from PIL import Image\n",
    "import json\n",
    "import base64"
   ]
  },
  {
   "cell_type": "code",
   "execution_count": 20,
   "id": "e70b38f4",
   "metadata": {},
   "outputs": [],
   "source": [
    "conn = pg.connect(host=\"127.0.0.1\", dbname=\"youreco\", user=\"postgres\", password=\"postgres\", port=5432)\n",
    "cur = conn.cursor()"
   ]
  },
  {
   "cell_type": "code",
   "execution_count": 21,
   "id": "8dc5d167",
   "metadata": {},
   "outputs": [],
   "source": [
    "section_list = [(1, 'D8mq5L9R0GM', 0, 300, 385002, [8493, 8517, 8559, 8629]), (2, 'D8mq5L9R0GM', 300, 600, 445726, [13784, 21765, 21250, 21284]), (3, 'D8mq5L9R0GM', 600, 918, 119561, [9073, 11887, 18761, 24267])]"
   ]
  },
  {
   "cell_type": "code",
   "execution_count": 22,
   "id": "ebdf1887",
   "metadata": {},
   "outputs": [
    {
     "data": {
      "text/plain": [
       "[(1, 'D8mq5L9R0GM', 0, 300, 385002, [8493, 8517, 8559, 8629]),\n",
       " (2, 'D8mq5L9R0GM', 300, 600, 445726, [13784, 21765, 21250, 21284]),\n",
       " (3, 'D8mq5L9R0GM', 600, 918, 119561, [9073, 11887, 18761, 24267])]"
      ]
     },
     "execution_count": 22,
     "metadata": {},
     "output_type": "execute_result"
    }
   ],
   "source": [
    "section_list"
   ]
  },
  {
   "cell_type": "markdown",
   "id": "37061f62",
   "metadata": {},
   "source": [
    "## Get Full Recommendation List(with Item Code)"
   ]
  },
  {
   "cell_type": "code",
   "execution_count": 23,
   "id": "c9e7b512",
   "metadata": {},
   "outputs": [],
   "source": [
    "def get_recommendation(cateID):\n",
    "    # communicate with rec server\n",
    "    return [[8493, 8517, 8559, 8629],[8493, 8517, 8559, 8629],[8493, 8517, 8559, 8629]]"
   ]
  },
  {
   "cell_type": "markdown",
   "id": "62cdaa5b",
   "metadata": {},
   "source": [
    "## replace itemcode table to itemdata sheet"
   ]
  },
  {
   "cell_type": "code",
   "execution_count": 32,
   "id": "e37a45f3",
   "metadata": {},
   "outputs": [],
   "source": [
    "#get iteminfo list from itemid\n",
    "def item_id_to_info(itemid):\n",
    "    cur.execute(\"select * from iteminfo where itemid = {0};\".format(itemid))\n",
    "    res = cur.fetchone()\n",
    "    item_name = res[1]\n",
    "    item_category = res[2]\n",
    "    item_price = res[3]\n",
    "    image_filename = res[7]\n",
    "    item_link = \"https://www.naver.com\"\n",
    "    return [item_name, item_price, image_filename, item_link]"
   ]
  },
  {
   "cell_type": "code",
   "execution_count": 33,
   "id": "b92baef6",
   "metadata": {},
   "outputs": [],
   "source": [
    "#create itemdata sheet\n",
    "def create_section_object(start_time, end_time, category):\n",
    "    rec_dict = {\n",
    "        \"start_time\":start_time, \n",
    "        \"end_time\":end_time, \n",
    "        \"category\": category, \n",
    "        \"sim_item\":[], \n",
    "        \"rel_item_01\" : [], \n",
    "        \"rel_item_02\" : [], \n",
    "        \"rel_item_03\" : []\n",
    "    }\n",
    "    \n",
    "    return rec_dict"
   ]
  },
  {
   "cell_type": "code",
   "execution_count": 34,
   "id": "f92f011e",
   "metadata": {},
   "outputs": [],
   "source": [
    "#full sheet that send to frontend page\n",
    "new_section_list = []"
   ]
  },
  {
   "cell_type": "code",
   "execution_count": 35,
   "id": "7ee0b996",
   "metadata": {
    "scrolled": false
   },
   "outputs": [],
   "source": [
    "for section in section_list:\n",
    "    new_section = create_section_object(section[2], section[3], section[4]);\n",
    "    rel_item_list = get_recommendation(new_section[\"category\"])\n",
    "    rel_item_01_code = rel_item_list[0]\n",
    "    rel_item_02_code = rel_item_list[1]\n",
    "    rel_item_03_code = rel_item_list[2]\n",
    "    \n",
    "    #sim_item\n",
    "    for each_item in section[5]:\n",
    "        item = item_id_to_info(each_item)\n",
    "        new_section[\"sim_item\"].append(item)\n",
    "    \n",
    "    #rel_item_01\n",
    "    for each_item in rel_item_01_code:\n",
    "        item = item_id_to_info(each_item)\n",
    "        new_section[\"rel_item_01\"].append(item)\n",
    "    \n",
    "    #rel_item_02\n",
    "    for each_item in rel_item_02_code:\n",
    "        item = item_id_to_info(each_item)\n",
    "        new_section[\"rel_item_02\"].append(item)\n",
    "    \n",
    "    #rel_item_03\n",
    "    for each_item in rel_item_03_code:\n",
    "        item = item_id_to_info(each_item)\n",
    "        new_section[\"rel_item_03\"].append(item)\n",
    "        \n",
    "        \n",
    "    new_section_list.append(new_section)"
   ]
  },
  {
   "cell_type": "code",
   "execution_count": 40,
   "id": "9fb46b30",
   "metadata": {},
   "outputs": [
    {
     "data": {
      "text/plain": [
       "[{'start_time': 0,\n",
       "  'end_time': 300,\n",
       "  'category': 385002,\n",
       "  'sim_item': [['레드퍼피 반려견 잉클 원 방석, 부비베어',\n",
       "    13600,\n",
       "    'c333e61ace13',\n",
       "    'https://www.naver.com'],\n",
       "   ['크림펫 반려동물 극세사 마약 방석, 핑크', 16680, 'a550afe1f6b4', 'https://www.naver.com'],\n",
       "   ['레드퍼피 반려견 스넉워머 원 방석, 아이보리',\n",
       "    20900,\n",
       "    '6a84193d7833',\n",
       "    'https://www.naver.com'],\n",
       "   ['포글 반려동물 사계절 강아지 방석 허그 쿠션, 클리어민트',\n",
       "    36900,\n",
       "    'f80b752a10c7',\n",
       "    'https://www.naver.com']],\n",
       "  'rel_item_01': [['레드퍼피 반려견 잉클 원 방석, 부비베어',\n",
       "    13600,\n",
       "    'c333e61ace13',\n",
       "    'https://www.naver.com'],\n",
       "   ['크림펫 반려동물 극세사 마약 방석, 핑크', 16680, 'a550afe1f6b4', 'https://www.naver.com'],\n",
       "   ['레드퍼피 반려견 스넉워머 원 방석, 아이보리',\n",
       "    20900,\n",
       "    '6a84193d7833',\n",
       "    'https://www.naver.com'],\n",
       "   ['포글 반려동물 사계절 강아지 방석 허그 쿠션, 클리어민트',\n",
       "    36900,\n",
       "    'f80b752a10c7',\n",
       "    'https://www.naver.com']],\n",
       "  'rel_item_02': [['레드퍼피 반려견 잉클 원 방석, 부비베어',\n",
       "    13600,\n",
       "    'c333e61ace13',\n",
       "    'https://www.naver.com'],\n",
       "   ['크림펫 반려동물 극세사 마약 방석, 핑크', 16680, 'a550afe1f6b4', 'https://www.naver.com'],\n",
       "   ['레드퍼피 반려견 스넉워머 원 방석, 아이보리',\n",
       "    20900,\n",
       "    '6a84193d7833',\n",
       "    'https://www.naver.com'],\n",
       "   ['포글 반려동물 사계절 강아지 방석 허그 쿠션, 클리어민트',\n",
       "    36900,\n",
       "    'f80b752a10c7',\n",
       "    'https://www.naver.com']],\n",
       "  'rel_item_03': [['레드퍼피 반려견 잉클 원 방석, 부비베어',\n",
       "    13600,\n",
       "    'c333e61ace13',\n",
       "    'https://www.naver.com'],\n",
       "   ['크림펫 반려동물 극세사 마약 방석, 핑크', 16680, 'a550afe1f6b4', 'https://www.naver.com'],\n",
       "   ['레드퍼피 반려견 스넉워머 원 방석, 아이보리',\n",
       "    20900,\n",
       "    '6a84193d7833',\n",
       "    'https://www.naver.com'],\n",
       "   ['포글 반려동물 사계절 강아지 방석 허그 쿠션, 클리어민트',\n",
       "    36900,\n",
       "    'f80b752a10c7',\n",
       "    'https://www.naver.com']]},\n",
       " {'start_time': 300,\n",
       "  'end_time': 600,\n",
       "  'category': 445726,\n",
       "  'sim_item': [['펫트리움 코지 고양이 수직 스크래쳐 월 타워 중대형, 1개',\n",
       "    19810,\n",
       "    '227d42fdfeee',\n",
       "    'https://www.naver.com'],\n",
       "   ['펫 스테이 투명해먹 캣타워, 1개, 브라운', 88000, '081939ab2728', 'https://www.naver.com'],\n",
       "   ['가또블랑코 고양이 피타 스크래쳐 타워, 혼합색상, 1개',\n",
       "    64500,\n",
       "    '8d66ea99691b',\n",
       "    'https://www.naver.com'],\n",
       "   ['네츄럴프로 하늘정원 큐티 캣타워, 173 베이지, 1개',\n",
       "    42900,\n",
       "    'ec85a9c891cc',\n",
       "    'https://www.naver.com']],\n",
       "  'rel_item_01': [['레드퍼피 반려견 잉클 원 방석, 부비베어',\n",
       "    13600,\n",
       "    'c333e61ace13',\n",
       "    'https://www.naver.com'],\n",
       "   ['크림펫 반려동물 극세사 마약 방석, 핑크', 16680, 'a550afe1f6b4', 'https://www.naver.com'],\n",
       "   ['레드퍼피 반려견 스넉워머 원 방석, 아이보리',\n",
       "    20900,\n",
       "    '6a84193d7833',\n",
       "    'https://www.naver.com'],\n",
       "   ['포글 반려동물 사계절 강아지 방석 허그 쿠션, 클리어민트',\n",
       "    36900,\n",
       "    'f80b752a10c7',\n",
       "    'https://www.naver.com']],\n",
       "  'rel_item_02': [['레드퍼피 반려견 잉클 원 방석, 부비베어',\n",
       "    13600,\n",
       "    'c333e61ace13',\n",
       "    'https://www.naver.com'],\n",
       "   ['크림펫 반려동물 극세사 마약 방석, 핑크', 16680, 'a550afe1f6b4', 'https://www.naver.com'],\n",
       "   ['레드퍼피 반려견 스넉워머 원 방석, 아이보리',\n",
       "    20900,\n",
       "    '6a84193d7833',\n",
       "    'https://www.naver.com'],\n",
       "   ['포글 반려동물 사계절 강아지 방석 허그 쿠션, 클리어민트',\n",
       "    36900,\n",
       "    'f80b752a10c7',\n",
       "    'https://www.naver.com']],\n",
       "  'rel_item_03': [['레드퍼피 반려견 잉클 원 방석, 부비베어',\n",
       "    13600,\n",
       "    'c333e61ace13',\n",
       "    'https://www.naver.com'],\n",
       "   ['크림펫 반려동물 극세사 마약 방석, 핑크', 16680, 'a550afe1f6b4', 'https://www.naver.com'],\n",
       "   ['레드퍼피 반려견 스넉워머 원 방석, 아이보리',\n",
       "    20900,\n",
       "    '6a84193d7833',\n",
       "    'https://www.naver.com'],\n",
       "   ['포글 반려동물 사계절 강아지 방석 허그 쿠션, 클리어민트',\n",
       "    36900,\n",
       "    'f80b752a10c7',\n",
       "    'https://www.naver.com']]},\n",
       " {'start_time': 600,\n",
       "  'end_time': 918,\n",
       "  'category': 119561,\n",
       "  'sim_item': [['요기펫 방 앤 화장실용 견문2 안전문, WHITE',\n",
       "    15000,\n",
       "    '0a1792506c4e',\n",
       "    'https://www.naver.com'],\n",
       "   ['브라더펫 강아지 화장실 배변판, 1개, 핑크그레이',\n",
       "    24000,\n",
       "    'ce0574d6df5c',\n",
       "    'https://www.naver.com'],\n",
       "   ['LG생활건강 LG유니참 데오토일렛 고양이 화장실 특대형 (와이드), 선택완료, 선택완료',\n",
       "    81240,\n",
       "    '3b64681b2ec6',\n",
       "    'https://www.naver.com'],\n",
       "   ['딩동펫 반려동물 바스켓 특대형 고양이 화장실, 옐로우',\n",
       "    19800,\n",
       "    '52e6c7cb98c9',\n",
       "    'https://www.naver.com']],\n",
       "  'rel_item_01': [['레드퍼피 반려견 잉클 원 방석, 부비베어',\n",
       "    13600,\n",
       "    'c333e61ace13',\n",
       "    'https://www.naver.com'],\n",
       "   ['크림펫 반려동물 극세사 마약 방석, 핑크', 16680, 'a550afe1f6b4', 'https://www.naver.com'],\n",
       "   ['레드퍼피 반려견 스넉워머 원 방석, 아이보리',\n",
       "    20900,\n",
       "    '6a84193d7833',\n",
       "    'https://www.naver.com'],\n",
       "   ['포글 반려동물 사계절 강아지 방석 허그 쿠션, 클리어민트',\n",
       "    36900,\n",
       "    'f80b752a10c7',\n",
       "    'https://www.naver.com']],\n",
       "  'rel_item_02': [['레드퍼피 반려견 잉클 원 방석, 부비베어',\n",
       "    13600,\n",
       "    'c333e61ace13',\n",
       "    'https://www.naver.com'],\n",
       "   ['크림펫 반려동물 극세사 마약 방석, 핑크', 16680, 'a550afe1f6b4', 'https://www.naver.com'],\n",
       "   ['레드퍼피 반려견 스넉워머 원 방석, 아이보리',\n",
       "    20900,\n",
       "    '6a84193d7833',\n",
       "    'https://www.naver.com'],\n",
       "   ['포글 반려동물 사계절 강아지 방석 허그 쿠션, 클리어민트',\n",
       "    36900,\n",
       "    'f80b752a10c7',\n",
       "    'https://www.naver.com']],\n",
       "  'rel_item_03': [['레드퍼피 반려견 잉클 원 방석, 부비베어',\n",
       "    13600,\n",
       "    'c333e61ace13',\n",
       "    'https://www.naver.com'],\n",
       "   ['크림펫 반려동물 극세사 마약 방석, 핑크', 16680, 'a550afe1f6b4', 'https://www.naver.com'],\n",
       "   ['레드퍼피 반려견 스넉워머 원 방석, 아이보리',\n",
       "    20900,\n",
       "    '6a84193d7833',\n",
       "    'https://www.naver.com'],\n",
       "   ['포글 반려동물 사계절 강아지 방석 허그 쿠션, 클리어민트',\n",
       "    36900,\n",
       "    'f80b752a10c7',\n",
       "    'https://www.naver.com']]}]"
      ]
     },
     "execution_count": 40,
     "metadata": {},
     "output_type": "execute_result"
    }
   ],
   "source": [
    "new_section_list"
   ]
  },
  {
   "cell_type": "code",
   "execution_count": 41,
   "id": "2174abc4",
   "metadata": {},
   "outputs": [],
   "source": [
    "json_val = json.dumps(new_section_list)"
   ]
  },
  {
   "cell_type": "code",
   "execution_count": 42,
   "id": "13a6c853",
   "metadata": {},
   "outputs": [
    {
     "data": {
      "text/plain": [
       "'[{\"start_time\": 0, \"end_time\": 300, \"category\": 385002, \"sim_item\": [[\"\\\\ub808\\\\ub4dc\\\\ud37c\\\\ud53c \\\\ubc18\\\\ub824\\\\uacac \\\\uc789\\\\ud074 \\\\uc6d0 \\\\ubc29\\\\uc11d, \\\\ubd80\\\\ube44\\\\ubca0\\\\uc5b4\", 13600, \"c333e61ace13\", \"https://www.naver.com\"], [\"\\\\ud06c\\\\ub9bc\\\\ud3ab \\\\ubc18\\\\ub824\\\\ub3d9\\\\ubb3c \\\\uadf9\\\\uc138\\\\uc0ac \\\\ub9c8\\\\uc57d \\\\ubc29\\\\uc11d, \\\\ud551\\\\ud06c\", 16680, \"a550afe1f6b4\", \"https://www.naver.com\"], [\"\\\\ub808\\\\ub4dc\\\\ud37c\\\\ud53c \\\\ubc18\\\\ub824\\\\uacac \\\\uc2a4\\\\ub109\\\\uc6cc\\\\uba38 \\\\uc6d0 \\\\ubc29\\\\uc11d, \\\\uc544\\\\uc774\\\\ubcf4\\\\ub9ac\", 20900, \"6a84193d7833\", \"https://www.naver.com\"], [\"\\\\ud3ec\\\\uae00 \\\\ubc18\\\\ub824\\\\ub3d9\\\\ubb3c \\\\uc0ac\\\\uacc4\\\\uc808 \\\\uac15\\\\uc544\\\\uc9c0 \\\\ubc29\\\\uc11d \\\\ud5c8\\\\uadf8 \\\\ucfe0\\\\uc158, \\\\ud074\\\\ub9ac\\\\uc5b4\\\\ubbfc\\\\ud2b8\", 36900, \"f80b752a10c7\", \"https://www.naver.com\"]], \"rel_item_01\": [[\"\\\\ub808\\\\ub4dc\\\\ud37c\\\\ud53c \\\\ubc18\\\\ub824\\\\uacac \\\\uc789\\\\ud074 \\\\uc6d0 \\\\ubc29\\\\uc11d, \\\\ubd80\\\\ube44\\\\ubca0\\\\uc5b4\", 13600, \"c333e61ace13\", \"https://www.naver.com\"], [\"\\\\ud06c\\\\ub9bc\\\\ud3ab \\\\ubc18\\\\ub824\\\\ub3d9\\\\ubb3c \\\\uadf9\\\\uc138\\\\uc0ac \\\\ub9c8\\\\uc57d \\\\ubc29\\\\uc11d, \\\\ud551\\\\ud06c\", 16680, \"a550afe1f6b4\", \"https://www.naver.com\"], [\"\\\\ub808\\\\ub4dc\\\\ud37c\\\\ud53c \\\\ubc18\\\\ub824\\\\uacac \\\\uc2a4\\\\ub109\\\\uc6cc\\\\uba38 \\\\uc6d0 \\\\ubc29\\\\uc11d, \\\\uc544\\\\uc774\\\\ubcf4\\\\ub9ac\", 20900, \"6a84193d7833\", \"https://www.naver.com\"], [\"\\\\ud3ec\\\\uae00 \\\\ubc18\\\\ub824\\\\ub3d9\\\\ubb3c \\\\uc0ac\\\\uacc4\\\\uc808 \\\\uac15\\\\uc544\\\\uc9c0 \\\\ubc29\\\\uc11d \\\\ud5c8\\\\uadf8 \\\\ucfe0\\\\uc158, \\\\ud074\\\\ub9ac\\\\uc5b4\\\\ubbfc\\\\ud2b8\", 36900, \"f80b752a10c7\", \"https://www.naver.com\"]], \"rel_item_02\": [[\"\\\\ub808\\\\ub4dc\\\\ud37c\\\\ud53c \\\\ubc18\\\\ub824\\\\uacac \\\\uc789\\\\ud074 \\\\uc6d0 \\\\ubc29\\\\uc11d, \\\\ubd80\\\\ube44\\\\ubca0\\\\uc5b4\", 13600, \"c333e61ace13\", \"https://www.naver.com\"], [\"\\\\ud06c\\\\ub9bc\\\\ud3ab \\\\ubc18\\\\ub824\\\\ub3d9\\\\ubb3c \\\\uadf9\\\\uc138\\\\uc0ac \\\\ub9c8\\\\uc57d \\\\ubc29\\\\uc11d, \\\\ud551\\\\ud06c\", 16680, \"a550afe1f6b4\", \"https://www.naver.com\"], [\"\\\\ub808\\\\ub4dc\\\\ud37c\\\\ud53c \\\\ubc18\\\\ub824\\\\uacac \\\\uc2a4\\\\ub109\\\\uc6cc\\\\uba38 \\\\uc6d0 \\\\ubc29\\\\uc11d, \\\\uc544\\\\uc774\\\\ubcf4\\\\ub9ac\", 20900, \"6a84193d7833\", \"https://www.naver.com\"], [\"\\\\ud3ec\\\\uae00 \\\\ubc18\\\\ub824\\\\ub3d9\\\\ubb3c \\\\uc0ac\\\\uacc4\\\\uc808 \\\\uac15\\\\uc544\\\\uc9c0 \\\\ubc29\\\\uc11d \\\\ud5c8\\\\uadf8 \\\\ucfe0\\\\uc158, \\\\ud074\\\\ub9ac\\\\uc5b4\\\\ubbfc\\\\ud2b8\", 36900, \"f80b752a10c7\", \"https://www.naver.com\"]], \"rel_item_03\": [[\"\\\\ub808\\\\ub4dc\\\\ud37c\\\\ud53c \\\\ubc18\\\\ub824\\\\uacac \\\\uc789\\\\ud074 \\\\uc6d0 \\\\ubc29\\\\uc11d, \\\\ubd80\\\\ube44\\\\ubca0\\\\uc5b4\", 13600, \"c333e61ace13\", \"https://www.naver.com\"], [\"\\\\ud06c\\\\ub9bc\\\\ud3ab \\\\ubc18\\\\ub824\\\\ub3d9\\\\ubb3c \\\\uadf9\\\\uc138\\\\uc0ac \\\\ub9c8\\\\uc57d \\\\ubc29\\\\uc11d, \\\\ud551\\\\ud06c\", 16680, \"a550afe1f6b4\", \"https://www.naver.com\"], [\"\\\\ub808\\\\ub4dc\\\\ud37c\\\\ud53c \\\\ubc18\\\\ub824\\\\uacac \\\\uc2a4\\\\ub109\\\\uc6cc\\\\uba38 \\\\uc6d0 \\\\ubc29\\\\uc11d, \\\\uc544\\\\uc774\\\\ubcf4\\\\ub9ac\", 20900, \"6a84193d7833\", \"https://www.naver.com\"], [\"\\\\ud3ec\\\\uae00 \\\\ubc18\\\\ub824\\\\ub3d9\\\\ubb3c \\\\uc0ac\\\\uacc4\\\\uc808 \\\\uac15\\\\uc544\\\\uc9c0 \\\\ubc29\\\\uc11d \\\\ud5c8\\\\uadf8 \\\\ucfe0\\\\uc158, \\\\ud074\\\\ub9ac\\\\uc5b4\\\\ubbfc\\\\ud2b8\", 36900, \"f80b752a10c7\", \"https://www.naver.com\"]]}, {\"start_time\": 300, \"end_time\": 600, \"category\": 445726, \"sim_item\": [[\"\\\\ud3ab\\\\ud2b8\\\\ub9ac\\\\uc6c0 \\\\ucf54\\\\uc9c0 \\\\uace0\\\\uc591\\\\uc774 \\\\uc218\\\\uc9c1 \\\\uc2a4\\\\ud06c\\\\ub798\\\\uccd0 \\\\uc6d4 \\\\ud0c0\\\\uc6cc \\\\uc911\\\\ub300\\\\ud615, 1\\\\uac1c\", 19810, \"227d42fdfeee\", \"https://www.naver.com\"], [\"\\\\ud3ab \\\\uc2a4\\\\ud14c\\\\uc774 \\\\ud22c\\\\uba85\\\\ud574\\\\uba39 \\\\ucea3\\\\ud0c0\\\\uc6cc, 1\\\\uac1c, \\\\ube0c\\\\ub77c\\\\uc6b4\", 88000, \"081939ab2728\", \"https://www.naver.com\"], [\"\\\\uac00\\\\ub610\\\\ube14\\\\ub791\\\\ucf54 \\\\uace0\\\\uc591\\\\uc774 \\\\ud53c\\\\ud0c0 \\\\uc2a4\\\\ud06c\\\\ub798\\\\uccd0 \\\\ud0c0\\\\uc6cc, \\\\ud63c\\\\ud569\\\\uc0c9\\\\uc0c1, 1\\\\uac1c\", 64500, \"8d66ea99691b\", \"https://www.naver.com\"], [\"\\\\ub124\\\\uce04\\\\ub7f4\\\\ud504\\\\ub85c \\\\ud558\\\\ub298\\\\uc815\\\\uc6d0 \\\\ud050\\\\ud2f0 \\\\ucea3\\\\ud0c0\\\\uc6cc, 173 \\\\ubca0\\\\uc774\\\\uc9c0, 1\\\\uac1c\", 42900, \"ec85a9c891cc\", \"https://www.naver.com\"]], \"rel_item_01\": [[\"\\\\ub808\\\\ub4dc\\\\ud37c\\\\ud53c \\\\ubc18\\\\ub824\\\\uacac \\\\uc789\\\\ud074 \\\\uc6d0 \\\\ubc29\\\\uc11d, \\\\ubd80\\\\ube44\\\\ubca0\\\\uc5b4\", 13600, \"c333e61ace13\", \"https://www.naver.com\"], [\"\\\\ud06c\\\\ub9bc\\\\ud3ab \\\\ubc18\\\\ub824\\\\ub3d9\\\\ubb3c \\\\uadf9\\\\uc138\\\\uc0ac \\\\ub9c8\\\\uc57d \\\\ubc29\\\\uc11d, \\\\ud551\\\\ud06c\", 16680, \"a550afe1f6b4\", \"https://www.naver.com\"], [\"\\\\ub808\\\\ub4dc\\\\ud37c\\\\ud53c \\\\ubc18\\\\ub824\\\\uacac \\\\uc2a4\\\\ub109\\\\uc6cc\\\\uba38 \\\\uc6d0 \\\\ubc29\\\\uc11d, \\\\uc544\\\\uc774\\\\ubcf4\\\\ub9ac\", 20900, \"6a84193d7833\", \"https://www.naver.com\"], [\"\\\\ud3ec\\\\uae00 \\\\ubc18\\\\ub824\\\\ub3d9\\\\ubb3c \\\\uc0ac\\\\uacc4\\\\uc808 \\\\uac15\\\\uc544\\\\uc9c0 \\\\ubc29\\\\uc11d \\\\ud5c8\\\\uadf8 \\\\ucfe0\\\\uc158, \\\\ud074\\\\ub9ac\\\\uc5b4\\\\ubbfc\\\\ud2b8\", 36900, \"f80b752a10c7\", \"https://www.naver.com\"]], \"rel_item_02\": [[\"\\\\ub808\\\\ub4dc\\\\ud37c\\\\ud53c \\\\ubc18\\\\ub824\\\\uacac \\\\uc789\\\\ud074 \\\\uc6d0 \\\\ubc29\\\\uc11d, \\\\ubd80\\\\ube44\\\\ubca0\\\\uc5b4\", 13600, \"c333e61ace13\", \"https://www.naver.com\"], [\"\\\\ud06c\\\\ub9bc\\\\ud3ab \\\\ubc18\\\\ub824\\\\ub3d9\\\\ubb3c \\\\uadf9\\\\uc138\\\\uc0ac \\\\ub9c8\\\\uc57d \\\\ubc29\\\\uc11d, \\\\ud551\\\\ud06c\", 16680, \"a550afe1f6b4\", \"https://www.naver.com\"], [\"\\\\ub808\\\\ub4dc\\\\ud37c\\\\ud53c \\\\ubc18\\\\ub824\\\\uacac \\\\uc2a4\\\\ub109\\\\uc6cc\\\\uba38 \\\\uc6d0 \\\\ubc29\\\\uc11d, \\\\uc544\\\\uc774\\\\ubcf4\\\\ub9ac\", 20900, \"6a84193d7833\", \"https://www.naver.com\"], [\"\\\\ud3ec\\\\uae00 \\\\ubc18\\\\ub824\\\\ub3d9\\\\ubb3c \\\\uc0ac\\\\uacc4\\\\uc808 \\\\uac15\\\\uc544\\\\uc9c0 \\\\ubc29\\\\uc11d \\\\ud5c8\\\\uadf8 \\\\ucfe0\\\\uc158, \\\\ud074\\\\ub9ac\\\\uc5b4\\\\ubbfc\\\\ud2b8\", 36900, \"f80b752a10c7\", \"https://www.naver.com\"]], \"rel_item_03\": [[\"\\\\ub808\\\\ub4dc\\\\ud37c\\\\ud53c \\\\ubc18\\\\ub824\\\\uacac \\\\uc789\\\\ud074 \\\\uc6d0 \\\\ubc29\\\\uc11d, \\\\ubd80\\\\ube44\\\\ubca0\\\\uc5b4\", 13600, \"c333e61ace13\", \"https://www.naver.com\"], [\"\\\\ud06c\\\\ub9bc\\\\ud3ab \\\\ubc18\\\\ub824\\\\ub3d9\\\\ubb3c \\\\uadf9\\\\uc138\\\\uc0ac \\\\ub9c8\\\\uc57d \\\\ubc29\\\\uc11d, \\\\ud551\\\\ud06c\", 16680, \"a550afe1f6b4\", \"https://www.naver.com\"], [\"\\\\ub808\\\\ub4dc\\\\ud37c\\\\ud53c \\\\ubc18\\\\ub824\\\\uacac \\\\uc2a4\\\\ub109\\\\uc6cc\\\\uba38 \\\\uc6d0 \\\\ubc29\\\\uc11d, \\\\uc544\\\\uc774\\\\ubcf4\\\\ub9ac\", 20900, \"6a84193d7833\", \"https://www.naver.com\"], [\"\\\\ud3ec\\\\uae00 \\\\ubc18\\\\ub824\\\\ub3d9\\\\ubb3c \\\\uc0ac\\\\uacc4\\\\uc808 \\\\uac15\\\\uc544\\\\uc9c0 \\\\ubc29\\\\uc11d \\\\ud5c8\\\\uadf8 \\\\ucfe0\\\\uc158, \\\\ud074\\\\ub9ac\\\\uc5b4\\\\ubbfc\\\\ud2b8\", 36900, \"f80b752a10c7\", \"https://www.naver.com\"]]}, {\"start_time\": 600, \"end_time\": 918, \"category\": 119561, \"sim_item\": [[\"\\\\uc694\\\\uae30\\\\ud3ab \\\\ubc29 \\\\uc564 \\\\ud654\\\\uc7a5\\\\uc2e4\\\\uc6a9 \\\\uacac\\\\ubb382 \\\\uc548\\\\uc804\\\\ubb38, WHITE\", 15000, \"0a1792506c4e\", \"https://www.naver.com\"], [\"\\\\ube0c\\\\ub77c\\\\ub354\\\\ud3ab \\\\uac15\\\\uc544\\\\uc9c0 \\\\ud654\\\\uc7a5\\\\uc2e4 \\\\ubc30\\\\ubcc0\\\\ud310, 1\\\\uac1c, \\\\ud551\\\\ud06c\\\\uadf8\\\\ub808\\\\uc774\", 24000, \"ce0574d6df5c\", \"https://www.naver.com\"], [\"LG\\\\uc0dd\\\\ud65c\\\\uac74\\\\uac15 LG\\\\uc720\\\\ub2c8\\\\ucc38 \\\\ub370\\\\uc624\\\\ud1a0\\\\uc77c\\\\ub81b \\\\uace0\\\\uc591\\\\uc774 \\\\ud654\\\\uc7a5\\\\uc2e4 \\\\ud2b9\\\\ub300\\\\ud615 (\\\\uc640\\\\uc774\\\\ub4dc), \\\\uc120\\\\ud0dd\\\\uc644\\\\ub8cc, \\\\uc120\\\\ud0dd\\\\uc644\\\\ub8cc\", 81240, \"3b64681b2ec6\", \"https://www.naver.com\"], [\"\\\\ub529\\\\ub3d9\\\\ud3ab \\\\ubc18\\\\ub824\\\\ub3d9\\\\ubb3c \\\\ubc14\\\\uc2a4\\\\ucf13 \\\\ud2b9\\\\ub300\\\\ud615 \\\\uace0\\\\uc591\\\\uc774 \\\\ud654\\\\uc7a5\\\\uc2e4, \\\\uc610\\\\ub85c\\\\uc6b0\", 19800, \"52e6c7cb98c9\", \"https://www.naver.com\"]], \"rel_item_01\": [[\"\\\\ub808\\\\ub4dc\\\\ud37c\\\\ud53c \\\\ubc18\\\\ub824\\\\uacac \\\\uc789\\\\ud074 \\\\uc6d0 \\\\ubc29\\\\uc11d, \\\\ubd80\\\\ube44\\\\ubca0\\\\uc5b4\", 13600, \"c333e61ace13\", \"https://www.naver.com\"], [\"\\\\ud06c\\\\ub9bc\\\\ud3ab \\\\ubc18\\\\ub824\\\\ub3d9\\\\ubb3c \\\\uadf9\\\\uc138\\\\uc0ac \\\\ub9c8\\\\uc57d \\\\ubc29\\\\uc11d, \\\\ud551\\\\ud06c\", 16680, \"a550afe1f6b4\", \"https://www.naver.com\"], [\"\\\\ub808\\\\ub4dc\\\\ud37c\\\\ud53c \\\\ubc18\\\\ub824\\\\uacac \\\\uc2a4\\\\ub109\\\\uc6cc\\\\uba38 \\\\uc6d0 \\\\ubc29\\\\uc11d, \\\\uc544\\\\uc774\\\\ubcf4\\\\ub9ac\", 20900, \"6a84193d7833\", \"https://www.naver.com\"], [\"\\\\ud3ec\\\\uae00 \\\\ubc18\\\\ub824\\\\ub3d9\\\\ubb3c \\\\uc0ac\\\\uacc4\\\\uc808 \\\\uac15\\\\uc544\\\\uc9c0 \\\\ubc29\\\\uc11d \\\\ud5c8\\\\uadf8 \\\\ucfe0\\\\uc158, \\\\ud074\\\\ub9ac\\\\uc5b4\\\\ubbfc\\\\ud2b8\", 36900, \"f80b752a10c7\", \"https://www.naver.com\"]], \"rel_item_02\": [[\"\\\\ub808\\\\ub4dc\\\\ud37c\\\\ud53c \\\\ubc18\\\\ub824\\\\uacac \\\\uc789\\\\ud074 \\\\uc6d0 \\\\ubc29\\\\uc11d, \\\\ubd80\\\\ube44\\\\ubca0\\\\uc5b4\", 13600, \"c333e61ace13\", \"https://www.naver.com\"], [\"\\\\ud06c\\\\ub9bc\\\\ud3ab \\\\ubc18\\\\ub824\\\\ub3d9\\\\ubb3c \\\\uadf9\\\\uc138\\\\uc0ac \\\\ub9c8\\\\uc57d \\\\ubc29\\\\uc11d, \\\\ud551\\\\ud06c\", 16680, \"a550afe1f6b4\", \"https://www.naver.com\"], [\"\\\\ub808\\\\ub4dc\\\\ud37c\\\\ud53c \\\\ubc18\\\\ub824\\\\uacac \\\\uc2a4\\\\ub109\\\\uc6cc\\\\uba38 \\\\uc6d0 \\\\ubc29\\\\uc11d, \\\\uc544\\\\uc774\\\\ubcf4\\\\ub9ac\", 20900, \"6a84193d7833\", \"https://www.naver.com\"], [\"\\\\ud3ec\\\\uae00 \\\\ubc18\\\\ub824\\\\ub3d9\\\\ubb3c \\\\uc0ac\\\\uacc4\\\\uc808 \\\\uac15\\\\uc544\\\\uc9c0 \\\\ubc29\\\\uc11d \\\\ud5c8\\\\uadf8 \\\\ucfe0\\\\uc158, \\\\ud074\\\\ub9ac\\\\uc5b4\\\\ubbfc\\\\ud2b8\", 36900, \"f80b752a10c7\", \"https://www.naver.com\"]], \"rel_item_03\": [[\"\\\\ub808\\\\ub4dc\\\\ud37c\\\\ud53c \\\\ubc18\\\\ub824\\\\uacac \\\\uc789\\\\ud074 \\\\uc6d0 \\\\ubc29\\\\uc11d, \\\\ubd80\\\\ube44\\\\ubca0\\\\uc5b4\", 13600, \"c333e61ace13\", \"https://www.naver.com\"], [\"\\\\ud06c\\\\ub9bc\\\\ud3ab \\\\ubc18\\\\ub824\\\\ub3d9\\\\ubb3c \\\\uadf9\\\\uc138\\\\uc0ac \\\\ub9c8\\\\uc57d \\\\ubc29\\\\uc11d, \\\\ud551\\\\ud06c\", 16680, \"a550afe1f6b4\", \"https://www.naver.com\"], [\"\\\\ub808\\\\ub4dc\\\\ud37c\\\\ud53c \\\\ubc18\\\\ub824\\\\uacac \\\\uc2a4\\\\ub109\\\\uc6cc\\\\uba38 \\\\uc6d0 \\\\ubc29\\\\uc11d, \\\\uc544\\\\uc774\\\\ubcf4\\\\ub9ac\", 20900, \"6a84193d7833\", \"https://www.naver.com\"], [\"\\\\ud3ec\\\\uae00 \\\\ubc18\\\\ub824\\\\ub3d9\\\\ubb3c \\\\uc0ac\\\\uacc4\\\\uc808 \\\\uac15\\\\uc544\\\\uc9c0 \\\\ubc29\\\\uc11d \\\\ud5c8\\\\uadf8 \\\\ucfe0\\\\uc158, \\\\ud074\\\\ub9ac\\\\uc5b4\\\\ubbfc\\\\ud2b8\", 36900, \"f80b752a10c7\", \"https://www.naver.com\"]]}]'"
      ]
     },
     "execution_count": 42,
     "metadata": {},
     "output_type": "execute_result"
    }
   ],
   "source": [
    "json_val"
   ]
  },
  {
   "cell_type": "code",
   "execution_count": null,
   "id": "f20499fc",
   "metadata": {},
   "outputs": [],
   "source": []
  }
 ],
 "metadata": {
  "kernelspec": {
   "display_name": "Python 3 (ipykernel)",
   "language": "python",
   "name": "python3"
  },
  "language_info": {
   "codemirror_mode": {
    "name": "ipython",
    "version": 3
   },
   "file_extension": ".py",
   "mimetype": "text/x-python",
   "name": "python",
   "nbconvert_exporter": "python",
   "pygments_lexer": "ipython3",
   "version": "3.11.5"
  }
 },
 "nbformat": 4,
 "nbformat_minor": 5
}
