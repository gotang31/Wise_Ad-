{
 "cells": [
  {
   "cell_type": "markdown",
   "id": "ffa3566b-7d93-44cc-915d-1c59c9a7e54f",
   "metadata": {},
   "source": [
    "# Recommender System"
   ]
  },
  {
   "cell_type": "markdown",
   "id": "daaa5d60-ed54-49c3-8156-8c38581bb0ae",
   "metadata": {},
   "source": [
    "필요한 라이브러리들을 import 합니다."
   ]
  },
  {
   "cell_type": "code",
   "execution_count": 11,
   "id": "05934cf0-9177-49fc-97a6-79d06aa3d4d5",
   "metadata": {},
   "outputs": [],
   "source": [
    "import networkx as nx\n",
    "import random\n",
    "import pandas as pd\n",
    "\n",
    "# 그래프를 입력받는 과정에서, neo4j와 networkX의 차이로 인해 발생하는 (기능상 문제 없는) 오류 출력을 막습니다.\n",
    "import warnings\n",
    "warnings.filterwarnings('ignore')"
   ]
  },
  {
   "cell_type": "markdown",
   "id": "659fb701-30a6-4106-a272-4acfad9e9299",
   "metadata": {},
   "source": [
    "# Import Graph"
   ]
  },
  {
   "cell_type": "markdown",
   "id": "cb39a99a-00fb-4e4e-bba6-c68db9214b3e",
   "metadata": {},
   "source": [
    "초기에 추천 시스템을 구축할 때, neo4j graph local desktop DB를 활용하였습니다.\n",
    "\n",
    "하지만 티쓰리큐 플랫폼에 업로드를 실시하며 이를 사용할 수 없게 되어, graph DB에 저장되어 있는 graph를 'neo4jdata.graphml' file로 export하였고, 이를 이용하여 추천을 진행하기 위해 export된 파일읍 입력받아 networkx library를 활용하여 그래프를 그려야 합니다."
   ]
  },
  {
   "cell_type": "code",
   "execution_count": 12,
   "id": "238eaeb0-f34a-4956-801e-f9e23a7ff736",
   "metadata": {},
   "outputs": [],
   "source": [
    "# Path to your GraphML file\n",
    "graphml_file_path = 'neo4jdata.graphml'\n",
    "\n",
    "# Read the GraphML file\n",
    "# GraphML file를 networkX에서 사용하는 graph G로 읽어들입니다.\n",
    "G = nx.read_graphml(graphml_file_path)\n",
    "\n",
    "# Warning은 무시해도 상관 없습니다.\n",
    "# 기능 상에 문제가 있는 것이 아닌, neo4j에서 supercategoryID를 설정할 때, 이를 string datatype으로 설정하였는데, \n",
    "# 이를 netwokx에서 사용할 수 없어서 이를 바꾸겠다는 warning입니다."
   ]
  },
  {
   "cell_type": "markdown",
   "id": "afc64527-dbb5-42de-b7d0-d229db27edad",
   "metadata": {},
   "source": [
    "# Recommendation 관련 함수들"
   ]
  },
  {
   "cell_type": "markdown",
   "id": "1a29bbde-b5af-4909-8aca-646a6a4628b9",
   "metadata": {},
   "source": [
    "0. video_subject category conversion <br>\n",
    "   : video 전체의 주제인 video_subject를 적절한 item category에 배정을 해주는 것입니다. <br>\n",
    "   : 이는 영상 주제가 고양이 (1), 강아지 (0), 고양이&강아지 (-1)인 경우로 표기합니다. <br>\n",
    "   : 이는 쿠팡 상품 카테고리를 참고하였을 때, 고양이&강아지인 카테고리가 없기 때문에 저희 조의 기준에 따라 다시 설정했기 때문에 필요한 부분입니다."
   ]
  },
  {
   "cell_type": "code",
   "execution_count": 13,
   "id": "33780ce7-cc7c-4b89-99dc-4370c4970833",
   "metadata": {},
   "outputs": [],
   "source": [
    "def convert_category(detection_category, video_subject):\n",
    "    if video_subject == 1:\n",
    "        # Mapping for video_subject = 1 (고양이)\n",
    "        mapping = {2: 118920, 3: 118923, 4: 119567, 5: 119567, 6: 119571, 7: 119562, 8: 119564, 9: 157054}\n",
    "    elif video_subject == 0:\n",
    "        # Mapping for video_subject = 0 (강아지)\n",
    "        mapping = {2: 118920, 3: 118923, 4: 119567, 5: 119567, 6: 119571, 7: 118920, 8: 118922, 9: 118926}\n",
    "    else:\n",
    "        # Mapping for video_subject = -1 (공통)\n",
    "        mapping = {2: 118920, 3: 118923, 4: 119567, 5: 119567, 6: 119571, 7: 238482, 8: 238486, 9: 275980}\n",
    "    \n",
    "    return mapping.get(detection_category)"
   ]
  },
  {
   "cell_type": "markdown",
   "id": "d824eecf-c0f2-4b45-9065-4497c9e92a48",
   "metadata": {},
   "source": [
    "1. userID 또는 categoryID를 각각 해당하는 node의 ID로 변환해주는 함수 <br>\n",
    ": neo4j에서는 각 node의 ID를 user node는 userID, category node는 categoryID와 같이 설정을 하였습니다. <br>\n",
    "다만, 이를 neo4jdata.graphml로 export를 하면, 이를 무시하고 정해진 순서대로 처음부터 다시 node와 relation의 ID를 설정하게 됩니다. <br>\n",
    "그렇기 때문에 neo4j DB를 활용하여 추천 시스템을 구축한 코드를 활용하며 최대한 유사하도록 변환을 하기 위해서는 node의 ID를 userID 또는 categoryID와 같이 변환을 해줘야 합니다."
   ]
  },
  {
   "cell_type": "code",
   "execution_count": 14,
   "id": "3d25c76a-3fea-4e37-a907-1661b8862f98",
   "metadata": {},
   "outputs": [],
   "source": [
    "# userID 또는 categoryID로 각 node를 찾는 함수입니다.\n",
    "# 이는 graphDB에서 networkX로 옮겨 오면서 발생하는 ID 차이로 인해 사용합니다.\n",
    "def find_node_by_attribute(attr, value):\n",
    "    for node, data in G.nodes(data=True):\n",
    "        if data.get(attr) == value:\n",
    "            return node\n",
    "    return None"
   ]
  },
  {
   "cell_type": "markdown",
   "id": "4449a8bf-2690-4869-b531-454a4cf3c501",
   "metadata": {},
   "source": [
    "2. Category 추천 시스템 <br>\n",
    ": 사물 인식의 결과를 받아서, tab 2, 3에서 item 추천에 사용될 category를 추천해줍니다. <br>\n",
    ": 입력으로 grpah G, 사용자의 user_id, 사물 인식에서 나온 key_category_id를 활용합니다."
   ]
  },
  {
   "cell_type": "code",
   "execution_count": 15,
   "id": "e5ea124c-5e21-47a3-819c-babf238ea5a2",
   "metadata": {},
   "outputs": [],
   "source": [
    "def category_recommender(user_id, key_category_id):\n",
    "    # Step 1: Find the keySupercategory of the keyCategory\n",
    "    key_category_node = find_node_by_attribute('categoryID', key_category_id)\n",
    "    key_supercategory_node = None\n",
    "    for u, v, d in G.edges(key_category_node, data=True):\n",
    "        if d.get('label') == 'CATEGORY_BELONGS_TO':\n",
    "            key_supercategory_node = v\n",
    "            break\n",
    "\n",
    "    if not key_supercategory_node:\n",
    "        raise ValueError(\"Key supercategory not found\")\n",
    "    \n",
    "    # Step 2: Find similar users\n",
    "    target_user_node = find_node_by_attribute('userID', str(user_id))\n",
    "    # Similar user가 없는 경우에는 이를 빈 list로 해줘야 한다. \n",
    "    # 이렇게 하지 않으면 모든 edges를 다 가져오기 때문에 문제가 생긴다.\n",
    "    if target_user_node:\n",
    "        similar_users = [v for u, v in G.edges(target_user_node) if G[u][v].get('label') == 'SIMILAR']\n",
    "    else:\n",
    "        similar_users = []\n",
    "    \n",
    "    # Initialize recommended_categories\n",
    "    recommended_categories = {}\n",
    "\n",
    "    # If there are similar users, proceed with collaborative filtering\n",
    "    if similar_users:\n",
    "        for su in similar_users:\n",
    "            for u, v, d in G.edges(su, data=True):\n",
    "                if d.get('label') == 'PREFERENCE':\n",
    "                    if any(d.get('label') == 'CATEGORY_BELONGS_TO' for _, _, d in G.edges(v, data=True)):\n",
    "                        category_id = G.nodes[v].get('categoryID')\n",
    "                        recommended_categories[category_id] = recommended_categories.get(category_id, 0) + 1\n",
    "\n",
    "        # Sort and get top 2 categories\n",
    "        sorted_categories = sorted(recommended_categories, key=recommended_categories.get, reverse=True)[:2]\n",
    "\n",
    "    else:\n",
    "        # If no similar users, pick 2 random categories from the same supercategory\n",
    "        potential_categories = [u for u, v, d in G.edges(key_category_node, data=True) \n",
    "                                if d.get('label') == 'CATEGORY_BELONGS_TO' and G.nodes[u].get('categoryID') != key_category_id]\n",
    "        # no duplicates\n",
    "        potential_categories = list(set(potential_categories))\n",
    "\n",
    "        # Randomly select up to 2 categories\n",
    "        selected_nodes = random.sample(potential_categories, 2) \n",
    "        sorted_categories = [G.nodes[v].get('categoryID') for v in selected_nodes]\n",
    "\n",
    "    return [int(x) for x in sorted_categories[:2]]\n"
   ]
  },
  {
   "cell_type": "markdown",
   "id": "7426964c-8d8f-48c4-b001-b0451181d134",
   "metadata": {},
   "source": [
    "3. Item 추천 시스템 <br>\n",
    ": tab 2, 3에서 주어진 category와 사용자 정보를 바탕으로 item을 추천해줍니다. <br>\n",
    ": 입력으로 graph G, 사용자의 user_id, category 추천에서 나온 category를 사용합니다."
   ]
  },
  {
   "cell_type": "code",
   "execution_count": 16,
   "id": "abbc399b-1ced-4589-bafd-d0731ad8346b",
   "metadata": {},
   "outputs": [],
   "source": [
    "def item_recommender(user_id, category_id):\n",
    "    # Step 1: Find similar users and their rated items\n",
    "    target_user_node = find_node_by_attribute('userID', str(user_id))\n",
    "    if target_user_node:\n",
    "        similar_users = [v for u, v in G.edges(target_user_node) if G[u][v].get('label') == 'SIMILAR']\n",
    "    else:\n",
    "        similar_users = []\n",
    "    item_scores = {}\n",
    "\n",
    "    print(similar_users)\n",
    "    # items that target_user already bought\n",
    "    target_user_items = [v for u, v, d in G.edges(target_user_node, data=True) if d.get('label') == 'RATED']\n",
    "    for su in similar_users:\n",
    "        print(type(su))\n",
    "        for u, item, data in G.edges(data=True):\n",
    "            if data.get('label') == 'RATED' and item not in target_user_items and u == su:\n",
    "                item_data = G.nodes[item]\n",
    "                # 하나의 item이 동시에 여러 category에 속할 수 있으므로 (['공통']의 경우), 그것을 반영합니다\n",
    "                category_ids = [G.nodes[v].get('categoryID') for u, v, d in G.edges(item, data=True) if d.get('label') == 'BELONGS_TO']\n",
    "                if str(category_id) in category_ids:\n",
    "                    # item 평점을 가져옵니다. 이로 우선순위를 부여합니다.\n",
    "                    rating = data.get('Rating', 0)\n",
    "                    item_scores[item] = item_scores.get(item, 0) + float(rating)\n",
    "        print(item_scores)\n",
    "        print('category_ids:')\n",
    "        print(category_ids)\n",
    "    # Step 2: item을 rating을 기준으로 높은 것을 추천해줍니다.\n",
    "    top_items = sorted(item_scores, key=item_scores.get, reverse=True)[:4]\n",
    "    print(top_items)\n",
    "    # Step 3: Cold Start Problem\n",
    "    # similar user가 없는 경우, 또는 추천하는 item이 부족한 경우, 자체적인 score를 계산하여 추천을 합니다.\n",
    "    # 동일 category 내에서 추천을 해줍니다.\n",
    "    # Calculate the number of recommendations already found\n",
    "    num_of_recommendations = len(top_items)\n",
    "    num_of_needed_recommendations = 4 - num_of_recommendations\n",
    "    print(num_of_needed_recommendations)\n",
    "\n",
    "    # Cold Start Problem Handling\n",
    "    if num_of_needed_recommendations > 0:\n",
    "         # Find the node that represents the specified category\n",
    "        category_node = find_node_by_attribute('categoryID', str(category_id))\n",
    "    \n",
    "        # Find all item nodes connected to this category node and not in top_items\n",
    "        all_items_in_category = []\n",
    "        if category_node:\n",
    "            for u, v, d in G.edges(data=True):\n",
    "                #print(\"Edge from\", u, \"to\", v, \"with data:\", d)\n",
    "                if d.get('label') == 'BELONGS_TO' and v == category_node and u not in top_items:\n",
    "                    all_items_in_category.append(u)\n",
    "    \n",
    "        # Calculate a score for each additional item based on NumOfReviews and Rating\n",
    "        cold_start_scores = {item: float(G.nodes[item].get('NumOfReviews', 0)) * float(G.nodes[item].get('Rating', 0)) for item in all_items_in_category}\n",
    "        # Select additional items based on the score\n",
    "        additional_items = sorted(cold_start_scores, key=cold_start_scores.get, reverse=True)[:num_of_needed_recommendations]\n",
    "        top_items.extend(additional_items)\n",
    "    \n",
    "    # Convert node IDs to itemIDs\n",
    "    recommended_itemIDs = [(G.nodes[item].get('itemID')) for item in top_items]\n",
    "\n",
    "    return recommended_itemIDs"
   ]
  },
  {
   "cell_type": "markdown",
   "id": "8937d2c4-ec36-46e0-becf-e68e189933cc",
   "metadata": {},
   "source": [
    "4. Random 추천 <br>\n",
    ": tab 4의 경우, 추천에서 신선함을 부여하기 위해 random 추천을 활용하였습니다. <br>\n",
    ": random recommendation의 경우, 우선 category를 random하게 추천해준 후, 이 category 내에 있는 item을 random하게 추천해줍니다. <br>\n",
    ": random 추천이지만, tab 2, 3의 category를 다시 추천해주는 것을 방지하도록 하였습니다. <br>\n",
    "또한, 영상의 주제와 너무 동떨어진 추천을 하는 것을 방지하기 위하여 영상 전체 주제인 'video_subject' 내에서 추천을 진행하도록 하였습니다."
   ]
  },
  {
   "cell_type": "code",
   "execution_count": 17,
   "id": "7c63419e-4355-4d18-b846-defd3ff86eab",
   "metadata": {},
   "outputs": [],
   "source": [
    "def random_recommender(tab2_cat, tab3_cat, video_subject):\n",
    "    # Find all supercategories belonging to the given metacategory\n",
    "    # Find the metacategory node\n",
    "    metacategory_node = None\n",
    "    for node, data in G.nodes(data=True):\n",
    "        if data.get('metacategoryID') == str(video_subject):\n",
    "            metacategory_node = node\n",
    "    \n",
    "    # Find all supercategories under this metacategory\n",
    "    supercategories = [u for u, v, d in G.edges(data=True) if d.get('label') == 'SUPERCATEGORY_BELONGS_TO' and v == metacategory_node]\n",
    "\n",
    "    # Find all categories within these supercategories, excluding tab2_cat and tab3_cat\n",
    "    potential_categories = []\n",
    "    for sc in supercategories:\n",
    "        categories = [u for u, v, d in G.edges(data=True) if d.get('label') == 'CATEGORY_BELONGS_TO' and v == sc]\n",
    "        potential_categories.extend(categories)\n",
    "\n",
    "    # Filter categories and randomly select one\n",
    "    potential_categories = [cat for cat in potential_categories if G.nodes[cat].get('categoryID') not in [tab2_cat, tab3_cat]]\n",
    "    tab4_cat = random.choice(potential_categories) if potential_categories else None\n",
    "    \n",
    "    # Randomly recommend items from the selected category\n",
    "    tab4_items = []\n",
    "    if tab4_cat:\n",
    "        items_in_category = [u for u, v, d in G.edges(data=True) if d.get('label') == 'BELONGS_TO' and v == str(tab4_cat)]\n",
    "        tab4_items = random.sample(items_in_category, min(len(items_in_category), 4))\n",
    "\n",
    "    # Convert node IDs to itemIDs\n",
    "    tab4_item_ids = [int(G.nodes[item].get('itemID')) for item in tab4_items]\n",
    "\n",
    "    return int(G.nodes[tab4_cat].get('categoryID')), tab4_item_ids"
   ]
  },
  {
   "cell_type": "markdown",
   "id": "a32dc9dd-e8f3-48a4-8f72-9b726c6462d5",
   "metadata": {},
   "source": [
    "# Workflow"
   ]
  },
  {
   "cell_type": "markdown",
   "id": "eb9cc3ed-af90-47d9-ad11-bfcbc0dbc0e8",
   "metadata": {},
   "source": [
    "영상 분석을 통한 사물 인식의 결과를 바탕으로, 추천을 진행하는 것 까지의 과정은 다음과 같습니다.\n",
    "\n",
    "1. 영상에서 detection_category와 video_subject를 input으로 받고, 추가적으로 userID를 같이 input으로 받습니다. <br>\n",
    "   최종 input은 다음과 같습니다: <br>\n",
    "   input = {'detection_category':detection_category, 'userID':userID, 'video_subject':video_subject}\n",
    "\n",
    "2. 이 input을 이용하여 category_recommender에서 category 추천을 해줍니다. <br>\n",
    "   category_recommender의 output은 다음과 같습니다: <br>\n",
    "   tab2_cat, tab3_cat = category_recommender(userID, key_category)\n",
    "\n",
    "3. category_rec_output을 이용해서 item 추천을 진행해줍니다. <br>\n",
    "   tab2_cat, tab3_cat을 각각 이용해서 tab2_item, tab3_item을 output으로 얻습니다. <br>\n",
    "   item_recommender의 output은 다음과 같습니다: <br>\n",
    "   tab2_item = item_recommender(userID, tab2_cat) <br>\n",
    "   tab3_item = item_recommender(userID, tab3_cat)\n",
    "\n",
    "4. tab4에 대한 random recommendation을 통해 item을 추천해줍니다. <br>\n",
    "   tab2_cat, tab3_cat, 사물 인식의 결과로 나온 video_subject를 이용하여 tab4_cat, tab4_item을 output으로 얻습니다. <br>\n",
    "   random_recommender의 output은 다음과 같습니다: <br>\n",
    "   tab4_cat, tab4_item = random_recommender(tab2_cat, tab3_cat, video_subject)"
   ]
  },
  {
   "cell_type": "code",
   "execution_count": 18,
   "id": "56cd5a75-4fcc-462d-852b-12333ef38e61",
   "metadata": {},
   "outputs": [],
   "source": [
    "# 예제\n",
    "detection_category = 7\n",
    "userID = 10\n",
    "video_subject = 0\n",
    "\n",
    "input = {'detection_category':detection_category, 'userID':userID, 'video_subject':video_subject}"
   ]
  },
  {
   "cell_type": "code",
   "execution_count": 19,
   "id": "8f55c4c0-fd2a-4c23-b04a-c3f1bbdb6d9e",
   "metadata": {},
   "outputs": [],
   "source": [
    "def main(input_data):\n",
    "\n",
    "    #추천을 위한 변수들을 준비합니다.\n",
    "    detection_category = int(input_data[\"detection_category\"])\n",
    "    userID = int(input_data[\"userID\"])\n",
    "    video_subject = int(input_data[\"video_subject\"])\n",
    "    key_category = convert_category(detection_category, video_subject)\n",
    "    \n",
    "    #tab2, 3 카테고리 추천\n",
    "    tab2_cat, tab3_cat = category_recommender(userID, key_category)\n",
    "\n",
    "    #tab2, 3 item 추천\n",
    "    tab2_item = item_recommender(userID, tab2_cat)\n",
    "    tab3_item = item_recommender(userID, tab3_cat)\n",
    "\n",
    "    #tab4 카테고리, item 추천\n",
    "    tab4_cat, tab4_item = random_recommender(tab2_cat, tab3_cat, video_subject)\n",
    "\n",
    "    #최종 결과: list 형태\n",
    "    # [[tab2_cat, tab3_cat, tab4_cat], tab2_item, tab3_item, tab4_item]\n",
    "    category_list = [tab2_cat, tab3_cat, tab4_cat]\n",
    "    item_list = [tab2_item, tab3_item, tab4_item]\n",
    "    result = [category_list] + item_list\n",
    "\n",
    "    print(result)\n",
    "    return result"
   ]
  },
  {
   "cell_type": "code",
   "execution_count": 20,
   "id": "c7b22068-6420-4e05-b151-bdab76172f93",
   "metadata": {},
   "outputs": [
    {
     "name": "stdout",
     "output_type": "stream",
     "text": [
      "['n842', 'n527', 'n562', 'n546']\n",
      "<class 'str'>\n",
      "{'n49664': 5.0}\n",
      "category_ids:\n",
      "['509024']\n",
      "<class 'str'>\n",
      "{'n49664': 5.0, 'n53090': 1.0}\n",
      "category_ids:\n",
      "['381540']\n",
      "<class 'str'>\n",
      "{'n49664': 5.0, 'n53090': 1.0}\n",
      "category_ids:\n",
      "['486342']\n",
      "<class 'str'>\n",
      "{'n49664': 5.0, 'n53090': 1.0, 'n48687': 4.0, 'n51192': 5.0}\n",
      "category_ids:\n",
      "['486342']\n",
      "['n49664', 'n51192', 'n48687', 'n53090']\n",
      "0\n",
      "['n842', 'n527', 'n562', 'n546']\n",
      "<class 'str'>\n",
      "{'n49666': 5.0}\n",
      "category_ids:\n",
      "['509024']\n",
      "<class 'str'>\n",
      "{'n49666': 5.0}\n",
      "category_ids:\n",
      "['381540']\n",
      "<class 'str'>\n",
      "{'n49666': 5.0}\n",
      "category_ids:\n",
      "['486342']\n",
      "<class 'str'>\n",
      "{'n49666': 5.0, 'n54012': 5.0}\n",
      "category_ids:\n",
      "['486342']\n",
      "['n49666', 'n54012']\n",
      "2\n",
      "[[238486, 509024, 445731], ['39290', '39409', '20251', '20831'], ['52126', '52377', '52092', '52331'], [3304, 3333, 3668, 3718]]\n"
     ]
    },
    {
     "data": {
      "text/plain": [
       "[[238486, 509024, 445731],\n",
       " ['39290', '39409', '20251', '20831'],\n",
       " ['52126', '52377', '52092', '52331'],\n",
       " [3304, 3333, 3668, 3718]]"
      ]
     },
     "execution_count": 20,
     "metadata": {},
     "output_type": "execute_result"
    }
   ],
   "source": [
    "main(input)"
   ]
  },
  {
   "cell_type": "code",
   "execution_count": null,
   "id": "2c53142d-39b9-47cd-b9be-258c035dede8",
   "metadata": {},
   "outputs": [],
   "source": []
  }
 ],
 "metadata": {
  "kernelspec": {
   "display_name": "Python 3 (ipykernel)",
   "language": "python",
   "name": "python3"
  },
  "language_info": {
   "codemirror_mode": {
    "name": "ipython",
    "version": 3
   },
   "file_extension": ".py",
   "mimetype": "text/x-python",
   "name": "python",
   "nbconvert_exporter": "python",
   "pygments_lexer": "ipython3",
   "version": "3.10.12"
  }
 },
 "nbformat": 4,
 "nbformat_minor": 5
}
