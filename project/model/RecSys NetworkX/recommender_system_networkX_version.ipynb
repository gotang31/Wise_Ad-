{
 "cells": [
  {
   "cell_type": "markdown",
   "id": "11f3b950-b8bc-4760-bcda-502c6e226482",
   "metadata": {},
   "source": [
    "# Recommendation"
   ]
  },
  {
   "cell_type": "code",
   "execution_count": 11,
   "id": "5cd2ea32-5e0b-4f17-8737-a1036ae5ca32",
   "metadata": {},
   "outputs": [],
   "source": [
    "import networkx as nx\n",
    "import random\n",
    "import pandas as pd"
   ]
  },
  {
   "cell_type": "code",
   "execution_count": 42,
   "id": "3aa4a2b7-28eb-4b21-a803-336b891f4c97",
   "metadata": {},
   "outputs": [],
   "source": [
    "import warnings\n",
    "warnings.filterwarnings('ignore')"
   ]
  },
  {
   "cell_type": "markdown",
   "id": "19ea3379-bf00-4c42-bb45-b20266e4fff2",
   "metadata": {},
   "source": [
    "# Import graph"
   ]
  },
  {
   "cell_type": "code",
   "execution_count": 43,
   "id": "d97b8ab7-39c5-4827-ad01-0a40870e297f",
   "metadata": {},
   "outputs": [],
   "source": [
    "# Path to your GraphML file\n",
    "graphml_file_path = 'neo4jdata.graphml'\n",
    "\n",
    "# Read the GraphML file\n",
    "G = nx.read_graphml(graphml_file_path)\n",
    "\n",
    "# Warning은 무시해도 상관 없습니다."
   ]
  },
  {
   "cell_type": "code",
   "execution_count": 44,
   "id": "1e2e1234-e21f-4fa3-b105-9b61b0c5f94c",
   "metadata": {},
   "outputs": [],
   "source": [
    "# userID 또는 categoryID로 각 node를 찾는 함수입니다.\n",
    "# 이는 graphDB에서 networkX로 옮겨 오면서 발생하는 ID 차이로 인해 사용합니다.\n",
    "def find_node_by_attribute(G, attr, value):\n",
    "    for node, data in G.nodes(data=True):\n",
    "        if data.get(attr) == value:\n",
    "            return node\n",
    "    return None"
   ]
  },
  {
   "cell_type": "markdown",
   "id": "d9ad4c83-cc92-4a09-a189-77782e3d5434",
   "metadata": {},
   "source": [
    "# Category recommendation"
   ]
  },
  {
   "cell_type": "code",
   "execution_count": 45,
   "id": "fdcda374-3d59-40ff-9f8c-9c86794cf8b5",
   "metadata": {},
   "outputs": [],
   "source": [
    "def category_recommender(G, user_id, key_category_id):\n",
    "    # Step 1: Find the keySupercategory of the keyCategory\n",
    "    key_category_node = find_node_by_attribute(G, 'categoryID', key_category_id)\n",
    "    key_supercategory_node = None\n",
    "    for u, v, d in G.edges(key_category_node, data=True):\n",
    "        if d.get('label') == 'CATEGORY_BELONGS_TO':\n",
    "            key_supercategory_node = v\n",
    "            break\n",
    "\n",
    "    if not key_supercategory_node:\n",
    "        raise ValueError(\"Key supercategory not found\")\n",
    "    \n",
    "    # Step 2: Find similar users\n",
    "    target_user_node = find_node_by_attribute(G, 'userID', str(user_id))\n",
    "    # Similar user가 없는 경우에는 이를 빈 list로 해줘야 한다. \n",
    "    # 이렇게 하지 않으면 모든 edges를 다 가져오기 때문에 문제가 생긴다.\n",
    "    if target_user_node:\n",
    "        similar_users = [v for u, v in G.edges(target_user_node) if G[u][v].get('label') == 'SIMILAR']\n",
    "    else:\n",
    "        similar_users = []\n",
    "    \n",
    "    # Initialize recommended_categories\n",
    "    recommended_categories = {}\n",
    "\n",
    "    # If there are similar users, proceed with collaborative filtering\n",
    "    if similar_users:\n",
    "        for su in similar_users:\n",
    "            for u, v, d in G.edges(su, data=True):\n",
    "                if d.get('label') == 'PREFERENCE':\n",
    "                    if any(d.get('label') == 'CATEGORY_BELONGS_TO' for _, _, d in G.edges(v, data=True)):\n",
    "                        category_id = G.nodes[v].get('categoryID')\n",
    "                        recommended_categories[category_id] = recommended_categories.get(category_id, 0) + 1\n",
    "\n",
    "        # Sort and get top 2 categories\n",
    "        sorted_categories = sorted(recommended_categories, key=recommended_categories.get, reverse=True)[:2]\n",
    "\n",
    "    else:\n",
    "        # If no similar users, pick 2 random categories from the same supercategory\n",
    "        potential_categories = [u for u, v, d in G.edges(key_category_node, data=True) \n",
    "                                if d.get('label') == 'CATEGORY_BELONGS_TO' and G.nodes[u].get('categoryID') != key_category_id]\n",
    "        # no duplicates\n",
    "        potential_categories = list(set(potential_categories))\n",
    "\n",
    "        # Randomly select up to 2 categories\n",
    "        selected_nodes = random.sample(potential_categories, 2) \n",
    "        sorted_categories = [G.nodes[v].get('categoryID') for v in selected_nodes]\n",
    "\n",
    "    return [int(x) for x in sorted_categories[:2]]\n"
   ]
  },
  {
   "cell_type": "code",
   "execution_count": 46,
   "id": "703276cb-7712-45b0-a351-0fbd46fc7839",
   "metadata": {},
   "outputs": [],
   "source": [
    "userID = 100\n",
    "key_category = 238482\n",
    "video_subject = -1"
   ]
  },
  {
   "cell_type": "code",
   "execution_count": 47,
   "id": "d367de9e-4d10-40df-97f5-bfc28953c91a",
   "metadata": {},
   "outputs": [
    {
     "data": {
      "text/plain": [
       "(225107, 275980)"
      ]
     },
     "execution_count": 47,
     "metadata": {},
     "output_type": "execute_result"
    }
   ],
   "source": [
    "tab2_cat, tab3_cat = category_recommender(G, userID, key_category)\n",
    "tab2_cat, tab3_cat\n",
    "# userID 중에 10000000은 없지만, 이 경우에는 similar user가 없는 것으로 된다."
   ]
  },
  {
   "cell_type": "markdown",
   "id": "b0808512-73e6-4d3b-94cd-b752e54048d6",
   "metadata": {},
   "source": [
    "# Item recommendation"
   ]
  },
  {
   "cell_type": "code",
   "execution_count": 48,
   "id": "4bd2f670-0bf6-4d03-aa98-30e739fcf20b",
   "metadata": {},
   "outputs": [],
   "source": [
    "def item_recommender(G, user_id, category_id):\n",
    "    # Step 1: Find similar users and their rated items\n",
    "    target_user_node = find_node_by_attribute(G, 'userID', str(user_id))\n",
    "    if target_user_node:\n",
    "        similar_users = [v for u, v in G.edges(target_user_node) if G[u][v].get('label') == 'SIMILAR']\n",
    "    else:\n",
    "        similar_users = []\n",
    "    item_scores = {}\n",
    "\n",
    "    print(similar_users)\n",
    "    # items that target_user already bought\n",
    "    target_user_items = [v for u, v, d in G.edges(target_user_node, data=True) if d.get('label') == 'RATED']\n",
    "    for su in similar_users:\n",
    "        print(type(su))\n",
    "        for u, item, data in G.edges(data=True):\n",
    "            if data.get('label') == 'RATED' and item not in target_user_items and u == su:\n",
    "                item_data = G.nodes[item]\n",
    "                # 하나의 item이 동시에 여러 category에 속할 수 있으므로 (['공통']의 경우), 그것을 반영합니다\n",
    "                category_ids = [G.nodes[v].get('categoryID') for u, v, d in G.edges(item, data=True) if d.get('label') == 'BELONGS_TO']\n",
    "                if str(category_id) in category_ids:\n",
    "                    # item 평점을 가져옵니다. 이로 우선순위를 부여합니다.\n",
    "                    rating = data.get('Rating', 0)\n",
    "                    item_scores[item] = item_scores.get(item, 0) + float(rating)\n",
    "        print(item_scores)\n",
    "        print('category_ids:')\n",
    "        print(category_ids)\n",
    "    # Step 2: item을 rating을 기준으로 높은 것을 추천해줍니다.\n",
    "    top_items = sorted(item_scores, key=item_scores.get, reverse=True)[:4]\n",
    "    print(top_items)\n",
    "    # Step 3: Cold Start Problem\n",
    "    # similar user가 없는 경우, 또는 추천하는 item이 부족한 경우, 자체적인 score를 계산하여 추천을 합니다.\n",
    "    # 동일 category 내에서 추천을 해줍니다.\n",
    "    # Calculate the number of recommendations already found\n",
    "    num_of_recommendations = len(top_items)\n",
    "    num_of_needed_recommendations = 4 - num_of_recommendations\n",
    "    print(num_of_needed_recommendations)\n",
    "\n",
    "    # Cold Start Problem Handling\n",
    "    if num_of_needed_recommendations > 0:\n",
    "         # Find the node that represents the specified category\n",
    "        category_node = find_node_by_attribute(G, 'categoryID', str(category_id))\n",
    "    \n",
    "        # Find all item nodes connected to this category node and not in top_items\n",
    "        all_items_in_category = []\n",
    "        if category_node:m\n",
    "            \n",
    "            for u, v, d in G.edges(data=True):\n",
    "                #print(\"Edge from\", u, \"to\", v, \"with data:\", d)\n",
    "                if d.get('label') == 'BELONGS_TO' and v == category_node and u not in top_items:\n",
    "                    all_items_in_category.append(u)\n",
    "    \n",
    "        # Calculate a score for each additional item based on NumOfReviews and Rating\n",
    "        cold_start_scores = {item: float(G.nodes[item].get('NumOfReviews', 0)) * float(G.nodes[item].get('Rating', 0)) for item in all_items_in_category}\n",
    "        # Select additional items based on the score\n",
    "        additional_items = sorted(cold_start_scores, key=cold_start_scores.get, reverse=True)[:num_of_needed_recommendations]\n",
    "        top_items.extend(additional_items)\n",
    "    \n",
    "    # Convert node IDs to itemIDs\n",
    "    recommended_itemIDs = [(G.nodes[item].get('itemID')) for item in top_items]\n",
    "\n",
    "    return recommended_itemIDs"
   ]
  },
  {
   "cell_type": "code",
   "execution_count": 49,
   "id": "77f15567-a3de-423b-ab26-c02da522d93b",
   "metadata": {},
   "outputs": [
    {
     "data": {
      "text/plain": [
       "([41715, 41542, 41600, 41783], [14438, 14640, 14678, 14503])"
      ]
     },
     "execution_count": 49,
     "metadata": {},
     "output_type": "execute_result"
    }
   ],
   "source": [
    "tab2_item = item_recommender(G, userID, tab2_cat)\n",
    "tab3_item = item_recommender(G, userID, tab3_cat)\n",
    "tab2_item, tab3_item"
   ]
  },
  {
   "cell_type": "markdown",
   "id": "e21ee643-d95f-42b2-a31c-b87b6d01f2ac",
   "metadata": {},
   "source": [
    "# Random recommendation"
   ]
  },
  {
   "cell_type": "code",
   "execution_count": 50,
   "id": "bea75d91-d6ad-443c-81b4-e4f089b221e7",
   "metadata": {},
   "outputs": [],
   "source": [
    "def random_recommender(G, tab2_cat, tab3_cat, video_subject):\n",
    "    # Find all supercategories belonging to the given metacategory\n",
    "    # Find the metacategory node\n",
    "    metacategory_node = None\n",
    "    for node, data in G.nodes(data=True):\n",
    "        if data.get('metacategoryID') == str(video_subject):\n",
    "            metacategory_node = node\n",
    "    \n",
    "    # Find all supercategories under this metacategory\n",
    "    supercategories = [u for u, v, d in G.edges(data=True) if d.get('label') == 'SUPERCATEGORY_BELONGS_TO' and v == metacategory_node]\n",
    "\n",
    "    # Find all categories within these supercategories, excluding tab2_cat and tab3_cat\n",
    "    potential_categories = []\n",
    "    for sc in supercategories:\n",
    "        categories = [u for u, v, d in G.edges(data=True) if d.get('label') == 'CATEGORY_BELONGS_TO' and v == sc]\n",
    "        potential_categories.extend(categories)\n",
    "\n",
    "    # Filter categories and randomly select one\n",
    "    potential_categories = [cat for cat in potential_categories if G.nodes[cat].get('categoryID') not in [tab2_cat, tab3_cat]]\n",
    "    tab4_cat = random.choice(potential_categories) if potential_categories else None\n",
    "    \n",
    "    # Randomly recommend items from the selected category\n",
    "    tab4_items = []\n",
    "    if tab4_cat:\n",
    "        items_in_category = [u for u, v, d in G.edges(data=True) if d.get('label') == 'BELONGS_TO' and v == str(tab4_cat)]\n",
    "        tab4_items = random.sample(items_in_category, min(len(items_in_category), 4))\n",
    "\n",
    "    # Convert node IDs to itemIDs\n",
    "    tab4_item_ids = [int(G.nodes[item].get('itemID')) for item in tab4_items]\n",
    "\n",
    "    return int(G.nodes[tab4_cat].get('categoryID')), tab4_item_ids\n"
   ]
  },
  {
   "cell_type": "code",
   "execution_count": 51,
   "id": "1965f443-2dc0-46eb-b61f-91b9c05cf312",
   "metadata": {
    "scrolled": true
   },
   "outputs": [
    {
     "data": {
      "text/plain": [
       "(381526, [44131, 44192, 43921, 44133])"
      ]
     },
     "execution_count": 51,
     "metadata": {},
     "output_type": "execute_result"
    }
   ],
   "source": [
    "random_recommender(G, tab2_cat, tab3_cat, -1)"
   ]
  },
  {
   "cell_type": "code",
   "execution_count": null,
   "id": "ec759958-2ab6-4625-9503-153bb776bb95",
   "metadata": {},
   "outputs": [],
   "source": []
  }
 ],
 "metadata": {
  "kernelspec": {
   "display_name": "Python 3 (ipykernel)",
   "language": "python",
   "name": "python3"
  },
  "language_info": {
   "codemirror_mode": {
    "name": "ipython",
    "version": 3
   },
   "file_extension": ".py",
   "mimetype": "text/x-python",
   "name": "python",
   "nbconvert_exporter": "python",
   "pygments_lexer": "ipython3",
   "version": "3.10.12"
  }
 },
 "nbformat": 4,
 "nbformat_minor": 5
}
