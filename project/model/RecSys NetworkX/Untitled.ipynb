{
 "cells": [
  {
   "cell_type": "code",
   "execution_count": 1,
   "id": "64cb6c87-5cc7-4c45-bb39-90ef5cc38891",
   "metadata": {},
   "outputs": [],
   "source": [
    "import networkx as nx\n",
    "import random\n",
    "import pandas as pd"
   ]
  },
  {
   "cell_type": "code",
   "execution_count": 4,
   "id": "2bc0db0c-f5b1-4702-aabe-a957d7a872ab",
   "metadata": {},
   "outputs": [],
   "source": [
    "import warnings\n",
    "warnings.filterwarnings('ignore')"
   ]
  },
  {
   "cell_type": "code",
   "execution_count": 5,
   "id": "a5741fbe-66ac-4c70-b360-c229cf481ad2",
   "metadata": {},
   "outputs": [],
   "source": [
    "def create_graph():\n",
    "    # Path to the GraphML file\n",
    "    # GraphML is a file created from the Neo4j database.\n",
    "    graphml_file_path = 'neo4jdata.graphml'\n",
    "    return nx.read_graphml(graphml_file_path)\n",
    "\n",
    "def find_node_by_attribute(G, attr, value):\n",
    "    # Function to find a node by userID or categoryID\n",
    "    # This is used due to the ID differences that arise when transferring from graphDB to NetworkX.\n",
    "    for node, data in G.nodes(data=True):\n",
    "        if data.get(attr) == value:\n",
    "            return node\n",
    "    return None\n"
   ]
  },
  {
   "cell_type": "code",
   "execution_count": 6,
   "id": "052c5ef2-4e8c-4615-a7fe-33d2f9569606",
   "metadata": {},
   "outputs": [],
   "source": [
    "G = create_graph()"
   ]
  },
  {
   "cell_type": "code",
   "execution_count": 7,
   "id": "93cd9308-0a30-4383-aa79-bc7ae08638d4",
   "metadata": {},
   "outputs": [],
   "source": [
    "def category_recommender(user_id, key_category_id):\n",
    "    # Step 1: Find the keySupercategory of the keyCategory\n",
    "    key_category_node = find_node_by_attribute(G, 'categoryID', key_category_id)\n",
    "    key_supercategory_node = None\n",
    "    for u, v, d in G.edges(key_category_node, data=True):\n",
    "        if d.get('label') == 'CATEGORY_BELONGS_TO':\n",
    "            key_supercategory_node = v\n",
    "            break\n",
    "\n",
    "    if not key_supercategory_node:\n",
    "        raise ValueError(\"Key supercategory not found\")\n",
    "    \n",
    "    # Step 2: Find similar users\n",
    "    target_user_node = find_node_by_attribute(G, 'userID', str(user_id))\n",
    "    # Similar user가 없는 경우에는 이를 빈 list로 해줘야 한다. \n",
    "    # 이렇게 하지 않으면 모든 edges를 다 가져오기 때문에 문제가 생긴다.\n",
    "    if target_user_node:\n",
    "        similar_users = [v for u, v in G.edges(target_user_node) if G[u][v].get('label') == 'SIMILAR']\n",
    "    else:\n",
    "        similar_users = []\n",
    "    \n",
    "    # Initialize recommended_categories\n",
    "    recommended_categories = {}\n",
    "\n",
    "    # If there are similar users, proceed with collaborative filtering\n",
    "    if similar_users:\n",
    "        for su in similar_users:\n",
    "            for u, v, d in G.edges(su, data=True):\n",
    "                if d.get('label') == 'PREFERENCE':\n",
    "                    if any(d.get('label') == 'CATEGORY_BELONGS_TO' for _, _, d in G.edges(v, data=True)):\n",
    "                        category_id = G.nodes[v].get('categoryID')\n",
    "                        recommended_categories[category_id] = recommended_categories.get(category_id, 0) + 1\n",
    "\n",
    "        # Sort and get top 2 categories\n",
    "        sorted_categories = sorted(recommended_categories, key=recommended_categories.get, reverse=True)[:2]\n",
    "\n",
    "    else:\n",
    "        # If no similar users, pick 2 random categories from the same supercategory\n",
    "        potential_categories = [u for u, v, d in G.edges(key_category_node, data=True) \n",
    "                                if d.get('label') == 'CATEGORY_BELONGS_TO' and G.nodes[u].get('categoryID') != key_category_id]\n",
    "        # no duplicates\n",
    "        potential_categories = list(set(potential_categories))\n",
    "\n",
    "        # Randomly select up to 2 categories\n",
    "        selected_nodes = random.sample(potential_categories, 2) \n",
    "        sorted_categories = [G.nodes[v].get('categoryID') for v in selected_nodes]\n",
    "\n",
    "    return [int(x) for x in sorted_categories[:2]]"
   ]
  },
  {
   "cell_type": "code",
   "execution_count": 12,
   "id": "bc2b4110-aa02-4146-a624-e41be736e958",
   "metadata": {},
   "outputs": [],
   "source": [
    "def item_recommender(user_id, category_id):\n",
    "    # Step 1: Find similar users and their rated items\n",
    "    target_user_node = find_node_by_attribute(G, 'userID', str(user_id))\n",
    "    if target_user_node:\n",
    "        similar_users = [v for u, v in G.edges(target_user_node) if G[u][v].get('label') == 'SIMILAR']\n",
    "    else:\n",
    "        similar_users = []\n",
    "    item_scores = {}\n",
    "\n",
    "    # items that target_user already bought\n",
    "    target_user_items = [v for _, v, d in G.edges(target_user_node, data=True) if d.get('label') == 'RATED']\n",
    "    for su in similar_users:\n",
    "        for _, item, data in G.edges(su, data=True):\n",
    "            if data.get('label') == 'RATED' and item not in target_user_items:\n",
    "                item_data = G.nodes[item]\n",
    "                # 하나의 item이 동시에 여러 category에 속할 수 있으므로 (['공통']의 경우), 그것을 반영합니다\n",
    "                category_ids = [G.nodes[v].get('categoryID') for u, v, d in G.edges(item, data=True) if d.get('label') == 'BELONGS_TO']\n",
    "            if str(category_id) in category_ids:\n",
    "                # item 평점을 가져옵니다. 이로 우선순위를 부여합니다.\n",
    "                rating = data.get('Rating', 0)\n",
    "                item_scores[item] = item_scores.get(item, 0) + float(rating)\n",
    "\n",
    "    # Step 2: item을 rating을 기준으로 높은 것을 추천해줍니다.\n",
    "    top_items = sorted(item_scores, key=item_scores.get, reverse=True)[:4]\n",
    "    \n",
    "    # Step 3: Cold Start Problem\n",
    "    # similar user가 없는 경우, 또는 추천하는 item이 부족한 경우, 자체적인 score를 계산하여 추천을 합니다.\n",
    "    # 동일 category 내에서 추천을 해줍니다.\n",
    "    # Calculate the number of recommendations already found\n",
    "    num_of_recommendations = len(top_items)\n",
    "    num_of_needed_recommendations = 4 - num_of_recommendations\n",
    "\n",
    "    # Cold Start Problem Handling\n",
    "    if num_of_needed_recommendations > 0:\n",
    "         # Find the node that represents the specified category\n",
    "        category_node = find_node_by_attribute(G, 'categoryID', str(category_id))\n",
    "    \n",
    "        # Find all item nodes connected to this category node and not in top_items\n",
    "        all_items_in_category = []\n",
    "        if category_node:\n",
    "            for u, v, d in G.edges(data=True):\n",
    "                #print(\"Edge from\", u, \"to\", v, \"with data:\", d)\n",
    "                if d.get('label') == 'BELONGS_TO' and v == category_node and u not in top_items:\n",
    "                    all_items_in_category.append(u)\n",
    "    \n",
    "        # Calculate a score for each additional item based on NumOfReviews and Rating\n",
    "        cold_start_scores = {item: float(G.nodes[item].get('NumOfReviews', 0)) * float(G.nodes[item].get('Rating', 0)) for item in all_items_in_category}\n",
    "        # Select additional items based on the score\n",
    "        additional_items = sorted(cold_start_scores, key=cold_start_scores.get, reverse=True)[:num_of_needed_recommendations]\n",
    "        top_items.extend(additional_items)\n",
    "    \n",
    "    # Convert node IDs to itemIDs\n",
    "    recommended_itemIDs = [(G.nodes[item].get('itemID')) for item in top_items]\n",
    "\n",
    "    return recommended_itemIDs"
   ]
  },
  {
   "cell_type": "code",
   "execution_count": 13,
   "id": "12fc97e9-c0d3-4397-baa6-4f26e936f9ce",
   "metadata": {},
   "outputs": [],
   "source": [
    "def random_recommender(tab2_cat, tab3_cat, video_subject):\n",
    "    # Find all supercategories belonging to the given metacategory\n",
    "    # Find the metacategory node\n",
    "    metacategory_node = None\n",
    "    for node, data in G.nodes(data=True):\n",
    "        if data.get('metacategoryID') == str(video_subject):\n",
    "            metacategory_node = node\n",
    "    \n",
    "    # Find all supercategories under this metacategory\n",
    "    supercategories = [u for u, v, d in G.edges(data=True) if d.get('label') == 'SUPERCATEGORY_BELONGS_TO' and v == metacategory_node]\n",
    "\n",
    "    # Find all categories within these supercategories, excluding tab2_cat and tab3_cat\n",
    "    potential_categories = []\n",
    "    for sc in supercategories:\n",
    "        categories = [u for u, v, d in G.edges(data=True) if d.get('label') == 'CATEGORY_BELONGS_TO' and v == sc]\n",
    "        potential_categories.extend(categories)\n",
    "\n",
    "    # Filter categories and randomly select one\n",
    "    potential_categories = [cat for cat in potential_categories if G.nodes[cat].get('categoryID') not in [tab2_cat, tab3_cat]]\n",
    "    tab4_cat = random.choice(potential_categories) if potential_categories else None\n",
    "    \n",
    "    # Randomly recommend items from the selected category\n",
    "    tab4_items = []\n",
    "    if tab4_cat:\n",
    "        items_in_category = [u for u, v, d in G.edges(data=True) if d.get('label') == 'BELONGS_TO' and v == str(tab4_cat)]\n",
    "        tab4_items = random.sample(items_in_category, min(len(items_in_category), 4))\n",
    "\n",
    "    # Convert node IDs to itemIDs\n",
    "    tab4_item_ids = [int(G.nodes[item].get('itemID')) for item in tab4_items]\n",
    "\n",
    "    return int(G.nodes[tab4_cat].get('categoryID')), tab4_item_ids"
   ]
  },
  {
   "cell_type": "code",
   "execution_count": 16,
   "id": "c5e22fc6-a0f0-40f9-9b86-e138ba5ad0db",
   "metadata": {},
   "outputs": [],
   "source": [
    "userID = 10\n",
    "key_category = 7\n",
    "video_subject = 0"
   ]
  },
  {
   "cell_type": "code",
   "execution_count": 21,
   "id": "eddd005c-1dde-4f5d-b6c5-0a6ffda5192c",
   "metadata": {},
   "outputs": [
    {
     "name": "stdout",
     "output_type": "stream",
     "text": [
      "509024\n",
      "['39290', '47515', '39409', '20251'] ['52126', '52377', None, None]\n"
     ]
    }
   ],
   "source": [
    "#tab2, 3 카테고리 추천\n",
    "tab2_cat, tab3_cat = category_recommender(userID, key_category)\n",
    "print(tab3_cat)\n",
    "\n",
    "#tab2, 3 item 추천\n",
    "tab2_item = item_recommender(userID, tab2_cat)\n",
    "tab3_item = item_recommender(userID, tab3_cat)\n",
    "print(tab2_item, tab3_item)\n",
    "\n",
    "#tab4 카테고리, item 추천\n",
    "tab4_cat, tab4_item = random_recommender(tab2_cat, tab3_cat, video_subject)\n",
    "\n",
    "#최종 결과: list 형태\n",
    "# [[tab2_cat, tab3_cat, tab4_cat], tab2_item, tab3_item, tab4_item]\n",
    "category_list = [tab2_cat, tab3_cat, tab4_cat]\n",
    "item_list = [tab2_item, tab3_item, tab4_item]\n",
    "result = [category_list] + item_list\n"
   ]
  },
  {
   "cell_type": "code",
   "execution_count": 62,
   "id": "105add9e-0465-4986-8f9c-ce5a5bbb9416",
   "metadata": {},
   "outputs": [],
   "source": [
    "def item_recommender(user_id, category_id):\n",
    "    # Step 1: Find similar users and their rated items\n",
    "    target_user_node = find_node_by_attribute(G, 'userID', str(user_id))\n",
    "    if target_user_node:\n",
    "        similar_users = [v for u, v in G.edges(target_user_node) if G[u][v].get('label') == 'SIMILAR']\n",
    "    else:\n",
    "        similar_users = []\n",
    "    item_scores = {}\n",
    "\n",
    "    print(similar_users)\n",
    "    # items that target_user already bought\n",
    "    target_user_items = [v for u, v, d in G.edges(target_user_node, data=True) if d.get('label') == 'RATED']\n",
    "    for su in similar_users:\n",
    "        print(type(su))\n",
    "        for u, item, data in G.edges(data=True):\n",
    "            if data.get('label') == 'RATED' and item not in target_user_items:\n",
    "                item_data = G.nodes[item]\n",
    "                # 하나의 item이 동시에 여러 category에 속할 수 있으므로 (['공통']의 경우), 그것을 반영합니다\n",
    "                category_ids = [G.nodes[v].get('categoryID') for u, v, d in G.edges(item, data=True) if d.get('label') == 'BELONGS_TO']\n",
    "                if str(category_id) in category_ids:\n",
    "                    # item 평점을 가져옵니다. 이로 우선순위를 부여합니다.\n",
    "                    rating = data.get('Rating', 0)\n",
    "                    item_scores[item] = item_scores.get(item, 0) + float(rating)\n",
    "        print(item_scores)\n",
    "        print('category_ids:')\n",
    "        print(category_ids)\n",
    "    # Step 2: item을 rating을 기준으로 높은 것을 추천해줍니다.\n",
    "    top_items = sorted(item_scores, key=item_scores.get, reverse=True)[:4]\n",
    "    print(top_items)\n",
    "    # Step 3: Cold Start Problem\n",
    "    # similar user가 없는 경우, 또는 추천하는 item이 부족한 경우, 자체적인 score를 계산하여 추천을 합니다.\n",
    "    # 동일 category 내에서 추천을 해줍니다.\n",
    "    # Calculate the number of recommendations already found\n",
    "    num_of_recommendations = len(top_items)\n",
    "    num_of_needed_recommendations = 4 - num_of_recommendations\n",
    "    print(num_of_needed_recommendations)\n",
    "\n",
    "    # Cold Start Problem Handling\n",
    "    if num_of_needed_recommendations > 0:\n",
    "         # Find the node that represents the specified category\n",
    "        category_node = find_node_by_attribute(G, 'categoryID', str(category_id))\n",
    "    \n",
    "        # Find all item nodes connected to this category node and not in top_items\n",
    "        all_items_in_category = []\n",
    "        if category_node:\n",
    "            for u, v, d in G.edges(data=True):\n",
    "                #print(\"Edge from\", u, \"to\", v, \"with data:\", d)\n",
    "                if d.get('label') == 'BELONGS_TO' and v == category_node and u not in top_items:\n",
    "                    all_items_in_category.append(u)\n",
    "    \n",
    "        # Calculate a score for each additional item based on NumOfReviews and Rating\n",
    "        cold_start_scores = {item: float(G.nodes[item].get('NumOfReviews', 0)) * float(G.nodes[item].get('Rating', 0)) for item in all_items_in_category}\n",
    "        # Select additional items based on the score\n",
    "        additional_items = sorted(cold_start_scores, key=cold_start_scores.get, reverse=True)[:num_of_needed_recommendations]\n",
    "        top_items.extend(additional_items)\n",
    "    \n",
    "    # Convert node IDs to itemIDs\n",
    "    recommended_itemIDs = [(G.nodes[item].get('itemID')) for item in top_items]\n",
    "\n",
    "    return recommended_itemIDs"
   ]
  },
  {
   "cell_type": "code",
   "execution_count": 61,
   "id": "61aacfb8-51d6-45e4-b0df-b29a2620a239",
   "metadata": {},
   "outputs": [
    {
     "name": "stdout",
     "output_type": "stream",
     "text": [
      "['n842', 'n527', 'n562', 'n546']\n",
      "<class 'str'>\n"
     ]
    },
    {
     "ename": "UnboundLocalError",
     "evalue": "local variable 'category_ids' referenced before assignment",
     "output_type": "error",
     "traceback": [
      "\u001b[0;31m---------------------------------------------------------------------------\u001b[0m",
      "\u001b[0;31mUnboundLocalError\u001b[0m                         Traceback (most recent call last)",
      "Cell \u001b[0;32mIn[61], line 1\u001b[0m\n\u001b[0;32m----> 1\u001b[0m \u001b[43mitem_recommender\u001b[49m\u001b[43m(\u001b[49m\u001b[38;5;241;43m10\u001b[39;49m\u001b[43m,\u001b[49m\u001b[43m \u001b[49m\u001b[38;5;241;43m509024\u001b[39;49m\u001b[43m)\u001b[49m\n",
      "Cell \u001b[0;32mIn[60], line 20\u001b[0m, in \u001b[0;36mitem_recommender\u001b[0;34m(user_id, category_id)\u001b[0m\n\u001b[1;32m     18\u001b[0m     \u001b[38;5;66;03m# 하나의 item이 동시에 여러 category에 속할 수 있으므로 (['공통']의 경우), 그것을 반영합니다\u001b[39;00m\n\u001b[1;32m     19\u001b[0m     category_ids \u001b[38;5;241m=\u001b[39m [G\u001b[38;5;241m.\u001b[39mnodes[v]\u001b[38;5;241m.\u001b[39mget(\u001b[38;5;124m'\u001b[39m\u001b[38;5;124mcategoryID\u001b[39m\u001b[38;5;124m'\u001b[39m) \u001b[38;5;28;01mfor\u001b[39;00m u, v, d \u001b[38;5;129;01min\u001b[39;00m G\u001b[38;5;241m.\u001b[39medges(item, data\u001b[38;5;241m=\u001b[39m\u001b[38;5;28;01mTrue\u001b[39;00m) \u001b[38;5;28;01mif\u001b[39;00m d\u001b[38;5;241m.\u001b[39mget(\u001b[38;5;124m'\u001b[39m\u001b[38;5;124mlabel\u001b[39m\u001b[38;5;124m'\u001b[39m) \u001b[38;5;241m==\u001b[39m \u001b[38;5;124m'\u001b[39m\u001b[38;5;124mBELONGS_TO\u001b[39m\u001b[38;5;124m'\u001b[39m]\n\u001b[0;32m---> 20\u001b[0m \u001b[38;5;28;01mif\u001b[39;00m \u001b[38;5;28mstr\u001b[39m(category_id) \u001b[38;5;129;01min\u001b[39;00m \u001b[43mcategory_ids\u001b[49m:\n\u001b[1;32m     21\u001b[0m     \u001b[38;5;66;03m# item 평점을 가져옵니다. 이로 우선순위를 부여합니다.\u001b[39;00m\n\u001b[1;32m     22\u001b[0m     rating \u001b[38;5;241m=\u001b[39m data\u001b[38;5;241m.\u001b[39mget(\u001b[38;5;124m'\u001b[39m\u001b[38;5;124mRating\u001b[39m\u001b[38;5;124m'\u001b[39m, \u001b[38;5;241m0\u001b[39m)\n\u001b[1;32m     23\u001b[0m     item_scores[item] \u001b[38;5;241m=\u001b[39m item_scores\u001b[38;5;241m.\u001b[39mget(item, \u001b[38;5;241m0\u001b[39m) \u001b[38;5;241m+\u001b[39m \u001b[38;5;28mfloat\u001b[39m(rating)\n",
      "\u001b[0;31mUnboundLocalError\u001b[0m: local variable 'category_ids' referenced before assignment"
     ]
    }
   ],
   "source": [
    "item_recommender(10, 509024)"
   ]
  },
  {
   "cell_type": "code",
   "execution_count": 51,
   "id": "db67ca14-24a5-4b60-ab93-2e5ad7d5d5e2",
   "metadata": {},
   "outputs": [
    {
     "name": "stdout",
     "output_type": "stream",
     "text": [
      "{'labels': ':Item', 'Rating': '5.0', 'NumOfReviews': '106', 'ImgFileName': '2cb8e6936d81ffa18fea3d1a9525ba59dfcd996a9838a9dc7aee8d9ec672', 'itemID': '52126', 'itemName': '무배 NOW 나우 스몰브리드 시니어 5.4kg/애견사료 강아지사료', 'Category': '509024', 'Price': '72640'}\n",
      "{'labels': ':Item', 'Rating': '5.0', 'NumOfReviews': '51', 'ImgFileName': 'e106fa0022dc59c66794e958ee8cf5c9ae92ad859b8cb4c9dfc2643acd11', 'itemID': '52377', 'itemName': '힐스 어덜트 라지브리드 강아지사료', 'Category': '509024', 'Price': '78080'}\n",
      "{'labels': ':User', 'Gender': 'female', 'userID': '78', 'userName': '김미경', 'Age': '35'}\n",
      "{'labels': ':User', 'Gender': 'female', 'userID': '10', 'userName': '김순자', 'Age': '27'}\n"
     ]
    }
   ],
   "source": [
    "for item in ['n49666', 'n54012', 'n158', 'n90']:\n",
    "    print(G.nodes[item])"
   ]
  },
  {
   "cell_type": "code",
   "execution_count": null,
   "id": "a77c8ee7-0739-4d26-9783-4d8d2847a6c4",
   "metadata": {},
   "outputs": [],
   "source": [
    "if data.get('label') == 'RATED' and item not in target_user_items and u == su:\n",
    "                item_data = G.nodes[item]"
   ]
  }
 ],
 "metadata": {
  "kernelspec": {
   "display_name": "Python 3 (ipykernel)",
   "language": "python",
   "name": "python3"
  },
  "language_info": {
   "codemirror_mode": {
    "name": "ipython",
    "version": 3
   },
   "file_extension": ".py",
   "mimetype": "text/x-python",
   "name": "python",
   "nbconvert_exporter": "python",
   "pygments_lexer": "ipython3",
   "version": "3.10.12"
  }
 },
 "nbformat": 4,
 "nbformat_minor": 5
}
