{
 "cells": [
  {
   "cell_type": "code",
   "execution_count": null,
   "id": "3f633f90",
   "metadata": {},
   "outputs": [],
   "source": [
    "ㅡㅡㅡㅡㅡㅡㅡㅡㅡㅡㅡㅡㅡㅡㅡㅡㅡㅡㅡ"
   ]
  },
  {
   "cell_type": "code",
   "execution_count": null,
   "id": "892e65ab",
   "metadata": {},
   "outputs": [],
   "source": [
    "이미지 객체 인식 후 인식된 부분만 자르는 코드\n",
    "기존 이미지+프레임은 '기존이름_detection.jpg'로 저장\n",
    "프레임 내로 잘린 이미지는 '기존이름_cropped.jpg'로 저장, 한 번 보여줌(아무 키나 누르면 이미지 꺼짐)"
   ]
  },
  {
   "cell_type": "code",
   "execution_count": null,
   "id": "ea871660",
   "metadata": {},
   "outputs": [],
   "source": [
    "지금은 이미지 객체 인식에 yolov3 사용, 모델 바뀌면 코드 바뀔 수 있음\n",
    "지금은 기존 이미지에 'baha.jpg' 사용하지만, path 부분을 원하는 이미지 경로로 수정하여 사용\n",
    "****이미지 이름에 영어만 인식됨****"
   ]
  },
  {
   "cell_type": "code",
   "execution_count": null,
   "id": "f9fbb418",
   "metadata": {},
   "outputs": [],
   "source": [
    "ㅡㅡㅡㅡㅡㅡㅡㅡㅡㅡㅡㅡㅡㅡㅡㅡㅡㅡㅡ"
   ]
  },
  {
   "cell_type": "code",
   "execution_count": 61,
   "id": "237b91bd",
   "metadata": {},
   "outputs": [],
   "source": [
    "import cv2\n",
    "import cvlib as cv\n",
    "\n",
    "path = 'baha.jpg'\n",
    "\n",
    "img = cv2.imread(path)\n",
    "conf = 0.5\n",
    "model_name = 'yolov3'\n",
    "\n",
    "result = cv.detect_common_objects(img, confidence=conf, model=model_name)\n",
    "\n",
    "output_path = path.split('.')[0] + '_detection.' + path.split('.')[1]\n",
    "result_img = cv.object_detection.draw_bbox(img, *result)\n",
    "cv2.imwrite(output_path, result_img)\n",
    "\n",
    "img = cv2.imread(path)\n",
    "a = result[0][0]\n",
    "\n",
    "cropped_path = path.split('.')[0] + '_cropped.' + path.split('.')[1]\n",
    "cropped_img = img[a[1]:a[3], a[0]:a[2]]\n",
    "cv2.imwrite(cropped_path, cropped_img)\n",
    "\n",
    "def show(img):\n",
    "    cv2.imshow('cropped_'+ result[1][0] , img)\n",
    "    cv2.waitKey(0)\n",
    "    cv2.destroyAllWindows()\n",
    "\n",
    "show(img=cropped_img)"
   ]
  },
  {
   "cell_type": "code",
   "execution_count": null,
   "id": "9c2abd1a",
   "metadata": {},
   "outputs": [],
   "source": []
  }
 ],
 "metadata": {
  "kernelspec": {
   "display_name": "Python 3 (ipykernel)",
   "language": "python",
   "name": "python3"
  },
  "language_info": {
   "codemirror_mode": {
    "name": "ipython",
    "version": 3
   },
   "file_extension": ".py",
   "mimetype": "text/x-python",
   "name": "python",
   "nbconvert_exporter": "python",
   "pygments_lexer": "ipython3",
   "version": "3.10.9"
  }
 },
 "nbformat": 4,
 "nbformat_minor": 5
}
